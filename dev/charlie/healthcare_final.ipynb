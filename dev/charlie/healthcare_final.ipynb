{
 "cells": [
  {
   "cell_type": "markdown",
   "metadata": {},
   "source": [
    "# Hospital Readmission Rate Project\n",
    "- Predict the probability of a patient being readmitted within 30 days \n",
    "after leaving the hospital\n",
    "- Patients are diabetic encounters \n",
    "- The dataset represents 10 years (1999-2008) of clinical care at 130 US hospitals and integrated delivery networks. It includes over 50 features representing patient and hospital outcomes.\n",
    "- Dataset and additional information: https://archive.ics.uci.edu/ml/datasets/diabetes+130-us+hospitals+for+years+1999-2008#"
   ]
  },
  {
   "cell_type": "markdown",
   "metadata": {},
   "source": [
    "#### Libraries Used"
   ]
  },
  {
   "cell_type": "code",
   "execution_count": 7,
   "metadata": {},
   "outputs": [],
   "source": [
    "import numpy as np\n",
    "import pandas as pd\n",
    "import os\n",
    "import matplotlib.pyplot as plt\n",
    "import seaborn as sns"
   ]
  },
  {
   "cell_type": "code",
   "execution_count": 8,
   "metadata": {},
   "outputs": [
    {
     "data": {
      "text/plain": [
       "'/Users/karolylajko/Documents/Academy/DataScienceBootcamp2020/Projects/Capstone/HealthCare/github/healthcare/dev/charlie'"
      ]
     },
     "execution_count": 8,
     "metadata": {},
     "output_type": "execute_result"
    }
   ],
   "source": [
    "# Check working directory\n",
    "os.getcwd()"
   ]
  },
  {
   "cell_type": "code",
   "execution_count": 9,
   "metadata": {},
   "outputs": [
    {
     "data": {
      "text/plain": [
       "['.DS_Store',\n",
       " 'before_model_diabdata.csv',\n",
       " 'IDs_mapping.csv',\n",
       " 'healthcare_final.ipynb',\n",
       " 'healthcare4.ipynb',\n",
       " 'diabetic_data.csv',\n",
       " 'before_dummies.csv',\n",
       " 'healthcare6.ipynb',\n",
       " 'healthcare2.ipynb',\n",
       " '.ipynb_checkpoints',\n",
       " 'healthcare5.ipynb',\n",
       " 'healthcare3.ipynb']"
      ]
     },
     "execution_count": 9,
     "metadata": {},
     "output_type": "execute_result"
    }
   ],
   "source": [
    "# Checking Files within directory\n",
    "os.listdir()"
   ]
  },
  {
   "cell_type": "markdown",
   "metadata": {},
   "source": [
    "## Helper Functions"
   ]
  },
  {
   "cell_type": "code",
   "execution_count": 10,
   "metadata": {},
   "outputs": [],
   "source": [
    "# Plot Correlation Matrix\n",
    "def plot_corr_matrix(df, nr_c, targ) :\n",
    "    \n",
    "    corr     = df.corr()\n",
    "    corr_abs = corr.abs()\n",
    "    cols     = corr_abs.nlargest(nr_c, targ)[targ].index\n",
    "    cm       = np.corrcoef(df[cols].values.T)\n",
    "\n",
    "    plt.figure(figsize=(nr_c/1.5, nr_c/1.5))\n",
    "    sns.set(font_scale=1.25)\n",
    "    sns.heatmap(cm, linewidths=1.5, annot=True, square=True, \n",
    "                fmt='.2f', annot_kws={'size': 12}, \n",
    "                yticklabels=cols.values, xticklabels=cols.values,cmap=\"OrRd\")\n",
    "    plt.show()\n",
    "\n",
    "# IDC9 codes to diseases \n",
    "def idc_to_group (idcnum):\n",
    "    # Hearth problems\n",
    "    # External injury and suppl. class - generate 4 digit number - eval to other\n",
    "    idcnum = idcnum.replace('V','9999').replace('E','9999').replace('?','9999')\n",
    "    idcnum = float(idcnum) \n",
    "    if   390 <= idcnum <= 459 or idcnum == 785:\n",
    "        diag = 'circulatory'\n",
    "    # Lung issues\n",
    "    elif 460 <= idcnum <= 519 or idcnum == 786:\n",
    "        diag = 'respiratory'\n",
    "    # Digestive - oral, stomac, abdominal, liver\n",
    "    elif 520 <= idcnum <= 579 or idcnum == 787:\n",
    "        diag = 'digestive'\n",
    "    # Diabetes\n",
    "    elif int(idcnum) == 250:\n",
    "        diag = 'diabetis'\n",
    "    # Injury or poisioning\n",
    "    elif 800 <= idcnum <= 999:\n",
    "        diag = 'injury'\n",
    "    # Musc. system or connective tissue\n",
    "    elif 710 <= idcnum <= 739:\n",
    "        diag = 'musculoskeletal'\n",
    "    # Kidney, urinary and genitals\n",
    "    elif 580 <= idcnum <= 629 or idcnum == 788:\n",
    "        diag = 'genitourinary'\n",
    "    # Abnormal tissue Growth\n",
    "    elif 140 <= idcnum <= 239 or idcnum in [780,781,782,784,790,791,792,793,794,795,796,797,798,799]:\n",
    "        diag = 'neoplasms' \n",
    "    # Metabolic, immunity issue with no diabetes\n",
    "    elif (240 <= idcnum <= 279 and idcnum != 250) or (680 <= idcnum <= 790):\n",
    "        diag = 'neoplasms'\n",
    "    elif 1 <= idcnum <= 139: \n",
    "        diag = 'neoplasms'\n",
    "     # Other    \n",
    "    else:\n",
    "        diag = 'other'   \n",
    "    return diag\n",
    "\n",
    "# Convert age range to age average\n",
    "def age_to_aveage (age):\n",
    "    ages = ['[0-10)','[10-20)','[20-30)','[30-40)','[40-50)','[50-60)','[60-70)','[70-80)','[80-90)','[90-100)']\n",
    "    newage = ages.index(age)*10+5\n",
    "    return newage\n",
    "\n",
    "# Dummify a categorical variable column\n",
    "# df - dataframe\n",
    "# var - variable/feature string\n",
    "# Prefix for dummies - string\n",
    "# def makedummies(df,var, pre_fix = 'Class'):\n",
    "#     Z = pd.get_dummies(df[var], prefix = pre_fix)\n",
    "#     df_dummified = pd.concat((df.drop(var,1,inplace=True), Z), axis=1)\n",
    "#     return df_dummified\n",
    "\n",
    "\n",
    "# Patient either transferred home (healthy) or other care continues\n",
    "def conv_disch_id(did):\n",
    "    try: \n",
    "        if    did == 1: \n",
    "            result = 'home'\n",
    "        else:\n",
    "            result = 'other'\n",
    "        return result\n",
    "    except ValueError:\n",
    "        print('Source ID must be interger!')\n",
    "        \n",
    "# Convert admission source ID to category groups\n",
    "def conv_adms_id(sid):\n",
    "    try: \n",
    "        if    sid == 7: \n",
    "            result = 'emergency'\n",
    "        elif  sid == 1:\n",
    "            result = 'phys_ref'\n",
    "        elif sid  == 4:\n",
    "            result = 'hospital'\n",
    "        elif sid ==  6:\n",
    "            result = 'snf'\n",
    "        elif sid ==  2:\n",
    "            result = 'clin_ref'\n",
    "        else:\n",
    "            result = 'other'\n",
    "        return result\n",
    "    except ValueError:\n",
    "        print('Source ID must be interger!')"
   ]
  },
  {
   "cell_type": "code",
   "execution_count": 11,
   "metadata": {},
   "outputs": [
    {
     "name": "stdout",
     "output_type": "stream",
     "text": [
      "Reading in CSV files\n"
     ]
    }
   ],
   "source": [
    "print('Reading in CSV files')\n",
    "diabdata = pd.read_csv('diabetic_data.csv')\n",
    "idmapping = pd.read_csv('IDs_mapping.csv')"
   ]
  },
  {
   "cell_type": "code",
   "execution_count": 6,
   "metadata": {},
   "outputs": [
    {
     "data": {
      "text/plain": [
       "(101766, 50)"
      ]
     },
     "execution_count": 6,
     "metadata": {},
     "output_type": "execute_result"
    }
   ],
   "source": [
    "diabdata.shape"
   ]
  },
  {
   "cell_type": "code",
   "execution_count": 296,
   "metadata": {},
   "outputs": [
    {
     "data": {
      "text/html": [
       "<div>\n",
       "<style scoped>\n",
       "    .dataframe tbody tr th:only-of-type {\n",
       "        vertical-align: middle;\n",
       "    }\n",
       "\n",
       "    .dataframe tbody tr th {\n",
       "        vertical-align: top;\n",
       "    }\n",
       "\n",
       "    .dataframe thead th {\n",
       "        text-align: right;\n",
       "    }\n",
       "</style>\n",
       "<table border=\"1\" class=\"dataframe\">\n",
       "  <thead>\n",
       "    <tr style=\"text-align: right;\">\n",
       "      <th></th>\n",
       "      <th>encounter_id</th>\n",
       "      <th>patient_nbr</th>\n",
       "      <th>race</th>\n",
       "      <th>gender</th>\n",
       "      <th>age</th>\n",
       "      <th>weight</th>\n",
       "      <th>admission_type_id</th>\n",
       "      <th>discharge_disposition_id</th>\n",
       "      <th>admission_source_id</th>\n",
       "      <th>time_in_hospital</th>\n",
       "      <th>...</th>\n",
       "      <th>citoglipton</th>\n",
       "      <th>insulin</th>\n",
       "      <th>glyburide-metformin</th>\n",
       "      <th>glipizide-metformin</th>\n",
       "      <th>glimepiride-pioglitazone</th>\n",
       "      <th>metformin-rosiglitazone</th>\n",
       "      <th>metformin-pioglitazone</th>\n",
       "      <th>change</th>\n",
       "      <th>diabetesMed</th>\n",
       "      <th>readmitted</th>\n",
       "    </tr>\n",
       "  </thead>\n",
       "  <tbody>\n",
       "    <tr>\n",
       "      <td>9887</td>\n",
       "      <td>42459558</td>\n",
       "      <td>91345860</td>\n",
       "      <td>Caucasian</td>\n",
       "      <td>Female</td>\n",
       "      <td>[60-70)</td>\n",
       "      <td>?</td>\n",
       "      <td>1</td>\n",
       "      <td>1</td>\n",
       "      <td>7</td>\n",
       "      <td>2</td>\n",
       "      <td>...</td>\n",
       "      <td>No</td>\n",
       "      <td>No</td>\n",
       "      <td>No</td>\n",
       "      <td>No</td>\n",
       "      <td>No</td>\n",
       "      <td>No</td>\n",
       "      <td>No</td>\n",
       "      <td>No</td>\n",
       "      <td>No</td>\n",
       "      <td>NO</td>\n",
       "    </tr>\n",
       "    <tr>\n",
       "      <td>69705</td>\n",
       "      <td>198658332</td>\n",
       "      <td>93209733</td>\n",
       "      <td>Caucasian</td>\n",
       "      <td>Female</td>\n",
       "      <td>[50-60)</td>\n",
       "      <td>?</td>\n",
       "      <td>2</td>\n",
       "      <td>1</td>\n",
       "      <td>1</td>\n",
       "      <td>4</td>\n",
       "      <td>...</td>\n",
       "      <td>No</td>\n",
       "      <td>No</td>\n",
       "      <td>No</td>\n",
       "      <td>No</td>\n",
       "      <td>No</td>\n",
       "      <td>No</td>\n",
       "      <td>No</td>\n",
       "      <td>No</td>\n",
       "      <td>Yes</td>\n",
       "      <td>&gt;30</td>\n",
       "    </tr>\n",
       "    <tr>\n",
       "      <td>8354</td>\n",
       "      <td>37911216</td>\n",
       "      <td>981198</td>\n",
       "      <td>Caucasian</td>\n",
       "      <td>Female</td>\n",
       "      <td>[60-70)</td>\n",
       "      <td>?</td>\n",
       "      <td>1</td>\n",
       "      <td>1</td>\n",
       "      <td>7</td>\n",
       "      <td>3</td>\n",
       "      <td>...</td>\n",
       "      <td>No</td>\n",
       "      <td>Steady</td>\n",
       "      <td>No</td>\n",
       "      <td>No</td>\n",
       "      <td>No</td>\n",
       "      <td>No</td>\n",
       "      <td>No</td>\n",
       "      <td>No</td>\n",
       "      <td>Yes</td>\n",
       "      <td>NO</td>\n",
       "    </tr>\n",
       "    <tr>\n",
       "      <td>73805</td>\n",
       "      <td>218874960</td>\n",
       "      <td>58414545</td>\n",
       "      <td>Asian</td>\n",
       "      <td>Female</td>\n",
       "      <td>[50-60)</td>\n",
       "      <td>?</td>\n",
       "      <td>1</td>\n",
       "      <td>1</td>\n",
       "      <td>7</td>\n",
       "      <td>3</td>\n",
       "      <td>...</td>\n",
       "      <td>No</td>\n",
       "      <td>Steady</td>\n",
       "      <td>No</td>\n",
       "      <td>No</td>\n",
       "      <td>No</td>\n",
       "      <td>No</td>\n",
       "      <td>No</td>\n",
       "      <td>No</td>\n",
       "      <td>Yes</td>\n",
       "      <td>NO</td>\n",
       "    </tr>\n",
       "    <tr>\n",
       "      <td>97471</td>\n",
       "      <td>389058356</td>\n",
       "      <td>42627546</td>\n",
       "      <td>?</td>\n",
       "      <td>Female</td>\n",
       "      <td>[50-60)</td>\n",
       "      <td>?</td>\n",
       "      <td>1</td>\n",
       "      <td>1</td>\n",
       "      <td>7</td>\n",
       "      <td>4</td>\n",
       "      <td>...</td>\n",
       "      <td>No</td>\n",
       "      <td>Up</td>\n",
       "      <td>No</td>\n",
       "      <td>No</td>\n",
       "      <td>No</td>\n",
       "      <td>No</td>\n",
       "      <td>No</td>\n",
       "      <td>Ch</td>\n",
       "      <td>Yes</td>\n",
       "      <td>&gt;30</td>\n",
       "    </tr>\n",
       "    <tr>\n",
       "      <td>47423</td>\n",
       "      <td>145798980</td>\n",
       "      <td>25166718</td>\n",
       "      <td>Caucasian</td>\n",
       "      <td>Male</td>\n",
       "      <td>[20-30)</td>\n",
       "      <td>?</td>\n",
       "      <td>3</td>\n",
       "      <td>6</td>\n",
       "      <td>1</td>\n",
       "      <td>7</td>\n",
       "      <td>...</td>\n",
       "      <td>No</td>\n",
       "      <td>Up</td>\n",
       "      <td>No</td>\n",
       "      <td>No</td>\n",
       "      <td>No</td>\n",
       "      <td>No</td>\n",
       "      <td>No</td>\n",
       "      <td>Ch</td>\n",
       "      <td>Yes</td>\n",
       "      <td>NO</td>\n",
       "    </tr>\n",
       "    <tr>\n",
       "      <td>96195</td>\n",
       "      <td>372047384</td>\n",
       "      <td>135627278</td>\n",
       "      <td>Other</td>\n",
       "      <td>Female</td>\n",
       "      <td>[40-50)</td>\n",
       "      <td>?</td>\n",
       "      <td>1</td>\n",
       "      <td>1</td>\n",
       "      <td>7</td>\n",
       "      <td>4</td>\n",
       "      <td>...</td>\n",
       "      <td>No</td>\n",
       "      <td>Steady</td>\n",
       "      <td>No</td>\n",
       "      <td>No</td>\n",
       "      <td>No</td>\n",
       "      <td>No</td>\n",
       "      <td>No</td>\n",
       "      <td>Ch</td>\n",
       "      <td>Yes</td>\n",
       "      <td>NO</td>\n",
       "    </tr>\n",
       "  </tbody>\n",
       "</table>\n",
       "<p>7 rows × 50 columns</p>\n",
       "</div>"
      ],
      "text/plain": [
       "       encounter_id  patient_nbr       race  gender      age weight  \\\n",
       "9887       42459558     91345860  Caucasian  Female  [60-70)      ?   \n",
       "69705     198658332     93209733  Caucasian  Female  [50-60)      ?   \n",
       "8354       37911216       981198  Caucasian  Female  [60-70)      ?   \n",
       "73805     218874960     58414545      Asian  Female  [50-60)      ?   \n",
       "97471     389058356     42627546          ?  Female  [50-60)      ?   \n",
       "47423     145798980     25166718  Caucasian    Male  [20-30)      ?   \n",
       "96195     372047384    135627278      Other  Female  [40-50)      ?   \n",
       "\n",
       "       admission_type_id  discharge_disposition_id  admission_source_id  \\\n",
       "9887                   1                         1                    7   \n",
       "69705                  2                         1                    1   \n",
       "8354                   1                         1                    7   \n",
       "73805                  1                         1                    7   \n",
       "97471                  1                         1                    7   \n",
       "47423                  3                         6                    1   \n",
       "96195                  1                         1                    7   \n",
       "\n",
       "       time_in_hospital  ... citoglipton insulin  glyburide-metformin  \\\n",
       "9887                  2  ...          No      No                   No   \n",
       "69705                 4  ...          No      No                   No   \n",
       "8354                  3  ...          No  Steady                   No   \n",
       "73805                 3  ...          No  Steady                   No   \n",
       "97471                 4  ...          No      Up                   No   \n",
       "47423                 7  ...          No      Up                   No   \n",
       "96195                 4  ...          No  Steady                   No   \n",
       "\n",
       "       glipizide-metformin  glimepiride-pioglitazone  metformin-rosiglitazone  \\\n",
       "9887                    No                        No                       No   \n",
       "69705                   No                        No                       No   \n",
       "8354                    No                        No                       No   \n",
       "73805                   No                        No                       No   \n",
       "97471                   No                        No                       No   \n",
       "47423                   No                        No                       No   \n",
       "96195                   No                        No                       No   \n",
       "\n",
       "       metformin-pioglitazone  change diabetesMed readmitted  \n",
       "9887                       No      No          No         NO  \n",
       "69705                      No      No         Yes        >30  \n",
       "8354                       No      No         Yes         NO  \n",
       "73805                      No      No         Yes         NO  \n",
       "97471                      No      Ch         Yes        >30  \n",
       "47423                      No      Ch         Yes         NO  \n",
       "96195                      No      Ch         Yes         NO  \n",
       "\n",
       "[7 rows x 50 columns]"
      ]
     },
     "execution_count": 296,
     "metadata": {},
     "output_type": "execute_result"
    }
   ],
   "source": [
    "diabdata.sample(7)"
   ]
  },
  {
   "cell_type": "code",
   "execution_count": 297,
   "metadata": {},
   "outputs": [],
   "source": [
    "# Generating the indexes for the numerical and categorical variables\n",
    "# This may be misleading as features contain numerical encoded categories\n",
    "categorical_idx = diabdata.dtypes[diabdata.dtypes=='object'].index\n",
    "numerical_idx   = diabdata.dtypes[diabdata.dtypes!='object'].index"
   ]
  },
  {
   "cell_type": "code",
   "execution_count": 298,
   "metadata": {},
   "outputs": [
    {
     "name": "stdout",
     "output_type": "stream",
     "text": [
      "The unique number of patients, keeping those observations eventually \n"
     ]
    },
    {
     "data": {
      "text/plain": [
       "71518"
      ]
     },
     "execution_count": 298,
     "metadata": {},
     "output_type": "execute_result"
    }
   ],
   "source": [
    "print('The unique number of patients, keeping those observations eventually ')\n",
    "diabdata.patient_nbr.value_counts().count()"
   ]
  },
  {
   "cell_type": "markdown",
   "metadata": {},
   "source": [
    "## Feature Overview"
   ]
  },
  {
   "cell_type": "code",
   "execution_count": 299,
   "metadata": {},
   "outputs": [
    {
     "data": {
      "text/plain": [
       "<matplotlib.axes._subplots.AxesSubplot at 0x1a2af87f50>"
      ]
     },
     "execution_count": 299,
     "metadata": {},
     "output_type": "execute_result"
    },
    {
     "data": {
      "image/png": "[encoded data removed]",
      "text/plain": [
       "<Figure size 432x288 with 1 Axes>"
      ]
     },
     "metadata": {
      "needs_background": "light"
     },
     "output_type": "display_data"
    }
   ],
   "source": [
    "diabdata[['max_glu_serum','readmitted']].groupby(['max_glu_serum']).count().plot.bar(title='Missing Values for Fearture')"
   ]
  },
  {
   "cell_type": "code",
   "execution_count": 300,
   "metadata": {},
   "outputs": [
    {
     "data": {
      "text/html": [
       "<div>\n",
       "<style scoped>\n",
       "    .dataframe tbody tr th:only-of-type {\n",
       "        vertical-align: middle;\n",
       "    }\n",
       "\n",
       "    .dataframe tbody tr th {\n",
       "        vertical-align: top;\n",
       "    }\n",
       "\n",
       "    .dataframe thead th {\n",
       "        text-align: right;\n",
       "    }\n",
       "</style>\n",
       "<table border=\"1\" class=\"dataframe\">\n",
       "  <thead>\n",
       "    <tr style=\"text-align: right;\">\n",
       "      <th></th>\n",
       "      <th>0</th>\n",
       "      <th>1</th>\n",
       "      <th>2</th>\n",
       "      <th>3</th>\n",
       "      <th>4</th>\n",
       "      <th>5</th>\n",
       "      <th>6</th>\n",
       "      <th>7</th>\n",
       "      <th>8</th>\n",
       "      <th>9</th>\n",
       "      <th>...</th>\n",
       "      <th>57</th>\n",
       "      <th>58</th>\n",
       "      <th>59</th>\n",
       "      <th>60</th>\n",
       "      <th>61</th>\n",
       "      <th>62</th>\n",
       "      <th>63</th>\n",
       "      <th>64</th>\n",
       "      <th>65</th>\n",
       "      <th>66</th>\n",
       "    </tr>\n",
       "  </thead>\n",
       "  <tbody>\n",
       "    <tr>\n",
       "      <td>admission_type_id</td>\n",
       "      <td>1</td>\n",
       "      <td>2</td>\n",
       "      <td>3</td>\n",
       "      <td>4</td>\n",
       "      <td>5</td>\n",
       "      <td>6</td>\n",
       "      <td>7</td>\n",
       "      <td>8</td>\n",
       "      <td>NaN</td>\n",
       "      <td>discharge_disposition_id</td>\n",
       "      <td>...</td>\n",
       "      <td>17</td>\n",
       "      <td>18</td>\n",
       "      <td>19</td>\n",
       "      <td>20</td>\n",
       "      <td>21</td>\n",
       "      <td>22</td>\n",
       "      <td>23</td>\n",
       "      <td>24</td>\n",
       "      <td>25</td>\n",
       "      <td>26</td>\n",
       "    </tr>\n",
       "    <tr>\n",
       "      <td>description</td>\n",
       "      <td>Emergency</td>\n",
       "      <td>Urgent</td>\n",
       "      <td>Elective</td>\n",
       "      <td>Newborn</td>\n",
       "      <td>Not Available</td>\n",
       "      <td>NaN</td>\n",
       "      <td>Trauma Center</td>\n",
       "      <td>Not Mapped</td>\n",
       "      <td>NaN</td>\n",
       "      <td>description</td>\n",
       "      <td>...</td>\n",
       "      <td>NaN</td>\n",
       "      <td>Transfer From Another Home Health Agency</td>\n",
       "      <td>Readmission to Same Home Health Agency</td>\n",
       "      <td>Not Mapped</td>\n",
       "      <td>Unknown/Invalid</td>\n",
       "      <td>Transfer from hospital inpt/same fac reslt in...</td>\n",
       "      <td>Born inside this hospital</td>\n",
       "      <td>Born outside this hospital</td>\n",
       "      <td>Transfer from Ambulatory Surgery Center</td>\n",
       "      <td>Transfer from Hospice</td>\n",
       "    </tr>\n",
       "  </tbody>\n",
       "</table>\n",
       "<p>2 rows × 67 columns</p>\n",
       "</div>"
      ],
      "text/plain": [
       "                          0       1         2        3              4    5   \\\n",
       "admission_type_id          1       2         3        4              5    6   \n",
       "description        Emergency  Urgent  Elective  Newborn  Not Available  NaN   \n",
       "\n",
       "                              6           7    8                         9   \\\n",
       "admission_type_id              7           8  NaN  discharge_disposition_id   \n",
       "description        Trauma Center  Not Mapped  NaN               description   \n",
       "\n",
       "                   ...   57                                         58  \\\n",
       "admission_type_id  ...   17                                         18   \n",
       "description        ...  NaN   Transfer From Another Home Health Agency   \n",
       "\n",
       "                                                       59           60  \\\n",
       "admission_type_id                                      19           20   \n",
       "description        Readmission to Same Home Health Agency   Not Mapped   \n",
       "\n",
       "                                61  \\\n",
       "admission_type_id               21   \n",
       "description        Unknown/Invalid   \n",
       "\n",
       "                                                                  62  \\\n",
       "admission_type_id                                                 22   \n",
       "description         Transfer from hospital inpt/same fac reslt in...   \n",
       "\n",
       "                                           63                           64  \\\n",
       "admission_type_id                          23                           24   \n",
       "description         Born inside this hospital   Born outside this hospital   \n",
       "\n",
       "                                                         65  \\\n",
       "admission_type_id                                        25   \n",
       "description         Transfer from Ambulatory Surgery Center   \n",
       "\n",
       "                                      66  \n",
       "admission_type_id                     26  \n",
       "description        Transfer from Hospice  \n",
       "\n",
       "[2 rows x 67 columns]"
      ]
     },
     "execution_count": 300,
     "metadata": {},
     "output_type": "execute_result"
    }
   ],
   "source": [
    "# There is a cvs file to decode ID fields used later\n",
    "idmapping.transpose().head()"
   ]
  },
  {
   "cell_type": "markdown",
   "metadata": {},
   "source": [
    "### ID Fields for admission and discharge types\n",
    "- The ID fields are integers but they are codes that need to be decoded and grouped into categories. Need one hot encoding after. \n",
    "- idmapping.csv file contains details\n",
    "\n",
    "admission_type_id: \n",
    "\n",
    " 1: 'Emergency',\n",
    " 2: 'Urgent',\n",
    " 3: 'Elective',\n",
    " 4: 'Newborn',\n",
    " 5: 'Not Available',\n",
    " 6: nan,\n",
    " 7: 'Trauma Center',\n",
    " 8: 'Not Mapped'\n",
    "\n",
    "discharge_disposition_id:\n",
    "\n",
    "1: Discharged to Home\n",
    "2: Another Hospital\n",
    "3: Transferred a Skilled Nurse Fascility (SNF)\n",
    "4: Transferred a Intensive Care Fasc. (ICF)\n",
    "5: Transferred a Impatient Care Inst.\n",
    "6: Transferred to Home with Home Health\n",
    "11: Expired/Death\n",
    "18: NULL\n",
    "25: Not Mapped\n",
    "\n",
    "admission_source_id:\n",
    "\n",
    "1: Physician Referral\n",
    "2: Clinic Referral\n",
    "3: HMO Referral\n",
    "4: Transfer from a hospital\n",
    "5: Transfer from a Skilled Nursing Facility (SNF)\n",
    "6: Transfer from another health care facility\n",
    "7: Emergency Room\n",
    "9: Not Available\n",
    "17: NULL\n",
    "20: Not Mapped\n",
    "\n"
   ]
  },
  {
   "cell_type": "code",
   "execution_count": 301,
   "metadata": {},
   "outputs": [
    {
     "data": {
      "text/plain": [
       "1     60234\n",
       "3     13954\n",
       "6     12902\n",
       "18     3691\n",
       "2      2128\n",
       "22     1993\n",
       "11     1642\n",
       "5      1184\n",
       "25      989\n",
       "4       815\n",
       "Name: discharge_disposition_id, dtype: int64"
      ]
     },
     "execution_count": 301,
     "metadata": {},
     "output_type": "execute_result"
    }
   ],
   "source": [
    "# Check where patients were released after hospital care - create groups \n",
    "diabdata.discharge_disposition_id.value_counts()[:10]"
   ]
  },
  {
   "cell_type": "code",
   "execution_count": 302,
   "metadata": {},
   "outputs": [
    {
     "data": {
      "text/plain": [
       "0          phys_ref\n",
       "1         emergency\n",
       "2         emergency\n",
       "3         emergency\n",
       "4         emergency\n",
       "            ...    \n",
       "101761    emergency\n",
       "101762        other\n",
       "101763    emergency\n",
       "101764    emergency\n",
       "101765    emergency\n",
       "Name: admission_source_id, Length: 101766, dtype: object"
      ]
     },
     "execution_count": 302,
     "metadata": {},
     "output_type": "execute_result"
    }
   ],
   "source": [
    "# Check how patients were patients were admitted - covert IDs and group within feature\n",
    "diabdata.admission_source_id.apply(lambda x: conv_adms_id(x))"
   ]
  },
  {
   "cell_type": "code",
   "execution_count": 303,
   "metadata": {},
   "outputs": [
    {
     "data": {
      "text/plain": [
       "{1: 'Emergency',\n",
       " 2: 'Urgent',\n",
       " 3: 'Elective',\n",
       " 4: 'Newborn',\n",
       " 5: 'Not Available',\n",
       " 6: nan,\n",
       " 7: 'Trauma Center',\n",
       " 8: 'Not Mapped'}"
      ]
     },
     "execution_count": 303,
     "metadata": {},
     "output_type": "execute_result"
    }
   ],
   "source": [
    "# To map dictionary values to panda df columns keys set 1 -to - ID\n",
    "def fix_dict_keys(mydict):\n",
    "    j = 1\n",
    "    temp_dict={}\n",
    "    for key in mydict: \n",
    "        temp_dict[j] = mydict[key]\n",
    "        j+=1\n",
    "    return temp_dict\n",
    "# --------------------------------------------------\n",
    "# Extract the ID information from mapping data frame\n",
    "\n",
    "# admission_type_id\n",
    "ad_type_id_dict    = idmapping.iloc[0:8,]['description'].to_dict()\n",
    "\n",
    "# discharge_disposition_id\n",
    "discharge_id_dict  = idmapping.iloc[10:41,]['description'].to_dict()\n",
    "\n",
    "# admission_source_id\n",
    "adm_source_id_dict = idmapping.iloc[43:,]['description'].to_dict()\n",
    "\n",
    "map_adm_type     = fix_dict_keys(ad_type_id_dict)\n",
    "map_disch_type   = fix_dict_keys(discharge_id_dict)\n",
    "map_source_type  = fix_dict_keys(adm_source_id_dict)\n",
    "\n",
    "map_adm_type"
   ]
  },
  {
   "cell_type": "markdown",
   "metadata": {},
   "source": [
    "## Univariate Data analysis\n",
    "- Analyzing the features individually"
   ]
  },
  {
   "cell_type": "code",
   "execution_count": 304,
   "metadata": {},
   "outputs": [
    {
     "data": {
      "text/plain": [
       "Index(['encounter_id', 'patient_nbr', 'race', 'gender', 'age', 'weight',\n",
       "       'admission_type_id', 'discharge_disposition_id', 'admission_source_id',\n",
       "       'time_in_hospital', 'payer_code', 'medical_specialty',\n",
       "       'num_lab_procedures', 'num_procedures', 'num_medications',\n",
       "       'number_outpatient', 'number_emergency', 'number_inpatient', 'diag_1',\n",
       "       'diag_2', 'diag_3', 'number_diagnoses', 'max_glu_serum', 'A1Cresult',\n",
       "       'metformin', 'repaglinide', 'nateglinide', 'chlorpropamide',\n",
       "       'glimepiride', 'acetohexamide', 'glipizide', 'glyburide', 'tolbutamide',\n",
       "       'pioglitazone', 'rosiglitazone', 'acarbose', 'miglitol', 'troglitazone',\n",
       "       'tolazamide', 'examide', 'citoglipton', 'insulin',\n",
       "       'glyburide-metformin', 'glipizide-metformin',\n",
       "       'glimepiride-pioglitazone', 'metformin-rosiglitazone',\n",
       "       'metformin-pioglitazone', 'change', 'diabetesMed', 'readmitted'],\n",
       "      dtype='object')"
      ]
     },
     "execution_count": 304,
     "metadata": {},
     "output_type": "execute_result"
    }
   ],
   "source": [
    "diabdata.columns"
   ]
  },
  {
   "cell_type": "code",
   "execution_count": 305,
   "metadata": {},
   "outputs": [
    {
     "name": "stdout",
     "output_type": "stream",
     "text": [
      "Some of the patiets are readmitted within or after 30 days.\n"
     ]
    },
    {
     "data": {
      "text/plain": [
       "NO     54864\n",
       ">30    35545\n",
       "<30    11357\n",
       "Name: readmitted, dtype: int64"
      ]
     },
     "execution_count": 305,
     "metadata": {},
     "output_type": "execute_result"
    }
   ],
   "source": [
    "print('Some of the patiets are readmitted within or after 30 days.')\n",
    "diabdata.readmitted.value_counts()"
   ]
  },
  {
   "cell_type": "code",
   "execution_count": 306,
   "metadata": {},
   "outputs": [
    {
     "data": {
      "text/plain": [
       "Yes    78363\n",
       "No     23403\n",
       "Name: diabetesMed, dtype: int64"
      ]
     },
     "execution_count": 306,
     "metadata": {},
     "output_type": "execute_result"
    }
   ],
   "source": [
    "diabdata.diabetesMed.value_counts()"
   ]
  },
  {
   "cell_type": "code",
   "execution_count": 307,
   "metadata": {},
   "outputs": [
    {
     "name": "stdout",
     "output_type": "stream",
     "text": [
      "Numerous categorical features\n"
     ]
    }
   ],
   "source": [
    "print('Numerous categorical features')\n",
    "# diabdata.dtypes"
   ]
  },
  {
   "cell_type": "code",
   "execution_count": 308,
   "metadata": {},
   "outputs": [
    {
     "name": "stdout",
     "output_type": "stream",
     "text": [
      "The different types of data in the dataset: \n",
      " object    37\n",
      "int64     13\n",
      "dtype: int64\n"
     ]
    }
   ],
   "source": [
    "print('The different types of data in the dataset: \\n',diabdata.dtypes.value_counts())\n"
   ]
  },
  {
   "cell_type": "code",
   "execution_count": 309,
   "metadata": {},
   "outputs": [
    {
     "data": {
      "text/plain": [
       "Text(0.5, 1.0, 'Time spent inn Hospital VS. Readmission')"
      ]
     },
     "execution_count": 309,
     "metadata": {},
     "output_type": "execute_result"
    },
    {
     "data": {
      "image/png": "[encoded data removed]",
      "text/plain": [
       "<Figure size 432x288 with 1 Axes>"
      ]
     },
     "metadata": {
      "needs_background": "light"
     },
     "output_type": "display_data"
    }
   ],
   "source": [
    "sns.countplot(y= diabdata['time_in_hospital'], hue = diabdata['readmitted']).set_title('Time spent inn Hospital VS. Readmission')"
   ]
  },
  {
   "cell_type": "code",
   "execution_count": 310,
   "metadata": {},
   "outputs": [
    {
     "data": {
      "text/plain": [
       "Text(0.5, 1.0, 'Hemoglobin Test at Admission')"
      ]
     },
     "execution_count": 310,
     "metadata": {},
     "output_type": "execute_result"
    },
    {
     "data": {
      "image/png": "[encoded data removed]",
      "text/plain": [
       "<Figure size 432x288 with 1 Axes>"
      ]
     },
     "metadata": {
      "needs_background": "light"
     },
     "output_type": "display_data"
    }
   ],
   "source": [
    "sns.countplot(y= diabdata['A1Cresult'], hue = diabdata['readmitted']).set_title('Hemoglobin Test at Admission')"
   ]
  },
  {
   "cell_type": "code",
   "execution_count": 311,
   "metadata": {},
   "outputs": [
    {
     "data": {
      "text/plain": [
       "Text(0.5, 1.0, 'Num of Procedures vs. Readmission')"
      ]
     },
     "execution_count": 311,
     "metadata": {},
     "output_type": "execute_result"
    },
    {
     "data": {
      "image/png": "[encoded data removed]",
      "text/plain": [
       "<Figure size 432x288 with 1 Axes>"
      ]
     },
     "metadata": {
      "needs_background": "light"
     },
     "output_type": "display_data"
    }
   ],
   "source": [
    "sns.countplot(y= diabdata['num_procedures'], hue = diabdata['readmitted']).set_title('Num of Procedures vs. Readmission')"
   ]
  },
  {
   "cell_type": "markdown",
   "metadata": {},
   "source": [
    "###  Data Cleaning - Visualization - Feature Engineering\n",
    "\n",
    "- Filtering, Imputing Missing Values\n",
    "- Observing Outliers and Distribution on Graphs\n",
    "- Converting data types\n",
    "- Grouping features\n"
   ]
  },
  {
   "cell_type": "code",
   "execution_count": 312,
   "metadata": {},
   "outputs": [],
   "source": [
    "# Filtering rows by dropping fields with quesiton mark '?'\n",
    "# diagnostic codes, gender, dischage \n",
    "drop_Idx = set()\n",
    "drop_Idx = drop_Idx.union(set(diabdata[diabdata['diag_1']                   == '?'].index)) # Unknown\n",
    "drop_Idx = drop_Idx.union(set(diabdata[diabdata['diag_2']                   == '?'].index)) # Unknown\n",
    "drop_Idx = drop_Idx.union(set(diabdata[diabdata['diag_3']                   == '?'].index)) # Unknown\n",
    "drop_Idx = drop_Idx.union(set(diabdata[diabdata['discharge_disposition_id'] == 11].index))  # Death\n",
    "drop_Idx = drop_Idx.union(set(diabdata[diabdata['gender']                   == 'Unknown/Invalid'].index))\n",
    "\n",
    "new_Idx = list(set(diabdata.index) - set(drop_Idx))\n",
    "diabdata = diabdata.iloc[new_Idx]"
   ]
  },
  {
   "cell_type": "code",
   "execution_count": 313,
   "metadata": {},
   "outputs": [
    {
     "name": "stdout",
     "output_type": "stream",
     "text": [
      "The dataset dimensions after dropping unkown values:  (98601, 50)\n"
     ]
    }
   ],
   "source": [
    "print('The dataset dimensions after dropping unkown values: ', diabdata.shape)"
   ]
  },
  {
   "cell_type": "code",
   "execution_count": 314,
   "metadata": {},
   "outputs": [
    {
     "name": "stdout",
     "output_type": "stream",
     "text": [
      "Missing Values per feature\n",
      "Top 10 variables of missing values\n"
     ]
    },
    {
     "data": {
      "text/plain": [
       "readmitted            0\n",
       "num_lab_procedures    0\n",
       "max_glu_serum         0\n",
       "number_diagnoses      0\n",
       "diag_3                0\n",
       "diag_2                0\n",
       "diag_1                0\n",
       "number_inpatient      0\n",
       "number_emergency      0\n",
       "number_outpatient     0\n",
       "dtype: int64"
      ]
     },
     "execution_count": 314,
     "metadata": {},
     "output_type": "execute_result"
    }
   ],
   "source": [
    "print('Missing Values per feature')\n",
    "print('Top 10 variables of missing values')\n",
    "diabdata.isnull().sum().sort_values(ascending=False)[:10]"
   ]
  },
  {
   "cell_type": "code",
   "execution_count": 315,
   "metadata": {},
   "outputs": [
    {
     "data": {
      "text/plain": [
       "0"
      ]
     },
     "execution_count": 315,
     "metadata": {},
     "output_type": "execute_result"
    }
   ],
   "source": [
    "# Check if there are any missing values in dataset\n",
    "np.sum(diabdata.isnull()).sum()"
   ]
  },
  {
   "cell_type": "code",
   "execution_count": 316,
   "metadata": {},
   "outputs": [
    {
     "data": {
      "text/plain": [
       "Text(0.5, 1.0, 'Age of Patient VS. Readmission')"
      ]
     },
     "execution_count": 316,
     "metadata": {},
     "output_type": "execute_result"
    },
    {
     "data": {
      "image/png": "[encoded data removed]",
      "text/plain": [
       "<Figure size 432x288 with 1 Axes>"
      ]
     },
     "metadata": {
      "needs_background": "light"
     },
     "output_type": "display_data"
    }
   ],
   "source": [
    "sns.countplot(y= diabdata['age'], hue = diabdata['readmitted']).set_title('Age of Patient VS. Readmission')"
   ]
  },
  {
   "cell_type": "code",
   "execution_count": 317,
   "metadata": {},
   "outputs": [
    {
     "data": {
      "text/plain": [
       "<matplotlib.axes._subplots.AxesSubplot at 0x1a2aa7bb10>"
      ]
     },
     "execution_count": 317,
     "metadata": {},
     "output_type": "execute_result"
    },
    {
     "data": {
      "image/png": "[encoded data removed]",
      "text/plain": [
       "<Figure size 432x288 with 1 Axes>"
      ]
     },
     "metadata": {
      "needs_background": "light"
     },
     "output_type": "display_data"
    }
   ],
   "source": [
    "diabdata.gender.value_counts().plot.bar(title='Gender Counts')"
   ]
  },
  {
   "cell_type": "code",
   "execution_count": 318,
   "metadata": {},
   "outputs": [
    {
     "data": {
      "text/plain": [
       "<matplotlib.axes._subplots.AxesSubplot at 0x1a2a9f6c10>"
      ]
     },
     "execution_count": 318,
     "metadata": {},
     "output_type": "execute_result"
    },
    {
     "data": {
      "image/png": "[encoded data removed]",
      "text/plain": [
       "<Figure size 432x288 with 1 Axes>"
      ]
     },
     "metadata": {
      "needs_background": "light"
     },
     "output_type": "display_data"
    }
   ],
   "source": [
    "diabdata.payer_code.value_counts().plot.bar(title ='Large question mark count in Payer Code')"
   ]
  },
  {
   "cell_type": "code",
   "execution_count": 319,
   "metadata": {},
   "outputs": [
    {
     "data": {
      "text/plain": [
       "Text(0.5, 1.0, 'Race Bar Chart')"
      ]
     },
     "execution_count": 319,
     "metadata": {},
     "output_type": "execute_result"
    },
    {
     "data": {
      "image/png": "[encoded data removed]",
      "text/plain": [
       "<Figure size 432x288 with 1 Axes>"
      ]
     },
     "metadata": {
      "needs_background": "light"
     },
     "output_type": "display_data"
    }
   ],
   "source": [
    "diabdata.race.value_counts().plot.bar().set_title('Race Bar Chart')"
   ]
  },
  {
   "cell_type": "code",
   "execution_count": 320,
   "metadata": {},
   "outputs": [],
   "source": [
    "# Take care of the race missing values and minority asian as outlier\n",
    "diabdata.race = diabdata.race.replace('?','Missing').replace('Asian','Other').replace('Hispanic','Other')\n"
   ]
  },
  {
   "cell_type": "code",
   "execution_count": 321,
   "metadata": {},
   "outputs": [],
   "source": [
    "# Following guideline filling in missing for '?'\n",
    "diabdata.medical_specialty  = diabdata.medical_specialty.replace('?','Missing')"
   ]
  },
  {
   "cell_type": "code",
   "execution_count": 322,
   "metadata": {},
   "outputs": [],
   "source": [
    "# Convert the discharge ID codes to group of classes \n",
    "diabdata.discharge_disposition_id = diabdata.discharge_disposition_id.apply(lambda x: conv_disch_id(x))"
   ]
  },
  {
   "cell_type": "code",
   "execution_count": 323,
   "metadata": {},
   "outputs": [],
   "source": [
    "# Convert the admission source ID codes to group of classes \n",
    "diabdata.admission_source_id = diabdata.admission_source_id.apply(lambda x: conv_adms_id(x))"
   ]
  },
  {
   "cell_type": "code",
   "execution_count": 324,
   "metadata": {},
   "outputs": [
    {
     "data": {
      "text/plain": [
       "Text(0.5, 1.0, 'Gender of Patient VS. Readmission')"
      ]
     },
     "execution_count": 324,
     "metadata": {},
     "output_type": "execute_result"
    },
    {
     "data": {
      "image/png": "[encoded data removed]",
      "text/plain": [
       "<Figure size 432x288 with 1 Axes>"
      ]
     },
     "metadata": {
      "needs_background": "light"
     },
     "output_type": "display_data"
    }
   ],
   "source": [
    "# Patient Gender does not have \n",
    "diabdata.gender.value_counts()\n",
    "sns.countplot(y= diabdata['gender'], hue = diabdata['readmitted']).set_title('Gender of Patient VS. Readmission')"
   ]
  },
  {
   "cell_type": "code",
   "execution_count": 325,
   "metadata": {},
   "outputs": [],
   "source": [
    "# Group the feature by medical specialty of the doctor\n",
    "\n",
    "cardiology = ['Cardiology',\n",
    " 'Cardiology-Pediatric']\n",
    "generalpractice = ['Family/GeneralPractice']\n",
    "internalmedicine = ['InternalMedicine']\n",
    "missing = ['?']\n",
    "surgery = ['Surgeon',\n",
    " 'Surgery-Cardiovascular',\n",
    " 'Surgery-Cardiovascular/Thoracic',\n",
    " 'Surgery-Colon&Rectal',\n",
    " 'Surgery-General',\n",
    " 'Surgery-Maxillofacial',\n",
    " 'Surgery-Neuro',\n",
    " 'Surgery-Pediatric',\n",
    " 'Surgery-Plastic',\n",
    " 'Surgery-PlasticwithinHeadandNeck',\n",
    " 'Surgery-Thoracic',\n",
    " 'Surgery-Vascular',\n",
    " 'SurgicalSpecialty']\n"
   ]
  },
  {
   "cell_type": "code",
   "execution_count": 326,
   "metadata": {},
   "outputs": [],
   "source": [
    "diabdata.medical_specialty = ['Cardiology' if x in cardiology else\n",
    " \"General Practice\" if x in generalpractice else\n",
    " 'Internal Medicine' if x in internalmedicine else\n",
    " 'Surgery' if x in surgery else\n",
    " 'Missing' if x in missing else\n",
    " 'Other' for x in diabdata.medical_specialty]"
   ]
  },
  {
   "cell_type": "code",
   "execution_count": 327,
   "metadata": {},
   "outputs": [
    {
     "data": {
      "text/plain": [
       "Text(0.5, 1.0, 'Age of Patient VS. Readmission')"
      ]
     },
     "execution_count": 327,
     "metadata": {},
     "output_type": "execute_result"
    },
    {
     "data": {
      "image/png": "[encoded data removed]",
      "text/plain": [
       "<Figure size 432x288 with 1 Axes>"
      ]
     },
     "metadata": {
      "needs_background": "light"
     },
     "output_type": "display_data"
    }
   ],
   "source": [
    "sns.countplot(y= diabdata['medical_specialty'], hue = diabdata['readmitted']).set_title('Age of Patient VS. Readmission')"
   ]
  },
  {
   "cell_type": "markdown",
   "metadata": {},
   "source": [
    "### Feature Engineering - Diagnosis \n",
    "- Grouping values within feature: IDC code (based on first 3 characters)\n",
    "\n",
    "001–139: infectious and parasitic diseases\n",
    "140–239: neoplasms\n",
    "240–279: endocrine, nutritional and metabolic diseases, and immunity disorders\n",
    "280–289: diseases of the blood and blood-forming organs\n",
    "290–319: mental disorders\n",
    "320–389: diseases of the nervous system and sense organs\n",
    "390–459: diseases of the circulatory system\n",
    "460–519: diseases of the respiratory system\n",
    "520–579: diseases of the digestive system\n",
    "580–629: diseases of the genitourinary system\n",
    "630–679: complications of pregnancy, childbirth, and the puerperium\n",
    "680–709: diseases of the skin and subcutaneous tissue\n",
    "710–739: diseases of the musculoskeletal system and connective tissue\n",
    "740–759: congenital anomalies\n",
    "760–779: certain conditions originating in the perinatal period\n",
    "780–799: symptoms, signs, and ill-defined conditions\n",
    "800–999: injury and poisoning\n",
    "E and V codes: external causes of injury and supplemental classification"
   ]
  },
  {
   "cell_type": "code",
   "execution_count": 328,
   "metadata": {},
   "outputs": [],
   "source": [
    "# Converting IDC9 iagnostic codes  to characters\n",
    "\n",
    "diags = ['diag_1','diag_2','diag_3']\n",
    "for diag in diags:\n",
    "    diagt = str(diag + '_temp')\n",
    "    diabdata[diagt] = diabdata[diag].apply(lambda x : idc_to_group(x))"
   ]
  },
  {
   "cell_type": "code",
   "execution_count": 329,
   "metadata": {},
   "outputs": [
    {
     "data": {
      "text/plain": [
       "Text(0.5, 1.0, 'Primary Diagnosis')"
      ]
     },
     "execution_count": 329,
     "metadata": {},
     "output_type": "execute_result"
    },
    {
     "data": {
      "image/png": "[encoded data removed]",
      "text/plain": [
       "<Figure size 432x288 with 1 Axes>"
      ]
     },
     "metadata": {
      "needs_background": "light"
     },
     "output_type": "display_data"
    }
   ],
   "source": [
    "diabdata.groupby('diag_1_temp').agg({'diag_1':['count']})['diag_1'].sort_values('count').plot.barh() \n",
    "#,ascending=False\n",
    "plt.title('Primary Diagnosis')"
   ]
  },
  {
   "cell_type": "code",
   "execution_count": 330,
   "metadata": {},
   "outputs": [
    {
     "data": {
      "text/plain": [
       "Text(0.5, 1.0, 'Primary Diag. VS. Readmission')"
      ]
     },
     "execution_count": 330,
     "metadata": {},
     "output_type": "execute_result"
    },
    {
     "data": {
      "image/png": "[encoded data removed]",
      "text/plain": [
       "<Figure size 432x288 with 1 Axes>"
      ]
     },
     "metadata": {
      "needs_background": "light"
     },
     "output_type": "display_data"
    }
   ],
   "source": [
    "sns.countplot(y= diabdata['diag_2_temp'], hue = diabdata['readmitted']).set_title('Primary Diag. VS. Readmission')"
   ]
  },
  {
   "cell_type": "code",
   "execution_count": 331,
   "metadata": {},
   "outputs": [
    {
     "data": {
      "text/plain": [
       "Text(0.5, 1.0, 'Secondary Diagnosis')"
      ]
     },
     "execution_count": 331,
     "metadata": {},
     "output_type": "execute_result"
    },
    {
     "data": {
      "image/png": "[encoded data removed]",
      "text/plain": [
       "<Figure size 432x288 with 1 Axes>"
      ]
     },
     "metadata": {
      "needs_background": "light"
     },
     "output_type": "display_data"
    }
   ],
   "source": [
    "diabdata.groupby('diag_2_temp').agg({'diag_2':['count']})['diag_2'].sort_values('count').plot.barh()\n",
    "plt.title('Secondary Diagnosis')"
   ]
  },
  {
   "cell_type": "code",
   "execution_count": 332,
   "metadata": {},
   "outputs": [
    {
     "data": {
      "text/plain": [
       "Text(0.5, 1.0, 'Third Diagnosis')"
      ]
     },
     "execution_count": 332,
     "metadata": {},
     "output_type": "execute_result"
    },
    {
     "data": {
      "image/png": "[encoded data removed]",
      "text/plain": [
       "<Figure size 432x288 with 1 Axes>"
      ]
     },
     "metadata": {
      "needs_background": "light"
     },
     "output_type": "display_data"
    }
   ],
   "source": [
    "diabdata.groupby('diag_3_temp').agg({'diag_3':['count']})['diag_3'].sort_values('count').plot.barh()\n",
    "plt.title('Third Diagnosis')"
   ]
  },
  {
   "cell_type": "code",
   "execution_count": 333,
   "metadata": {},
   "outputs": [
    {
     "data": {
      "text/plain": [
       "75    25394\n",
       "65    21992\n",
       "55    16891\n",
       "85    16602\n",
       "45     9415\n",
       "35     3606\n",
       "95     2661\n",
       "25     1508\n",
       "15      468\n",
       "5        64\n",
       "Name: newage, dtype: int64"
      ]
     },
     "execution_count": 333,
     "metadata": {},
     "output_type": "execute_result"
    }
   ],
   "source": [
    "# Convert age range to ages\n",
    "diabdata['newage'] = diabdata['age'].apply(lambda x: age_to_aveage(x) )\n",
    "diabdata.newage.value_counts()"
   ]
  },
  {
   "cell_type": "code",
   "execution_count": 334,
   "metadata": {},
   "outputs": [],
   "source": [
    "# Transform the target variable to those admitted before 30 days and others\n",
    "diabdata.readmitted = diabdata.readmitted.apply(lambda x : 1 if x =='<30' else 0)"
   ]
  },
  {
   "cell_type": "markdown",
   "metadata": {},
   "source": [
    "## Removing multiple visit for each patient that is indicated by patient_nbr\n",
    "This ensures that observations are independent"
   ]
  },
  {
   "cell_type": "code",
   "execution_count": 335,
   "metadata": {},
   "outputs": [
    {
     "name": "stdout",
     "output_type": "stream",
     "text": [
      "The unique number of patients, keep only these rows? \n"
     ]
    }
   ],
   "source": [
    "print('The unique number of patients, keep only these rows? ')\n",
    "diabdata.patient_nbr.value_counts().count()\n",
    "\n",
    "diabdata = diabdata.drop_duplicates(subset= ['patient_nbr'], keep = 'first') "
   ]
  },
  {
   "cell_type": "code",
   "execution_count": 336,
   "metadata": {},
   "outputs": [],
   "source": [
    "diabdata.to_csv('cleaned_full_features.csv')"
   ]
  },
  {
   "cell_type": "code",
   "execution_count": 337,
   "metadata": {},
   "outputs": [],
   "source": [
    "diabdata1= pd.read_csv('cleaned_full_features.csv',index_col=0)"
   ]
  },
  {
   "cell_type": "markdown",
   "metadata": {},
   "source": [
    "## Dropping Feature Columns\n",
    "\n",
    "- patient_nbr: \n",
    "- encounter_id:\n",
    "- payer_code: \n",
    "- max_glu_serum: \n",
    "- weight: Too many missing value\n",
    "-\n",
    "-\n"
   ]
  },
  {
   "cell_type": "code",
   "execution_count": 338,
   "metadata": {},
   "outputs": [],
   "source": [
    "# Drop columns that are not needed\n",
    "\n",
    "# cols_to_drop = ['encounter_id', 'patient_nbr', 'race', 'gender', 'age', 'weight',\n",
    "#        'admission_type_id', 'discharge_disposition_id', 'admission_source_id',\n",
    "#        'time_in_hospital', 'payer_code', 'medical_specialty',\n",
    "#        'num_lab_procedures', 'num_procedures', 'num_medications',\n",
    "#        'number_outpatient', 'number_emergency', 'number_inpatient', 'diag_1',\n",
    "#        'diag_2', 'diag_3', 'number_diagnoses', 'max_glu_serum', 'A1Cresult',\n",
    "#        'metformin', 'repaglinide', 'nateglinide', 'chlorpropamide',\n",
    "#        'glimepiride', 'acetohexamide', 'glipizide', 'glyburide', 'tolbutamide',\n",
    "#        'pioglitazone', 'rosiglitazone', 'acarbose', 'miglitol', 'troglitazone',\n",
    "#        'tolazamide', 'examide', 'citoglipton', 'insulin',\n",
    "#        'glyburide-metformin', 'glipizide-metformin',\n",
    "#        'glimepiride-pioglitazone', 'metformin-rosiglitazone',\n",
    "#        'metformin-pioglitazone', 'change', 'diabetesMed', 'readmitted',\n",
    "#        'newage']\n",
    "cols_to_drop = ['encounter_id', 'patient_nbr', 'age', 'weight', 'admission_type_id',\n",
    "                'payer_code', 'change','gender','diabetesMed',\n",
    "                'num_lab_procedures', 'num_procedures', \n",
    "                'number_outpatient', 'number_emergency', 'number_inpatient', \n",
    "                'number_diagnoses', 'max_glu_serum',\n",
    "                'metformin', 'repaglinide', 'nateglinide', 'chlorpropamide',\n",
    "       'glimepiride', 'acetohexamide', 'glipizide', 'glyburide', 'tolbutamide',\n",
    "       'pioglitazone', 'rosiglitazone', 'acarbose', 'miglitol', 'troglitazone',\n",
    "       'tolazamide', 'examide', 'citoglipton', 'insulin',\n",
    "       'glyburide-metformin', 'glipizide-metformin',\n",
    "       'glimepiride-pioglitazone', 'metformin-rosiglitazone',\n",
    "       'metformin-pioglitazone','diag_1','diag_2','diag_3',\n",
    "                'diag_2_temp','diag_3_temp']\n",
    "\n",
    "# second round: include: num_medications, 'medical_specialty',\n",
    "\n",
    "diabdata.drop(cols_to_drop, inplace= True, axis = 1)\n",
    "\n"
   ]
  },
  {
   "cell_type": "code",
   "execution_count": 339,
   "metadata": {},
   "outputs": [],
   "source": [
    "# Save data before modification dummification\n",
    "diabdata.to_csv('before_dummies.csv')"
   ]
  },
  {
   "cell_type": "markdown",
   "metadata": {},
   "source": [
    "## One Hot Encoing of categorical features"
   ]
  },
  {
   "cell_type": "code",
   "execution_count": 340,
   "metadata": {
    "scrolled": true
   },
   "outputs": [
    {
     "data": {
      "text/plain": [
       "Index(['race', 'discharge_disposition_id', 'admission_source_id',\n",
       "       'time_in_hospital', 'medical_specialty', 'num_medications', 'A1Cresult',\n",
       "       'readmitted', 'diag_1_temp', 'newage'],\n",
       "      dtype='object')"
      ]
     },
     "execution_count": 340,
     "metadata": {},
     "output_type": "execute_result"
    }
   ],
   "source": [
    "diabdata2 = pd.read_csv('before_dummies.csv',index_col=0)\n",
    "diabdata2.columns"
   ]
  },
  {
   "cell_type": "code",
   "execution_count": 341,
   "metadata": {},
   "outputs": [],
   "source": [
    "prefix = 'class1'\n",
    "step1 = pd.get_dummies(diabdata2['diag_1_temp'], prefix = 'class1')\n",
    "\n",
    "diabdata2 = pd.concat([diabdata2,step1], axis=1)\n",
    "diabdata2.drop('diag_1_temp',1,inplace=True)\n",
    "diabdata2.drop(str(prefix+'_'+'diabetis'),axis=1,inplace=True)"
   ]
  },
  {
   "cell_type": "code",
   "execution_count": 342,
   "metadata": {},
   "outputs": [
    {
     "data": {
      "text/plain": [
       "(69340, 17)"
      ]
     },
     "execution_count": 342,
     "metadata": {},
     "output_type": "execute_result"
    }
   ],
   "source": [
    "diabdata2.shape"
   ]
  },
  {
   "cell_type": "code",
   "execution_count": 343,
   "metadata": {},
   "outputs": [
    {
     "name": "stdout",
     "output_type": "stream",
     "text": [
      "(69340, 17)\n"
     ]
    },
    {
     "data": {
      "text/html": [
       "<div>\n",
       "<style scoped>\n",
       "    .dataframe tbody tr th:only-of-type {\n",
       "        vertical-align: middle;\n",
       "    }\n",
       "\n",
       "    .dataframe tbody tr th {\n",
       "        vertical-align: top;\n",
       "    }\n",
       "\n",
       "    .dataframe thead th {\n",
       "        text-align: right;\n",
       "    }\n",
       "</style>\n",
       "<table border=\"1\" class=\"dataframe\">\n",
       "  <thead>\n",
       "    <tr style=\"text-align: right;\">\n",
       "      <th></th>\n",
       "      <th>race</th>\n",
       "      <th>discharge_disposition_id</th>\n",
       "      <th>admission_source_id</th>\n",
       "      <th>time_in_hospital</th>\n",
       "      <th>medical_specialty</th>\n",
       "      <th>num_medications</th>\n",
       "      <th>A1Cresult</th>\n",
       "      <th>readmitted</th>\n",
       "      <th>newage</th>\n",
       "      <th>class1_circulatory</th>\n",
       "      <th>class1_digestive</th>\n",
       "      <th>class1_genitourinary</th>\n",
       "      <th>class1_injury</th>\n",
       "      <th>class1_musculoskeletal</th>\n",
       "      <th>class1_neoplasms</th>\n",
       "      <th>class1_other</th>\n",
       "      <th>class1_respiratory</th>\n",
       "    </tr>\n",
       "  </thead>\n",
       "  <tbody>\n",
       "    <tr>\n",
       "      <td>1</td>\n",
       "      <td>Caucasian</td>\n",
       "      <td>home</td>\n",
       "      <td>emergency</td>\n",
       "      <td>3</td>\n",
       "      <td>Other</td>\n",
       "      <td>18</td>\n",
       "      <td>None</td>\n",
       "      <td>0</td>\n",
       "      <td>15</td>\n",
       "      <td>0</td>\n",
       "      <td>0</td>\n",
       "      <td>0</td>\n",
       "      <td>0</td>\n",
       "      <td>0</td>\n",
       "      <td>1</td>\n",
       "      <td>0</td>\n",
       "      <td>0</td>\n",
       "    </tr>\n",
       "    <tr>\n",
       "      <td>2</td>\n",
       "      <td>AfricanAmerican</td>\n",
       "      <td>home</td>\n",
       "      <td>emergency</td>\n",
       "      <td>2</td>\n",
       "      <td>Other</td>\n",
       "      <td>13</td>\n",
       "      <td>None</td>\n",
       "      <td>0</td>\n",
       "      <td>25</td>\n",
       "      <td>0</td>\n",
       "      <td>0</td>\n",
       "      <td>0</td>\n",
       "      <td>0</td>\n",
       "      <td>0</td>\n",
       "      <td>0</td>\n",
       "      <td>1</td>\n",
       "      <td>0</td>\n",
       "    </tr>\n",
       "    <tr>\n",
       "      <td>3</td>\n",
       "      <td>Caucasian</td>\n",
       "      <td>home</td>\n",
       "      <td>emergency</td>\n",
       "      <td>2</td>\n",
       "      <td>Other</td>\n",
       "      <td>16</td>\n",
       "      <td>None</td>\n",
       "      <td>0</td>\n",
       "      <td>35</td>\n",
       "      <td>0</td>\n",
       "      <td>0</td>\n",
       "      <td>0</td>\n",
       "      <td>0</td>\n",
       "      <td>0</td>\n",
       "      <td>1</td>\n",
       "      <td>0</td>\n",
       "      <td>0</td>\n",
       "    </tr>\n",
       "    <tr>\n",
       "      <td>4</td>\n",
       "      <td>Caucasian</td>\n",
       "      <td>home</td>\n",
       "      <td>emergency</td>\n",
       "      <td>1</td>\n",
       "      <td>Other</td>\n",
       "      <td>8</td>\n",
       "      <td>None</td>\n",
       "      <td>0</td>\n",
       "      <td>45</td>\n",
       "      <td>0</td>\n",
       "      <td>0</td>\n",
       "      <td>0</td>\n",
       "      <td>0</td>\n",
       "      <td>0</td>\n",
       "      <td>1</td>\n",
       "      <td>0</td>\n",
       "      <td>0</td>\n",
       "    </tr>\n",
       "    <tr>\n",
       "      <td>5</td>\n",
       "      <td>Caucasian</td>\n",
       "      <td>home</td>\n",
       "      <td>clin_ref</td>\n",
       "      <td>3</td>\n",
       "      <td>Other</td>\n",
       "      <td>16</td>\n",
       "      <td>None</td>\n",
       "      <td>0</td>\n",
       "      <td>55</td>\n",
       "      <td>1</td>\n",
       "      <td>0</td>\n",
       "      <td>0</td>\n",
       "      <td>0</td>\n",
       "      <td>0</td>\n",
       "      <td>0</td>\n",
       "      <td>0</td>\n",
       "      <td>0</td>\n",
       "    </tr>\n",
       "  </tbody>\n",
       "</table>\n",
       "</div>"
      ],
      "text/plain": [
       "              race discharge_disposition_id admission_source_id  \\\n",
       "1        Caucasian                     home           emergency   \n",
       "2  AfricanAmerican                     home           emergency   \n",
       "3        Caucasian                     home           emergency   \n",
       "4        Caucasian                     home           emergency   \n",
       "5        Caucasian                     home            clin_ref   \n",
       "\n",
       "   time_in_hospital medical_specialty  num_medications A1Cresult  readmitted  \\\n",
       "1                 3             Other               18      None           0   \n",
       "2                 2             Other               13      None           0   \n",
       "3                 2             Other               16      None           0   \n",
       "4                 1             Other                8      None           0   \n",
       "5                 3             Other               16      None           0   \n",
       "\n",
       "   newage  class1_circulatory  class1_digestive  class1_genitourinary  \\\n",
       "1      15                   0                 0                     0   \n",
       "2      25                   0                 0                     0   \n",
       "3      35                   0                 0                     0   \n",
       "4      45                   0                 0                     0   \n",
       "5      55                   1                 0                     0   \n",
       "\n",
       "   class1_injury  class1_musculoskeletal  class1_neoplasms  class1_other  \\\n",
       "1              0                       0                 1             0   \n",
       "2              0                       0                 0             1   \n",
       "3              0                       0                 1             0   \n",
       "4              0                       0                 1             0   \n",
       "5              0                       0                 0             0   \n",
       "\n",
       "   class1_respiratory  \n",
       "1                   0  \n",
       "2                   0  \n",
       "3                   0  \n",
       "4                   0  \n",
       "5                   0  "
      ]
     },
     "execution_count": 343,
     "metadata": {},
     "output_type": "execute_result"
    }
   ],
   "source": [
    "print(diabdata2.shape)\n",
    "diabdata2.head()"
   ]
  },
  {
   "cell_type": "code",
   "execution_count": 344,
   "metadata": {},
   "outputs": [
    {
     "data": {
      "text/plain": [
       "(69340, 19)"
      ]
     },
     "execution_count": 344,
     "metadata": {},
     "output_type": "execute_result"
    }
   ],
   "source": [
    "prefix = 'class3'\n",
    "step3 = pd.get_dummies(diabdata2['race'], prefix = 'class3')# drop_first=True\n",
    "\n",
    "diabdata2 = pd.concat([diabdata2,step3], axis=1)\n",
    "diabdata2.drop('race',1,inplace=True)\n",
    "diabdata2.drop(str(prefix+'_'+'AfricanAmerican'),axis=1,inplace=True)\n",
    "diabdata2.shape"
   ]
  },
  {
   "cell_type": "code",
   "execution_count": 345,
   "metadata": {},
   "outputs": [
    {
     "data": {
      "text/plain": [
       "(69340, 22)"
      ]
     },
     "execution_count": 345,
     "metadata": {},
     "output_type": "execute_result"
    }
   ],
   "source": [
    "prefix = 'class4'\n",
    "step4 = pd.get_dummies(diabdata2['medical_specialty'], prefix = 'class4')\n",
    "\n",
    "diabdata2 = pd.concat([diabdata2,step4], axis=1)\n",
    "diabdata2.drop('medical_specialty',1,inplace=True)\n",
    "diabdata2.drop(str(prefix+'_'+'Cardiology'),axis=1,inplace=True)\n",
    "diabdata2.shape"
   ]
  },
  {
   "cell_type": "code",
   "execution_count": 347,
   "metadata": {},
   "outputs": [
    {
     "data": {
      "text/plain": [
       "(69340, 22)"
      ]
     },
     "execution_count": 347,
     "metadata": {},
     "output_type": "execute_result"
    }
   ],
   "source": [
    "prefix = 'class6'\n",
    "step6 = pd.get_dummies(diabdata2['discharge_disposition_id'], prefix = 'class6')\n",
    "\n",
    "diabdata2 = pd.concat([diabdata2,step6], axis=1)\n",
    "diabdata2.drop('discharge_disposition_id',1,inplace=True)\n",
    "diabdata2.drop(str(prefix+'_'+'home'),axis=1,inplace=True)\n",
    "diabdata2.shape"
   ]
  },
  {
   "cell_type": "code",
   "execution_count": 348,
   "metadata": {},
   "outputs": [
    {
     "data": {
      "text/plain": [
       "(69340, 26)"
      ]
     },
     "execution_count": 348,
     "metadata": {},
     "output_type": "execute_result"
    }
   ],
   "source": [
    "prefix = 'class7'\n",
    "step7 = pd.get_dummies(diabdata2['admission_source_id'], prefix = 'class7')\n",
    "\n",
    "diabdata2 = pd.concat([diabdata2,step7], axis=1)\n",
    "diabdata2.drop('admission_source_id',1,inplace=True)\n",
    "diabdata2.drop(str(prefix+'_'+'emergency'),axis=1,inplace=True)\n",
    "diabdata2.shape"
   ]
  },
  {
   "cell_type": "code",
   "execution_count": 349,
   "metadata": {},
   "outputs": [
    {
     "data": {
      "text/plain": [
       "(69340, 28)"
      ]
     },
     "execution_count": 349,
     "metadata": {},
     "output_type": "execute_result"
    }
   ],
   "source": [
    "prefix = 'class8'\n",
    "step8 = pd.get_dummies(diabdata2['A1Cresult'], prefix = 'class8')\n",
    "\n",
    "diabdata2 = pd.concat([diabdata2,step8], axis=1)\n",
    "diabdata2.drop('A1Cresult',1,inplace=True)\n",
    "diabdata2.drop(str(prefix+'_'+'None'),axis=1,inplace=True)\n",
    "diabdata2.shape"
   ]
  },
  {
   "cell_type": "code",
   "execution_count": 350,
   "metadata": {},
   "outputs": [
    {
     "data": {
      "text/plain": [
       "Index(['time_in_hospital', 'num_medications', 'readmitted', 'newage',\n",
       "       'class1_circulatory', 'class1_digestive', 'class1_genitourinary',\n",
       "       'class1_injury', 'class1_musculoskeletal', 'class1_neoplasms',\n",
       "       'class1_other', 'class1_respiratory', 'class3_Caucasian',\n",
       "       'class3_Missing', 'class3_Other', 'class4_General Practice',\n",
       "       'class4_Internal Medicine', 'class4_Other', 'class4_Surgery',\n",
       "       'class6_other', 'class7_clin_ref', 'class7_hospital', 'class7_other',\n",
       "       'class7_phys_ref', 'class7_snf', 'class8_>7', 'class8_>8',\n",
       "       'class8_Norm'],\n",
       "      dtype='object')"
      ]
     },
     "execution_count": 350,
     "metadata": {},
     "output_type": "execute_result"
    }
   ],
   "source": [
    "diabdata2.columns"
   ]
  },
  {
   "cell_type": "code",
   "execution_count": 351,
   "metadata": {},
   "outputs": [],
   "source": [
    "# Interaction Terms - Time in Hospital & Diagnosis\n",
    "# diabdata2.head()\n",
    "# diabdata2['class1_circulatory'].map(lambda x,y: x*y,diabdata2['class1_circulatory'],diabdata2['time_in_hospital'])"
   ]
  },
  {
   "cell_type": "code",
   "execution_count": 352,
   "metadata": {},
   "outputs": [],
   "source": [
    "diabdata2.to_csv('before_model_diabdata.csv')"
   ]
  },
  {
   "cell_type": "markdown",
   "metadata": {},
   "source": [
    "## Logistic Regression Model "
   ]
  },
  {
   "cell_type": "code",
   "execution_count": 383,
   "metadata": {},
   "outputs": [
    {
     "data": {
      "text/plain": [
       "Index(['time_in_hospital', 'num_medications', 'readmitted', 'newage',\n",
       "       'class1_circulatory', 'class1_digestive', 'class1_genitourinary',\n",
       "       'class1_injury', 'class1_musculoskeletal', 'class1_neoplasms',\n",
       "       'class1_other', 'class1_respiratory', 'class3_Caucasian',\n",
       "       'class3_Missing', 'class3_Other', 'class4_General Practice',\n",
       "       'class4_Internal Medicine', 'class4_Other', 'class4_Surgery',\n",
       "       'class6_other', 'class7_clin_ref', 'class7_hospital', 'class7_other',\n",
       "       'class7_phys_ref', 'class7_snf', 'class8_>7', 'class8_>8',\n",
       "       'class8_Norm'],\n",
       "      dtype='object')"
      ]
     },
     "execution_count": 383,
     "metadata": {},
     "output_type": "execute_result"
    }
   ],
   "source": [
    "diabdata3 = pd.read_csv('before_model_diabdata.csv',index_col=0)\n",
    "diabdata3.columns"
   ]
  },
  {
   "cell_type": "code",
   "execution_count": 384,
   "metadata": {},
   "outputs": [],
   "source": [
    "\n",
    "from sklearn.linear_model    import LogisticRegression, SGDClassifier\n",
    "from sklearn.metrics         import accuracy_score, f1_score, recall_score\n",
    "from sklearn.metrics         import classification_report, confusion_matrix\n",
    "from sklearn.model_selection import GridSearchCV, RepeatedStratifiedKFold\n",
    "from sklearn                 import datasets\n",
    "from sklearn.model_selection import cross_val_score, cross_val_predict, cross_validate, train_test_split\n"
   ]
  },
  {
   "cell_type": "markdown",
   "metadata": {},
   "source": [
    "### Standardize Data \n",
    "- Only if needed\n",
    "- Standardize features by removing the mean and scaling to unit variance\n",
    "\n",
    "- The standard score of a sample x is calculated as:\n",
    "\n",
    "- *z = (x - u) / s*"
   ]
  },
  {
   "cell_type": "code",
   "execution_count": 385,
   "metadata": {},
   "outputs": [],
   "source": [
    "# # Create the standardized version of the datasets\n",
    "\n",
    "from sklearn.preprocessing import StandardScaler\n",
    "scaler = StandardScaler()\n",
    "\n",
    "scaler.fit(X_train)\n",
    "X_train_scaled = scaler.transform(X_train)\n"
   ]
  },
  {
   "cell_type": "markdown",
   "metadata": {},
   "source": [
    "### Create Train and Test data\n",
    "- To avoid overfitting it is common practice when performing a (supervised) machine learning experiment to hold out part of the available data as a test set X_test, y_test.\n",
    "\n",
    "- Split the ***diabetes*** dataset into random train and test subsets\n",
    "- There is option to stratify by setting "
   ]
  },
  {
   "cell_type": "code",
   "execution_count": 386,
   "metadata": {},
   "outputs": [
    {
     "name": "stdout",
     "output_type": "stream",
     "text": [
      "(69340, 27) (69340,)\n"
     ]
    }
   ],
   "source": [
    "\n",
    "X = diabdata3.drop('readmitted',1)\n",
    "y = diabdata3.readmitted\n",
    "\n",
    "print(X.shape, y.shape)\n",
    "\n",
    "X_train, X_test, y_train, y_test = train_test_split(X, y, test_size = .3, random_state=42)"
   ]
  },
  {
   "cell_type": "markdown",
   "metadata": {},
   "source": [
    "## Cross Validation\n",
    "\n",
    "- Cross-validation is used to test the generalizability of the model"
   ]
  },
  {
   "cell_type": "code",
   "execution_count": 387,
   "metadata": {},
   "outputs": [
    {
     "name": "stdout",
     "output_type": "stream",
     "text": [
      "Mean ROC AUC: 0.603\n"
     ]
    }
   ],
   "source": [
    "\n",
    "\n",
    "\n",
    "# First Run\n",
    "diabetes_model = LogisticRegression(solver='liblinear',class_weight='balanced')\n",
    "diabetes_model.fit(X_train,y_train)\n",
    "\n",
    "# evaluate model\n",
    "cv = RepeatedStratifiedKFold(n_splits=10, n_repeats=3, random_state=1)\n",
    "\n",
    "scores = cross_val_score(diabetes_model, X_train, y_train, scoring='roc_auc', cv=cv, n_jobs=-1)\n",
    "# summarize performance\n",
    "print('Mean ROC AUC: %.3f' % np.mean(scores))"
   ]
  },
  {
   "cell_type": "code",
   "execution_count": 388,
   "metadata": {},
   "outputs": [
    {
     "name": "stdout",
     "output_type": "stream",
     "text": [
      "              precision    recall  f1-score   support\n",
      "\n",
      "           0       0.93      0.62      0.74     18905\n",
      "           1       0.12      0.53      0.20      1897\n",
      "\n",
      "    accuracy                           0.61     20802\n",
      "   macro avg       0.53      0.57      0.47     20802\n",
      "weighted avg       0.86      0.61      0.69     20802\n",
      "\n"
     ]
    }
   ],
   "source": [
    "y_pred = diabetes_model.predict(X_test)\n",
    "print(classification_report(y_test, y_pred))"
   ]
  },
  {
   "cell_type": "markdown",
   "metadata": {},
   "source": [
    "## Grid Search - Hyperparameter Tuning"
   ]
  },
  {
   "cell_type": "code",
   "execution_count": 393,
   "metadata": {},
   "outputs": [],
   "source": [
    "\n",
    "# Create regularization hyperparameter space\n",
    "grid_params={\"C\":np.logspace(-3,3,7), \"penalty\":[\"l1\",\"l2\"]}\n",
    "\n",
    "grid_log = LogisticRegression(solver='liblinear',class_weight='balanced')\n",
    "gridsearch_logit = GridSearchCV(grid_log, grid_params, cv = 5)\n",
    "gridsearch_logit.fit(X_train,y_train)\n",
    "y_pred_grid = gridsearch_logit.predict(X_test)\n"
   ]
  },
  {
   "cell_type": "code",
   "execution_count": 394,
   "metadata": {},
   "outputs": [
    {
     "name": "stdout",
     "output_type": "stream",
     "text": [
      "Gridsearch Object Best Score:  {'C': 0.01, 'penalty': 'l1'}\n"
     ]
    }
   ],
   "source": [
    "print('Gridsearch Object Best Score: ',gridsearch_logit.best_params_)"
   ]
  },
  {
   "cell_type": "code",
   "execution_count": 395,
   "metadata": {},
   "outputs": [
    {
     "data": {
      "text/plain": [
       "0    18905\n",
       "1     1897\n",
       "Name: readmitted, dtype: int64"
      ]
     },
     "execution_count": 395,
     "metadata": {},
     "output_type": "execute_result"
    }
   ],
   "source": [
    "y_test.value_counts()"
   ]
  },
  {
   "cell_type": "code",
   "execution_count": 396,
   "metadata": {},
   "outputs": [
    {
     "name": "stdout",
     "output_type": "stream",
     "text": [
      "              precision    recall  f1-score   support\n",
      "\n",
      "           0       0.93      0.62      0.74     18905\n",
      "           1       0.12      0.53      0.20      1897\n",
      "\n",
      "    accuracy                           0.61     20802\n",
      "   macro avg       0.53      0.57      0.47     20802\n",
      "weighted avg       0.86      0.61      0.69     20802\n",
      "\n"
     ]
    }
   ],
   "source": [
    "print(classification_report(y_test, y_pred_grid))"
   ]
  },
  {
   "cell_type": "code",
   "execution_count": 397,
   "metadata": {},
   "outputs": [
    {
     "data": {
      "text/plain": [
       "0.6154353290205612"
      ]
     },
     "execution_count": 397,
     "metadata": {},
     "output_type": "execute_result"
    }
   ],
   "source": [
    "gridsearch_logit.best_score_"
   ]
  },
  {
   "cell_type": "code",
   "execution_count": 398,
   "metadata": {},
   "outputs": [
    {
     "data": {
      "text/plain": [
       "Text(0.5, 0, 'Magnitude')"
      ]
     },
     "execution_count": 398,
     "metadata": {},
     "output_type": "execute_result"
    },
    {
     "data": {
      "image/png": "[encoded data removed]",
      "text/plain": [
       "<Figure size 432x288 with 1 Axes>"
      ]
     },
     "metadata": {
      "needs_background": "light"
     },
     "output_type": "display_data"
    }
   ],
   "source": [
    "coefdf = pd.DataFrame(diabetes_model.coef_)\n",
    "coefdf.columns = X_train.columns.tolist()\n",
    "coefdf = coefdf.transpose() #.columns = ['Coefficients']\n",
    "coefdf.columns = ['Coefficients']\n",
    "coefdf.sort_values('Coefficients').plot.barh()\n",
    "plt.title('Coefficient Chart')\n",
    "plt.xlabel('Magnitude')"
   ]
  },
  {
   "cell_type": "code",
   "execution_count": 399,
   "metadata": {},
   "outputs": [
    {
     "data": {
      "image/png": "[encoded data removed]",
      "text/plain": [
       "<Figure size 432x288 with 2 Axes>"
      ]
     },
     "metadata": {
      "needs_background": "light"
     },
     "output_type": "display_data"
    }
   ],
   "source": [
    "\n",
    "conf_matrix = confusion_matrix(y_test, y_pred_grid)\n",
    "labels = ['Class 0', 'Class 1']\n",
    "fig = plt.figure()\n",
    "ax  = fig.add_subplot(111)\n",
    "cax = ax.matshow(conf_matrix, cmap=plt.cm.Blues)\n",
    "\n",
    "fig.colorbar(cax)\n",
    "ax.set_xticklabels([''] + labels)\n",
    "ax.set_yticklabels([''] + labels)\n",
    "plt.ylabel('True Values')\n",
    "plt.xlabel('Predicted')\n",
    "plt.show()"
   ]
  },
  {
   "cell_type": "code",
   "execution_count": 400,
   "metadata": {},
   "outputs": [
    {
     "data": {
      "text/plain": [
       "array([[11691,  7214],\n",
       "       [  889,  1008]])"
      ]
     },
     "execution_count": 400,
     "metadata": {},
     "output_type": "execute_result"
    }
   ],
   "source": [
    "\n",
    "confusion_matrix(y_test, y_pred)"
   ]
  },
  {
   "cell_type": "code",
   "execution_count": 401,
   "metadata": {},
   "outputs": [],
   "source": [
    "# Calculate the predicted values and percentiles\n",
    "\n",
    "y_pred       = diabetes_model.predict(X_test)\n",
    "y_pred_proba = diabetes_model.predict_proba(X_test)\n",
    "\n",
    "pd.Series(y_test).index = pd.Series(y_pred).index\n",
    "predictions = pd.concat([pd.Series(y_test),pd.Series(y_pred),pd.DataFrame(y_pred_proba)],axis=1)\n",
    "predictions.columns = ['readmitted','predicted','prob_not_readmitted','prob_readmitted']"
   ]
  },
  {
   "cell_type": "code",
   "execution_count": 402,
   "metadata": {},
   "outputs": [],
   "source": [
    "# Calculate perdiction based on a range of cut-off values\n",
    "\n",
    "predictions['pred_55p']= predictions.prob_readmitted.map(lambda x : 1 if x > 0.55 else 0 )\n",
    "predictions['pred_50p']= predictions.prob_readmitted.map(lambda x : 1 if x > 0.50 else 0 )\n",
    "predictions['pred_45p']= predictions.prob_readmitted.map(lambda x : 1 if x > 0.45 else 0 )\n",
    "predictions['pred_40p']= predictions.prob_readmitted.map(lambda x : 1 if x > 0.40 else 0 )\n",
    "predictions['pred_35p']= predictions.prob_readmitted.map(lambda x : 1 if x > 0.35 else 0 )\n",
    "predictions['pred_30p']= predictions.prob_readmitted.map(lambda x : 1 if x > 0.30 else 0 )\n"
   ]
  },
  {
   "cell_type": "code",
   "execution_count": 403,
   "metadata": {},
   "outputs": [
    {
     "name": "stdout",
     "output_type": "stream",
     "text": [
      "[[   85 18820]\n",
      " [    3  1894]]\n",
      "[[  858 18047]\n",
      " [   48  1849]]\n",
      "[[ 3571 15334]\n",
      " [  211  1686]]\n",
      "[[ 8154 10751]\n",
      " [  566  1331]]\n",
      "[[11691  7214]\n",
      " [  889  1008]]\n",
      "[[13779  5126]\n",
      " [ 1146   751]]\n"
     ]
    },
    {
     "data": {
      "text/plain": [
       "[None, None, None, None, None, None]"
      ]
     },
     "execution_count": 403,
     "metadata": {},
     "output_type": "execute_result"
    }
   ],
   "source": [
    "# See the effect of the different cut off percentages from 30 to 55 percent\n",
    "\n",
    "mat_list = ['pred_30p','pred_35p','pred_40p','pred_45p','pred_50p','pred_55p']\n",
    "\n",
    "[print(confusion_matrix(predictions.readmitted,predictions[pred] )) for pred in mat_list]\n"
   ]
  },
  {
   "cell_type": "markdown",
   "metadata": {},
   "source": [
    "## Decile Analysis\n",
    "- Decile analysis is created to test the model’s ability to predict the intended outcome.\n",
    "- A range should be observed from most likely to least likely prediction "
   ]
  },
  {
   "cell_type": "code",
   "execution_count": 404,
   "metadata": {},
   "outputs": [
    {
     "data": {
      "text/html": [
       "<div>\n",
       "<style scoped>\n",
       "    .dataframe tbody tr th:only-of-type {\n",
       "        vertical-align: middle;\n",
       "    }\n",
       "\n",
       "    .dataframe tbody tr th {\n",
       "        vertical-align: top;\n",
       "    }\n",
       "\n",
       "    .dataframe thead th {\n",
       "        text-align: right;\n",
       "    }\n",
       "</style>\n",
       "<table border=\"1\" class=\"dataframe\">\n",
       "  <thead>\n",
       "    <tr style=\"text-align: right;\">\n",
       "      <th></th>\n",
       "      <th>Readmitted</th>\n",
       "      <th>Not_Readmitted</th>\n",
       "      <th>Patients</th>\n",
       "      <th>Prob_Min</th>\n",
       "      <th>Prob_Max</th>\n",
       "      <th>ReadmittedRate_pct</th>\n",
       "      <th>Lift</th>\n",
       "    </tr>\n",
       "    <tr>\n",
       "      <th>Decile</th>\n",
       "      <th></th>\n",
       "      <th></th>\n",
       "      <th></th>\n",
       "      <th></th>\n",
       "      <th></th>\n",
       "      <th></th>\n",
       "      <th></th>\n",
       "    </tr>\n",
       "  </thead>\n",
       "  <tbody>\n",
       "    <tr>\n",
       "      <td>9.(0.62,0.76]</td>\n",
       "      <td>281</td>\n",
       "      <td>1799</td>\n",
       "      <td>2080</td>\n",
       "      <td>0.619785</td>\n",
       "      <td>0.761897</td>\n",
       "      <td>0.135096</td>\n",
       "      <td>1.350962</td>\n",
       "    </tr>\n",
       "    <tr>\n",
       "      <td>8.(0.58,0.62]</td>\n",
       "      <td>272</td>\n",
       "      <td>1809</td>\n",
       "      <td>2081</td>\n",
       "      <td>0.583146</td>\n",
       "      <td>0.619785</td>\n",
       "      <td>0.130706</td>\n",
       "      <td>1.307064</td>\n",
       "    </tr>\n",
       "    <tr>\n",
       "      <td>7.(0.54,0.58]</td>\n",
       "      <td>239</td>\n",
       "      <td>1841</td>\n",
       "      <td>2080</td>\n",
       "      <td>0.542685</td>\n",
       "      <td>0.583146</td>\n",
       "      <td>0.114904</td>\n",
       "      <td>1.149038</td>\n",
       "    </tr>\n",
       "    <tr>\n",
       "      <td>6.(0.50,0.54]</td>\n",
       "      <td>226</td>\n",
       "      <td>1854</td>\n",
       "      <td>2080</td>\n",
       "      <td>0.497725</td>\n",
       "      <td>0.542685</td>\n",
       "      <td>0.108654</td>\n",
       "      <td>1.086538</td>\n",
       "    </tr>\n",
       "    <tr>\n",
       "      <td>5.(0.47,0.50]</td>\n",
       "      <td>184</td>\n",
       "      <td>1896</td>\n",
       "      <td>2080</td>\n",
       "      <td>0.468468</td>\n",
       "      <td>0.497725</td>\n",
       "      <td>0.088462</td>\n",
       "      <td>0.884615</td>\n",
       "    </tr>\n",
       "    <tr>\n",
       "      <td>4.(0.45,0.47]</td>\n",
       "      <td>158</td>\n",
       "      <td>1922</td>\n",
       "      <td>2080</td>\n",
       "      <td>0.445806</td>\n",
       "      <td>0.468468</td>\n",
       "      <td>0.075962</td>\n",
       "      <td>0.759615</td>\n",
       "    </tr>\n",
       "    <tr>\n",
       "      <td>3.(0.43,0.45]</td>\n",
       "      <td>147</td>\n",
       "      <td>1933</td>\n",
       "      <td>2080</td>\n",
       "      <td>0.426331</td>\n",
       "      <td>0.445806</td>\n",
       "      <td>0.070673</td>\n",
       "      <td>0.706731</td>\n",
       "    </tr>\n",
       "    <tr>\n",
       "      <td>2.(0.40,0.43]</td>\n",
       "      <td>157</td>\n",
       "      <td>1923</td>\n",
       "      <td>2080</td>\n",
       "      <td>0.404541</td>\n",
       "      <td>0.426331</td>\n",
       "      <td>0.075481</td>\n",
       "      <td>0.754808</td>\n",
       "    </tr>\n",
       "    <tr>\n",
       "      <td>1.(0.38,0.40]</td>\n",
       "      <td>127</td>\n",
       "      <td>1953</td>\n",
       "      <td>2080</td>\n",
       "      <td>0.376529</td>\n",
       "      <td>0.404541</td>\n",
       "      <td>0.061058</td>\n",
       "      <td>0.610577</td>\n",
       "    </tr>\n",
       "    <tr>\n",
       "      <td>0.[0.25,0.38]</td>\n",
       "      <td>106</td>\n",
       "      <td>1975</td>\n",
       "      <td>2081</td>\n",
       "      <td>0.245252</td>\n",
       "      <td>0.376529</td>\n",
       "      <td>0.050937</td>\n",
       "      <td>0.509370</td>\n",
       "    </tr>\n",
       "  </tbody>\n",
       "</table>\n",
       "</div>"
      ],
      "text/plain": [
       "               Readmitted  Not_Readmitted  Patients  Prob_Min  Prob_Max  \\\n",
       "Decile                                                                    \n",
       "9.(0.62,0.76]         281            1799      2080  0.619785  0.761897   \n",
       "8.(0.58,0.62]         272            1809      2081  0.583146  0.619785   \n",
       "7.(0.54,0.58]         239            1841      2080  0.542685  0.583146   \n",
       "6.(0.50,0.54]         226            1854      2080  0.497725  0.542685   \n",
       "5.(0.47,0.50]         184            1896      2080  0.468468  0.497725   \n",
       "4.(0.45,0.47]         158            1922      2080  0.445806  0.468468   \n",
       "3.(0.43,0.45]         147            1933      2080  0.426331  0.445806   \n",
       "2.(0.40,0.43]         157            1923      2080  0.404541  0.426331   \n",
       "1.(0.38,0.40]         127            1953      2080  0.376529  0.404541   \n",
       "0.[0.25,0.38]         106            1975      2081  0.245252  0.376529   \n",
       "\n",
       "               ReadmittedRate_pct      Lift  \n",
       "Decile                                       \n",
       "9.(0.62,0.76]            0.135096  1.350962  \n",
       "8.(0.58,0.62]            0.130706  1.307064  \n",
       "7.(0.54,0.58]            0.114904  1.149038  \n",
       "6.(0.50,0.54]            0.108654  1.086538  \n",
       "5.(0.47,0.50]            0.088462  0.884615  \n",
       "4.(0.45,0.47]            0.075962  0.759615  \n",
       "3.(0.43,0.45]            0.070673  0.706731  \n",
       "2.(0.40,0.43]            0.075481  0.754808  \n",
       "1.(0.38,0.40]            0.061058  0.610577  \n",
       "0.[0.25,0.38]            0.050937  0.509370  "
      ]
     },
     "execution_count": 404,
     "metadata": {},
     "output_type": "execute_result"
    }
   ],
   "source": [
    "\n",
    "prange,bins = pd.qcut(predictions['prob_readmitted'],10,retbins=True)\n",
    "\n",
    "bins[0]  -= 0.001\n",
    "bins[-1] += 0.001\n",
    "\n",
    "bins_labels = ['%d.(%0.2f,%0.2f]'%(x[0],x[1][0],x[1][1]) for x in enumerate(zip(bins[:-1],bins[1:]))]\n",
    "bins_labels[0]                 = bins_labels[0].replace('(','[')\n",
    "\n",
    "predictions['Decile']          = pd.cut(predictions['prob_readmitted'],bins=bins,labels=bins_labels)\n",
    "predictions['Patients']        = 1\n",
    "predictions['Not_Readmitted']  = 1-predictions['readmitted']\n",
    "predictions['Readmitted']      =   predictions['readmitted']\n",
    "predictions['Prob_Min']        = prange.apply(lambda x : x.left)\n",
    "predictions['Prob_Max']        = prange.apply(lambda x : x.right)\n",
    "    \n",
    "summary  = predictions.groupby(['Decile'])[['Readmitted','Not_Readmitted','Patients','Prob_Min','Prob_Max']].sum()\n",
    "# summary['Prob_MinMax'] = ['%0.2f - %0.2f'%(x[1][0],x[1][1]) for x in enumerate(zip(bins[:-1],bins[1:]))]\n",
    "summary['Prob_Min']    = [x for x in bins[:-1]]\n",
    "summary['Prob_Max']    = [x for x in bins[1: ]]\n",
    "\n",
    "summary  = summary.sort_index(ascending=False)\n",
    "\n",
    "    \n",
    "summary['ReadmittedRate_pct']  =summary['Readmitted']/summary['Patients']\n",
    "summary['Lift'] = (summary['Readmitted']/summary['Patients'])/.10\n",
    "summary"
   ]
  },
  {
   "cell_type": "code",
   "execution_count": 405,
   "metadata": {},
   "outputs": [
    {
     "data": {
      "text/plain": [
       "array([[11691,  7214],\n",
       "       [  889,  1008]])"
      ]
     },
     "execution_count": 405,
     "metadata": {},
     "output_type": "execute_result"
    }
   ],
   "source": [
    "confusion_matrix(predictions['readmitted'],predictions['predicted'])"
   ]
  },
  {
   "cell_type": "code",
   "execution_count": 406,
   "metadata": {},
   "outputs": [
    {
     "data": {
      "text/plain": [
       "[Text(0, 0, '0.[0.25,0.38]'),\n",
       " Text(0, 0, '1.(0.38,0.40]'),\n",
       " Text(0, 0, '2.(0.40,0.43]'),\n",
       " Text(0, 0, '3.(0.43,0.45]'),\n",
       " Text(0, 0, '4.(0.45,0.47]'),\n",
       " Text(0, 0, '5.(0.47,0.50]'),\n",
       " Text(0, 0, '6.(0.50,0.54]'),\n",
       " Text(0, 0, '7.(0.54,0.58]'),\n",
       " Text(0, 0, '8.(0.58,0.62]'),\n",
       " Text(0, 0, '9.(0.62,0.76]')]"
      ]
     },
     "execution_count": 406,
     "metadata": {},
     "output_type": "execute_result"
    },
    {
     "data": {
      "image/png": "[encoded data removed]",
      "text/plain": [
       "<Figure size 432x288 with 1 Axes>"
      ]
     },
     "metadata": {
      "needs_background": "light"
     },
     "output_type": "display_data"
    }
   ],
   "source": [
    "ax = sns.barplot(x=summary.index, y=summary.ReadmittedRate_pct, data=summary,palette=\"Blues_d\")\n",
    "ax.set_xticklabels(ax.get_xticklabels(), rotation=40, ha=\"right\")\n"
   ]
  },
  {
   "cell_type": "markdown",
   "metadata": {},
   "source": [
    "### Bootstrapping and SMOTE Synthetic Minority Over-Sampling Technique\n",
    "- Upsampling minory class to create balanced dataset\n",
    "- *conda install -c conda-forge imbalanced-learn*"
   ]
  },
  {
   "cell_type": "code",
   "execution_count": 408,
   "metadata": {},
   "outputs": [
    {
     "name": "stdout",
     "output_type": "stream",
     "text": [
      "Resamplig Data with SMOTE\n",
      "Original dataset shape 48538\n",
      "Resampled dataset shape 48538\n"
     ]
    }
   ],
   "source": [
    "from imblearn               import under_sampling, over_sampling\n",
    "from imblearn.over_sampling import SMOTE\n",
    "\n",
    "smote_ = SMOTE(random_state=42)\n",
    "\n",
    "print('Resamplig Data with SMOTE')\n",
    "X_res, y_res = smote_.fit_resample(X_train, y_train)\n",
    "\n",
    "print('Original dataset shape %s'% y_train.shape[0])\n",
    "print('Resampled dataset shape %s'% y_train.shape[0])"
   ]
  },
  {
   "cell_type": "code",
   "execution_count": 409,
   "metadata": {},
   "outputs": [
    {
     "name": "stdout",
     "output_type": "stream",
     "text": [
      "              precision    recall  f1-score   support\n",
      "\n",
      "           0       0.91      0.81      0.86     18905\n",
      "           1       0.10      0.21      0.14      1897\n",
      "\n",
      "    accuracy                           0.76     20802\n",
      "   macro avg       0.51      0.51      0.50     20802\n",
      "weighted avg       0.84      0.76      0.79     20802\n",
      "\n"
     ]
    }
   ],
   "source": [
    "# Run Logistic Regression on the upsampled balanced train dataset\n",
    "\n",
    "diab_logit_res = LogisticRegression(solver='liblinear') \n",
    "\n",
    "diab_logit_res.fit(X_res,y_res)\n",
    "\n",
    "y_pred_res = diab_logit_res.predict(X_test)\n",
    "\n",
    "print(classification_report(y_test, y_pred_res))\n"
   ]
  },
  {
   "cell_type": "code",
   "execution_count": null,
   "metadata": {},
   "outputs": [],
   "source": []
  },
  {
   "cell_type": "markdown",
   "metadata": {},
   "source": [
    "## Model Evaluation\n",
    "- **Confusion Matrix**: a table showing correct predictions and types of incorrect predictions.\n",
    "\n",
    "- **Accuracy**: Algorithms are designed to maximize accuracy and reduce error. \n",
    "    ***Not good for imbalanced dataset*** \n",
    "    \n",
    "    \n",
    "- **Precision**: the number of true positives divided by all positive prediction.\n",
    "\n",
    "    Precision = True Positive / True Positive + False Positive\n",
    "    \n",
    "    Precision is also called Positive Predictive Value. It is a measure of \n",
    "    classifier’s exactness. Low precision indicates a high number of false positives.\n",
    "    \n",
    "- **Recall**: the number of true positives divided by the number of positive values in the test data. Recall is also called Sensitivity or the True Positive Rate. It is a measure of a classifier’s completeness. Low recall indicates a high number of false negatives.\n",
    "-\n",
    "- **F1 Score**: the weighted average of precision and recall."
   ]
  },
  {
   "cell_type": "code",
   "execution_count": 410,
   "metadata": {},
   "outputs": [
    {
     "data": {
      "image/png": "[encoded data removed]",
      "text/plain": [
       "<Figure size 432x288 with 2 Axes>"
      ]
     },
     "metadata": {
      "needs_background": "light"
     },
     "output_type": "display_data"
    }
   ],
   "source": [
    "conf_matrix = confusion_matrix(y_test,y_pred_res )\n",
    "labels = ['Class 0', 'Class 1']\n",
    "fig = plt.figure()\n",
    "ax  = fig.add_subplot(111)\n",
    "cax = ax.matshow(conf_matrix, cmap=plt.cm.Blues)\n",
    "\n",
    "fig.colorbar(cax)\n",
    "ax.set_xticklabels([''] + labels)\n",
    "ax.set_yticklabels([''] + labels)\n",
    "plt.ylabel('True Values')\n",
    "plt.xlabel('Predicted')\n",
    "plt.show()"
   ]
  },
  {
   "cell_type": "code",
   "execution_count": 411,
   "metadata": {},
   "outputs": [
    {
     "data": {
      "text/plain": [
       "array([[11691,  7214],\n",
       "       [  889,  1008]])"
      ]
     },
     "execution_count": 411,
     "metadata": {},
     "output_type": "execute_result"
    }
   ],
   "source": [
    "confusion_matrix(y_test,y_pred)"
   ]
  },
  {
   "cell_type": "code",
   "execution_count": 412,
   "metadata": {},
   "outputs": [
    {
     "name": "stdout",
     "output_type": "stream",
     "text": [
      "              precision    recall  f1-score   support\n",
      "\n",
      "           0       0.93      0.62      0.74     18905\n",
      "           1       0.12      0.53      0.20      1897\n",
      "\n",
      "    accuracy                           0.61     20802\n",
      "   macro avg       0.53      0.57      0.47     20802\n",
      "weighted avg       0.86      0.61      0.69     20802\n",
      "\n"
     ]
    }
   ],
   "source": [
    "\n",
    "print(classification_report(y_test, y_pred))"
   ]
  },
  {
   "cell_type": "code",
   "execution_count": 413,
   "metadata": {},
   "outputs": [
    {
     "name": "stdout",
     "output_type": "stream",
     "text": [
      "Treshold [2 1 0]\n"
     ]
    },
    {
     "data": {
      "image/png": "[encoded data removed]",
      "text/plain": [
       "<Figure size 432x288 with 1 Axes>"
      ]
     },
     "metadata": {
      "needs_background": "light"
     },
     "output_type": "display_data"
    }
   ],
   "source": [
    "from sklearn.metrics import roc_curve, auc\n",
    "import matplotlib.pyplot as plt\n",
    "\n",
    "fpr, tpr, treshold = roc_curve(y_test, y_pred)\n",
    "print('Treshold {}'.format(treshold))\n",
    "roc_auc  = auc(fpr, tpr)\n",
    "\n",
    "plt.figure()\n",
    "lw = 2\n",
    "plt.plot(fpr, tpr, color='lightblue',\n",
    "         lw=lw, label='ROC curve (area = %0.2f)' % roc_auc)\n",
    "plt.plot([0, 1], [0, 1], color='navy', lw=lw, linestyle='--')\n",
    "plt.xlim([0.0, 1.0])\n",
    "plt.ylim([0.0, 1.05])\n",
    "plt.xlabel('False Positive Rate')\n",
    "plt.ylabel('True  Positive Rate')\n",
    "plt.title('Receiver Operating Characteristic of Diabetes')\n",
    "plt.legend(loc='lower right')\n",
    "plt.show()"
   ]
  },
  {
   "cell_type": "code",
   "execution_count": null,
   "metadata": {},
   "outputs": [],
   "source": []
  },
  {
   "cell_type": "markdown",
   "metadata": {},
   "source": [
    "## Significance of Coefficients "
   ]
  },
  {
   "cell_type": "code",
   "execution_count": 414,
   "metadata": {},
   "outputs": [
    {
     "name": "stderr",
     "output_type": "stream",
     "text": [
      "/Users/karolylajko/opt/anaconda3/lib/python3.7/site-packages/numpy/core/fromnumeric.py:2495: FutureWarning: Method .ptp is deprecated and will be removed in a future version. Use numpy.ptp instead.\n",
      "  return ptp(axis=axis, out=out, **kwargs)\n"
     ]
    },
    {
     "name": "stdout",
     "output_type": "stream",
     "text": [
      "Optimization terminated successfully.\n",
      "         Current function value: 0.303477\n",
      "         Iterations 7\n"
     ]
    }
   ],
   "source": [
    "import statsmodels.api as sm \n",
    "\n",
    "X_add_const_res = sm.add_constant(X_train)\n",
    "sm_logit        = sm.Logit(y_train, X_train)\n",
    "ans             = sm_logit.fit()\n",
    "# print(ans.summary())"
   ]
  },
  {
   "cell_type": "code",
   "execution_count": 415,
   "metadata": {},
   "outputs": [
    {
     "data": {
      "text/html": [
       "<div>\n",
       "<style scoped>\n",
       "    .dataframe tbody tr th:only-of-type {\n",
       "        vertical-align: middle;\n",
       "    }\n",
       "\n",
       "    .dataframe tbody tr th {\n",
       "        vertical-align: top;\n",
       "    }\n",
       "\n",
       "    .dataframe thead th {\n",
       "        text-align: right;\n",
       "    }\n",
       "</style>\n",
       "<table border=\"1\" class=\"dataframe\">\n",
       "  <thead>\n",
       "    <tr style=\"text-align: right;\">\n",
       "      <th></th>\n",
       "      <th>name</th>\n",
       "      <th>coef</th>\n",
       "      <th>std err</th>\n",
       "      <th>t value</th>\n",
       "      <th>p value</th>\n",
       "      <th>2.5% confidence</th>\n",
       "      <th>97.5% confidence</th>\n",
       "    </tr>\n",
       "  </thead>\n",
       "  <tbody>\n",
       "    <tr>\n",
       "      <td>0</td>\n",
       "      <td>time_in_hospital</td>\n",
       "      <td>0.0194</td>\n",
       "      <td>0.006</td>\n",
       "      <td>3.125</td>\n",
       "      <td>0.002</td>\n",
       "      <td>0.007</td>\n",
       "      <td>0.032</td>\n",
       "    </tr>\n",
       "    <tr>\n",
       "      <td>1</td>\n",
       "      <td>num_medications</td>\n",
       "      <td>-0.0055</td>\n",
       "      <td>0.002</td>\n",
       "      <td>-2.488</td>\n",
       "      <td>0.013</td>\n",
       "      <td>-0.010</td>\n",
       "      <td>-0.001</td>\n",
       "    </tr>\n",
       "    <tr>\n",
       "      <td>2</td>\n",
       "      <td>newage</td>\n",
       "      <td>-0.0122</td>\n",
       "      <td>0.001</td>\n",
       "      <td>-13.299</td>\n",
       "      <td>0.000</td>\n",
       "      <td>-0.014</td>\n",
       "      <td>-0.010</td>\n",
       "    </tr>\n",
       "    <tr>\n",
       "      <td>3</td>\n",
       "      <td>class1_circulatory</td>\n",
       "      <td>-0.6091</td>\n",
       "      <td>0.054</td>\n",
       "      <td>-11.346</td>\n",
       "      <td>0.000</td>\n",
       "      <td>-0.714</td>\n",
       "      <td>-0.504</td>\n",
       "    </tr>\n",
       "    <tr>\n",
       "      <td>4</td>\n",
       "      <td>class1_digestive</td>\n",
       "      <td>-0.6998</td>\n",
       "      <td>0.072</td>\n",
       "      <td>-9.750</td>\n",
       "      <td>0.000</td>\n",
       "      <td>-0.840</td>\n",
       "      <td>-0.559</td>\n",
       "    </tr>\n",
       "    <tr>\n",
       "      <td>5</td>\n",
       "      <td>class1_genitourinary</td>\n",
       "      <td>-0.6364</td>\n",
       "      <td>0.086</td>\n",
       "      <td>-7.441</td>\n",
       "      <td>0.000</td>\n",
       "      <td>-0.804</td>\n",
       "      <td>-0.469</td>\n",
       "    </tr>\n",
       "    <tr>\n",
       "      <td>6</td>\n",
       "      <td>class1_injury</td>\n",
       "      <td>-0.4762</td>\n",
       "      <td>0.073</td>\n",
       "      <td>-6.510</td>\n",
       "      <td>0.000</td>\n",
       "      <td>-0.620</td>\n",
       "      <td>-0.333</td>\n",
       "    </tr>\n",
       "    <tr>\n",
       "      <td>7</td>\n",
       "      <td>class1_musculoskeletal</td>\n",
       "      <td>-0.8028</td>\n",
       "      <td>0.089</td>\n",
       "      <td>-8.991</td>\n",
       "      <td>0.000</td>\n",
       "      <td>-0.978</td>\n",
       "      <td>-0.628</td>\n",
       "    </tr>\n",
       "    <tr>\n",
       "      <td>8</td>\n",
       "      <td>class1_neoplasms</td>\n",
       "      <td>-0.6689</td>\n",
       "      <td>0.061</td>\n",
       "      <td>-10.899</td>\n",
       "      <td>0.000</td>\n",
       "      <td>-0.789</td>\n",
       "      <td>-0.549</td>\n",
       "    </tr>\n",
       "    <tr>\n",
       "      <td>9</td>\n",
       "      <td>class1_other</td>\n",
       "      <td>-0.4964</td>\n",
       "      <td>0.073</td>\n",
       "      <td>-6.754</td>\n",
       "      <td>0.000</td>\n",
       "      <td>-0.640</td>\n",
       "      <td>-0.352</td>\n",
       "    </tr>\n",
       "    <tr>\n",
       "      <td>10</td>\n",
       "      <td>class1_respiratory</td>\n",
       "      <td>-0.8523</td>\n",
       "      <td>0.065</td>\n",
       "      <td>-13.099</td>\n",
       "      <td>0.000</td>\n",
       "      <td>-0.980</td>\n",
       "      <td>-0.725</td>\n",
       "    </tr>\n",
       "    <tr>\n",
       "      <td>11</td>\n",
       "      <td>class3_Caucasian</td>\n",
       "      <td>-0.1500</td>\n",
       "      <td>0.039</td>\n",
       "      <td>-3.824</td>\n",
       "      <td>0.000</td>\n",
       "      <td>-0.227</td>\n",
       "      <td>-0.073</td>\n",
       "    </tr>\n",
       "    <tr>\n",
       "      <td>12</td>\n",
       "      <td>class3_Missing</td>\n",
       "      <td>-0.2482</td>\n",
       "      <td>0.111</td>\n",
       "      <td>-2.244</td>\n",
       "      <td>0.025</td>\n",
       "      <td>-0.465</td>\n",
       "      <td>-0.031</td>\n",
       "    </tr>\n",
       "    <tr>\n",
       "      <td>13</td>\n",
       "      <td>class3_Other</td>\n",
       "      <td>-0.4066</td>\n",
       "      <td>0.089</td>\n",
       "      <td>-4.584</td>\n",
       "      <td>0.000</td>\n",
       "      <td>-0.580</td>\n",
       "      <td>-0.233</td>\n",
       "    </tr>\n",
       "    <tr>\n",
       "      <td>14</td>\n",
       "      <td>class4_General Practice</td>\n",
       "      <td>-0.7610</td>\n",
       "      <td>0.071</td>\n",
       "      <td>-10.664</td>\n",
       "      <td>0.000</td>\n",
       "      <td>-0.901</td>\n",
       "      <td>-0.621</td>\n",
       "    </tr>\n",
       "    <tr>\n",
       "      <td>15</td>\n",
       "      <td>class4_Internal Medicine</td>\n",
       "      <td>-0.7909</td>\n",
       "      <td>0.060</td>\n",
       "      <td>-13.242</td>\n",
       "      <td>0.000</td>\n",
       "      <td>-0.908</td>\n",
       "      <td>-0.674</td>\n",
       "    </tr>\n",
       "    <tr>\n",
       "      <td>16</td>\n",
       "      <td>class4_Other</td>\n",
       "      <td>-0.9551</td>\n",
       "      <td>0.049</td>\n",
       "      <td>-19.660</td>\n",
       "      <td>0.000</td>\n",
       "      <td>-1.050</td>\n",
       "      <td>-0.860</td>\n",
       "    </tr>\n",
       "    <tr>\n",
       "      <td>17</td>\n",
       "      <td>class4_Surgery</td>\n",
       "      <td>-0.9933</td>\n",
       "      <td>0.088</td>\n",
       "      <td>-11.275</td>\n",
       "      <td>0.000</td>\n",
       "      <td>-1.166</td>\n",
       "      <td>-0.821</td>\n",
       "    </tr>\n",
       "    <tr>\n",
       "      <td>18</td>\n",
       "      <td>class6_other</td>\n",
       "      <td>0.6516</td>\n",
       "      <td>0.035</td>\n",
       "      <td>18.561</td>\n",
       "      <td>0.000</td>\n",
       "      <td>0.583</td>\n",
       "      <td>0.720</td>\n",
       "    </tr>\n",
       "    <tr>\n",
       "      <td>20</td>\n",
       "      <td>class7_hospital</td>\n",
       "      <td>-0.3724</td>\n",
       "      <td>0.091</td>\n",
       "      <td>-4.111</td>\n",
       "      <td>0.000</td>\n",
       "      <td>-0.550</td>\n",
       "      <td>-0.195</td>\n",
       "    </tr>\n",
       "    <tr>\n",
       "      <td>21</td>\n",
       "      <td>class7_other</td>\n",
       "      <td>-0.3000</td>\n",
       "      <td>0.061</td>\n",
       "      <td>-4.907</td>\n",
       "      <td>0.000</td>\n",
       "      <td>-0.420</td>\n",
       "      <td>-0.180</td>\n",
       "    </tr>\n",
       "    <tr>\n",
       "      <td>22</td>\n",
       "      <td>class7_phys_ref</td>\n",
       "      <td>-0.2308</td>\n",
       "      <td>0.038</td>\n",
       "      <td>-6.034</td>\n",
       "      <td>0.000</td>\n",
       "      <td>-0.306</td>\n",
       "      <td>-0.156</td>\n",
       "    </tr>\n",
       "    <tr>\n",
       "      <td>23</td>\n",
       "      <td>class7_snf</td>\n",
       "      <td>-0.3146</td>\n",
       "      <td>0.111</td>\n",
       "      <td>-2.824</td>\n",
       "      <td>0.005</td>\n",
       "      <td>-0.533</td>\n",
       "      <td>-0.096</td>\n",
       "    </tr>\n",
       "    <tr>\n",
       "      <td>24</td>\n",
       "      <td>class8_&gt;7</td>\n",
       "      <td>-0.1990</td>\n",
       "      <td>0.085</td>\n",
       "      <td>-2.352</td>\n",
       "      <td>0.019</td>\n",
       "      <td>-0.365</td>\n",
       "      <td>-0.033</td>\n",
       "    </tr>\n",
       "    <tr>\n",
       "      <td>25</td>\n",
       "      <td>class8_&gt;8</td>\n",
       "      <td>-0.4395</td>\n",
       "      <td>0.060</td>\n",
       "      <td>-7.276</td>\n",
       "      <td>0.000</td>\n",
       "      <td>-0.558</td>\n",
       "      <td>-0.321</td>\n",
       "    </tr>\n",
       "    <tr>\n",
       "      <td>26</td>\n",
       "      <td>class8_Norm</td>\n",
       "      <td>-0.2751</td>\n",
       "      <td>0.074</td>\n",
       "      <td>-3.713</td>\n",
       "      <td>0.000</td>\n",
       "      <td>-0.420</td>\n",
       "      <td>-0.130</td>\n",
       "    </tr>\n",
       "  </tbody>\n",
       "</table>\n",
       "</div>"
      ],
      "text/plain": [
       "                        name    coef  std err  t value  p value  \\\n",
       "0           time_in_hospital  0.0194    0.006    3.125    0.002   \n",
       "1            num_medications -0.0055    0.002   -2.488    0.013   \n",
       "2                     newage -0.0122    0.001  -13.299    0.000   \n",
       "3         class1_circulatory -0.6091    0.054  -11.346    0.000   \n",
       "4           class1_digestive -0.6998    0.072   -9.750    0.000   \n",
       "5       class1_genitourinary -0.6364    0.086   -7.441    0.000   \n",
       "6              class1_injury -0.4762    0.073   -6.510    0.000   \n",
       "7     class1_musculoskeletal -0.8028    0.089   -8.991    0.000   \n",
       "8           class1_neoplasms -0.6689    0.061  -10.899    0.000   \n",
       "9               class1_other -0.4964    0.073   -6.754    0.000   \n",
       "10        class1_respiratory -0.8523    0.065  -13.099    0.000   \n",
       "11          class3_Caucasian -0.1500    0.039   -3.824    0.000   \n",
       "12            class3_Missing -0.2482    0.111   -2.244    0.025   \n",
       "13              class3_Other -0.4066    0.089   -4.584    0.000   \n",
       "14   class4_General Practice -0.7610    0.071  -10.664    0.000   \n",
       "15  class4_Internal Medicine -0.7909    0.060  -13.242    0.000   \n",
       "16              class4_Other -0.9551    0.049  -19.660    0.000   \n",
       "17            class4_Surgery -0.9933    0.088  -11.275    0.000   \n",
       "18              class6_other  0.6516    0.035   18.561    0.000   \n",
       "20           class7_hospital -0.3724    0.091   -4.111    0.000   \n",
       "21              class7_other -0.3000    0.061   -4.907    0.000   \n",
       "22           class7_phys_ref -0.2308    0.038   -6.034    0.000   \n",
       "23                class7_snf -0.3146    0.111   -2.824    0.005   \n",
       "24                 class8_>7 -0.1990    0.085   -2.352    0.019   \n",
       "25                 class8_>8 -0.4395    0.060   -7.276    0.000   \n",
       "26               class8_Norm -0.2751    0.074   -3.713    0.000   \n",
       "\n",
       "    2.5% confidence  97.5% confidence  \n",
       "0             0.007             0.032  \n",
       "1            -0.010            -0.001  \n",
       "2            -0.014            -0.010  \n",
       "3            -0.714            -0.504  \n",
       "4            -0.840            -0.559  \n",
       "5            -0.804            -0.469  \n",
       "6            -0.620            -0.333  \n",
       "7            -0.978            -0.628  \n",
       "8            -0.789            -0.549  \n",
       "9            -0.640            -0.352  \n",
       "10           -0.980            -0.725  \n",
       "11           -0.227            -0.073  \n",
       "12           -0.465            -0.031  \n",
       "13           -0.580            -0.233  \n",
       "14           -0.901            -0.621  \n",
       "15           -0.908            -0.674  \n",
       "16           -1.050            -0.860  \n",
       "17           -1.166            -0.821  \n",
       "18            0.583             0.720  \n",
       "20           -0.550            -0.195  \n",
       "21           -0.420            -0.180  \n",
       "22           -0.306            -0.156  \n",
       "23           -0.533            -0.096  \n",
       "24           -0.365            -0.033  \n",
       "25           -0.558            -0.321  \n",
       "26           -0.420            -0.130  "
      ]
     },
     "execution_count": 415,
     "metadata": {},
     "output_type": "execute_result"
    }
   ],
   "source": [
    "ans.summary().tables[1]\n",
    "\n",
    "table = pd.DataFrame(ans.summary().tables[1].data[1:])\n",
    "table.columns = ['name','coef','std err','t value','p value','2.5% confidence','97.5% confidence']\n",
    "table = table.astype({'name':str,'coef':float,'std err':float, 't value':float, 'p value':float,'2.5% confidence':float, '97.5% confidence':float})\n",
    "table[table['p value']<0.05]  # those coefficients with 0 lying outside their CIs\n"
   ]
  },
  {
   "cell_type": "code",
   "execution_count": null,
   "metadata": {},
   "outputs": [],
   "source": []
  }
 ],
 "metadata": {
  "kernelspec": {
   "display_name": "Python 3",
   "language": "python",
   "name": "python3"
  },
  "language_info": {
   "codemirror_mode": {
    "name": "ipython",
    "version": 3
   },
   "file_extension": ".py",
   "mimetype": "text/x-python",
   "name": "python",
   "nbconvert_exporter": "python",
   "pygments_lexer": "ipython3",
   "version": "3.7.4"
  }
 },
 "nbformat": 4,
 "nbformat_minor": 2
}
