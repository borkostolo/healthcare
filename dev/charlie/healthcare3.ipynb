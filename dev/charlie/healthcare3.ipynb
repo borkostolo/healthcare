{
 "cells": [
  {
   "cell_type": "markdown",
   "metadata": {},
   "source": [
    "## Libraries Used"
   ]
  },
  {
   "cell_type": "code",
   "execution_count": 852,
   "metadata": {},
   "outputs": [],
   "source": [
    "import numpy as np\n",
    "import pandas as pd\n",
    "import os\n",
    "import matplotlib.pyplot as plt\n",
    "import seaborn as sns\n",
    "\n"
   ]
  },
  {
   "cell_type": "code",
   "execution_count": 853,
   "metadata": {},
   "outputs": [
    {
     "data": {
      "text/plain": [
       "'/Users/karolylajko/Documents/Academy/DataScienceBootcamp2020/Projects/Capstone/HealthCare/data/dataset_diabetes'"
      ]
     },
     "execution_count": 853,
     "metadata": {},
     "output_type": "execute_result"
    }
   ],
   "source": [
    "os.getcwd()"
   ]
  },
  {
   "cell_type": "code",
   "execution_count": 854,
   "metadata": {},
   "outputs": [
    {
     "data": {
      "text/plain": [
       "['healthcare.ipynb',\n",
       " 'Load_Data_Diabetes and Initial EDA copy.ipynb',\n",
       " '.DS_Store',\n",
       " 'before_model_diabdata.csv',\n",
       " 'IDs_mapping.csv',\n",
       " 'Richard EDA .ipynb',\n",
       " 'diabetic_data.csv',\n",
       " 'before_dummies.csv',\n",
       " 'healthcare2.ipynb',\n",
       " '.ipynb_checkpoints']"
      ]
     },
     "execution_count": 854,
     "metadata": {},
     "output_type": "execute_result"
    }
   ],
   "source": [
    "os.listdir()"
   ]
  },
  {
   "cell_type": "markdown",
   "metadata": {},
   "source": [
    "## Helper Functions"
   ]
  },
  {
   "cell_type": "code",
   "execution_count": 855,
   "metadata": {},
   "outputs": [],
   "source": [
    "# Plot Correlation Matrix\n",
    "def plot_corr_matrix(df, nr_c, targ) :\n",
    "    \n",
    "    corr     = df.corr()\n",
    "    corr_abs = corr.abs()\n",
    "    cols     = corr_abs.nlargest(nr_c, targ)[targ].index\n",
    "    cm       = np.corrcoef(df[cols].values.T)\n",
    "\n",
    "    plt.figure(figsize=(nr_c/1.5, nr_c/1.5))\n",
    "    sns.set(font_scale=1.25)\n",
    "    sns.heatmap(cm, linewidths=1.5, annot=True, square=True, \n",
    "                fmt='.2f', annot_kws={'size': 12}, \n",
    "                yticklabels=cols.values, xticklabels=cols.values,cmap=\"OrRd\")\n",
    "    plt.show()\n",
    "\n",
    "# IDC9 codes to diseas \n",
    "def idc_to_group (idcnum):\n",
    "    # Hearth problems\n",
    "    # External injury and suppl. class - generate 4 digit number - eval to other\n",
    "    idcnum = idcnum.replace('V','9999').replace('E','9999').replace('?','9999')\n",
    "    idcnum = float(idcnum) \n",
    "    if   390 <= idcnum <= 459 or idcnum == 785:\n",
    "        diag = 'circulatory'\n",
    "    # Lung issues\n",
    "    elif 460 <= idcnum <= 519 or idcnum == 786:\n",
    "        diag = 'respiratory'\n",
    "    # Digestive - oral, stomac, abdominal, liver\n",
    "    elif 520 <= idcnum <= 579 or idcnum == 787:\n",
    "        diag = 'digestive'\n",
    "    # Diabetes\n",
    "    elif int(idcnum) == 250:\n",
    "        diag = 'diabetis'\n",
    "    # Injury or poisioning\n",
    "    elif 800 <= idcnum <= 999:\n",
    "        diag = 'injury'\n",
    "    # Musc. system or connective tissue\n",
    "    elif 710 <= idcnum <= 739:\n",
    "        diag = 'musculoskeletal'\n",
    "    # Kidney, urinary and genitals\n",
    "    elif 580 <= idcnum <= 629 or idcnum == 788:\n",
    "        diag = 'genitourinary'\n",
    "    # Abnormal tissue Growth\n",
    "    elif 140 <= idcnum <= 239 or idcnum in [780,781,782,784,790,791,792,793,794,795,796,797,798,799]:\n",
    "        diag = 'neoplasms' \n",
    "    # Metabolic, immunity issue with no diabetes\n",
    "    elif (240 <= idcnum <= 279 and idcnum != 250) or (680 <= idcnum <= 790):\n",
    "        diag = 'neoplasms'\n",
    "    elif 1 <= idcnum <= 139: \n",
    "        diag = 'neoplasms'\n",
    "     # Other    \n",
    "    else:\n",
    "        diag = 'other'   \n",
    "    return diag\n",
    "\n",
    "# Convert age range to age average\n",
    "def age_to_aveage (age):\n",
    "    ages = ['[0-10)','[10-20)','[20-30)','[30-40)','[40-50)','[50-60)','[60-70)','[70-80)','[80-90)','[90-100)']\n",
    "    newage = ages.index(age)*10+5\n",
    "    return newage\n",
    "\n",
    "# Dummify a categorical variable column\n",
    "# df - dataframe\n",
    "# var - variable/feature string\n",
    "# Prefix for dummies - string\n",
    "# def makedummies(df,var, pre_fix = 'Class'):\n",
    "#     Z = pd.get_dummies(df[var], prefix = pre_fix)\n",
    "#     df_dummified = pd.concat((df.drop(var,1,inplace=True), Z), axis=1)\n",
    "#     return df_dummified\n",
    "\n",
    "\n",
    "# Patient either transferred home (healthy) or other care continues\n",
    "def conv_disch_id(did):\n",
    "    try: \n",
    "        if    did == 1: \n",
    "            result = 'home'\n",
    "        else:\n",
    "            result = 'other'\n",
    "        return result\n",
    "    except ValueError:\n",
    "        print('Source ID must be interger!')\n",
    "        \n",
    "# Convert admission source ID to category groups\n",
    "def conv_adms_id(sid):\n",
    "    try: \n",
    "        if    sid == 7: \n",
    "            result = 'emergency'\n",
    "        elif  sid == 1:\n",
    "            result = 'phys_ref'\n",
    "        elif sid  == 4:\n",
    "            result = 'hospital'\n",
    "        elif sid ==  6:\n",
    "            result = 'snf'\n",
    "        elif sid ==  2:\n",
    "            result = 'clin_ref'\n",
    "        else:\n",
    "            result = 'other'\n",
    "        return result\n",
    "    except ValueError:\n",
    "        print('Source ID must be interger!')"
   ]
  },
  {
   "cell_type": "code",
   "execution_count": 856,
   "metadata": {},
   "outputs": [
    {
     "name": "stdout",
     "output_type": "stream",
     "text": [
      "Reading in CSV files\n"
     ]
    }
   ],
   "source": [
    "print('Reading in CSV files')\n",
    "diabdata = pd.read_csv('diabetic_data.csv')\n",
    "idmapping = pd.read_csv('IDs_mapping.csv')"
   ]
  },
  {
   "cell_type": "code",
   "execution_count": 857,
   "metadata": {},
   "outputs": [
    {
     "data": {
      "text/plain": [
       "1645"
      ]
     },
     "execution_count": 857,
     "metadata": {},
     "output_type": "execute_result"
    }
   ],
   "source": [
    "diabdata.diag_1.str.contains('V').sum()+ diabdata.diag_1.str.contains('E').sum()"
   ]
  },
  {
   "cell_type": "code",
   "execution_count": 858,
   "metadata": {},
   "outputs": [
    {
     "data": {
      "text/html": [
       "<div>\n",
       "<style scoped>\n",
       "    .dataframe tbody tr th:only-of-type {\n",
       "        vertical-align: middle;\n",
       "    }\n",
       "\n",
       "    .dataframe tbody tr th {\n",
       "        vertical-align: top;\n",
       "    }\n",
       "\n",
       "    .dataframe thead th {\n",
       "        text-align: right;\n",
       "    }\n",
       "</style>\n",
       "<table border=\"1\" class=\"dataframe\">\n",
       "  <thead>\n",
       "    <tr style=\"text-align: right;\">\n",
       "      <th></th>\n",
       "      <th>0</th>\n",
       "      <th>1</th>\n",
       "      <th>2</th>\n",
       "      <th>3</th>\n",
       "      <th>4</th>\n",
       "    </tr>\n",
       "  </thead>\n",
       "  <tbody>\n",
       "    <tr>\n",
       "      <td>encounter_id</td>\n",
       "      <td>2278392</td>\n",
       "      <td>149190</td>\n",
       "      <td>64410</td>\n",
       "      <td>500364</td>\n",
       "      <td>16680</td>\n",
       "    </tr>\n",
       "    <tr>\n",
       "      <td>patient_nbr</td>\n",
       "      <td>8222157</td>\n",
       "      <td>55629189</td>\n",
       "      <td>86047875</td>\n",
       "      <td>82442376</td>\n",
       "      <td>42519267</td>\n",
       "    </tr>\n",
       "    <tr>\n",
       "      <td>race</td>\n",
       "      <td>Caucasian</td>\n",
       "      <td>Caucasian</td>\n",
       "      <td>AfricanAmerican</td>\n",
       "      <td>Caucasian</td>\n",
       "      <td>Caucasian</td>\n",
       "    </tr>\n",
       "    <tr>\n",
       "      <td>gender</td>\n",
       "      <td>Female</td>\n",
       "      <td>Female</td>\n",
       "      <td>Female</td>\n",
       "      <td>Male</td>\n",
       "      <td>Male</td>\n",
       "    </tr>\n",
       "    <tr>\n",
       "      <td>age</td>\n",
       "      <td>[0-10)</td>\n",
       "      <td>[10-20)</td>\n",
       "      <td>[20-30)</td>\n",
       "      <td>[30-40)</td>\n",
       "      <td>[40-50)</td>\n",
       "    </tr>\n",
       "  </tbody>\n",
       "</table>\n",
       "</div>"
      ],
      "text/plain": [
       "                      0          1                2          3          4\n",
       "encounter_id    2278392     149190            64410     500364      16680\n",
       "patient_nbr     8222157   55629189         86047875   82442376   42519267\n",
       "race          Caucasian  Caucasian  AfricanAmerican  Caucasian  Caucasian\n",
       "gender           Female     Female           Female       Male       Male\n",
       "age              [0-10)    [10-20)          [20-30)    [30-40)    [40-50)"
      ]
     },
     "execution_count": 858,
     "metadata": {},
     "output_type": "execute_result"
    }
   ],
   "source": [
    "diabdata.head().transpose().head()"
   ]
  },
  {
   "cell_type": "code",
   "execution_count": 859,
   "metadata": {},
   "outputs": [
    {
     "data": {
      "text/plain": [
       "30506    Unknown/Invalid\n",
       "75551    Unknown/Invalid\n",
       "82573    Unknown/Invalid\n",
       "Name: gender, dtype: object"
      ]
     },
     "execution_count": 859,
     "metadata": {},
     "output_type": "execute_result"
    }
   ],
   "source": [
    "diabdata[(diabdata['gender']!='Male') & (diabdata['gender']!='Female')]['gender']"
   ]
  },
  {
   "cell_type": "code",
   "execution_count": 860,
   "metadata": {},
   "outputs": [],
   "source": [
    "# Generating the indexes for the numerical and categorical variables\n",
    "categorical_idx = diabdata.dtypes[diabdata.dtypes=='object'].index\n",
    "numerical_idx   = diabdata.dtypes[diabdata.dtypes!='object'].index"
   ]
  },
  {
   "cell_type": "code",
   "execution_count": 861,
   "metadata": {},
   "outputs": [
    {
     "name": "stdout",
     "output_type": "stream",
     "text": [
      "The unique number of patients, keep only these rows? \n"
     ]
    },
    {
     "data": {
      "text/plain": [
       "71518"
      ]
     },
     "execution_count": 861,
     "metadata": {},
     "output_type": "execute_result"
    }
   ],
   "source": [
    "print('The unique number of patients, keep only these rows? ')\n",
    "diabdata.patient_nbr.value_counts().count()"
   ]
  },
  {
   "cell_type": "code",
   "execution_count": 862,
   "metadata": {},
   "outputs": [
    {
     "name": "stdout",
     "output_type": "stream",
     "text": [
      "The number of unique patient ids\n"
     ]
    },
    {
     "data": {
      "text/plain": [
       "71518"
      ]
     },
     "execution_count": 862,
     "metadata": {},
     "output_type": "execute_result"
    }
   ],
   "source": [
    "print('The number of unique patient ids')\n",
    "diabdata.drop_duplicates(subset= ['patient_nbr'], keep = 'first')['patient_nbr'].count()"
   ]
  },
  {
   "cell_type": "markdown",
   "metadata": {},
   "source": [
    "## Feature Overview"
   ]
  },
  {
   "cell_type": "code",
   "execution_count": 863,
   "metadata": {},
   "outputs": [
    {
     "data": {
      "text/plain": [
       "<matplotlib.axes._subplots.AxesSubplot at 0x1a41abfe10>"
      ]
     },
     "execution_count": 863,
     "metadata": {},
     "output_type": "execute_result"
    },
    {
     "data": {
      "image/png": "[encoded data removed]",
      "text/plain": [
       "<Figure size 432x288 with 1 Axes>"
      ]
     },
     "metadata": {
      "needs_background": "light"
     },
     "output_type": "display_data"
    }
   ],
   "source": [
    "diabdata[['max_glu_serum','readmitted']].groupby(['max_glu_serum']).count().plot.bar()"
   ]
  },
  {
   "cell_type": "code",
   "execution_count": 864,
   "metadata": {},
   "outputs": [
    {
     "data": {
      "text/plain": [
       "None    96420\n",
       "Norm     2597\n",
       ">200     1485\n",
       ">300     1264\n",
       "Name: max_glu_serum, dtype: int64"
      ]
     },
     "execution_count": 864,
     "metadata": {},
     "output_type": "execute_result"
    }
   ],
   "source": [
    "diabdata['max_glu_serum'].value_counts()"
   ]
  },
  {
   "cell_type": "code",
   "execution_count": 865,
   "metadata": {},
   "outputs": [
    {
     "data": {
      "text/plain": [
       "['healthcare.ipynb',\n",
       " 'Load_Data_Diabetes and Initial EDA copy.ipynb',\n",
       " '.DS_Store',\n",
       " 'before_model_diabdata.csv',\n",
       " 'IDs_mapping.csv',\n",
       " 'Richard EDA .ipynb',\n",
       " 'diabetic_data.csv',\n",
       " 'before_dummies.csv',\n",
       " 'healthcare2.ipynb',\n",
       " '.ipynb_checkpoints']"
      ]
     },
     "execution_count": 865,
     "metadata": {},
     "output_type": "execute_result"
    }
   ],
   "source": [
    "os.listdir()"
   ]
  },
  {
   "cell_type": "code",
   "execution_count": 866,
   "metadata": {},
   "outputs": [
    {
     "data": {
      "text/plain": [
       "(101766, 50)"
      ]
     },
     "execution_count": 866,
     "metadata": {},
     "output_type": "execute_result"
    }
   ],
   "source": [
    "diabdata.shape"
   ]
  },
  {
   "cell_type": "code",
   "execution_count": 867,
   "metadata": {},
   "outputs": [
    {
     "data": {
      "text/plain": [
       "(67, 2)"
      ]
     },
     "execution_count": 867,
     "metadata": {},
     "output_type": "execute_result"
    }
   ],
   "source": [
    "idmapping.shape"
   ]
  },
  {
   "cell_type": "code",
   "execution_count": 868,
   "metadata": {},
   "outputs": [
    {
     "data": {
      "text/html": [
       "<div>\n",
       "<style scoped>\n",
       "    .dataframe tbody tr th:only-of-type {\n",
       "        vertical-align: middle;\n",
       "    }\n",
       "\n",
       "    .dataframe tbody tr th {\n",
       "        vertical-align: top;\n",
       "    }\n",
       "\n",
       "    .dataframe thead th {\n",
       "        text-align: right;\n",
       "    }\n",
       "</style>\n",
       "<table border=\"1\" class=\"dataframe\">\n",
       "  <thead>\n",
       "    <tr style=\"text-align: right;\">\n",
       "      <th></th>\n",
       "      <th>0</th>\n",
       "      <th>1</th>\n",
       "      <th>2</th>\n",
       "      <th>3</th>\n",
       "      <th>4</th>\n",
       "      <th>5</th>\n",
       "      <th>6</th>\n",
       "      <th>7</th>\n",
       "      <th>8</th>\n",
       "      <th>9</th>\n",
       "      <th>...</th>\n",
       "      <th>57</th>\n",
       "      <th>58</th>\n",
       "      <th>59</th>\n",
       "      <th>60</th>\n",
       "      <th>61</th>\n",
       "      <th>62</th>\n",
       "      <th>63</th>\n",
       "      <th>64</th>\n",
       "      <th>65</th>\n",
       "      <th>66</th>\n",
       "    </tr>\n",
       "  </thead>\n",
       "  <tbody>\n",
       "    <tr>\n",
       "      <td>admission_type_id</td>\n",
       "      <td>1</td>\n",
       "      <td>2</td>\n",
       "      <td>3</td>\n",
       "      <td>4</td>\n",
       "      <td>5</td>\n",
       "      <td>6</td>\n",
       "      <td>7</td>\n",
       "      <td>8</td>\n",
       "      <td>NaN</td>\n",
       "      <td>discharge_disposition_id</td>\n",
       "      <td>...</td>\n",
       "      <td>17</td>\n",
       "      <td>18</td>\n",
       "      <td>19</td>\n",
       "      <td>20</td>\n",
       "      <td>21</td>\n",
       "      <td>22</td>\n",
       "      <td>23</td>\n",
       "      <td>24</td>\n",
       "      <td>25</td>\n",
       "      <td>26</td>\n",
       "    </tr>\n",
       "    <tr>\n",
       "      <td>description</td>\n",
       "      <td>Emergency</td>\n",
       "      <td>Urgent</td>\n",
       "      <td>Elective</td>\n",
       "      <td>Newborn</td>\n",
       "      <td>Not Available</td>\n",
       "      <td>NaN</td>\n",
       "      <td>Trauma Center</td>\n",
       "      <td>Not Mapped</td>\n",
       "      <td>NaN</td>\n",
       "      <td>description</td>\n",
       "      <td>...</td>\n",
       "      <td>NaN</td>\n",
       "      <td>Transfer From Another Home Health Agency</td>\n",
       "      <td>Readmission to Same Home Health Agency</td>\n",
       "      <td>Not Mapped</td>\n",
       "      <td>Unknown/Invalid</td>\n",
       "      <td>Transfer from hospital inpt/same fac reslt in...</td>\n",
       "      <td>Born inside this hospital</td>\n",
       "      <td>Born outside this hospital</td>\n",
       "      <td>Transfer from Ambulatory Surgery Center</td>\n",
       "      <td>Transfer from Hospice</td>\n",
       "    </tr>\n",
       "  </tbody>\n",
       "</table>\n",
       "<p>2 rows × 67 columns</p>\n",
       "</div>"
      ],
      "text/plain": [
       "                          0       1         2        3              4    5   \\\n",
       "admission_type_id          1       2         3        4              5    6   \n",
       "description        Emergency  Urgent  Elective  Newborn  Not Available  NaN   \n",
       "\n",
       "                              6           7    8                         9   \\\n",
       "admission_type_id              7           8  NaN  discharge_disposition_id   \n",
       "description        Trauma Center  Not Mapped  NaN               description   \n",
       "\n",
       "                   ...   57                                         58  \\\n",
       "admission_type_id  ...   17                                         18   \n",
       "description        ...  NaN   Transfer From Another Home Health Agency   \n",
       "\n",
       "                                                       59           60  \\\n",
       "admission_type_id                                      19           20   \n",
       "description        Readmission to Same Home Health Agency   Not Mapped   \n",
       "\n",
       "                                61  \\\n",
       "admission_type_id               21   \n",
       "description        Unknown/Invalid   \n",
       "\n",
       "                                                                  62  \\\n",
       "admission_type_id                                                 22   \n",
       "description         Transfer from hospital inpt/same fac reslt in...   \n",
       "\n",
       "                                           63                           64  \\\n",
       "admission_type_id                          23                           24   \n",
       "description         Born inside this hospital   Born outside this hospital   \n",
       "\n",
       "                                                         65  \\\n",
       "admission_type_id                                        25   \n",
       "description         Transfer from Ambulatory Surgery Center   \n",
       "\n",
       "                                      66  \n",
       "admission_type_id                     26  \n",
       "description        Transfer from Hospice  \n",
       "\n",
       "[2 rows x 67 columns]"
      ]
     },
     "execution_count": 868,
     "metadata": {},
     "output_type": "execute_result"
    }
   ],
   "source": [
    "idmapping.transpose().head()"
   ]
  },
  {
   "cell_type": "markdown",
   "metadata": {},
   "source": [
    "## Jae Features"
   ]
  },
  {
   "cell_type": "code",
   "execution_count": 869,
   "metadata": {},
   "outputs": [],
   "source": [
    "# my_columns = '''encounter_id, patient_nbr, admission_type_id, \n",
    "# discharge_disposition_id, admission_source_id, time_in_hospital, \n",
    "# num_lab_procedures, num_procedures, num_medications, number_outpatient, \n",
    "# number_emergency, number_inpatient, number_diagnoses, readmitted\n",
    "# '''\n",
    "# my_columns = my_columns.split(',')\n",
    "# my_columns = [s.strip() for s in my_columns]\n",
    "# my_columns\n",
    "# set(my_columns) - set(diabdata.columns.tolist())"
   ]
  },
  {
   "cell_type": "code",
   "execution_count": 870,
   "metadata": {},
   "outputs": [],
   "source": [
    "# myDF = diabdata[my_columns]\n",
    "# myDF"
   ]
  },
  {
   "cell_type": "code",
   "execution_count": 871,
   "metadata": {},
   "outputs": [],
   "source": [
    "# myDF.isna().sum()"
   ]
  },
  {
   "cell_type": "code",
   "execution_count": 872,
   "metadata": {},
   "outputs": [
    {
     "name": "stdout",
     "output_type": "stream",
     "text": [
      "Dischage Reasons: \n"
     ]
    },
    {
     "data": {
      "text/plain": [
       "1     60234\n",
       "3     13954\n",
       "6     12902\n",
       "18     3691\n",
       "2      2128\n",
       "22     1993\n",
       "11     1642\n",
       "5      1184\n",
       "25      989\n",
       "4       815\n",
       "Name: discharge_disposition_id, dtype: int64"
      ]
     },
     "execution_count": 872,
     "metadata": {},
     "output_type": "execute_result"
    }
   ],
   "source": [
    "print('Dischage Reasons: ')\n",
    "\n",
    "diabdata.discharge_disposition_id.value_counts()[:10]"
   ]
  },
  {
   "cell_type": "markdown",
   "metadata": {},
   "source": [
    "### ID Fileds\n",
    "- The ID fields are integers but they are codes that need to be decoded and grouped into categories. Need one hot encoding after. \n",
    "\n",
    "admission_type_id: \n",
    "\n",
    " 1: 'Emergency',\n",
    " 2: 'Urgent',\n",
    " 3: 'Elective',\n",
    " 4: 'Newborn',\n",
    " 5: 'Not Available',\n",
    " 6: nan,\n",
    " 7: 'Trauma Center',\n",
    " 8: 'Not Mapped'\n",
    "\n",
    "discharge_disposition_id:\n",
    "\n",
    "1: Discharged to Home\n",
    "2: Another Hospital\n",
    "3: Transferred a Skilled Nurse Fascility (SNF)\n",
    "4: Transferred a Intensive Care Fasc. (ICF)\n",
    "5: Transferred a Impatient Care Inst.\n",
    "6: Transferred to Home with Home Health\n",
    "11: Expired/Death\n",
    "18: NULL\n",
    "25: Not Mapped\n",
    "\n",
    "admission_source_id:\n",
    "\n",
    "1: Physician Referral\n",
    "2: Clinic Referral\n",
    "3: HMO Referral\n",
    "4: Transfer from a hospital\n",
    "5: Transfer from a Skilled Nursing Facility (SNF)\n",
    "6: Transfer from another health care facility\n",
    "7: Emergency Room\n",
    "9: Not Available\n",
    "17: NULL\n",
    "20: Not Mapped\n",
    "\n"
   ]
  },
  {
   "cell_type": "code",
   "execution_count": 873,
   "metadata": {},
   "outputs": [
    {
     "data": {
      "text/plain": [
       "1     60234\n",
       "3     13954\n",
       "6     12902\n",
       "18     3691\n",
       "2      2128\n",
       "22     1993\n",
       "11     1642\n",
       "5      1184\n",
       "25      989\n",
       "4       815\n",
       "Name: discharge_disposition_id, dtype: int64"
      ]
     },
     "execution_count": 873,
     "metadata": {},
     "output_type": "execute_result"
    }
   ],
   "source": [
    "diabdata.discharge_disposition_id.value_counts()[:10]"
   ]
  },
  {
   "cell_type": "code",
   "execution_count": 874,
   "metadata": {},
   "outputs": [],
   "source": [
    "# # Patient either transferred home (healthy) or other care continues\n",
    "# def conv_disch_id(did):\n",
    "#     try: \n",
    "#         if    did == 1: \n",
    "#             result = 'home'\n",
    "#         else:\n",
    "#             result = 'other'\n",
    "#         return result\n",
    "#     except ValueError:\n",
    "#         print('Source ID must be interger!')"
   ]
  },
  {
   "cell_type": "code",
   "execution_count": 875,
   "metadata": {},
   "outputs": [],
   "source": [
    "# # Convert admission source ID to category groups\n",
    "# def conv_adms_id(sid):\n",
    "#     try: \n",
    "#         if    sid == 7: \n",
    "#             result = 'emergency'\n",
    "#         elif  sid == 1:\n",
    "#             result = 'phys_ref'\n",
    "#         elif sid  == 4:\n",
    "#             result = 'hospital'\n",
    "#         elif sid ==  6:\n",
    "#             result = 'snf'\n",
    "#         elif sid ==  2:\n",
    "#             result = 'clin_ref'\n",
    "#         else:\n",
    "#             result = 'other'\n",
    "#         return result\n",
    "#     except ValueError:\n",
    "#         print('Source ID must be interger!')"
   ]
  },
  {
   "cell_type": "code",
   "execution_count": 876,
   "metadata": {},
   "outputs": [
    {
     "data": {
      "text/plain": [
       "0          phys_ref\n",
       "1         emergency\n",
       "2         emergency\n",
       "3         emergency\n",
       "4         emergency\n",
       "            ...    \n",
       "101761    emergency\n",
       "101762        other\n",
       "101763    emergency\n",
       "101764    emergency\n",
       "101765    emergency\n",
       "Name: admission_source_id, Length: 101766, dtype: object"
      ]
     },
     "execution_count": 876,
     "metadata": {},
     "output_type": "execute_result"
    }
   ],
   "source": [
    "diabdata.admission_source_id.apply(lambda x: conv_adms_id(x))"
   ]
  },
  {
   "cell_type": "code",
   "execution_count": 877,
   "metadata": {},
   "outputs": [
    {
     "data": {
      "text/plain": [
       "0         other\n",
       "1          home\n",
       "2          home\n",
       "3          home\n",
       "4          home\n",
       "          ...  \n",
       "101761    other\n",
       "101762    other\n",
       "101763     home\n",
       "101764    other\n",
       "101765     home\n",
       "Name: discharge_disposition_id, Length: 101766, dtype: object"
      ]
     },
     "execution_count": 877,
     "metadata": {},
     "output_type": "execute_result"
    }
   ],
   "source": [
    "# Check if function works, non-mutating\n",
    "diabdata.discharge_disposition_id.apply(lambda x: conv_disch_id(x))"
   ]
  },
  {
   "cell_type": "code",
   "execution_count": 878,
   "metadata": {},
   "outputs": [
    {
     "data": {
      "text/plain": [
       "{1: 'Emergency',\n",
       " 2: 'Urgent',\n",
       " 3: 'Elective',\n",
       " 4: 'Newborn',\n",
       " 5: 'Not Available',\n",
       " 6: nan,\n",
       " 7: 'Trauma Center',\n",
       " 8: 'Not Mapped'}"
      ]
     },
     "execution_count": 878,
     "metadata": {},
     "output_type": "execute_result"
    }
   ],
   "source": [
    "# To map dictionary values to panda df columns keys set 1 -to - ID\n",
    "def fix_dict_keys(mydict):\n",
    "    j = 1\n",
    "    temp_dict={}\n",
    "    for key in mydict: \n",
    "        temp_dict[j] = mydict[key]\n",
    "        j+=1\n",
    "    return temp_dict\n",
    "# --------------------------------------------------\n",
    "# Extract the ID information from mapping data frame\n",
    "\n",
    "# admission_type_id\n",
    "ad_type_id_dict    = idmapping.iloc[0:8,]['description'].to_dict()\n",
    "\n",
    "# discharge_disposition_id\n",
    "discharge_id_dict  = idmapping.iloc[10:41,]['description'].to_dict()\n",
    "\n",
    "# admission_source_id\n",
    "adm_source_id_dict = idmapping.iloc[43:,]['description'].to_dict()\n",
    "\n",
    "map_adm_type     = fix_dict_keys(ad_type_id_dict)\n",
    "map_disch_type   = fix_dict_keys(discharge_id_dict)\n",
    "map_source_type  = fix_dict_keys(adm_source_id_dict)\n",
    "\n",
    "map_adm_type"
   ]
  },
  {
   "cell_type": "code",
   "execution_count": null,
   "metadata": {},
   "outputs": [],
   "source": []
  },
  {
   "cell_type": "code",
   "execution_count": null,
   "metadata": {},
   "outputs": [],
   "source": []
  },
  {
   "cell_type": "code",
   "execution_count": null,
   "metadata": {},
   "outputs": [],
   "source": []
  },
  {
   "cell_type": "markdown",
   "metadata": {},
   "source": [
    "## Univariate Data analysis\n",
    "- Analyzing the features induvidually"
   ]
  },
  {
   "cell_type": "code",
   "execution_count": 879,
   "metadata": {},
   "outputs": [
    {
     "name": "stdout",
     "output_type": "stream",
     "text": [
      "The target Variable Classes\n"
     ]
    },
    {
     "data": {
      "text/plain": [
       "NO     54864\n",
       ">30    35545\n",
       "<30    11357\n",
       "Name: readmitted, dtype: int64"
      ]
     },
     "execution_count": 879,
     "metadata": {},
     "output_type": "execute_result"
    }
   ],
   "source": [
    "print('The target Variable Classes')\n",
    "diabdata.readmitted.value_counts()"
   ]
  },
  {
   "cell_type": "code",
   "execution_count": 880,
   "metadata": {},
   "outputs": [
    {
     "data": {
      "text/plain": [
       "Yes    78363\n",
       "No     23403\n",
       "Name: diabetesMed, dtype: int64"
      ]
     },
     "execution_count": 880,
     "metadata": {},
     "output_type": "execute_result"
    }
   ],
   "source": [
    "diabdata.diabetesMed.value_counts()"
   ]
  },
  {
   "cell_type": "code",
   "execution_count": 881,
   "metadata": {},
   "outputs": [],
   "source": [
    "# Value distribution of categorical Variables\n",
    "\n",
    "# for col in diabdata.columns.tolist():\n",
    "#     print(diabdata[col].value_counts())"
   ]
  },
  {
   "cell_type": "code",
   "execution_count": null,
   "metadata": {},
   "outputs": [],
   "source": []
  },
  {
   "cell_type": "code",
   "execution_count": 882,
   "metadata": {},
   "outputs": [
    {
     "name": "stdout",
     "output_type": "stream",
     "text": [
      "Numerous categorical features\n"
     ]
    }
   ],
   "source": [
    "print('Numerous categorical features')\n",
    "# diabdata.dtypes"
   ]
  },
  {
   "cell_type": "code",
   "execution_count": 883,
   "metadata": {},
   "outputs": [
    {
     "name": "stdout",
     "output_type": "stream",
     "text": [
      "The different types of data in the dataset: \n",
      " object    37\n",
      "int64     13\n",
      "dtype: int64\n"
     ]
    }
   ],
   "source": [
    "print('The different types of data in the dataset: \\n',diabdata.dtypes.value_counts())\n"
   ]
  },
  {
   "cell_type": "markdown",
   "metadata": {},
   "source": [
    "## Data Cleaning\n",
    "- Missing Values\n",
    "- Outliers\n"
   ]
  },
  {
   "cell_type": "code",
   "execution_count": 884,
   "metadata": {},
   "outputs": [],
   "source": [
    "# print('The unique number of patients, keep only these rows? ')\n",
    "# diabdata.patient_nbr.value_counts().count()\n",
    "\n",
    "# diabdata = diabdata.drop_duplicates(subset= ['patient_nbr'], keep = 'first') "
   ]
  },
  {
   "cell_type": "code",
   "execution_count": 885,
   "metadata": {},
   "outputs": [
    {
     "data": {
      "text/plain": [
       "(101766, 50)"
      ]
     },
     "execution_count": 885,
     "metadata": {},
     "output_type": "execute_result"
    }
   ],
   "source": [
    "diabdata.shape"
   ]
  },
  {
   "cell_type": "code",
   "execution_count": 886,
   "metadata": {},
   "outputs": [],
   "source": [
    "# Filtering rows by dropping fields with quesiton mark '?'\n",
    "# diag codes\n",
    "drop_Idx = drop_Idx.union(set(diabdata[diabdata['diag_1']                   == '?'].index)) # Unknown\n",
    "drop_Idx = drop_Idx.union(set(diabdata[diabdata['diag_2']                   == '?'].index)) # Unknown\n",
    "drop_Idx = drop_Idx.union(set(diabdata[diabdata['diag_3']                   == '?'].index)) # Unknown\n",
    "drop_Idx = drop_Idx.union(set(diabdata[diabdata['discharge_disposition_id'] == 11].index))  # Death\n",
    "drop_Idx = drop_Idx.union(set(diabdata[diabdata['gender']                   == 'Unknown/Invalid'].index))\n",
    "\n",
    "new_Idx = list(set(diabdata.index) - set(drop_Idx))\n",
    "diabdata = diabdata.iloc[new_Idx]"
   ]
  },
  {
   "cell_type": "code",
   "execution_count": 887,
   "metadata": {},
   "outputs": [],
   "source": [
    "# diabdata[diabdata['diag_1']=='?']"
   ]
  },
  {
   "cell_type": "code",
   "execution_count": 888,
   "metadata": {},
   "outputs": [
    {
     "data": {
      "text/plain": [
       "(96446, 50)"
      ]
     },
     "execution_count": 888,
     "metadata": {},
     "output_type": "execute_result"
    }
   ],
   "source": [
    "diabdata.shape"
   ]
  },
  {
   "cell_type": "code",
   "execution_count": 889,
   "metadata": {},
   "outputs": [],
   "source": [
    "# diabdata = diabdata[~(diabdata == '?').any(axis=1)]\n",
    "# diabdata[~(diabdata == '?').any(axis=1)]"
   ]
  },
  {
   "cell_type": "code",
   "execution_count": 890,
   "metadata": {},
   "outputs": [
    {
     "name": "stdout",
     "output_type": "stream",
     "text": [
      "Missing Values per feature\n",
      "Top 10 variables of missing values\n"
     ]
    },
    {
     "data": {
      "text/plain": [
       "readmitted            0\n",
       "num_lab_procedures    0\n",
       "max_glu_serum         0\n",
       "number_diagnoses      0\n",
       "diag_3                0\n",
       "diag_2                0\n",
       "diag_1                0\n",
       "number_inpatient      0\n",
       "number_emergency      0\n",
       "number_outpatient     0\n",
       "dtype: int64"
      ]
     },
     "execution_count": 890,
     "metadata": {},
     "output_type": "execute_result"
    }
   ],
   "source": [
    "print('Missing Values per feature')\n",
    "print('Top 10 variables of missing values')\n",
    "diabdata.isnull().sum().sort_values(ascending=False)[:10]"
   ]
  },
  {
   "cell_type": "code",
   "execution_count": 891,
   "metadata": {},
   "outputs": [
    {
     "data": {
      "text/plain": [
       "0"
      ]
     },
     "execution_count": 891,
     "metadata": {},
     "output_type": "execute_result"
    }
   ],
   "source": [
    "np.sum(diabdata.age.isnull())"
   ]
  },
  {
   "cell_type": "code",
   "execution_count": 892,
   "metadata": {},
   "outputs": [
    {
     "data": {
      "text/plain": [
       "Series([], Name: gender, dtype: object)"
      ]
     },
     "execution_count": 892,
     "metadata": {},
     "output_type": "execute_result"
    }
   ],
   "source": [
    "diabdata[diabdata['gender']=='Unknown/Invalid']['gender']"
   ]
  },
  {
   "cell_type": "code",
   "execution_count": null,
   "metadata": {},
   "outputs": [],
   "source": []
  },
  {
   "cell_type": "code",
   "execution_count": 893,
   "metadata": {},
   "outputs": [
    {
     "data": {
      "text/plain": [
       "Text(0.5, 1.0, 'Age of Patient VS. Readmission')"
      ]
     },
     "execution_count": 893,
     "metadata": {},
     "output_type": "execute_result"
    },
    {
     "data": {
      "image/png": "[encoded data removed]",
      "text/plain": [
       "<Figure size 432x288 with 1 Axes>"
      ]
     },
     "metadata": {
      "needs_background": "light"
     },
     "output_type": "display_data"
    }
   ],
   "source": [
    "sns.countplot(y= diabdata['age'], hue = diabdata['readmitted']).set_title('Age of Patient VS. Readmission')"
   ]
  },
  {
   "cell_type": "code",
   "execution_count": 894,
   "metadata": {},
   "outputs": [
    {
     "data": {
      "text/plain": [
       "<matplotlib.axes._subplots.AxesSubplot at 0x1a2db20b90>"
      ]
     },
     "execution_count": 894,
     "metadata": {},
     "output_type": "execute_result"
    },
    {
     "data": {
      "image/png": "[encoded data removed]",
      "text/plain": [
       "<Figure size 432x288 with 1 Axes>"
      ]
     },
     "metadata": {
      "needs_background": "light"
     },
     "output_type": "display_data"
    }
   ],
   "source": [
    "diabdata.gender.value_counts().plot.bar()"
   ]
  },
  {
   "cell_type": "code",
   "execution_count": 895,
   "metadata": {},
   "outputs": [
    {
     "data": {
      "text/plain": [
       "<matplotlib.axes._subplots.AxesSubplot at 0x1a3255ae90>"
      ]
     },
     "execution_count": 895,
     "metadata": {},
     "output_type": "execute_result"
    },
    {
     "data": {
      "image/png": "[encoded data removed]",
      "text/plain": [
       "<Figure size 432x288 with 1 Axes>"
      ]
     },
     "metadata": {
      "needs_background": "light"
     },
     "output_type": "display_data"
    }
   ],
   "source": [
    "\n",
    "diabdata.medical_specialty.value_counts()[:20].plot.bar(title='Check how to fill with K nearest ?')"
   ]
  },
  {
   "cell_type": "code",
   "execution_count": 896,
   "metadata": {},
   "outputs": [
    {
     "data": {
      "text/plain": [
       "<matplotlib.axes._subplots.AxesSubplot at 0x1a31e716d0>"
      ]
     },
     "execution_count": 896,
     "metadata": {},
     "output_type": "execute_result"
    },
    {
     "data": {
      "image/png": "[encoded data removed]",
      "text/plain": [
       "<Figure size 432x288 with 1 Axes>"
      ]
     },
     "metadata": {
      "needs_background": "light"
     },
     "output_type": "display_data"
    }
   ],
   "source": [
    "diabdata.payer_code.value_counts().plot.bar(title ='Drop Payer Code first round. Many ?')"
   ]
  },
  {
   "cell_type": "code",
   "execution_count": 897,
   "metadata": {},
   "outputs": [
    {
     "data": {
      "text/plain": [
       "428    6604\n",
       "414    6348\n",
       "786    3900\n",
       "410    3383\n",
       "486    3320\n",
       "427    2665\n",
       "491    2187\n",
       "715    2069\n",
       "780    1969\n",
       "682    1954\n",
       "Name: diag_1, dtype: int64"
      ]
     },
     "execution_count": 897,
     "metadata": {},
     "output_type": "execute_result"
    }
   ],
   "source": [
    "diabdata.diag_1.value_counts()[:10]"
   ]
  },
  {
   "cell_type": "code",
   "execution_count": 898,
   "metadata": {},
   "outputs": [],
   "source": [
    "# diabdata.diag_2.value_counts()[:20]"
   ]
  },
  {
   "cell_type": "code",
   "execution_count": 899,
   "metadata": {},
   "outputs": [],
   "source": [
    "# diabdata.diag_3.value_counts()\n"
   ]
  },
  {
   "cell_type": "code",
   "execution_count": 900,
   "metadata": {},
   "outputs": [],
   "source": [
    "# diabdata.groupby('diag_1').count().sort_values('readmitted',ascending=False)[:30]"
   ]
  },
  {
   "cell_type": "code",
   "execution_count": 901,
   "metadata": {},
   "outputs": [
    {
     "data": {
      "text/plain": [
       "6793"
      ]
     },
     "execution_count": 901,
     "metadata": {},
     "output_type": "execute_result"
    }
   ],
   "source": [
    "diagnosis = diabdata.loc[diabdata['readmitted']=='<30',['readmitted','diag_1','diag_2','diag_3']]\n",
    "# percent_miss_count = (dftrain.isnull().sum()/dftrain.isnull().count()).sort_values(ascending=False)\n",
    "#['diag_1','diag_2','diag_3']\n",
    "# pd.concat([tot_miss_count,percent_miss_count], axis =1,keys=['NA_count','NA_percent'])[:20]\n",
    "\n",
    "print\n",
    "diagnosis.groupby('diag_1').count().sort_values('readmitted',ascending=False)[:30]['readmitted'].sum()\n"
   ]
  },
  {
   "cell_type": "code",
   "execution_count": 902,
   "metadata": {},
   "outputs": [
    {
     "data": {
      "text/plain": [
       "<matplotlib.axes._subplots.AxesSubplot at 0x1a331497d0>"
      ]
     },
     "execution_count": 902,
     "metadata": {},
     "output_type": "execute_result"
    },
    {
     "data": {
      "image/png": "[encoded data removed]",
      "text/plain": [
       "<Figure size 432x288 with 1 Axes>"
      ]
     },
     "metadata": {
      "needs_background": "light"
     },
     "output_type": "display_data"
    }
   ],
   "source": [
    "diabdata.race.value_counts().plot.bar()"
   ]
  },
  {
   "cell_type": "code",
   "execution_count": 903,
   "metadata": {},
   "outputs": [
    {
     "data": {
      "text/plain": [
       "Female    52006\n",
       "Male      44440\n",
       "Name: gender, dtype: int64"
      ]
     },
     "execution_count": 903,
     "metadata": {},
     "output_type": "execute_result"
    }
   ],
   "source": [
    "# Getting rid of the Unknowns for Gender - not real significance\n",
    "diabdata.gender = diabdata.gender.replace('Unknown/Invalid','Female')\n",
    "diabdata.gender.value_counts()"
   ]
  },
  {
   "cell_type": "code",
   "execution_count": 904,
   "metadata": {},
   "outputs": [
    {
     "data": {
      "text/plain": [
       "<matplotlib.axes._subplots.AxesSubplot at 0x1a29498bd0>"
      ]
     },
     "execution_count": 904,
     "metadata": {},
     "output_type": "execute_result"
    },
    {
     "data": {
      "image/png": "[encoded data removed]",
      "text/plain": [
       "<Figure size 432x288 with 1 Axes>"
      ]
     },
     "metadata": {
      "needs_background": "light"
     },
     "output_type": "display_data"
    }
   ],
   "source": [
    "diabdata.race.value_counts().plot.bar()"
   ]
  },
  {
   "cell_type": "code",
   "execution_count": 905,
   "metadata": {},
   "outputs": [
    {
     "data": {
      "text/plain": [
       "Caucasian          73835\n",
       "AfricanAmerican    18560\n",
       "Other               4051\n",
       "Name: race, dtype: int64"
      ]
     },
     "execution_count": 905,
     "metadata": {},
     "output_type": "execute_result"
    }
   ],
   "source": [
    "# Take care of the race missing values and minority asian as outlier\n",
    "diabdata.race = diabdata.race.replace('?','Missing').replace('Asian','Other').replace('Hispanic','Other')\n",
    "diabdata.race.value_counts()"
   ]
  },
  {
   "cell_type": "code",
   "execution_count": 906,
   "metadata": {},
   "outputs": [],
   "source": [
    "# Following guideline filling in missing for '?'\n",
    "diabdata.medical_specialty  = diabdata.medical_specialty.replace('?','Missing')"
   ]
  },
  {
   "cell_type": "code",
   "execution_count": 907,
   "metadata": {},
   "outputs": [],
   "source": [
    "# Convert the discharge ID codes to group of classes \n",
    "diabdata.discharge_disposition_id = diabdata.discharge_disposition_id.apply(lambda x: conv_disch_id(x))"
   ]
  },
  {
   "cell_type": "code",
   "execution_count": 908,
   "metadata": {},
   "outputs": [],
   "source": [
    "# Convert the admission source ID codes to group of classes \n",
    "diabdata.admission_source_id = diabdata.admission_source_id.apply(lambda x: conv_adms_id(x))"
   ]
  },
  {
   "cell_type": "markdown",
   "metadata": {},
   "source": [
    "## Feature Engineering\n",
    "- Grouping values within feature: IDC code (based on first 3 characters)\n",
    "- One hot encoding\n",
    "- Dummification"
   ]
  },
  {
   "cell_type": "code",
   "execution_count": 909,
   "metadata": {},
   "outputs": [],
   "source": [
    "# Converting IDC9 iagnostic codes  to characters\n",
    "\n",
    "diags = ['diag_1','diag_2','diag_3']\n",
    "for diag in diags:\n",
    "    diagt = str(diag + '_temp')\n",
    "    diabdata[diagt] = diabdata[diag].apply(lambda x : idc_to_group(x))"
   ]
  },
  {
   "cell_type": "code",
   "execution_count": 910,
   "metadata": {},
   "outputs": [
    {
     "data": {
      "text/plain": [
       "Text(0.5, 1.0, 'Primary Diagnosis')"
      ]
     },
     "execution_count": 910,
     "metadata": {},
     "output_type": "execute_result"
    },
    {
     "data": {
      "image/png": "[encoded data removed]",
      "text/plain": [
       "<Figure size 432x288 with 1 Axes>"
      ]
     },
     "metadata": {
      "needs_background": "light"
     },
     "output_type": "display_data"
    }
   ],
   "source": [
    "diabdata.groupby('diag_1_temp').agg({'diag_1':['count']})['diag_1'].sort_values('count').plot.barh() \n",
    "#,ascending=False\n",
    "plt.title('Primary Diagnosis')"
   ]
  },
  {
   "cell_type": "code",
   "execution_count": 911,
   "metadata": {},
   "outputs": [
    {
     "data": {
      "text/plain": [
       "Text(0.5, 1.0, 'Secondary Diagnosis')"
      ]
     },
     "execution_count": 911,
     "metadata": {},
     "output_type": "execute_result"
    },
    {
     "data": {
      "image/png": "[encoded data removed]",
      "text/plain": [
       "<Figure size 432x288 with 1 Axes>"
      ]
     },
     "metadata": {
      "needs_background": "light"
     },
     "output_type": "display_data"
    }
   ],
   "source": [
    "diabdata.groupby('diag_2_temp').agg({'diag_2':['count']})['diag_2'].sort_values('count').plot.barh()\n",
    "plt.title('Secondary Diagnosis')"
   ]
  },
  {
   "cell_type": "code",
   "execution_count": 912,
   "metadata": {},
   "outputs": [
    {
     "data": {
      "text/plain": [
       "Text(0.5, 1.0, 'Third Diagnosis')"
      ]
     },
     "execution_count": 912,
     "metadata": {},
     "output_type": "execute_result"
    },
    {
     "data": {
      "image/png": "[encoded data removed]",
      "text/plain": [
       "<Figure size 432x288 with 1 Axes>"
      ]
     },
     "metadata": {
      "needs_background": "light"
     },
     "output_type": "display_data"
    }
   ],
   "source": [
    "diabdata.groupby('diag_3_temp').agg({'diag_3':['count']})['diag_3'].sort_values('count').plot.barh()\n",
    "plt.title('Third Diagnosis')"
   ]
  },
  {
   "cell_type": "code",
   "execution_count": 913,
   "metadata": {},
   "outputs": [
    {
     "data": {
      "text/plain": [
       "1595"
      ]
     },
     "execution_count": 913,
     "metadata": {},
     "output_type": "execute_result"
    }
   ],
   "source": [
    "diabdata.diag_1.str.contains('V').sum()+ diabdata.diag_1.str.contains('E').sum()"
   ]
  },
  {
   "cell_type": "code",
   "execution_count": 914,
   "metadata": {},
   "outputs": [],
   "source": [
    "# Transform the target variable to those admitted before 30 days and others\n",
    "diabdata.readmitted = diabdata.readmitted.apply(lambda x : 1 if x =='<30' else 0)"
   ]
  },
  {
   "cell_type": "code",
   "execution_count": 915,
   "metadata": {},
   "outputs": [
    {
     "data": {
      "text/plain": [
       "75    24815\n",
       "65    21521\n",
       "55    16546\n",
       "85    16223\n",
       "45     9208\n",
       "35     3538\n",
       "95     2594\n",
       "25     1471\n",
       "15      466\n",
       "5        64\n",
       "Name: newage, dtype: int64"
      ]
     },
     "execution_count": 915,
     "metadata": {},
     "output_type": "execute_result"
    }
   ],
   "source": [
    "# Convert age range to ages\n",
    "diabdata['newage'] = diabdata['age'].apply(lambda x: age_to_aveage(x) )\n",
    "diabdata.newage.value_counts()"
   ]
  },
  {
   "cell_type": "code",
   "execution_count": 916,
   "metadata": {},
   "outputs": [
    {
     "data": {
      "text/html": [
       "<div>\n",
       "<style scoped>\n",
       "    .dataframe tbody tr th:only-of-type {\n",
       "        vertical-align: middle;\n",
       "    }\n",
       "\n",
       "    .dataframe tbody tr th {\n",
       "        vertical-align: top;\n",
       "    }\n",
       "\n",
       "    .dataframe thead th {\n",
       "        text-align: right;\n",
       "    }\n",
       "</style>\n",
       "<table border=\"1\" class=\"dataframe\">\n",
       "  <thead>\n",
       "    <tr style=\"text-align: right;\">\n",
       "      <th></th>\n",
       "      <th>encounter_id</th>\n",
       "      <th>patient_nbr</th>\n",
       "      <th>race</th>\n",
       "      <th>gender</th>\n",
       "      <th>age</th>\n",
       "      <th>weight</th>\n",
       "      <th>admission_type_id</th>\n",
       "      <th>discharge_disposition_id</th>\n",
       "      <th>admission_source_id</th>\n",
       "      <th>time_in_hospital</th>\n",
       "      <th>...</th>\n",
       "      <th>glimepiride-pioglitazone</th>\n",
       "      <th>metformin-rosiglitazone</th>\n",
       "      <th>metformin-pioglitazone</th>\n",
       "      <th>change</th>\n",
       "      <th>diabetesMed</th>\n",
       "      <th>readmitted</th>\n",
       "      <th>diag_1_temp</th>\n",
       "      <th>diag_2_temp</th>\n",
       "      <th>diag_3_temp</th>\n",
       "      <th>newage</th>\n",
       "    </tr>\n",
       "  </thead>\n",
       "  <tbody>\n",
       "    <tr>\n",
       "      <td>1</td>\n",
       "      <td>149190</td>\n",
       "      <td>55629189</td>\n",
       "      <td>Caucasian</td>\n",
       "      <td>Female</td>\n",
       "      <td>[10-20)</td>\n",
       "      <td>?</td>\n",
       "      <td>1</td>\n",
       "      <td>home</td>\n",
       "      <td>emergency</td>\n",
       "      <td>3</td>\n",
       "      <td>...</td>\n",
       "      <td>No</td>\n",
       "      <td>No</td>\n",
       "      <td>No</td>\n",
       "      <td>Ch</td>\n",
       "      <td>Yes</td>\n",
       "      <td>0</td>\n",
       "      <td>neoplasms</td>\n",
       "      <td>diabetis</td>\n",
       "      <td>neoplasms</td>\n",
       "      <td>15</td>\n",
       "    </tr>\n",
       "    <tr>\n",
       "      <td>2</td>\n",
       "      <td>64410</td>\n",
       "      <td>86047875</td>\n",
       "      <td>AfricanAmerican</td>\n",
       "      <td>Female</td>\n",
       "      <td>[20-30)</td>\n",
       "      <td>?</td>\n",
       "      <td>1</td>\n",
       "      <td>home</td>\n",
       "      <td>emergency</td>\n",
       "      <td>2</td>\n",
       "      <td>...</td>\n",
       "      <td>No</td>\n",
       "      <td>No</td>\n",
       "      <td>No</td>\n",
       "      <td>No</td>\n",
       "      <td>Yes</td>\n",
       "      <td>0</td>\n",
       "      <td>other</td>\n",
       "      <td>diabetis</td>\n",
       "      <td>other</td>\n",
       "      <td>25</td>\n",
       "    </tr>\n",
       "    <tr>\n",
       "      <td>3</td>\n",
       "      <td>500364</td>\n",
       "      <td>82442376</td>\n",
       "      <td>Caucasian</td>\n",
       "      <td>Male</td>\n",
       "      <td>[30-40)</td>\n",
       "      <td>?</td>\n",
       "      <td>1</td>\n",
       "      <td>home</td>\n",
       "      <td>emergency</td>\n",
       "      <td>2</td>\n",
       "      <td>...</td>\n",
       "      <td>No</td>\n",
       "      <td>No</td>\n",
       "      <td>No</td>\n",
       "      <td>Ch</td>\n",
       "      <td>Yes</td>\n",
       "      <td>0</td>\n",
       "      <td>neoplasms</td>\n",
       "      <td>diabetis</td>\n",
       "      <td>circulatory</td>\n",
       "      <td>35</td>\n",
       "    </tr>\n",
       "    <tr>\n",
       "      <td>4</td>\n",
       "      <td>16680</td>\n",
       "      <td>42519267</td>\n",
       "      <td>Caucasian</td>\n",
       "      <td>Male</td>\n",
       "      <td>[40-50)</td>\n",
       "      <td>?</td>\n",
       "      <td>1</td>\n",
       "      <td>home</td>\n",
       "      <td>emergency</td>\n",
       "      <td>1</td>\n",
       "      <td>...</td>\n",
       "      <td>No</td>\n",
       "      <td>No</td>\n",
       "      <td>No</td>\n",
       "      <td>Ch</td>\n",
       "      <td>Yes</td>\n",
       "      <td>0</td>\n",
       "      <td>neoplasms</td>\n",
       "      <td>neoplasms</td>\n",
       "      <td>diabetis</td>\n",
       "      <td>45</td>\n",
       "    </tr>\n",
       "    <tr>\n",
       "      <td>5</td>\n",
       "      <td>35754</td>\n",
       "      <td>82637451</td>\n",
       "      <td>Caucasian</td>\n",
       "      <td>Male</td>\n",
       "      <td>[50-60)</td>\n",
       "      <td>?</td>\n",
       "      <td>2</td>\n",
       "      <td>home</td>\n",
       "      <td>clin_ref</td>\n",
       "      <td>3</td>\n",
       "      <td>...</td>\n",
       "      <td>No</td>\n",
       "      <td>No</td>\n",
       "      <td>No</td>\n",
       "      <td>No</td>\n",
       "      <td>Yes</td>\n",
       "      <td>0</td>\n",
       "      <td>circulatory</td>\n",
       "      <td>circulatory</td>\n",
       "      <td>diabetis</td>\n",
       "      <td>55</td>\n",
       "    </tr>\n",
       "  </tbody>\n",
       "</table>\n",
       "<p>5 rows × 54 columns</p>\n",
       "</div>"
      ],
      "text/plain": [
       "   encounter_id  patient_nbr             race  gender      age weight  \\\n",
       "1        149190     55629189        Caucasian  Female  [10-20)      ?   \n",
       "2         64410     86047875  AfricanAmerican  Female  [20-30)      ?   \n",
       "3        500364     82442376        Caucasian    Male  [30-40)      ?   \n",
       "4         16680     42519267        Caucasian    Male  [40-50)      ?   \n",
       "5         35754     82637451        Caucasian    Male  [50-60)      ?   \n",
       "\n",
       "   admission_type_id discharge_disposition_id admission_source_id  \\\n",
       "1                  1                     home           emergency   \n",
       "2                  1                     home           emergency   \n",
       "3                  1                     home           emergency   \n",
       "4                  1                     home           emergency   \n",
       "5                  2                     home            clin_ref   \n",
       "\n",
       "   time_in_hospital  ... glimepiride-pioglitazone metformin-rosiglitazone  \\\n",
       "1                 3  ...                       No                      No   \n",
       "2                 2  ...                       No                      No   \n",
       "3                 2  ...                       No                      No   \n",
       "4                 1  ...                       No                      No   \n",
       "5                 3  ...                       No                      No   \n",
       "\n",
       "   metformin-pioglitazone  change  diabetesMed  readmitted  diag_1_temp  \\\n",
       "1                      No      Ch          Yes           0    neoplasms   \n",
       "2                      No      No          Yes           0        other   \n",
       "3                      No      Ch          Yes           0    neoplasms   \n",
       "4                      No      Ch          Yes           0    neoplasms   \n",
       "5                      No      No          Yes           0  circulatory   \n",
       "\n",
       "   diag_2_temp  diag_3_temp newage  \n",
       "1     diabetis    neoplasms     15  \n",
       "2     diabetis        other     25  \n",
       "3     diabetis  circulatory     35  \n",
       "4    neoplasms     diabetis     45  \n",
       "5  circulatory     diabetis     55  \n",
       "\n",
       "[5 rows x 54 columns]"
      ]
     },
     "execution_count": 916,
     "metadata": {},
     "output_type": "execute_result"
    }
   ],
   "source": [
    "diabdata.head()"
   ]
  },
  {
   "cell_type": "markdown",
   "metadata": {},
   "source": [
    "## Removing multiple visit for each patient that is indicated by patient_nbr\n",
    "This ensures that observations are independent"
   ]
  },
  {
   "cell_type": "code",
   "execution_count": 917,
   "metadata": {},
   "outputs": [
    {
     "name": "stdout",
     "output_type": "stream",
     "text": [
      "The unique number of patients, keep only these rows? \n"
     ]
    }
   ],
   "source": [
    "print('The unique number of patients, keep only these rows? ')\n",
    "diabdata.patient_nbr.value_counts().count()\n",
    "\n",
    "diabdata = diabdata.drop_duplicates(subset= ['patient_nbr'], keep = 'first') "
   ]
  },
  {
   "cell_type": "code",
   "execution_count": null,
   "metadata": {},
   "outputs": [],
   "source": []
  },
  {
   "cell_type": "code",
   "execution_count": 918,
   "metadata": {},
   "outputs": [
    {
     "data": {
      "text/plain": [
       "(67580, 54)"
      ]
     },
     "execution_count": 918,
     "metadata": {},
     "output_type": "execute_result"
    }
   ],
   "source": [
    "diabdata.shape"
   ]
  },
  {
   "cell_type": "markdown",
   "metadata": {},
   "source": [
    "## Dropping Feature Columns\n",
    "\n",
    "- patient_nbr: \n",
    "- encounter_id:\n",
    "- payer_code: \n",
    "- max_glu_serum: \n",
    "- weight: Too many missing value\n",
    "-\n",
    "-\n"
   ]
  },
  {
   "cell_type": "code",
   "execution_count": 919,
   "metadata": {},
   "outputs": [],
   "source": [
    "# Drop columns that are not needed\n",
    "\n",
    "# cols_to_drop = ['encounter_id', 'patient_nbr', 'race', 'gender', 'age', 'weight',\n",
    "#        'admission_type_id', 'discharge_disposition_id', 'admission_source_id',\n",
    "#        'time_in_hospital', 'payer_code', 'medical_specialty',\n",
    "#        'num_lab_procedures', 'num_procedures', 'num_medications',\n",
    "#        'number_outpatient', 'number_emergency', 'number_inpatient', 'diag_1',\n",
    "#        'diag_2', 'diag_3', 'number_diagnoses', 'max_glu_serum', 'A1Cresult',\n",
    "#        'metformin', 'repaglinide', 'nateglinide', 'chlorpropamide',\n",
    "#        'glimepiride', 'acetohexamide', 'glipizide', 'glyburide', 'tolbutamide',\n",
    "#        'pioglitazone', 'rosiglitazone', 'acarbose', 'miglitol', 'troglitazone',\n",
    "#        'tolazamide', 'examide', 'citoglipton', 'insulin',\n",
    "#        'glyburide-metformin', 'glipizide-metformin',\n",
    "#        'glimepiride-pioglitazone', 'metformin-rosiglitazone',\n",
    "#        'metformin-pioglitazone', 'change', 'diabetesMed', 'readmitted',\n",
    "#        'newage']\n",
    "cols_to_drop = ['encounter_id', 'patient_nbr', 'age', 'weight', 'admission_type_id',\n",
    "                'payer_code', 'medical_specialty',\n",
    "                'num_lab_procedures', 'num_procedures', \n",
    "                'number_outpatient', 'number_emergency', 'number_inpatient', \n",
    "                'number_diagnoses', 'max_glu_serum', 'A1Cresult',\n",
    "                'metformin', 'repaglinide', 'nateglinide', 'chlorpropamide',\n",
    "       'glimepiride', 'acetohexamide', 'glipizide', 'glyburide', 'tolbutamide',\n",
    "       'pioglitazone', 'rosiglitazone', 'acarbose', 'miglitol', 'troglitazone',\n",
    "       'tolazamide', 'examide', 'citoglipton', 'insulin',\n",
    "       'glyburide-metformin', 'glipizide-metformin',\n",
    "       'glimepiride-pioglitazone', 'metformin-rosiglitazone',\n",
    "       'metformin-pioglitazone','diag_1','diag_2','diag_3',\n",
    "                'diag_2_temp','diag_3_temp']\n",
    "\n",
    "\n",
    "diabdata.drop(cols_to_drop, inplace= True, axis = 1)\n",
    "\n"
   ]
  },
  {
   "cell_type": "code",
   "execution_count": 920,
   "metadata": {},
   "outputs": [
    {
     "data": {
      "text/html": [
       "<div>\n",
       "<style scoped>\n",
       "    .dataframe tbody tr th:only-of-type {\n",
       "        vertical-align: middle;\n",
       "    }\n",
       "\n",
       "    .dataframe tbody tr th {\n",
       "        vertical-align: top;\n",
       "    }\n",
       "\n",
       "    .dataframe thead th {\n",
       "        text-align: right;\n",
       "    }\n",
       "</style>\n",
       "<table border=\"1\" class=\"dataframe\">\n",
       "  <thead>\n",
       "    <tr style=\"text-align: right;\">\n",
       "      <th></th>\n",
       "      <th>race</th>\n",
       "      <th>gender</th>\n",
       "      <th>discharge_disposition_id</th>\n",
       "      <th>admission_source_id</th>\n",
       "      <th>time_in_hospital</th>\n",
       "      <th>num_medications</th>\n",
       "      <th>change</th>\n",
       "      <th>diabetesMed</th>\n",
       "      <th>readmitted</th>\n",
       "      <th>diag_1_temp</th>\n",
       "      <th>newage</th>\n",
       "    </tr>\n",
       "  </thead>\n",
       "  <tbody>\n",
       "    <tr>\n",
       "      <td>1</td>\n",
       "      <td>Caucasian</td>\n",
       "      <td>Female</td>\n",
       "      <td>home</td>\n",
       "      <td>emergency</td>\n",
       "      <td>3</td>\n",
       "      <td>18</td>\n",
       "      <td>Ch</td>\n",
       "      <td>Yes</td>\n",
       "      <td>0</td>\n",
       "      <td>neoplasms</td>\n",
       "      <td>15</td>\n",
       "    </tr>\n",
       "    <tr>\n",
       "      <td>2</td>\n",
       "      <td>AfricanAmerican</td>\n",
       "      <td>Female</td>\n",
       "      <td>home</td>\n",
       "      <td>emergency</td>\n",
       "      <td>2</td>\n",
       "      <td>13</td>\n",
       "      <td>No</td>\n",
       "      <td>Yes</td>\n",
       "      <td>0</td>\n",
       "      <td>other</td>\n",
       "      <td>25</td>\n",
       "    </tr>\n",
       "    <tr>\n",
       "      <td>3</td>\n",
       "      <td>Caucasian</td>\n",
       "      <td>Male</td>\n",
       "      <td>home</td>\n",
       "      <td>emergency</td>\n",
       "      <td>2</td>\n",
       "      <td>16</td>\n",
       "      <td>Ch</td>\n",
       "      <td>Yes</td>\n",
       "      <td>0</td>\n",
       "      <td>neoplasms</td>\n",
       "      <td>35</td>\n",
       "    </tr>\n",
       "    <tr>\n",
       "      <td>4</td>\n",
       "      <td>Caucasian</td>\n",
       "      <td>Male</td>\n",
       "      <td>home</td>\n",
       "      <td>emergency</td>\n",
       "      <td>1</td>\n",
       "      <td>8</td>\n",
       "      <td>Ch</td>\n",
       "      <td>Yes</td>\n",
       "      <td>0</td>\n",
       "      <td>neoplasms</td>\n",
       "      <td>45</td>\n",
       "    </tr>\n",
       "    <tr>\n",
       "      <td>5</td>\n",
       "      <td>Caucasian</td>\n",
       "      <td>Male</td>\n",
       "      <td>home</td>\n",
       "      <td>clin_ref</td>\n",
       "      <td>3</td>\n",
       "      <td>16</td>\n",
       "      <td>No</td>\n",
       "      <td>Yes</td>\n",
       "      <td>0</td>\n",
       "      <td>circulatory</td>\n",
       "      <td>55</td>\n",
       "    </tr>\n",
       "  </tbody>\n",
       "</table>\n",
       "</div>"
      ],
      "text/plain": [
       "              race  gender discharge_disposition_id admission_source_id  \\\n",
       "1        Caucasian  Female                     home           emergency   \n",
       "2  AfricanAmerican  Female                     home           emergency   \n",
       "3        Caucasian    Male                     home           emergency   \n",
       "4        Caucasian    Male                     home           emergency   \n",
       "5        Caucasian    Male                     home            clin_ref   \n",
       "\n",
       "   time_in_hospital  num_medications change diabetesMed  readmitted  \\\n",
       "1                 3               18     Ch         Yes           0   \n",
       "2                 2               13     No         Yes           0   \n",
       "3                 2               16     Ch         Yes           0   \n",
       "4                 1                8     Ch         Yes           0   \n",
       "5                 3               16     No         Yes           0   \n",
       "\n",
       "   diag_1_temp  newage  \n",
       "1    neoplasms      15  \n",
       "2        other      25  \n",
       "3    neoplasms      35  \n",
       "4    neoplasms      45  \n",
       "5  circulatory      55  "
      ]
     },
     "execution_count": 920,
     "metadata": {},
     "output_type": "execute_result"
    }
   ],
   "source": [
    "diabdata.head()"
   ]
  },
  {
   "cell_type": "code",
   "execution_count": 921,
   "metadata": {},
   "outputs": [],
   "source": [
    "# Save data before modification dummification\n",
    "diabdata.to_csv('before_dummies.csv')"
   ]
  },
  {
   "cell_type": "markdown",
   "metadata": {},
   "source": [
    "## DROP rows for the same person"
   ]
  },
  {
   "cell_type": "code",
   "execution_count": null,
   "metadata": {},
   "outputs": [],
   "source": []
  },
  {
   "cell_type": "markdown",
   "metadata": {},
   "source": [
    "## One Hot Encoing of categorical features"
   ]
  },
  {
   "cell_type": "code",
   "execution_count": 922,
   "metadata": {
    "scrolled": true
   },
   "outputs": [
    {
     "data": {
      "text/plain": [
       "Index(['race', 'gender', 'discharge_disposition_id', 'admission_source_id',\n",
       "       'time_in_hospital', 'num_medications', 'change', 'diabetesMed',\n",
       "       'readmitted', 'diag_1_temp', 'newage'],\n",
       "      dtype='object')"
      ]
     },
     "execution_count": 922,
     "metadata": {},
     "output_type": "execute_result"
    }
   ],
   "source": [
    "diabdata2 = pd.read_csv('before_dummies.csv',index_col=0)\n",
    "diabdata2.columns"
   ]
  },
  {
   "cell_type": "code",
   "execution_count": 923,
   "metadata": {},
   "outputs": [],
   "source": [
    "prefix = 'class1'\n",
    "step1 = pd.get_dummies(diabdata2['diag_1_temp'], prefix = 'class1')\n",
    "\n",
    "diabdata2 = pd.concat([diabdata2,step1], axis=1)\n",
    "diabdata2.drop('diag_1_temp',1,inplace=True)\n",
    "diabdata2.drop(str(prefix+'_'+'diabetis'),axis=1,inplace=True)"
   ]
  },
  {
   "cell_type": "code",
   "execution_count": 924,
   "metadata": {},
   "outputs": [
    {
     "data": {
      "text/plain": [
       "(67580, 18)"
      ]
     },
     "execution_count": 924,
     "metadata": {},
     "output_type": "execute_result"
    }
   ],
   "source": [
    "diabdata2.shape"
   ]
  },
  {
   "cell_type": "code",
   "execution_count": 925,
   "metadata": {},
   "outputs": [
    {
     "name": "stdout",
     "output_type": "stream",
     "text": [
      "(67580, 18)\n"
     ]
    },
    {
     "data": {
      "text/html": [
       "<div>\n",
       "<style scoped>\n",
       "    .dataframe tbody tr th:only-of-type {\n",
       "        vertical-align: middle;\n",
       "    }\n",
       "\n",
       "    .dataframe tbody tr th {\n",
       "        vertical-align: top;\n",
       "    }\n",
       "\n",
       "    .dataframe thead th {\n",
       "        text-align: right;\n",
       "    }\n",
       "</style>\n",
       "<table border=\"1\" class=\"dataframe\">\n",
       "  <thead>\n",
       "    <tr style=\"text-align: right;\">\n",
       "      <th></th>\n",
       "      <th>race</th>\n",
       "      <th>gender</th>\n",
       "      <th>discharge_disposition_id</th>\n",
       "      <th>admission_source_id</th>\n",
       "      <th>time_in_hospital</th>\n",
       "      <th>num_medications</th>\n",
       "      <th>change</th>\n",
       "      <th>diabetesMed</th>\n",
       "      <th>readmitted</th>\n",
       "      <th>newage</th>\n",
       "      <th>class1_circulatory</th>\n",
       "      <th>class1_digestive</th>\n",
       "      <th>class1_genitourinary</th>\n",
       "      <th>class1_injury</th>\n",
       "      <th>class1_musculoskeletal</th>\n",
       "      <th>class1_neoplasms</th>\n",
       "      <th>class1_other</th>\n",
       "      <th>class1_respiratory</th>\n",
       "    </tr>\n",
       "  </thead>\n",
       "  <tbody>\n",
       "    <tr>\n",
       "      <td>1</td>\n",
       "      <td>Caucasian</td>\n",
       "      <td>Female</td>\n",
       "      <td>home</td>\n",
       "      <td>emergency</td>\n",
       "      <td>3</td>\n",
       "      <td>18</td>\n",
       "      <td>Ch</td>\n",
       "      <td>Yes</td>\n",
       "      <td>0</td>\n",
       "      <td>15</td>\n",
       "      <td>0</td>\n",
       "      <td>0</td>\n",
       "      <td>0</td>\n",
       "      <td>0</td>\n",
       "      <td>0</td>\n",
       "      <td>1</td>\n",
       "      <td>0</td>\n",
       "      <td>0</td>\n",
       "    </tr>\n",
       "    <tr>\n",
       "      <td>2</td>\n",
       "      <td>AfricanAmerican</td>\n",
       "      <td>Female</td>\n",
       "      <td>home</td>\n",
       "      <td>emergency</td>\n",
       "      <td>2</td>\n",
       "      <td>13</td>\n",
       "      <td>No</td>\n",
       "      <td>Yes</td>\n",
       "      <td>0</td>\n",
       "      <td>25</td>\n",
       "      <td>0</td>\n",
       "      <td>0</td>\n",
       "      <td>0</td>\n",
       "      <td>0</td>\n",
       "      <td>0</td>\n",
       "      <td>0</td>\n",
       "      <td>1</td>\n",
       "      <td>0</td>\n",
       "    </tr>\n",
       "    <tr>\n",
       "      <td>3</td>\n",
       "      <td>Caucasian</td>\n",
       "      <td>Male</td>\n",
       "      <td>home</td>\n",
       "      <td>emergency</td>\n",
       "      <td>2</td>\n",
       "      <td>16</td>\n",
       "      <td>Ch</td>\n",
       "      <td>Yes</td>\n",
       "      <td>0</td>\n",
       "      <td>35</td>\n",
       "      <td>0</td>\n",
       "      <td>0</td>\n",
       "      <td>0</td>\n",
       "      <td>0</td>\n",
       "      <td>0</td>\n",
       "      <td>1</td>\n",
       "      <td>0</td>\n",
       "      <td>0</td>\n",
       "    </tr>\n",
       "    <tr>\n",
       "      <td>4</td>\n",
       "      <td>Caucasian</td>\n",
       "      <td>Male</td>\n",
       "      <td>home</td>\n",
       "      <td>emergency</td>\n",
       "      <td>1</td>\n",
       "      <td>8</td>\n",
       "      <td>Ch</td>\n",
       "      <td>Yes</td>\n",
       "      <td>0</td>\n",
       "      <td>45</td>\n",
       "      <td>0</td>\n",
       "      <td>0</td>\n",
       "      <td>0</td>\n",
       "      <td>0</td>\n",
       "      <td>0</td>\n",
       "      <td>1</td>\n",
       "      <td>0</td>\n",
       "      <td>0</td>\n",
       "    </tr>\n",
       "    <tr>\n",
       "      <td>5</td>\n",
       "      <td>Caucasian</td>\n",
       "      <td>Male</td>\n",
       "      <td>home</td>\n",
       "      <td>clin_ref</td>\n",
       "      <td>3</td>\n",
       "      <td>16</td>\n",
       "      <td>No</td>\n",
       "      <td>Yes</td>\n",
       "      <td>0</td>\n",
       "      <td>55</td>\n",
       "      <td>1</td>\n",
       "      <td>0</td>\n",
       "      <td>0</td>\n",
       "      <td>0</td>\n",
       "      <td>0</td>\n",
       "      <td>0</td>\n",
       "      <td>0</td>\n",
       "      <td>0</td>\n",
       "    </tr>\n",
       "  </tbody>\n",
       "</table>\n",
       "</div>"
      ],
      "text/plain": [
       "              race  gender discharge_disposition_id admission_source_id  \\\n",
       "1        Caucasian  Female                     home           emergency   \n",
       "2  AfricanAmerican  Female                     home           emergency   \n",
       "3        Caucasian    Male                     home           emergency   \n",
       "4        Caucasian    Male                     home           emergency   \n",
       "5        Caucasian    Male                     home            clin_ref   \n",
       "\n",
       "   time_in_hospital  num_medications change diabetesMed  readmitted  newage  \\\n",
       "1                 3               18     Ch         Yes           0      15   \n",
       "2                 2               13     No         Yes           0      25   \n",
       "3                 2               16     Ch         Yes           0      35   \n",
       "4                 1                8     Ch         Yes           0      45   \n",
       "5                 3               16     No         Yes           0      55   \n",
       "\n",
       "   class1_circulatory  class1_digestive  class1_genitourinary  class1_injury  \\\n",
       "1                   0                 0                     0              0   \n",
       "2                   0                 0                     0              0   \n",
       "3                   0                 0                     0              0   \n",
       "4                   0                 0                     0              0   \n",
       "5                   1                 0                     0              0   \n",
       "\n",
       "   class1_musculoskeletal  class1_neoplasms  class1_other  class1_respiratory  \n",
       "1                       0                 1             0                   0  \n",
       "2                       0                 0             1                   0  \n",
       "3                       0                 1             0                   0  \n",
       "4                       0                 1             0                   0  \n",
       "5                       0                 0             0                   0  "
      ]
     },
     "execution_count": 925,
     "metadata": {},
     "output_type": "execute_result"
    }
   ],
   "source": [
    "print(diabdata2.shape)\n",
    "diabdata2.head()"
   ]
  },
  {
   "cell_type": "code",
   "execution_count": 926,
   "metadata": {},
   "outputs": [],
   "source": [
    "# prefix = 'class2'\n",
    "# step2 = pd.get_dummies(diabdata2['gender'], prefix = 'class2')\n",
    "\n",
    "# diabdata2 = pd.concat([diabdata2,step2], axis=1)\n",
    "diabdata2.drop('gender',1,inplace=True)\n",
    "# diabdata2.drop(str(prefix+'_'+'Male'),axis=1,inplace=True)\n",
    "# diabdata2.shape"
   ]
  },
  {
   "cell_type": "code",
   "execution_count": 927,
   "metadata": {},
   "outputs": [
    {
     "data": {
      "text/plain": [
       "(67580, 18)"
      ]
     },
     "execution_count": 927,
     "metadata": {},
     "output_type": "execute_result"
    }
   ],
   "source": [
    "prefix = 'class3'\n",
    "step3 = pd.get_dummies(diabdata2['race'], prefix = 'class3')# drop_first=True\n",
    "\n",
    "diabdata2 = pd.concat([diabdata2,step3], axis=1)\n",
    "diabdata2.drop('race',1,inplace=True)\n",
    "diabdata2.drop(str(prefix+'_'+'AfricanAmerican'),axis=1,inplace=True)\n",
    "diabdata2.shape"
   ]
  },
  {
   "cell_type": "code",
   "execution_count": 928,
   "metadata": {},
   "outputs": [],
   "source": [
    "# prefix = 'class4'\n",
    "# step4 = pd.get_dummies(diabdata2['change'], prefix = 'class4')\n",
    "\n",
    "# diabdata2 = pd.concat([diabdata2,step4], axis=1)\n",
    "diabdata2.drop('change',1,inplace=True)\n",
    "# diabdata2.drop(str(prefix+'_'+'Male'),axis=1,inplace=True)\n",
    "# diabdata2.shape"
   ]
  },
  {
   "cell_type": "code",
   "execution_count": 929,
   "metadata": {},
   "outputs": [],
   "source": [
    "# prefix = 'class5'\n",
    "# step5 = pd.get_dummies(diabdata2['diabetesMed'], prefix = 'class5')\n",
    "\n",
    "# diabdata2 = pd.concat([diabdata2,step5], axis=1)\n",
    "diabdata2.drop('diabetesMed',1,inplace=True)\n",
    "# diabdata2.drop(str(prefix+'_'+'Male'),axis=1,inplace=True)\n",
    "# diabdata2.shape"
   ]
  },
  {
   "cell_type": "code",
   "execution_count": 930,
   "metadata": {},
   "outputs": [
    {
     "data": {
      "text/html": [
       "<div>\n",
       "<style scoped>\n",
       "    .dataframe tbody tr th:only-of-type {\n",
       "        vertical-align: middle;\n",
       "    }\n",
       "\n",
       "    .dataframe tbody tr th {\n",
       "        vertical-align: top;\n",
       "    }\n",
       "\n",
       "    .dataframe thead th {\n",
       "        text-align: right;\n",
       "    }\n",
       "</style>\n",
       "<table border=\"1\" class=\"dataframe\">\n",
       "  <thead>\n",
       "    <tr style=\"text-align: right;\">\n",
       "      <th></th>\n",
       "      <th>discharge_disposition_id</th>\n",
       "      <th>admission_source_id</th>\n",
       "      <th>time_in_hospital</th>\n",
       "      <th>num_medications</th>\n",
       "      <th>readmitted</th>\n",
       "      <th>newage</th>\n",
       "      <th>class1_circulatory</th>\n",
       "      <th>class1_digestive</th>\n",
       "      <th>class1_genitourinary</th>\n",
       "      <th>class1_injury</th>\n",
       "      <th>class1_musculoskeletal</th>\n",
       "      <th>class1_neoplasms</th>\n",
       "      <th>class1_other</th>\n",
       "      <th>class1_respiratory</th>\n",
       "      <th>class3_Caucasian</th>\n",
       "      <th>class3_Other</th>\n",
       "    </tr>\n",
       "  </thead>\n",
       "  <tbody>\n",
       "    <tr>\n",
       "      <td>1</td>\n",
       "      <td>home</td>\n",
       "      <td>emergency</td>\n",
       "      <td>3</td>\n",
       "      <td>18</td>\n",
       "      <td>0</td>\n",
       "      <td>15</td>\n",
       "      <td>0</td>\n",
       "      <td>0</td>\n",
       "      <td>0</td>\n",
       "      <td>0</td>\n",
       "      <td>0</td>\n",
       "      <td>1</td>\n",
       "      <td>0</td>\n",
       "      <td>0</td>\n",
       "      <td>1</td>\n",
       "      <td>0</td>\n",
       "    </tr>\n",
       "    <tr>\n",
       "      <td>2</td>\n",
       "      <td>home</td>\n",
       "      <td>emergency</td>\n",
       "      <td>2</td>\n",
       "      <td>13</td>\n",
       "      <td>0</td>\n",
       "      <td>25</td>\n",
       "      <td>0</td>\n",
       "      <td>0</td>\n",
       "      <td>0</td>\n",
       "      <td>0</td>\n",
       "      <td>0</td>\n",
       "      <td>0</td>\n",
       "      <td>1</td>\n",
       "      <td>0</td>\n",
       "      <td>0</td>\n",
       "      <td>0</td>\n",
       "    </tr>\n",
       "    <tr>\n",
       "      <td>3</td>\n",
       "      <td>home</td>\n",
       "      <td>emergency</td>\n",
       "      <td>2</td>\n",
       "      <td>16</td>\n",
       "      <td>0</td>\n",
       "      <td>35</td>\n",
       "      <td>0</td>\n",
       "      <td>0</td>\n",
       "      <td>0</td>\n",
       "      <td>0</td>\n",
       "      <td>0</td>\n",
       "      <td>1</td>\n",
       "      <td>0</td>\n",
       "      <td>0</td>\n",
       "      <td>1</td>\n",
       "      <td>0</td>\n",
       "    </tr>\n",
       "    <tr>\n",
       "      <td>4</td>\n",
       "      <td>home</td>\n",
       "      <td>emergency</td>\n",
       "      <td>1</td>\n",
       "      <td>8</td>\n",
       "      <td>0</td>\n",
       "      <td>45</td>\n",
       "      <td>0</td>\n",
       "      <td>0</td>\n",
       "      <td>0</td>\n",
       "      <td>0</td>\n",
       "      <td>0</td>\n",
       "      <td>1</td>\n",
       "      <td>0</td>\n",
       "      <td>0</td>\n",
       "      <td>1</td>\n",
       "      <td>0</td>\n",
       "    </tr>\n",
       "    <tr>\n",
       "      <td>5</td>\n",
       "      <td>home</td>\n",
       "      <td>clin_ref</td>\n",
       "      <td>3</td>\n",
       "      <td>16</td>\n",
       "      <td>0</td>\n",
       "      <td>55</td>\n",
       "      <td>1</td>\n",
       "      <td>0</td>\n",
       "      <td>0</td>\n",
       "      <td>0</td>\n",
       "      <td>0</td>\n",
       "      <td>0</td>\n",
       "      <td>0</td>\n",
       "      <td>0</td>\n",
       "      <td>1</td>\n",
       "      <td>0</td>\n",
       "    </tr>\n",
       "  </tbody>\n",
       "</table>\n",
       "</div>"
      ],
      "text/plain": [
       "  discharge_disposition_id admission_source_id  time_in_hospital  \\\n",
       "1                     home           emergency                 3   \n",
       "2                     home           emergency                 2   \n",
       "3                     home           emergency                 2   \n",
       "4                     home           emergency                 1   \n",
       "5                     home            clin_ref                 3   \n",
       "\n",
       "   num_medications  readmitted  newage  class1_circulatory  class1_digestive  \\\n",
       "1               18           0      15                   0                 0   \n",
       "2               13           0      25                   0                 0   \n",
       "3               16           0      35                   0                 0   \n",
       "4                8           0      45                   0                 0   \n",
       "5               16           0      55                   1                 0   \n",
       "\n",
       "   class1_genitourinary  class1_injury  class1_musculoskeletal  \\\n",
       "1                     0              0                       0   \n",
       "2                     0              0                       0   \n",
       "3                     0              0                       0   \n",
       "4                     0              0                       0   \n",
       "5                     0              0                       0   \n",
       "\n",
       "   class1_neoplasms  class1_other  class1_respiratory  class3_Caucasian  \\\n",
       "1                 1             0                   0                 1   \n",
       "2                 0             1                   0                 0   \n",
       "3                 1             0                   0                 1   \n",
       "4                 1             0                   0                 1   \n",
       "5                 0             0                   0                 1   \n",
       "\n",
       "   class3_Other  \n",
       "1             0  \n",
       "2             0  \n",
       "3             0  \n",
       "4             0  \n",
       "5             0  "
      ]
     },
     "execution_count": 930,
     "metadata": {},
     "output_type": "execute_result"
    }
   ],
   "source": [
    "diabdata2.head()"
   ]
  },
  {
   "cell_type": "code",
   "execution_count": 931,
   "metadata": {},
   "outputs": [
    {
     "data": {
      "text/plain": [
       "(67580, 16)"
      ]
     },
     "execution_count": 931,
     "metadata": {},
     "output_type": "execute_result"
    }
   ],
   "source": [
    "prefix = 'class6'\n",
    "step6 = pd.get_dummies(diabdata2['discharge_disposition_id'], prefix = 'class6')\n",
    "\n",
    "diabdata2 = pd.concat([diabdata2,step6], axis=1)\n",
    "diabdata2.drop('discharge_disposition_id',1,inplace=True)\n",
    "diabdata2.drop(str(prefix+'_'+'home'),axis=1,inplace=True)\n",
    "diabdata2.shape"
   ]
  },
  {
   "cell_type": "code",
   "execution_count": 932,
   "metadata": {},
   "outputs": [
    {
     "data": {
      "text/plain": [
       "(67580, 20)"
      ]
     },
     "execution_count": 932,
     "metadata": {},
     "output_type": "execute_result"
    }
   ],
   "source": [
    "prefix = 'class7'\n",
    "step7 = pd.get_dummies(diabdata2['admission_source_id'], prefix = 'class7')\n",
    "\n",
    "diabdata2 = pd.concat([diabdata2,step7], axis=1)\n",
    "diabdata2.drop('admission_source_id',1,inplace=True)\n",
    "diabdata2.drop(str(prefix+'_'+'emergency'),axis=1,inplace=True)\n",
    "diabdata2.shape"
   ]
  },
  {
   "cell_type": "code",
   "execution_count": 933,
   "metadata": {},
   "outputs": [
    {
     "data": {
      "text/plain": [
       "['time_in_hospital',\n",
       " 'num_medications',\n",
       " 'readmitted',\n",
       " 'newage',\n",
       " 'class1_circulatory',\n",
       " 'class1_digestive',\n",
       " 'class1_genitourinary',\n",
       " 'class1_injury',\n",
       " 'class1_musculoskeletal',\n",
       " 'class1_neoplasms',\n",
       " 'class1_other',\n",
       " 'class1_respiratory',\n",
       " 'class3_Caucasian',\n",
       " 'class3_Other',\n",
       " 'class6_other',\n",
       " 'class7_clin_ref',\n",
       " 'class7_hospital',\n",
       " 'class7_other',\n",
       " 'class7_phys_ref',\n",
       " 'class7_snf']"
      ]
     },
     "execution_count": 933,
     "metadata": {},
     "output_type": "execute_result"
    }
   ],
   "source": [
    "diabdata2.columns.to_list()"
   ]
  },
  {
   "cell_type": "code",
   "execution_count": 934,
   "metadata": {},
   "outputs": [],
   "source": [
    "diabdata2.to_csv('before_model_diabdata.csv')"
   ]
  },
  {
   "cell_type": "code",
   "execution_count": 935,
   "metadata": {},
   "outputs": [
    {
     "data": {
      "text/plain": [
       "Index(['time_in_hospital', 'num_medications', 'readmitted', 'newage',\n",
       "       'class1_circulatory', 'class1_digestive', 'class1_genitourinary',\n",
       "       'class1_injury', 'class1_musculoskeletal', 'class1_neoplasms',\n",
       "       'class1_other', 'class1_respiratory', 'class3_Caucasian',\n",
       "       'class3_Other', 'class6_other', 'class7_clin_ref', 'class7_hospital',\n",
       "       'class7_other', 'class7_phys_ref', 'class7_snf'],\n",
       "      dtype='object')"
      ]
     },
     "execution_count": 935,
     "metadata": {},
     "output_type": "execute_result"
    }
   ],
   "source": [
    "diabdata3 = pd.read_csv('before_model_diabdata.csv',index_col=0)\n",
    "diabdata3.columns"
   ]
  },
  {
   "cell_type": "markdown",
   "metadata": {},
   "source": [
    "## Standardize Data \n",
    "- Only if needed\n",
    "- Standardize features by removing the mean and scaling to unit variance\n",
    "\n",
    "- The standard score of a sample x is calculated as:\n",
    "\n",
    "- *z = (x - u) / s*"
   ]
  },
  {
   "cell_type": "code",
   "execution_count": 936,
   "metadata": {},
   "outputs": [],
   "source": [
    "# Create the standardized version of the datasets\n",
    "\n",
    "# from sklearn.preprocessing import StandardScaler\n",
    "# scaler = StandardScaler()\n",
    "\n",
    "# scaler.fit(diabdata3.drop('readmitted',1))\n",
    "# diabdata_scaled = scaler.transform(diabdata3.drop('readmitted',1))\n",
    "# # dftrain_y_scaled = scaler.transform(dftrain['SalePrice']) # not needed?\n"
   ]
  },
  {
   "cell_type": "markdown",
   "metadata": {},
   "source": [
    "## Create Train and Test data\n",
    "- To avoid overfitting it is common practice when performing a (supervised) machine learning experiment to hold out part of the available data as a test set X_test, y_test.\n",
    "\n",
    "- Split the ***diabetes*** dataset into random train and test subsets\n",
    "- There is option to stratify by setting "
   ]
  },
  {
   "cell_type": "code",
   "execution_count": 937,
   "metadata": {},
   "outputs": [],
   "source": [
    "from sklearn.model_selection import cross_val_score, cross_val_predict, cross_validate, train_test_split\n",
    "\n",
    "X = diabdata3.drop('readmitted',1)\n",
    "\n",
    "y = diabdata3.readmitted\n",
    "\n",
    "\n",
    "X_train, X_test, y_train, y_test = train_test_split(X, y, test_size = .3, random_state=42)"
   ]
  },
  {
   "cell_type": "markdown",
   "metadata": {},
   "source": [
    "## Bootstrapping and SMOTE Synthetic Minority Over-Sampling Technique\n",
    "- Upsampling minory class to create balanced dataset"
   ]
  },
  {
   "cell_type": "code",
   "execution_count": null,
   "metadata": {},
   "outputs": [],
   "source": []
  },
  {
   "cell_type": "markdown",
   "metadata": {},
   "source": [
    "## Cross Validation and Grid Search\n",
    " "
   ]
  },
  {
   "cell_type": "code",
   "execution_count": 938,
   "metadata": {},
   "outputs": [
    {
     "name": "stdout",
     "output_type": "stream",
     "text": [
      "Mean ROC AUC: 0.594\n"
     ]
    }
   ],
   "source": [
    "from sklearn.model_selection import GridSearchCV, RepeatedStratifiedKFold\n",
    "from sklearn                 import datasets\n",
    "from sklearn.model_selection import cross_val_score, cross_val_predict, cross_validate, train_test_split\n",
    "from sklearn.linear_model    import LogisticRegression, SGDClassifier\n",
    "\n",
    "cv = RepeatedStratifiedKFold(n_splits=10, n_repeats=3, random_state=1)\n",
    "\n",
    "# First Run\n",
    "diabetes_model = LogisticRegression(solver='liblinear')\n",
    "\n",
    "# Second Run\n",
    "# diabetes_model = LogisticRegression(solver='liblinear',class_weight='balanced')\n",
    "\n",
    "# evaluate model\n",
    "scores = cross_val_score(diabetes_model, X_train, y_train, scoring='roc_auc', cv=cv, n_jobs=-1)\n",
    "# summarize performance\n",
    "print('Mean ROC AUC: %.3f' % np.mean(scores))\n",
    "\n",
    "\n",
    "# gridsearch_logit = GridSearchCV(logit, parameters, cv = 5, verbose=1 , scoring = 'Accuracy')\n",
    "# print('Gridsearch Object Best Score: ',grid_logit.best_score_)"
   ]
  },
  {
   "cell_type": "code",
   "execution_count": 939,
   "metadata": {},
   "outputs": [
    {
     "data": {
      "text/plain": [
       "array([0.60011136, 0.58230947, 0.57573141, 0.58906505, 0.61415408,\n",
       "       0.6045225 , 0.57194863, 0.5876917 , 0.59710703, 0.61327501,\n",
       "       0.59373817, 0.60647211, 0.56430865, 0.60649391, 0.58031796,\n",
       "       0.59499173, 0.57955216, 0.59855463, 0.58780958, 0.62028373,\n",
       "       0.6090715 , 0.58887375, 0.61050701, 0.59320649, 0.58949889,\n",
       "       0.60954952, 0.58754645, 0.58265682, 0.58741611, 0.58679231])"
      ]
     },
     "execution_count": 939,
     "metadata": {},
     "output_type": "execute_result"
    }
   ],
   "source": [
    "scores"
   ]
  },
  {
   "cell_type": "code",
   "execution_count": null,
   "metadata": {},
   "outputs": [],
   "source": []
  },
  {
   "cell_type": "markdown",
   "metadata": {},
   "source": [
    "## Fit Model\n",
    "\n",
    "It allows the Ridge or Lasso penality with the hyperparameter  𝛼\n",
    "α\n",
    "  (we call it  𝜆\n",
    "λ\n",
    "  in the class), default =  1𝑒−4\n",
    "1\n",
    "e\n",
    "−\n",
    "4\n",
    " .\n",
    "We choose either Ridge or Lasso by assigning the penalty = 'Ridge', penality = 'Lasso', with default = 'Ridge'\n",
    "It has a parameter controlling the maximal iterations called max_iter, default to  100\n",
    "100\n",
    " .\n",
    "a parameter called solver, which accepts the solver option 'liblinear' of LogisticRegression. But when the solver is set to be sgd, it switches to a Stochastic Gradient Descent logistic classifier.\n",
    "It has two standard model attributes coef_, intercept_.\n",
    "it has the standard APIs of\n",
    "fit(X, Y)\n",
    "predict(X)\n",
    "predict_proba(X)\n",
    "score(X, Y)\n",
    "set_params()\n",
    "get_params()"
   ]
  },
  {
   "cell_type": "code",
   "execution_count": 940,
   "metadata": {},
   "outputs": [
    {
     "name": "stdout",
     "output_type": "stream",
     "text": [
      "Using Logistic Regression\n",
      "The accuracy score 0.6171944362237348\n"
     ]
    }
   ],
   "source": [
    "from sklearn.linear_model    import LogisticRegression, SGDClassifier\n",
    "from sklearn.metrics         import accuracy_score, f1_score, recall_score\n",
    "# from sklearn.tree            import DecisionTreeClassifier\n",
    "# from sklearn.ensemble        import RandomForestRegressor\n",
    "\n",
    "print('Using Logistic Regression')\n",
    "\n",
    "# First Attempt\n",
    "#diab_logit = LogisticRegression(solver='liblinear')\n",
    "#Second Attempt\n",
    "diab_logit = LogisticRegression(solver='liblinear',class_weight='balanced') \n",
    "\n",
    "diab_logit.fit(X_train,y_train)\n",
    "\n",
    "y_pred = diab_logit.predict(X_test)\n",
    "\n",
    "# Checking the accuracy value\n",
    "print('The accuracy score',accuracy_score(y_test, y_pred))\n",
    "\n",
    "\n"
   ]
  },
  {
   "cell_type": "code",
   "execution_count": 941,
   "metadata": {},
   "outputs": [
    {
     "name": "stdout",
     "output_type": "stream",
     "text": [
      "              precision    recall  f1-score   support\n",
      "\n",
      "           0       0.93      0.63      0.75     18438\n",
      "           1       0.12      0.53      0.20      1836\n",
      "\n",
      "    accuracy                           0.62     20274\n",
      "   macro avg       0.53      0.58      0.47     20274\n",
      "weighted avg       0.86      0.62      0.70     20274\n",
      "\n"
     ]
    }
   ],
   "source": [
    "from sklearn.metrics import classification_report\n",
    "\n",
    "print(classification_report(y_test, y_pred))"
   ]
  },
  {
   "cell_type": "code",
   "execution_count": 942,
   "metadata": {
    "scrolled": true
   },
   "outputs": [
    {
     "data": {
      "text/plain": [
       "LogisticRegression(C=1.0, class_weight='balanced', dual=False,\n",
       "                   fit_intercept=True, intercept_scaling=1, l1_ratio=None,\n",
       "                   max_iter=100, multi_class='warn', n_jobs=None, penalty='l2',\n",
       "                   random_state=None, solver='liblinear', tol=0.0001, verbose=0,\n",
       "                   warm_start=False)"
      ]
     },
     "execution_count": 942,
     "metadata": {},
     "output_type": "execute_result"
    }
   ],
   "source": [
    "diab_logit"
   ]
  },
  {
   "cell_type": "code",
   "execution_count": 943,
   "metadata": {},
   "outputs": [
    {
     "data": {
      "text/plain": [
       "array([0, 1])"
      ]
     },
     "execution_count": 943,
     "metadata": {},
     "output_type": "execute_result"
    }
   ],
   "source": [
    "diab_logit.classes_"
   ]
  },
  {
   "cell_type": "code",
   "execution_count": 944,
   "metadata": {},
   "outputs": [],
   "source": [
    "y_pred = diab_logit.predict(X_test)"
   ]
  },
  {
   "cell_type": "code",
   "execution_count": 945,
   "metadata": {},
   "outputs": [
    {
     "data": {
      "text/plain": [
       "array([[11534,  6904],\n",
       "       [  857,   979]])"
      ]
     },
     "execution_count": 945,
     "metadata": {},
     "output_type": "execute_result"
    }
   ],
   "source": [
    "from sklearn.metrics import confusion_matrix\n",
    "confusion_matrix(y_test, y_pred)"
   ]
  },
  {
   "cell_type": "code",
   "execution_count": null,
   "metadata": {},
   "outputs": [],
   "source": []
  },
  {
   "cell_type": "code",
   "execution_count": 946,
   "metadata": {},
   "outputs": [
    {
     "data": {
      "image/png": "[encoded data removed]",
      "text/plain": [
       "<Figure size 432x288 with 2 Axes>"
      ]
     },
     "metadata": {
      "needs_background": "light"
     },
     "output_type": "display_data"
    }
   ],
   "source": [
    "conf_matrix = confusion_matrix(y_test, y_pred)\n",
    "labels = ['Class 0', 'Class 1']\n",
    "fig = plt.figure()\n",
    "ax  = fig.add_subplot(111)\n",
    "cax = ax.matshow(conf_matrix, cmap=plt.cm.Blues)\n",
    "\n",
    "fig.colorbar(cax)\n",
    "ax.set_xticklabels([''] + labels)\n",
    "ax.set_yticklabels([''] + labels)\n",
    "plt.xlabel('Expected')\n",
    "plt.ylabel('Predicted')\n",
    "plt.show()"
   ]
  },
  {
   "cell_type": "markdown",
   "metadata": {},
   "source": [
    "## Model Evaluation\n",
    "\n",
    "- **Accuracy**: Algorithms are designed to maximize accuracy and reduce error. \n",
    "    Not good for imbalanced dataset. \n",
    "    \n",
    "    \n",
    "- **Precision**: the number of true positives divided by all positive prediction.\n",
    "\n",
    "    Precision = True Positive / True Positive + False Positive\n",
    "    \n",
    "    Precision is also called Positive Predictive Value. It is a measure of \n",
    "    classifier’s exactness. Low precision indicates a high number of false positives.\n",
    "    \n",
    "- **Confusion Matrix**: a table showing correct predictions and types of incorrect predictions.\n",
    "-\n",
    "- **Recall**: the number of true positives divided by the number of positive values in the test data. Recall is also called Sensitivity or the True Positive Rate. It is a measure of a classifier’s completeness. Low recall indicates a high number of false negatives.\n",
    "-\n",
    "- **F1 Score**: the weighted average of precision and recall."
   ]
  },
  {
   "cell_type": "code",
   "execution_count": 947,
   "metadata": {},
   "outputs": [],
   "source": [
    "# # diad_logit = LogisticRegression(solver='liblinear')\n",
    "# # diab_logit.fit(X_train,y_train)\n",
    " \n",
    "# # Predict on training set\n",
    "# diab_pred = diab_logit.predict(X_test)\n",
    "\n",
    "# # Checking accuracy\n",
    "# accuracy_score(y_test, diab_pred)\n",
    "\n",
    "# # F1 score\n",
    "# f1_score    (y_test, diab_pred)\n",
    "\n",
    "# # Recall score\n",
    "# recall_score(y_test, diab_pred)\n"
   ]
  },
  {
   "cell_type": "markdown",
   "metadata": {},
   "source": [
    "## Plotting the ROC curve\n",
    "- ROC is a probability curve and AUC represents degree or measure of \n",
    "separability. It tells how much model is capable of distinguishing \n",
    "between classes. Higher the AUC, better the model is at predicting \n",
    "0s as 0s and 1s as 1s. \n",
    "- Higher the AUC, better the model \n",
    "is at distinguishing between patients with disease and no disease.\n",
    "- Need upsampling of class or weight settings for minority class"
   ]
  },
  {
   "cell_type": "code",
   "execution_count": 948,
   "metadata": {},
   "outputs": [
    {
     "data": {
      "image/png": "[encoded data removed]",
      "text/plain": [
       "<Figure size 432x288 with 1 Axes>"
      ]
     },
     "metadata": {
      "needs_background": "light"
     },
     "output_type": "display_data"
    }
   ],
   "source": [
    "from sklearn.metrics import roc_curve, auc\n",
    "import matplotlib.pyplot as plt\n",
    "\n",
    "diab_logit.fit(X_train,y_train)\n",
    "\n",
    "y_pred = diab_logit.predict(X_test)\n",
    "\n",
    "# false posite rate, true porsitive rate\n",
    "fpr, tpr, _ = roc_curve(y_test, y_pred)\n",
    "\n",
    "roc_auc  = auc(fpr, tpr)\n",
    "\n",
    "plt.figure()\n",
    "lw = 2\n",
    "plt.plot(fpr, tpr, color='lightblue',\n",
    "         lw=lw, label='ROC curve (area = %0.2f)' % roc_auc)\n",
    "plt.plot([0, 1], [0, 1], color='navy', lw=lw, linestyle='--')\n",
    "plt.xlim([0.0, 1.0])\n",
    "plt.ylim([0.0, 1.05])\n",
    "plt.xlabel('False Positive Rate')\n",
    "plt.ylabel('True  Positive Rate')\n",
    "plt.title('Receiver Operating Characteristic of Diabetes')\n",
    "plt.legend(loc='lower right')\n",
    "plt.show()"
   ]
  },
  {
   "cell_type": "code",
   "execution_count": null,
   "metadata": {},
   "outputs": [],
   "source": []
  }
 ],
 "metadata": {
  "kernelspec": {
   "display_name": "Python 3",
   "language": "python",
   "name": "python3"
  },
  "language_info": {
   "codemirror_mode": {
    "name": "ipython",
    "version": 3
   },
   "file_extension": ".py",
   "mimetype": "text/x-python",
   "name": "python",
   "nbconvert_exporter": "python",
   "pygments_lexer": "ipython3",
   "version": "3.7.4"
  }
 },
 "nbformat": 4,
 "nbformat_minor": 2
}
