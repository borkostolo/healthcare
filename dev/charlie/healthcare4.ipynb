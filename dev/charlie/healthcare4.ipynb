{
 "cells": [
  {
   "cell_type": "markdown",
   "metadata": {},
   "source": [
    "## Libraries Used"
   ]
  },
  {
   "cell_type": "code",
   "execution_count": 612,
   "metadata": {},
   "outputs": [],
   "source": [
    "import numpy as np\n",
    "import pandas as pd\n",
    "import os\n",
    "import matplotlib.pyplot as plt\n",
    "import seaborn as sns\n",
    "\n"
   ]
  },
  {
   "cell_type": "code",
   "execution_count": 613,
   "metadata": {},
   "outputs": [
    {
     "data": {
      "text/plain": [
       "'/Users/karolylajko/Documents/Academy/DataScienceBootcamp2020/Projects/Capstone/HealthCare/data/dataset_diabetes'"
      ]
     },
     "execution_count": 613,
     "metadata": {},
     "output_type": "execute_result"
    }
   ],
   "source": [
    "os.getcwd()"
   ]
  },
  {
   "cell_type": "code",
   "execution_count": 614,
   "metadata": {},
   "outputs": [
    {
     "data": {
      "text/plain": [
       "['healthcare.ipynb',\n",
       " 'Load_Data_Diabetes and Initial EDA copy.ipynb',\n",
       " '.DS_Store',\n",
       " 'before_model_diabdata.csv',\n",
       " 'IDs_mapping.csv',\n",
       " 'Richard EDA  copy.ipynb',\n",
       " 'healthcare4.ipynb',\n",
       " 'diabetic_data.csv',\n",
       " 'before_dummies.csv',\n",
       " 'Diabetes Initial EDA and Feature Engineering copy.ipynb',\n",
       " '.ipynb_checkpoints']"
      ]
     },
     "execution_count": 614,
     "metadata": {},
     "output_type": "execute_result"
    }
   ],
   "source": [
    "os.listdir()"
   ]
  },
  {
   "cell_type": "markdown",
   "metadata": {},
   "source": [
    "## Helper Functions"
   ]
  },
  {
   "cell_type": "code",
   "execution_count": 615,
   "metadata": {},
   "outputs": [],
   "source": [
    "# Plot Correlation Matrix\n",
    "def plot_corr_matrix(df, nr_c, targ) :\n",
    "    \n",
    "    corr     = df.corr()\n",
    "    corr_abs = corr.abs()\n",
    "    cols     = corr_abs.nlargest(nr_c, targ)[targ].index\n",
    "    cm       = np.corrcoef(df[cols].values.T)\n",
    "\n",
    "    plt.figure(figsize=(nr_c/1.5, nr_c/1.5))\n",
    "    sns.set(font_scale=1.25)\n",
    "    sns.heatmap(cm, linewidths=1.5, annot=True, square=True, \n",
    "                fmt='.2f', annot_kws={'size': 12}, \n",
    "                yticklabels=cols.values, xticklabels=cols.values,cmap=\"OrRd\")\n",
    "    plt.show()\n",
    "\n",
    "# IDC9 codes to diseas \n",
    "def idc_to_group (idcnum):\n",
    "    # Hearth problems\n",
    "    # External injury and suppl. class - generate 4 digit number - eval to other\n",
    "    idcnum = idcnum.replace('V','9999').replace('E','9999').replace('?','9999')\n",
    "    idcnum = float(idcnum) \n",
    "    if   390 <= idcnum <= 459 or idcnum == 785:\n",
    "        diag = 'circulatory'\n",
    "    # Lung issues\n",
    "    elif 460 <= idcnum <= 519 or idcnum == 786:\n",
    "        diag = 'respiratory'\n",
    "    # Digestive - oral, stomac, abdominal, liver\n",
    "    elif 520 <= idcnum <= 579 or idcnum == 787:\n",
    "        diag = 'digestive'\n",
    "    # Diabetes\n",
    "    elif int(idcnum) == 250:\n",
    "        diag = 'diabetis'\n",
    "    # Injury or poisioning\n",
    "    elif 800 <= idcnum <= 999:\n",
    "        diag = 'injury'\n",
    "    # Musc. system or connective tissue\n",
    "    elif 710 <= idcnum <= 739:\n",
    "        diag = 'musculoskeletal'\n",
    "    # Kidney, urinary and genitals\n",
    "    elif 580 <= idcnum <= 629 or idcnum == 788:\n",
    "        diag = 'genitourinary'\n",
    "    # Abnormal tissue Growth\n",
    "    elif 140 <= idcnum <= 239 or idcnum in [780,781,782,784,790,791,792,793,794,795,796,797,798,799]:\n",
    "        diag = 'neoplasms' \n",
    "    # Metabolic, immunity issue with no diabetes\n",
    "    elif (240 <= idcnum <= 279 and idcnum != 250) or (680 <= idcnum <= 790):\n",
    "        diag = 'neoplasms'\n",
    "    elif 1 <= idcnum <= 139: \n",
    "        diag = 'neoplasms'\n",
    "     # Other    \n",
    "    else:\n",
    "        diag = 'other'   \n",
    "    return diag\n",
    "\n",
    "# Convert age range to age average\n",
    "def age_to_aveage (age):\n",
    "    ages = ['[0-10)','[10-20)','[20-30)','[30-40)','[40-50)','[50-60)','[60-70)','[70-80)','[80-90)','[90-100)']\n",
    "    newage = ages.index(age)*10+5\n",
    "    return newage\n",
    "\n",
    "# Dummify a categorical variable column\n",
    "# df - dataframe\n",
    "# var - variable/feature string\n",
    "# Prefix for dummies - string\n",
    "# def makedummies(df,var, pre_fix = 'Class'):\n",
    "#     Z = pd.get_dummies(df[var], prefix = pre_fix)\n",
    "#     df_dummified = pd.concat((df.drop(var,1,inplace=True), Z), axis=1)\n",
    "#     return df_dummified\n",
    "\n",
    "\n",
    "# Patient either transferred home (healthy) or other care continues\n",
    "def conv_disch_id(did):\n",
    "    try: \n",
    "        if    did == 1: \n",
    "            result = 'home'\n",
    "        else:\n",
    "            result = 'other'\n",
    "        return result\n",
    "    except ValueError:\n",
    "        print('Source ID must be interger!')\n",
    "        \n",
    "# Convert admission source ID to category groups\n",
    "def conv_adms_id(sid):\n",
    "    try: \n",
    "        if    sid == 7: \n",
    "            result = 'emergency'\n",
    "        elif  sid == 1:\n",
    "            result = 'phys_ref'\n",
    "        elif sid  == 4:\n",
    "            result = 'hospital'\n",
    "        elif sid ==  6:\n",
    "            result = 'snf'\n",
    "        elif sid ==  2:\n",
    "            result = 'clin_ref'\n",
    "        else:\n",
    "            result = 'other'\n",
    "        return result\n",
    "    except ValueError:\n",
    "        print('Source ID must be interger!')"
   ]
  },
  {
   "cell_type": "code",
   "execution_count": 616,
   "metadata": {},
   "outputs": [
    {
     "name": "stdout",
     "output_type": "stream",
     "text": [
      "Reading in CSV files\n"
     ]
    }
   ],
   "source": [
    "print('Reading in CSV files')\n",
    "diabdata = pd.read_csv('diabetic_data.csv')\n",
    "idmapping = pd.read_csv('IDs_mapping.csv')"
   ]
  },
  {
   "cell_type": "code",
   "execution_count": 617,
   "metadata": {},
   "outputs": [
    {
     "data": {
      "text/plain": [
       "1645"
      ]
     },
     "execution_count": 617,
     "metadata": {},
     "output_type": "execute_result"
    }
   ],
   "source": [
    "diabdata.diag_1.str.contains('V').sum()+ diabdata.diag_1.str.contains('E').sum()"
   ]
  },
  {
   "cell_type": "code",
   "execution_count": 618,
   "metadata": {},
   "outputs": [
    {
     "data": {
      "text/html": [
       "<div>\n",
       "<style scoped>\n",
       "    .dataframe tbody tr th:only-of-type {\n",
       "        vertical-align: middle;\n",
       "    }\n",
       "\n",
       "    .dataframe tbody tr th {\n",
       "        vertical-align: top;\n",
       "    }\n",
       "\n",
       "    .dataframe thead th {\n",
       "        text-align: right;\n",
       "    }\n",
       "</style>\n",
       "<table border=\"1\" class=\"dataframe\">\n",
       "  <thead>\n",
       "    <tr style=\"text-align: right;\">\n",
       "      <th></th>\n",
       "      <th>0</th>\n",
       "      <th>1</th>\n",
       "      <th>2</th>\n",
       "      <th>3</th>\n",
       "      <th>4</th>\n",
       "    </tr>\n",
       "  </thead>\n",
       "  <tbody>\n",
       "    <tr>\n",
       "      <td>encounter_id</td>\n",
       "      <td>2278392</td>\n",
       "      <td>149190</td>\n",
       "      <td>64410</td>\n",
       "      <td>500364</td>\n",
       "      <td>16680</td>\n",
       "    </tr>\n",
       "    <tr>\n",
       "      <td>patient_nbr</td>\n",
       "      <td>8222157</td>\n",
       "      <td>55629189</td>\n",
       "      <td>86047875</td>\n",
       "      <td>82442376</td>\n",
       "      <td>42519267</td>\n",
       "    </tr>\n",
       "    <tr>\n",
       "      <td>race</td>\n",
       "      <td>Caucasian</td>\n",
       "      <td>Caucasian</td>\n",
       "      <td>AfricanAmerican</td>\n",
       "      <td>Caucasian</td>\n",
       "      <td>Caucasian</td>\n",
       "    </tr>\n",
       "    <tr>\n",
       "      <td>gender</td>\n",
       "      <td>Female</td>\n",
       "      <td>Female</td>\n",
       "      <td>Female</td>\n",
       "      <td>Male</td>\n",
       "      <td>Male</td>\n",
       "    </tr>\n",
       "    <tr>\n",
       "      <td>age</td>\n",
       "      <td>[0-10)</td>\n",
       "      <td>[10-20)</td>\n",
       "      <td>[20-30)</td>\n",
       "      <td>[30-40)</td>\n",
       "      <td>[40-50)</td>\n",
       "    </tr>\n",
       "  </tbody>\n",
       "</table>\n",
       "</div>"
      ],
      "text/plain": [
       "                      0          1                2          3          4\n",
       "encounter_id    2278392     149190            64410     500364      16680\n",
       "patient_nbr     8222157   55629189         86047875   82442376   42519267\n",
       "race          Caucasian  Caucasian  AfricanAmerican  Caucasian  Caucasian\n",
       "gender           Female     Female           Female       Male       Male\n",
       "age              [0-10)    [10-20)          [20-30)    [30-40)    [40-50)"
      ]
     },
     "execution_count": 618,
     "metadata": {},
     "output_type": "execute_result"
    }
   ],
   "source": [
    "diabdata.head().transpose().head()"
   ]
  },
  {
   "cell_type": "code",
   "execution_count": 619,
   "metadata": {},
   "outputs": [
    {
     "data": {
      "text/plain": [
       "30506    Unknown/Invalid\n",
       "75551    Unknown/Invalid\n",
       "82573    Unknown/Invalid\n",
       "Name: gender, dtype: object"
      ]
     },
     "execution_count": 619,
     "metadata": {},
     "output_type": "execute_result"
    }
   ],
   "source": [
    "diabdata[(diabdata['gender']!='Male') & (diabdata['gender']!='Female')]['gender']"
   ]
  },
  {
   "cell_type": "code",
   "execution_count": 620,
   "metadata": {},
   "outputs": [],
   "source": [
    "# Generating the indexes for the numerical and categorical variables\n",
    "categorical_idx = diabdata.dtypes[diabdata.dtypes=='object'].index\n",
    "numerical_idx   = diabdata.dtypes[diabdata.dtypes!='object'].index"
   ]
  },
  {
   "cell_type": "code",
   "execution_count": 621,
   "metadata": {},
   "outputs": [
    {
     "name": "stdout",
     "output_type": "stream",
     "text": [
      "The unique number of patients, keep only these rows? \n"
     ]
    },
    {
     "data": {
      "text/plain": [
       "71518"
      ]
     },
     "execution_count": 621,
     "metadata": {},
     "output_type": "execute_result"
    }
   ],
   "source": [
    "print('The unique number of patients, keep only these rows? ')\n",
    "diabdata.patient_nbr.value_counts().count()"
   ]
  },
  {
   "cell_type": "code",
   "execution_count": 622,
   "metadata": {},
   "outputs": [
    {
     "name": "stdout",
     "output_type": "stream",
     "text": [
      "The number of unique patient ids\n"
     ]
    },
    {
     "data": {
      "text/plain": [
       "71518"
      ]
     },
     "execution_count": 622,
     "metadata": {},
     "output_type": "execute_result"
    }
   ],
   "source": [
    "print('The number of unique patient ids')\n",
    "diabdata.drop_duplicates(subset= ['patient_nbr'], keep = 'first')['patient_nbr'].count()"
   ]
  },
  {
   "cell_type": "markdown",
   "metadata": {},
   "source": [
    "## Feature Overview"
   ]
  },
  {
   "cell_type": "code",
   "execution_count": 623,
   "metadata": {},
   "outputs": [
    {
     "data": {
      "text/plain": [
       "<matplotlib.axes._subplots.AxesSubplot at 0x1c4dd09c50>"
      ]
     },
     "execution_count": 623,
     "metadata": {},
     "output_type": "execute_result"
    },
    {
     "data": {
      "image/png": "[encoded data removed]",
      "text/plain": [
       "<Figure size 432x288 with 1 Axes>"
      ]
     },
     "metadata": {
      "needs_background": "light"
     },
     "output_type": "display_data"
    }
   ],
   "source": [
    "diabdata[['max_glu_serum','readmitted']].groupby(['max_glu_serum']).count().plot.bar()"
   ]
  },
  {
   "cell_type": "code",
   "execution_count": 624,
   "metadata": {},
   "outputs": [
    {
     "data": {
      "text/plain": [
       "None    96420\n",
       "Norm     2597\n",
       ">200     1485\n",
       ">300     1264\n",
       "Name: max_glu_serum, dtype: int64"
      ]
     },
     "execution_count": 624,
     "metadata": {},
     "output_type": "execute_result"
    }
   ],
   "source": [
    "diabdata['max_glu_serum'].value_counts()"
   ]
  },
  {
   "cell_type": "code",
   "execution_count": 625,
   "metadata": {},
   "outputs": [
    {
     "data": {
      "text/html": [
       "<div>\n",
       "<style scoped>\n",
       "    .dataframe tbody tr th:only-of-type {\n",
       "        vertical-align: middle;\n",
       "    }\n",
       "\n",
       "    .dataframe tbody tr th {\n",
       "        vertical-align: top;\n",
       "    }\n",
       "\n",
       "    .dataframe thead th {\n",
       "        text-align: right;\n",
       "    }\n",
       "</style>\n",
       "<table border=\"1\" class=\"dataframe\">\n",
       "  <thead>\n",
       "    <tr style=\"text-align: right;\">\n",
       "      <th></th>\n",
       "      <th></th>\n",
       "      <th>A1Cresult</th>\n",
       "      <th>readmitted</th>\n",
       "    </tr>\n",
       "    <tr>\n",
       "      <th>A1Cresult</th>\n",
       "      <th>readmitted</th>\n",
       "      <th></th>\n",
       "      <th></th>\n",
       "    </tr>\n",
       "  </thead>\n",
       "  <tbody>\n",
       "    <tr>\n",
       "      <td rowspan=\"3\" valign=\"top\">&gt;7</td>\n",
       "      <td>&lt;30</td>\n",
       "      <td>383</td>\n",
       "      <td>383</td>\n",
       "    </tr>\n",
       "    <tr>\n",
       "      <td>&gt;30</td>\n",
       "      <td>1300</td>\n",
       "      <td>1300</td>\n",
       "    </tr>\n",
       "    <tr>\n",
       "      <td>NO</td>\n",
       "      <td>2129</td>\n",
       "      <td>2129</td>\n",
       "    </tr>\n",
       "    <tr>\n",
       "      <td rowspan=\"3\" valign=\"top\">&gt;8</td>\n",
       "      <td>&lt;30</td>\n",
       "      <td>811</td>\n",
       "      <td>811</td>\n",
       "    </tr>\n",
       "    <tr>\n",
       "      <td>&gt;30</td>\n",
       "      <td>2901</td>\n",
       "      <td>2901</td>\n",
       "    </tr>\n",
       "    <tr>\n",
       "      <td>NO</td>\n",
       "      <td>4504</td>\n",
       "      <td>4504</td>\n",
       "    </tr>\n",
       "    <tr>\n",
       "      <td rowspan=\"3\" valign=\"top\">None</td>\n",
       "      <td>&lt;30</td>\n",
       "      <td>9681</td>\n",
       "      <td>9681</td>\n",
       "    </tr>\n",
       "    <tr>\n",
       "      <td>&gt;30</td>\n",
       "      <td>29745</td>\n",
       "      <td>29745</td>\n",
       "    </tr>\n",
       "    <tr>\n",
       "      <td>NO</td>\n",
       "      <td>45322</td>\n",
       "      <td>45322</td>\n",
       "    </tr>\n",
       "    <tr>\n",
       "      <td rowspan=\"3\" valign=\"top\">Norm</td>\n",
       "      <td>&lt;30</td>\n",
       "      <td>482</td>\n",
       "      <td>482</td>\n",
       "    </tr>\n",
       "    <tr>\n",
       "      <td>&gt;30</td>\n",
       "      <td>1599</td>\n",
       "      <td>1599</td>\n",
       "    </tr>\n",
       "    <tr>\n",
       "      <td>NO</td>\n",
       "      <td>2909</td>\n",
       "      <td>2909</td>\n",
       "    </tr>\n",
       "  </tbody>\n",
       "</table>\n",
       "</div>"
      ],
      "text/plain": [
       "                      A1Cresult  readmitted\n",
       "A1Cresult readmitted                       \n",
       ">7        <30               383         383\n",
       "          >30              1300        1300\n",
       "          NO               2129        2129\n",
       ">8        <30               811         811\n",
       "          >30              2901        2901\n",
       "          NO               4504        4504\n",
       "None      <30              9681        9681\n",
       "          >30             29745       29745\n",
       "          NO              45322       45322\n",
       "Norm      <30               482         482\n",
       "          >30              1599        1599\n",
       "          NO               2909        2909"
      ]
     },
     "execution_count": 625,
     "metadata": {},
     "output_type": "execute_result"
    }
   ],
   "source": [
    "diabdata.groupby(['A1Cresult','readmitted'])['A1Cresult','readmitted'].count()"
   ]
  },
  {
   "cell_type": "code",
   "execution_count": 626,
   "metadata": {},
   "outputs": [
    {
     "data": {
      "text/plain": [
       "(67, 2)"
      ]
     },
     "execution_count": 626,
     "metadata": {},
     "output_type": "execute_result"
    }
   ],
   "source": [
    "idmapping.shape"
   ]
  },
  {
   "cell_type": "code",
   "execution_count": 627,
   "metadata": {},
   "outputs": [
    {
     "data": {
      "text/html": [
       "<div>\n",
       "<style scoped>\n",
       "    .dataframe tbody tr th:only-of-type {\n",
       "        vertical-align: middle;\n",
       "    }\n",
       "\n",
       "    .dataframe tbody tr th {\n",
       "        vertical-align: top;\n",
       "    }\n",
       "\n",
       "    .dataframe thead th {\n",
       "        text-align: right;\n",
       "    }\n",
       "</style>\n",
       "<table border=\"1\" class=\"dataframe\">\n",
       "  <thead>\n",
       "    <tr style=\"text-align: right;\">\n",
       "      <th></th>\n",
       "      <th>0</th>\n",
       "      <th>1</th>\n",
       "      <th>2</th>\n",
       "      <th>3</th>\n",
       "      <th>4</th>\n",
       "      <th>5</th>\n",
       "      <th>6</th>\n",
       "      <th>7</th>\n",
       "      <th>8</th>\n",
       "      <th>9</th>\n",
       "      <th>...</th>\n",
       "      <th>57</th>\n",
       "      <th>58</th>\n",
       "      <th>59</th>\n",
       "      <th>60</th>\n",
       "      <th>61</th>\n",
       "      <th>62</th>\n",
       "      <th>63</th>\n",
       "      <th>64</th>\n",
       "      <th>65</th>\n",
       "      <th>66</th>\n",
       "    </tr>\n",
       "  </thead>\n",
       "  <tbody>\n",
       "    <tr>\n",
       "      <td>admission_type_id</td>\n",
       "      <td>1</td>\n",
       "      <td>2</td>\n",
       "      <td>3</td>\n",
       "      <td>4</td>\n",
       "      <td>5</td>\n",
       "      <td>6</td>\n",
       "      <td>7</td>\n",
       "      <td>8</td>\n",
       "      <td>NaN</td>\n",
       "      <td>discharge_disposition_id</td>\n",
       "      <td>...</td>\n",
       "      <td>17</td>\n",
       "      <td>18</td>\n",
       "      <td>19</td>\n",
       "      <td>20</td>\n",
       "      <td>21</td>\n",
       "      <td>22</td>\n",
       "      <td>23</td>\n",
       "      <td>24</td>\n",
       "      <td>25</td>\n",
       "      <td>26</td>\n",
       "    </tr>\n",
       "    <tr>\n",
       "      <td>description</td>\n",
       "      <td>Emergency</td>\n",
       "      <td>Urgent</td>\n",
       "      <td>Elective</td>\n",
       "      <td>Newborn</td>\n",
       "      <td>Not Available</td>\n",
       "      <td>NaN</td>\n",
       "      <td>Trauma Center</td>\n",
       "      <td>Not Mapped</td>\n",
       "      <td>NaN</td>\n",
       "      <td>description</td>\n",
       "      <td>...</td>\n",
       "      <td>NaN</td>\n",
       "      <td>Transfer From Another Home Health Agency</td>\n",
       "      <td>Readmission to Same Home Health Agency</td>\n",
       "      <td>Not Mapped</td>\n",
       "      <td>Unknown/Invalid</td>\n",
       "      <td>Transfer from hospital inpt/same fac reslt in...</td>\n",
       "      <td>Born inside this hospital</td>\n",
       "      <td>Born outside this hospital</td>\n",
       "      <td>Transfer from Ambulatory Surgery Center</td>\n",
       "      <td>Transfer from Hospice</td>\n",
       "    </tr>\n",
       "  </tbody>\n",
       "</table>\n",
       "<p>2 rows × 67 columns</p>\n",
       "</div>"
      ],
      "text/plain": [
       "                          0       1         2        3              4    5   \\\n",
       "admission_type_id          1       2         3        4              5    6   \n",
       "description        Emergency  Urgent  Elective  Newborn  Not Available  NaN   \n",
       "\n",
       "                              6           7    8                         9   \\\n",
       "admission_type_id              7           8  NaN  discharge_disposition_id   \n",
       "description        Trauma Center  Not Mapped  NaN               description   \n",
       "\n",
       "                   ...   57                                         58  \\\n",
       "admission_type_id  ...   17                                         18   \n",
       "description        ...  NaN   Transfer From Another Home Health Agency   \n",
       "\n",
       "                                                       59           60  \\\n",
       "admission_type_id                                      19           20   \n",
       "description        Readmission to Same Home Health Agency   Not Mapped   \n",
       "\n",
       "                                61  \\\n",
       "admission_type_id               21   \n",
       "description        Unknown/Invalid   \n",
       "\n",
       "                                                                  62  \\\n",
       "admission_type_id                                                 22   \n",
       "description         Transfer from hospital inpt/same fac reslt in...   \n",
       "\n",
       "                                           63                           64  \\\n",
       "admission_type_id                          23                           24   \n",
       "description         Born inside this hospital   Born outside this hospital   \n",
       "\n",
       "                                                         65  \\\n",
       "admission_type_id                                        25   \n",
       "description         Transfer from Ambulatory Surgery Center   \n",
       "\n",
       "                                      66  \n",
       "admission_type_id                     26  \n",
       "description        Transfer from Hospice  \n",
       "\n",
       "[2 rows x 67 columns]"
      ]
     },
     "execution_count": 627,
     "metadata": {},
     "output_type": "execute_result"
    }
   ],
   "source": [
    "idmapping.transpose().head()"
   ]
  },
  {
   "cell_type": "markdown",
   "metadata": {},
   "source": [
    "## Jae Features"
   ]
  },
  {
   "cell_type": "code",
   "execution_count": 628,
   "metadata": {},
   "outputs": [],
   "source": [
    "# my_columns = '''encounter_id, patient_nbr, admission_type_id, \n",
    "# discharge_disposition_id, admission_source_id, time_in_hospital, \n",
    "# num_lab_procedures, num_procedures, num_medications, number_outpatient, \n",
    "# number_emergency, number_inpatient, number_diagnoses, readmitted\n",
    "# '''\n",
    "# my_columns = my_columns.split(',')\n",
    "# my_columns = [s.strip() for s in my_columns]\n",
    "# my_columns\n",
    "# set(my_columns) - set(diabdata.columns.tolist())"
   ]
  },
  {
   "cell_type": "code",
   "execution_count": 629,
   "metadata": {},
   "outputs": [],
   "source": [
    "# myDF = diabdata[my_columns]\n",
    "# myDF"
   ]
  },
  {
   "cell_type": "code",
   "execution_count": 630,
   "metadata": {},
   "outputs": [],
   "source": [
    "# myDF.isna().sum()"
   ]
  },
  {
   "cell_type": "code",
   "execution_count": 631,
   "metadata": {},
   "outputs": [
    {
     "name": "stdout",
     "output_type": "stream",
     "text": [
      "Dischage Reasons: \n"
     ]
    },
    {
     "data": {
      "text/plain": [
       "1     60234\n",
       "3     13954\n",
       "6     12902\n",
       "18     3691\n",
       "2      2128\n",
       "22     1993\n",
       "11     1642\n",
       "5      1184\n",
       "25      989\n",
       "4       815\n",
       "Name: discharge_disposition_id, dtype: int64"
      ]
     },
     "execution_count": 631,
     "metadata": {},
     "output_type": "execute_result"
    }
   ],
   "source": [
    "print('Dischage Reasons: ')\n",
    "\n",
    "diabdata.discharge_disposition_id.value_counts()[:10]"
   ]
  },
  {
   "cell_type": "markdown",
   "metadata": {},
   "source": [
    "### ID Fileds\n",
    "- The ID fields are integers but they are codes that need to be decoded and grouped into categories. Need one hot encoding after. \n",
    "\n",
    "admission_type_id: \n",
    "\n",
    " 1: 'Emergency',\n",
    " 2: 'Urgent',\n",
    " 3: 'Elective',\n",
    " 4: 'Newborn',\n",
    " 5: 'Not Available',\n",
    " 6: nan,\n",
    " 7: 'Trauma Center',\n",
    " 8: 'Not Mapped'\n",
    "\n",
    "discharge_disposition_id:\n",
    "\n",
    "1: Discharged to Home\n",
    "2: Another Hospital\n",
    "3: Transferred a Skilled Nurse Fascility (SNF)\n",
    "4: Transferred a Intensive Care Fasc. (ICF)\n",
    "5: Transferred a Impatient Care Inst.\n",
    "6: Transferred to Home with Home Health\n",
    "11: Expired/Death\n",
    "18: NULL\n",
    "25: Not Mapped\n",
    "\n",
    "admission_source_id:\n",
    "\n",
    "1: Physician Referral\n",
    "2: Clinic Referral\n",
    "3: HMO Referral\n",
    "4: Transfer from a hospital\n",
    "5: Transfer from a Skilled Nursing Facility (SNF)\n",
    "6: Transfer from another health care facility\n",
    "7: Emergency Room\n",
    "9: Not Available\n",
    "17: NULL\n",
    "20: Not Mapped\n",
    "\n"
   ]
  },
  {
   "cell_type": "code",
   "execution_count": 632,
   "metadata": {},
   "outputs": [
    {
     "data": {
      "text/plain": [
       "1     60234\n",
       "3     13954\n",
       "6     12902\n",
       "18     3691\n",
       "2      2128\n",
       "22     1993\n",
       "11     1642\n",
       "5      1184\n",
       "25      989\n",
       "4       815\n",
       "Name: discharge_disposition_id, dtype: int64"
      ]
     },
     "execution_count": 632,
     "metadata": {},
     "output_type": "execute_result"
    }
   ],
   "source": [
    "diabdata.discharge_disposition_id.value_counts()[:10]"
   ]
  },
  {
   "cell_type": "code",
   "execution_count": 634,
   "metadata": {},
   "outputs": [
    {
     "data": {
      "text/plain": [
       "0          phys_ref\n",
       "1         emergency\n",
       "2         emergency\n",
       "3         emergency\n",
       "4         emergency\n",
       "            ...    \n",
       "101761    emergency\n",
       "101762        other\n",
       "101763    emergency\n",
       "101764    emergency\n",
       "101765    emergency\n",
       "Name: admission_source_id, Length: 101766, dtype: object"
      ]
     },
     "execution_count": 634,
     "metadata": {},
     "output_type": "execute_result"
    }
   ],
   "source": [
    "diabdata.admission_source_id.apply(lambda x: conv_adms_id(x))"
   ]
  },
  {
   "cell_type": "code",
   "execution_count": 635,
   "metadata": {},
   "outputs": [
    {
     "data": {
      "text/plain": [
       "0         other\n",
       "1          home\n",
       "2          home\n",
       "3          home\n",
       "4          home\n",
       "          ...  \n",
       "101761    other\n",
       "101762    other\n",
       "101763     home\n",
       "101764    other\n",
       "101765     home\n",
       "Name: discharge_disposition_id, Length: 101766, dtype: object"
      ]
     },
     "execution_count": 635,
     "metadata": {},
     "output_type": "execute_result"
    }
   ],
   "source": [
    "# Check if function works, non-mutating\n",
    "diabdata.discharge_disposition_id.apply(lambda x: conv_disch_id(x))"
   ]
  },
  {
   "cell_type": "code",
   "execution_count": 636,
   "metadata": {},
   "outputs": [
    {
     "data": {
      "text/plain": [
       "{1: 'Emergency',\n",
       " 2: 'Urgent',\n",
       " 3: 'Elective',\n",
       " 4: 'Newborn',\n",
       " 5: 'Not Available',\n",
       " 6: nan,\n",
       " 7: 'Trauma Center',\n",
       " 8: 'Not Mapped'}"
      ]
     },
     "execution_count": 636,
     "metadata": {},
     "output_type": "execute_result"
    }
   ],
   "source": [
    "# To map dictionary values to panda df columns keys set 1 -to - ID\n",
    "def fix_dict_keys(mydict):\n",
    "    j = 1\n",
    "    temp_dict={}\n",
    "    for key in mydict: \n",
    "        temp_dict[j] = mydict[key]\n",
    "        j+=1\n",
    "    return temp_dict\n",
    "# --------------------------------------------------\n",
    "# Extract the ID information from mapping data frame\n",
    "\n",
    "# admission_type_id\n",
    "ad_type_id_dict    = idmapping.iloc[0:8,]['description'].to_dict()\n",
    "\n",
    "# discharge_disposition_id\n",
    "discharge_id_dict  = idmapping.iloc[10:41,]['description'].to_dict()\n",
    "\n",
    "# admission_source_id\n",
    "adm_source_id_dict = idmapping.iloc[43:,]['description'].to_dict()\n",
    "\n",
    "map_adm_type     = fix_dict_keys(ad_type_id_dict)\n",
    "map_disch_type   = fix_dict_keys(discharge_id_dict)\n",
    "map_source_type  = fix_dict_keys(adm_source_id_dict)\n",
    "\n",
    "map_adm_type"
   ]
  },
  {
   "cell_type": "code",
   "execution_count": null,
   "metadata": {},
   "outputs": [],
   "source": []
  },
  {
   "cell_type": "code",
   "execution_count": null,
   "metadata": {},
   "outputs": [],
   "source": []
  },
  {
   "cell_type": "code",
   "execution_count": null,
   "metadata": {},
   "outputs": [],
   "source": []
  },
  {
   "cell_type": "markdown",
   "metadata": {},
   "source": [
    "## Univariate Data analysis\n",
    "- Analyzing the features induvidually"
   ]
  },
  {
   "cell_type": "code",
   "execution_count": 637,
   "metadata": {},
   "outputs": [
    {
     "name": "stdout",
     "output_type": "stream",
     "text": [
      "The target Variable Classes\n"
     ]
    },
    {
     "data": {
      "text/plain": [
       "NO     54864\n",
       ">30    35545\n",
       "<30    11357\n",
       "Name: readmitted, dtype: int64"
      ]
     },
     "execution_count": 637,
     "metadata": {},
     "output_type": "execute_result"
    }
   ],
   "source": [
    "print('The target Variable Classes')\n",
    "diabdata.readmitted.value_counts()"
   ]
  },
  {
   "cell_type": "code",
   "execution_count": 638,
   "metadata": {},
   "outputs": [
    {
     "data": {
      "text/plain": [
       "Yes    78363\n",
       "No     23403\n",
       "Name: diabetesMed, dtype: int64"
      ]
     },
     "execution_count": 638,
     "metadata": {},
     "output_type": "execute_result"
    }
   ],
   "source": [
    "diabdata.diabetesMed.value_counts()"
   ]
  },
  {
   "cell_type": "code",
   "execution_count": 639,
   "metadata": {},
   "outputs": [],
   "source": [
    "# Value distribution of categorical Variables\n",
    "\n",
    "# for col in diabdata.columns.tolist():\n",
    "#     print(diabdata[col].value_counts())"
   ]
  },
  {
   "cell_type": "code",
   "execution_count": 640,
   "metadata": {},
   "outputs": [
    {
     "data": {
      "text/plain": [
       "Index(['encounter_id', 'patient_nbr', 'race', 'gender', 'age', 'weight',\n",
       "       'admission_type_id', 'discharge_disposition_id', 'admission_source_id',\n",
       "       'time_in_hospital', 'payer_code', 'medical_specialty',\n",
       "       'num_lab_procedures', 'num_procedures', 'num_medications',\n",
       "       'number_outpatient', 'number_emergency', 'number_inpatient', 'diag_1',\n",
       "       'diag_2', 'diag_3', 'number_diagnoses', 'max_glu_serum', 'A1Cresult',\n",
       "       'metformin', 'repaglinide', 'nateglinide', 'chlorpropamide',\n",
       "       'glimepiride', 'acetohexamide', 'glipizide', 'glyburide', 'tolbutamide',\n",
       "       'pioglitazone', 'rosiglitazone', 'acarbose', 'miglitol', 'troglitazone',\n",
       "       'tolazamide', 'examide', 'citoglipton', 'insulin',\n",
       "       'glyburide-metformin', 'glipizide-metformin',\n",
       "       'glimepiride-pioglitazone', 'metformin-rosiglitazone',\n",
       "       'metformin-pioglitazone', 'change', 'diabetesMed', 'readmitted'],\n",
       "      dtype='object')"
      ]
     },
     "execution_count": 640,
     "metadata": {},
     "output_type": "execute_result"
    }
   ],
   "source": [
    "diabdata.columns"
   ]
  },
  {
   "cell_type": "code",
   "execution_count": 641,
   "metadata": {},
   "outputs": [
    {
     "name": "stdout",
     "output_type": "stream",
     "text": [
      "Numerous categorical features\n"
     ]
    }
   ],
   "source": [
    "print('Numerous categorical features')\n",
    "# diabdata.dtypes"
   ]
  },
  {
   "cell_type": "code",
   "execution_count": 642,
   "metadata": {},
   "outputs": [
    {
     "name": "stdout",
     "output_type": "stream",
     "text": [
      "The different types of data in the dataset: \n",
      " object    37\n",
      "int64     13\n",
      "dtype: int64\n"
     ]
    }
   ],
   "source": [
    "print('The different types of data in the dataset: \\n',diabdata.dtypes.value_counts())\n"
   ]
  },
  {
   "cell_type": "code",
   "execution_count": 643,
   "metadata": {},
   "outputs": [
    {
     "data": {
      "text/plain": [
       "Text(0.5, 1.0, 'TimeInH0spital VS. Readmission')"
      ]
     },
     "execution_count": 643,
     "metadata": {},
     "output_type": "execute_result"
    },
    {
     "data": {
      "image/png": "[encoded data removed]",
      "text/plain": [
       "<Figure size 432x288 with 1 Axes>"
      ]
     },
     "metadata": {
      "needs_background": "light"
     },
     "output_type": "display_data"
    }
   ],
   "source": [
    "sns.countplot(y= diabdata['time_in_hospital'], hue = diabdata['readmitted']).set_title('TimeInH0spital VS. Readmission')"
   ]
  },
  {
   "cell_type": "code",
   "execution_count": 644,
   "metadata": {},
   "outputs": [
    {
     "data": {
      "text/html": [
       "<div>\n",
       "<style scoped>\n",
       "    .dataframe tbody tr th:only-of-type {\n",
       "        vertical-align: middle;\n",
       "    }\n",
       "\n",
       "    .dataframe tbody tr th {\n",
       "        vertical-align: top;\n",
       "    }\n",
       "\n",
       "    .dataframe thead th {\n",
       "        text-align: right;\n",
       "    }\n",
       "</style>\n",
       "<table border=\"1\" class=\"dataframe\">\n",
       "  <thead>\n",
       "    <tr style=\"text-align: right;\">\n",
       "      <th></th>\n",
       "      <th></th>\n",
       "      <th>A1Cresult</th>\n",
       "      <th>readmitted</th>\n",
       "    </tr>\n",
       "    <tr>\n",
       "      <th>A1Cresult</th>\n",
       "      <th>readmitted</th>\n",
       "      <th></th>\n",
       "      <th></th>\n",
       "    </tr>\n",
       "  </thead>\n",
       "  <tbody>\n",
       "    <tr>\n",
       "      <td rowspan=\"3\" valign=\"top\">&gt;7</td>\n",
       "      <td>&lt;30</td>\n",
       "      <td>383</td>\n",
       "      <td>383</td>\n",
       "    </tr>\n",
       "    <tr>\n",
       "      <td>&gt;30</td>\n",
       "      <td>1300</td>\n",
       "      <td>1300</td>\n",
       "    </tr>\n",
       "    <tr>\n",
       "      <td>NO</td>\n",
       "      <td>2129</td>\n",
       "      <td>2129</td>\n",
       "    </tr>\n",
       "    <tr>\n",
       "      <td rowspan=\"3\" valign=\"top\">&gt;8</td>\n",
       "      <td>&lt;30</td>\n",
       "      <td>811</td>\n",
       "      <td>811</td>\n",
       "    </tr>\n",
       "    <tr>\n",
       "      <td>&gt;30</td>\n",
       "      <td>2901</td>\n",
       "      <td>2901</td>\n",
       "    </tr>\n",
       "    <tr>\n",
       "      <td>NO</td>\n",
       "      <td>4504</td>\n",
       "      <td>4504</td>\n",
       "    </tr>\n",
       "    <tr>\n",
       "      <td rowspan=\"3\" valign=\"top\">None</td>\n",
       "      <td>&lt;30</td>\n",
       "      <td>9681</td>\n",
       "      <td>9681</td>\n",
       "    </tr>\n",
       "    <tr>\n",
       "      <td>&gt;30</td>\n",
       "      <td>29745</td>\n",
       "      <td>29745</td>\n",
       "    </tr>\n",
       "    <tr>\n",
       "      <td>NO</td>\n",
       "      <td>45322</td>\n",
       "      <td>45322</td>\n",
       "    </tr>\n",
       "    <tr>\n",
       "      <td rowspan=\"3\" valign=\"top\">Norm</td>\n",
       "      <td>&lt;30</td>\n",
       "      <td>482</td>\n",
       "      <td>482</td>\n",
       "    </tr>\n",
       "    <tr>\n",
       "      <td>&gt;30</td>\n",
       "      <td>1599</td>\n",
       "      <td>1599</td>\n",
       "    </tr>\n",
       "    <tr>\n",
       "      <td>NO</td>\n",
       "      <td>2909</td>\n",
       "      <td>2909</td>\n",
       "    </tr>\n",
       "  </tbody>\n",
       "</table>\n",
       "</div>"
      ],
      "text/plain": [
       "                      A1Cresult  readmitted\n",
       "A1Cresult readmitted                       \n",
       ">7        <30               383         383\n",
       "          >30              1300        1300\n",
       "          NO               2129        2129\n",
       ">8        <30               811         811\n",
       "          >30              2901        2901\n",
       "          NO               4504        4504\n",
       "None      <30              9681        9681\n",
       "          >30             29745       29745\n",
       "          NO              45322       45322\n",
       "Norm      <30               482         482\n",
       "          >30              1599        1599\n",
       "          NO               2909        2909"
      ]
     },
     "execution_count": 644,
     "metadata": {},
     "output_type": "execute_result"
    }
   ],
   "source": [
    "diabdata.groupby(['A1Cresult','readmitted'])['A1Cresult','readmitted'].count()"
   ]
  },
  {
   "cell_type": "code",
   "execution_count": 645,
   "metadata": {},
   "outputs": [
    {
     "data": {
      "text/plain": [
       "Text(0.5, 1.0, 'NumOfProcedures VS. Readmission')"
      ]
     },
     "execution_count": 645,
     "metadata": {},
     "output_type": "execute_result"
    },
    {
     "data": {
      "image/png": "[encoded data removed]",
      "text/plain": [
       "<Figure size 432x288 with 1 Axes>"
      ]
     },
     "metadata": {
      "needs_background": "light"
     },
     "output_type": "display_data"
    }
   ],
   "source": [
    "sns.countplot(y= diabdata['A1Cresult'], hue = diabdata['readmitted']).set_title('NumOfProcedures VS. Readmission')"
   ]
  },
  {
   "cell_type": "code",
   "execution_count": 646,
   "metadata": {},
   "outputs": [
    {
     "name": "stdout",
     "output_type": "stream",
     "text": [
      "\n"
     ]
    },
    {
     "data": {
      "text/plain": [
       "<matplotlib.axes._subplots.AxesSubplot at 0x1c43a8e410>"
      ]
     },
     "execution_count": 646,
     "metadata": {},
     "output_type": "execute_result"
    },
    {
     "data": {
      "image/png": "[encoded data removed]",
      "text/plain": [
       "<Figure size 432x288 with 1 Axes>"
      ]
     },
     "metadata": {
      "needs_background": "light"
     },
     "output_type": "display_data"
    }
   ],
   "source": [
    "print()\n",
    "diabdata.groupby(['num_procedures','readmitted'])['readmitted'].count().plot.barh()"
   ]
  },
  {
   "cell_type": "code",
   "execution_count": 647,
   "metadata": {},
   "outputs": [
    {
     "data": {
      "text/plain": [
       "Text(0.5, 1.0, 'NumOfProcedures VS. Readmission')"
      ]
     },
     "execution_count": 647,
     "metadata": {},
     "output_type": "execute_result"
    },
    {
     "data": {
      "image/png": "[encoded data removed]",
      "text/plain": [
       "<Figure size 432x288 with 1 Axes>"
      ]
     },
     "metadata": {
      "needs_background": "light"
     },
     "output_type": "display_data"
    }
   ],
   "source": [
    "sns.countplot(y= diabdata['num_procedures'], hue = diabdata['readmitted']).set_title('NumOfProcedures VS. Readmission')"
   ]
  },
  {
   "cell_type": "code",
   "execution_count": 648,
   "metadata": {},
   "outputs": [
    {
     "data": {
      "text/html": [
       "<div>\n",
       "<style scoped>\n",
       "    .dataframe tbody tr th:only-of-type {\n",
       "        vertical-align: middle;\n",
       "    }\n",
       "\n",
       "    .dataframe tbody tr th {\n",
       "        vertical-align: top;\n",
       "    }\n",
       "\n",
       "    .dataframe thead tr th {\n",
       "        text-align: left;\n",
       "    }\n",
       "</style>\n",
       "<table border=\"1\" class=\"dataframe\">\n",
       "  <thead>\n",
       "    <tr>\n",
       "      <th>num_medications</th>\n",
       "      <th colspan=\"3\" halign=\"left\">1</th>\n",
       "      <th colspan=\"3\" halign=\"left\">2</th>\n",
       "      <th colspan=\"3\" halign=\"left\">3</th>\n",
       "      <th colspan=\"3\" halign=\"left\">4</th>\n",
       "      <th colspan=\"3\" halign=\"left\">5</th>\n",
       "      <th colspan=\"3\" halign=\"left\">6</th>\n",
       "      <th colspan=\"2\" halign=\"left\">7</th>\n",
       "    </tr>\n",
       "    <tr>\n",
       "      <th>readmitted</th>\n",
       "      <th>&lt;30</th>\n",
       "      <th>&gt;30</th>\n",
       "      <th>NO</th>\n",
       "      <th>&lt;30</th>\n",
       "      <th>&gt;30</th>\n",
       "      <th>NO</th>\n",
       "      <th>&lt;30</th>\n",
       "      <th>&gt;30</th>\n",
       "      <th>NO</th>\n",
       "      <th>&lt;30</th>\n",
       "      <th>&gt;30</th>\n",
       "      <th>NO</th>\n",
       "      <th>&lt;30</th>\n",
       "      <th>&gt;30</th>\n",
       "      <th>NO</th>\n",
       "      <th>&lt;30</th>\n",
       "      <th>&gt;30</th>\n",
       "      <th>NO</th>\n",
       "      <th>&lt;30</th>\n",
       "      <th>&gt;30</th>\n",
       "    </tr>\n",
       "  </thead>\n",
       "  <tbody>\n",
       "    <tr>\n",
       "      <td>readmitted</td>\n",
       "      <td>11</td>\n",
       "      <td>72</td>\n",
       "      <td>179</td>\n",
       "      <td>39</td>\n",
       "      <td>106</td>\n",
       "      <td>325</td>\n",
       "      <td>65</td>\n",
       "      <td>209</td>\n",
       "      <td>626</td>\n",
       "      <td>114</td>\n",
       "      <td>381</td>\n",
       "      <td>922</td>\n",
       "      <td>150</td>\n",
       "      <td>537</td>\n",
       "      <td>1330</td>\n",
       "      <td>229</td>\n",
       "      <td>789</td>\n",
       "      <td>1681</td>\n",
       "      <td>305</td>\n",
       "      <td>1066</td>\n",
       "    </tr>\n",
       "  </tbody>\n",
       "</table>\n",
       "</div>"
      ],
      "text/plain": [
       "num_medications   1            2             3              4              5  \\\n",
       "readmitted      <30 >30   NO <30  >30   NO <30  >30   NO  <30  >30   NO  <30   \n",
       "readmitted       11  72  179  39  106  325  65  209  626  114  381  922  150   \n",
       "\n",
       "num_medications               6               7        \n",
       "readmitted       >30    NO  <30  >30    NO  <30   >30  \n",
       "readmitted       537  1330  229  789  1681  305  1066  "
      ]
     },
     "execution_count": 648,
     "metadata": {},
     "output_type": "execute_result"
    }
   ],
   "source": [
    "diabdata.groupby(['num_medications','readmitted'])[['readmitted']].count()[:20].T"
   ]
  },
  {
   "cell_type": "markdown",
   "metadata": {},
   "source": [
    "## Data Cleaning\n",
    "- Missing Values\n",
    "- Outliers\n"
   ]
  },
  {
   "cell_type": "code",
   "execution_count": 649,
   "metadata": {},
   "outputs": [],
   "source": [
    "# print('The unique number of patients, keep only these rows? ')\n",
    "# diabdata.patient_nbr.value_counts().count()\n",
    "\n",
    "# diabdata = diabdata.drop_duplicates(subset= ['patient_nbr'], keep = 'first') "
   ]
  },
  {
   "cell_type": "code",
   "execution_count": 650,
   "metadata": {},
   "outputs": [
    {
     "data": {
      "text/plain": [
       "(101766, 50)"
      ]
     },
     "execution_count": 650,
     "metadata": {},
     "output_type": "execute_result"
    }
   ],
   "source": [
    "diabdata.shape"
   ]
  },
  {
   "cell_type": "code",
   "execution_count": 651,
   "metadata": {},
   "outputs": [],
   "source": [
    "# Filtering rows by dropping fields with quesiton mark '?'\n",
    "# diag codes\n",
    "drop_Idx = set()\n",
    "drop_Idx = drop_Idx.union(set(diabdata[diabdata['diag_1']                   == '?'].index)) # Unknown\n",
    "drop_Idx = drop_Idx.union(set(diabdata[diabdata['diag_2']                   == '?'].index)) # Unknown\n",
    "drop_Idx = drop_Idx.union(set(diabdata[diabdata['diag_3']                   == '?'].index)) # Unknown\n",
    "drop_Idx = drop_Idx.union(set(diabdata[diabdata['discharge_disposition_id'] == 11].index))  # Death\n",
    "drop_Idx = drop_Idx.union(set(diabdata[diabdata['gender']                   == 'Unknown/Invalid'].index))\n",
    "\n",
    "new_Idx = list(set(diabdata.index) - set(drop_Idx))\n",
    "diabdata = diabdata.iloc[new_Idx]"
   ]
  },
  {
   "cell_type": "code",
   "execution_count": 652,
   "metadata": {},
   "outputs": [],
   "source": [
    "# diabdata[diabdata['diag_1']=='?']"
   ]
  },
  {
   "cell_type": "code",
   "execution_count": 653,
   "metadata": {},
   "outputs": [
    {
     "data": {
      "text/plain": [
       "(98601, 50)"
      ]
     },
     "execution_count": 653,
     "metadata": {},
     "output_type": "execute_result"
    }
   ],
   "source": [
    "diabdata.shape"
   ]
  },
  {
   "cell_type": "code",
   "execution_count": 654,
   "metadata": {},
   "outputs": [],
   "source": [
    "# diabdata = diabdata[~(diabdata == '?').any(axis=1)]\n",
    "# diabdata[~(diabdata == '?').any(axis=1)]"
   ]
  },
  {
   "cell_type": "code",
   "execution_count": 655,
   "metadata": {},
   "outputs": [
    {
     "name": "stdout",
     "output_type": "stream",
     "text": [
      "Missing Values per feature\n",
      "Top 10 variables of missing values\n"
     ]
    },
    {
     "data": {
      "text/plain": [
       "readmitted            0\n",
       "num_lab_procedures    0\n",
       "max_glu_serum         0\n",
       "number_diagnoses      0\n",
       "diag_3                0\n",
       "diag_2                0\n",
       "diag_1                0\n",
       "number_inpatient      0\n",
       "number_emergency      0\n",
       "number_outpatient     0\n",
       "dtype: int64"
      ]
     },
     "execution_count": 655,
     "metadata": {},
     "output_type": "execute_result"
    }
   ],
   "source": [
    "print('Missing Values per feature')\n",
    "print('Top 10 variables of missing values')\n",
    "diabdata.isnull().sum().sort_values(ascending=False)[:10]"
   ]
  },
  {
   "cell_type": "code",
   "execution_count": 656,
   "metadata": {},
   "outputs": [
    {
     "data": {
      "text/plain": [
       "0"
      ]
     },
     "execution_count": 656,
     "metadata": {},
     "output_type": "execute_result"
    }
   ],
   "source": [
    "np.sum(diabdata.age.isnull())"
   ]
  },
  {
   "cell_type": "code",
   "execution_count": 657,
   "metadata": {},
   "outputs": [
    {
     "data": {
      "text/plain": [
       "Series([], Name: gender, dtype: object)"
      ]
     },
     "execution_count": 657,
     "metadata": {},
     "output_type": "execute_result"
    }
   ],
   "source": [
    "diabdata[diabdata['gender']=='Unknown/Invalid']['gender']"
   ]
  },
  {
   "cell_type": "code",
   "execution_count": 658,
   "metadata": {},
   "outputs": [
    {
     "data": {
      "text/plain": [
       "Text(0.5, 1.0, 'Age of Patient VS. Readmission')"
      ]
     },
     "execution_count": 658,
     "metadata": {},
     "output_type": "execute_result"
    },
    {
     "data": {
      "image/png": "[encoded data removed]",
      "text/plain": [
       "<Figure size 432x288 with 1 Axes>"
      ]
     },
     "metadata": {
      "needs_background": "light"
     },
     "output_type": "display_data"
    }
   ],
   "source": [
    "sns.countplot(y= diabdata['medical_specialty'], hue = diabdata['readmitted']).set_title('Age of Patient VS. Readmission')"
   ]
  },
  {
   "cell_type": "code",
   "execution_count": 659,
   "metadata": {},
   "outputs": [
    {
     "data": {
      "text/plain": [
       "Text(0.5, 1.0, 'Age of Patient VS. Readmission')"
      ]
     },
     "execution_count": 659,
     "metadata": {},
     "output_type": "execute_result"
    },
    {
     "data": {
      "image/png": "[encoded data removed]",
      "text/plain": [
       "<Figure size 432x288 with 1 Axes>"
      ]
     },
     "metadata": {
      "needs_background": "light"
     },
     "output_type": "display_data"
    }
   ],
   "source": [
    "sns.countplot(y= diabdata['age'], hue = diabdata['readmitted']).set_title('Age of Patient VS. Readmission')"
   ]
  },
  {
   "cell_type": "code",
   "execution_count": 660,
   "metadata": {},
   "outputs": [
    {
     "data": {
      "text/plain": [
       "<matplotlib.axes._subplots.AxesSubplot at 0x1a2af04710>"
      ]
     },
     "execution_count": 660,
     "metadata": {},
     "output_type": "execute_result"
    },
    {
     "data": {
      "image/png": "[encoded data removed]",
      "text/plain": [
       "<Figure size 432x288 with 1 Axes>"
      ]
     },
     "metadata": {
      "needs_background": "light"
     },
     "output_type": "display_data"
    }
   ],
   "source": [
    "diabdata.gender.value_counts().plot.bar()"
   ]
  },
  {
   "cell_type": "code",
   "execution_count": 661,
   "metadata": {},
   "outputs": [],
   "source": [
    "# sns.countplot(y= diabdata['diag_2_temp'], hue = diabdata['readmitted']).set_title('Primary Diag. VS. Readmission')"
   ]
  },
  {
   "cell_type": "code",
   "execution_count": 662,
   "metadata": {},
   "outputs": [
    {
     "data": {
      "text/plain": [
       "<matplotlib.axes._subplots.AxesSubplot at 0x1a22afa510>"
      ]
     },
     "execution_count": 662,
     "metadata": {},
     "output_type": "execute_result"
    },
    {
     "data": {
      "image/png": "[encoded data removed]",
      "text/plain": [
       "<Figure size 432x288 with 1 Axes>"
      ]
     },
     "metadata": {
      "needs_background": "light"
     },
     "output_type": "display_data"
    }
   ],
   "source": [
    "diabdata.payer_code.value_counts().plot.bar(title ='Drop Payer Code first round. Many ?')"
   ]
  },
  {
   "cell_type": "code",
   "execution_count": 663,
   "metadata": {},
   "outputs": [
    {
     "data": {
      "text/plain": [
       "428    6727\n",
       "414    6519\n",
       "786    3977\n",
       "410    3474\n",
       "486    3401\n",
       "427    2718\n",
       "491    2234\n",
       "715    2119\n",
       "682    2000\n",
       "780    1997\n",
       "Name: diag_1, dtype: int64"
      ]
     },
     "execution_count": 663,
     "metadata": {},
     "output_type": "execute_result"
    }
   ],
   "source": [
    "diabdata.diag_1.value_counts()[:10]"
   ]
  },
  {
   "cell_type": "code",
   "execution_count": 667,
   "metadata": {},
   "outputs": [
    {
     "data": {
      "text/plain": [
       "6899"
      ]
     },
     "execution_count": 667,
     "metadata": {},
     "output_type": "execute_result"
    }
   ],
   "source": [
    "diagnosis = diabdata.loc[diabdata['readmitted']=='<30',['readmitted','diag_1','diag_2','diag_3']]\n",
    "# percent_miss_count = (dftrain.isnull().sum()/dftrain.isnull().count()).sort_values(ascending=False)\n",
    "#['diag_1','diag_2','diag_3']\n",
    "# pd.concat([tot_miss_count,percent_miss_count], axis =1,keys=['NA_count','NA_percent'])[:20]\n",
    "\n",
    "print\n",
    "diagnosis.groupby('diag_1').count().sort_values('readmitted',ascending=False)[:30]['readmitted'].sum()\n"
   ]
  },
  {
   "cell_type": "code",
   "execution_count": 668,
   "metadata": {},
   "outputs": [
    {
     "data": {
      "text/plain": [
       "<matplotlib.axes._subplots.AxesSubplot at 0x1c42560690>"
      ]
     },
     "execution_count": 668,
     "metadata": {},
     "output_type": "execute_result"
    },
    {
     "data": {
      "image/png": "[encoded data removed]",
      "text/plain": [
       "<Figure size 432x288 with 1 Axes>"
      ]
     },
     "metadata": {
      "needs_background": "light"
     },
     "output_type": "display_data"
    }
   ],
   "source": [
    "diabdata.race.value_counts().plot.bar()"
   ]
  },
  {
   "cell_type": "code",
   "execution_count": 669,
   "metadata": {},
   "outputs": [
    {
     "data": {
      "text/plain": [
       "Female    53081\n",
       "Male      45520\n",
       "Name: gender, dtype: int64"
      ]
     },
     "execution_count": 669,
     "metadata": {},
     "output_type": "execute_result"
    }
   ],
   "source": [
    "# Getting rid of the Unknowns for Gender - not real significance\n",
    "diabdata.gender = diabdata.gender.replace('Unknown/Invalid','Female')\n",
    "diabdata.gender.value_counts()"
   ]
  },
  {
   "cell_type": "code",
   "execution_count": 670,
   "metadata": {},
   "outputs": [
    {
     "data": {
      "text/html": [
       "<div>\n",
       "<style scoped>\n",
       "    .dataframe tbody tr th:only-of-type {\n",
       "        vertical-align: middle;\n",
       "    }\n",
       "\n",
       "    .dataframe tbody tr th {\n",
       "        vertical-align: top;\n",
       "    }\n",
       "\n",
       "    .dataframe thead th {\n",
       "        text-align: right;\n",
       "    }\n",
       "</style>\n",
       "<table border=\"1\" class=\"dataframe\">\n",
       "  <thead>\n",
       "    <tr style=\"text-align: right;\">\n",
       "      <th></th>\n",
       "      <th>encounter_id</th>\n",
       "      <th>patient_nbr</th>\n",
       "      <th>race</th>\n",
       "      <th>gender</th>\n",
       "      <th>age</th>\n",
       "      <th>weight</th>\n",
       "      <th>admission_type_id</th>\n",
       "      <th>discharge_disposition_id</th>\n",
       "      <th>admission_source_id</th>\n",
       "      <th>time_in_hospital</th>\n",
       "      <th>...</th>\n",
       "      <th>citoglipton</th>\n",
       "      <th>insulin</th>\n",
       "      <th>glyburide-metformin</th>\n",
       "      <th>glipizide-metformin</th>\n",
       "      <th>glimepiride-pioglitazone</th>\n",
       "      <th>metformin-rosiglitazone</th>\n",
       "      <th>metformin-pioglitazone</th>\n",
       "      <th>change</th>\n",
       "      <th>diabetesMed</th>\n",
       "      <th>readmitted</th>\n",
       "    </tr>\n",
       "  </thead>\n",
       "  <tbody>\n",
       "    <tr>\n",
       "      <td>1</td>\n",
       "      <td>149190</td>\n",
       "      <td>55629189</td>\n",
       "      <td>Caucasian</td>\n",
       "      <td>Female</td>\n",
       "      <td>[10-20)</td>\n",
       "      <td>?</td>\n",
       "      <td>1</td>\n",
       "      <td>1</td>\n",
       "      <td>7</td>\n",
       "      <td>3</td>\n",
       "      <td>...</td>\n",
       "      <td>No</td>\n",
       "      <td>Up</td>\n",
       "      <td>No</td>\n",
       "      <td>No</td>\n",
       "      <td>No</td>\n",
       "      <td>No</td>\n",
       "      <td>No</td>\n",
       "      <td>Ch</td>\n",
       "      <td>Yes</td>\n",
       "      <td>&gt;30</td>\n",
       "    </tr>\n",
       "    <tr>\n",
       "      <td>2</td>\n",
       "      <td>64410</td>\n",
       "      <td>86047875</td>\n",
       "      <td>AfricanAmerican</td>\n",
       "      <td>Female</td>\n",
       "      <td>[20-30)</td>\n",
       "      <td>?</td>\n",
       "      <td>1</td>\n",
       "      <td>1</td>\n",
       "      <td>7</td>\n",
       "      <td>2</td>\n",
       "      <td>...</td>\n",
       "      <td>No</td>\n",
       "      <td>No</td>\n",
       "      <td>No</td>\n",
       "      <td>No</td>\n",
       "      <td>No</td>\n",
       "      <td>No</td>\n",
       "      <td>No</td>\n",
       "      <td>No</td>\n",
       "      <td>Yes</td>\n",
       "      <td>NO</td>\n",
       "    </tr>\n",
       "    <tr>\n",
       "      <td>3</td>\n",
       "      <td>500364</td>\n",
       "      <td>82442376</td>\n",
       "      <td>Caucasian</td>\n",
       "      <td>Male</td>\n",
       "      <td>[30-40)</td>\n",
       "      <td>?</td>\n",
       "      <td>1</td>\n",
       "      <td>1</td>\n",
       "      <td>7</td>\n",
       "      <td>2</td>\n",
       "      <td>...</td>\n",
       "      <td>No</td>\n",
       "      <td>Up</td>\n",
       "      <td>No</td>\n",
       "      <td>No</td>\n",
       "      <td>No</td>\n",
       "      <td>No</td>\n",
       "      <td>No</td>\n",
       "      <td>Ch</td>\n",
       "      <td>Yes</td>\n",
       "      <td>NO</td>\n",
       "    </tr>\n",
       "    <tr>\n",
       "      <td>4</td>\n",
       "      <td>16680</td>\n",
       "      <td>42519267</td>\n",
       "      <td>Caucasian</td>\n",
       "      <td>Male</td>\n",
       "      <td>[40-50)</td>\n",
       "      <td>?</td>\n",
       "      <td>1</td>\n",
       "      <td>1</td>\n",
       "      <td>7</td>\n",
       "      <td>1</td>\n",
       "      <td>...</td>\n",
       "      <td>No</td>\n",
       "      <td>Steady</td>\n",
       "      <td>No</td>\n",
       "      <td>No</td>\n",
       "      <td>No</td>\n",
       "      <td>No</td>\n",
       "      <td>No</td>\n",
       "      <td>Ch</td>\n",
       "      <td>Yes</td>\n",
       "      <td>NO</td>\n",
       "    </tr>\n",
       "    <tr>\n",
       "      <td>5</td>\n",
       "      <td>35754</td>\n",
       "      <td>82637451</td>\n",
       "      <td>Caucasian</td>\n",
       "      <td>Male</td>\n",
       "      <td>[50-60)</td>\n",
       "      <td>?</td>\n",
       "      <td>2</td>\n",
       "      <td>1</td>\n",
       "      <td>2</td>\n",
       "      <td>3</td>\n",
       "      <td>...</td>\n",
       "      <td>No</td>\n",
       "      <td>Steady</td>\n",
       "      <td>No</td>\n",
       "      <td>No</td>\n",
       "      <td>No</td>\n",
       "      <td>No</td>\n",
       "      <td>No</td>\n",
       "      <td>No</td>\n",
       "      <td>Yes</td>\n",
       "      <td>&gt;30</td>\n",
       "    </tr>\n",
       "  </tbody>\n",
       "</table>\n",
       "<p>5 rows × 50 columns</p>\n",
       "</div>"
      ],
      "text/plain": [
       "   encounter_id  patient_nbr             race  gender      age weight  \\\n",
       "1        149190     55629189        Caucasian  Female  [10-20)      ?   \n",
       "2         64410     86047875  AfricanAmerican  Female  [20-30)      ?   \n",
       "3        500364     82442376        Caucasian    Male  [30-40)      ?   \n",
       "4         16680     42519267        Caucasian    Male  [40-50)      ?   \n",
       "5         35754     82637451        Caucasian    Male  [50-60)      ?   \n",
       "\n",
       "   admission_type_id  discharge_disposition_id  admission_source_id  \\\n",
       "1                  1                         1                    7   \n",
       "2                  1                         1                    7   \n",
       "3                  1                         1                    7   \n",
       "4                  1                         1                    7   \n",
       "5                  2                         1                    2   \n",
       "\n",
       "   time_in_hospital  ... citoglipton insulin  glyburide-metformin  \\\n",
       "1                 3  ...          No      Up                   No   \n",
       "2                 2  ...          No      No                   No   \n",
       "3                 2  ...          No      Up                   No   \n",
       "4                 1  ...          No  Steady                   No   \n",
       "5                 3  ...          No  Steady                   No   \n",
       "\n",
       "   glipizide-metformin  glimepiride-pioglitazone  metformin-rosiglitazone  \\\n",
       "1                   No                        No                       No   \n",
       "2                   No                        No                       No   \n",
       "3                   No                        No                       No   \n",
       "4                   No                        No                       No   \n",
       "5                   No                        No                       No   \n",
       "\n",
       "   metformin-pioglitazone  change diabetesMed readmitted  \n",
       "1                      No      Ch         Yes        >30  \n",
       "2                      No      No         Yes         NO  \n",
       "3                      No      Ch         Yes         NO  \n",
       "4                      No      Ch         Yes         NO  \n",
       "5                      No      No         Yes        >30  \n",
       "\n",
       "[5 rows x 50 columns]"
      ]
     },
     "execution_count": 670,
     "metadata": {},
     "output_type": "execute_result"
    }
   ],
   "source": [
    "diabdata.head()"
   ]
  },
  {
   "cell_type": "code",
   "execution_count": 671,
   "metadata": {},
   "outputs": [
    {
     "data": {
      "text/plain": [
       "Caucasian          73835\n",
       "AfricanAmerican    18560\n",
       "Other               4051\n",
       "Missing             2155\n",
       "Name: race, dtype: int64"
      ]
     },
     "execution_count": 671,
     "metadata": {},
     "output_type": "execute_result"
    }
   ],
   "source": [
    "# Take care of the race missing values and minority asian as outlier\n",
    "diabdata.race = diabdata.race.replace('?','Missing').replace('Asian','Other').replace('Hispanic','Other')\n",
    "diabdata.race.value_counts()"
   ]
  },
  {
   "cell_type": "code",
   "execution_count": 672,
   "metadata": {},
   "outputs": [],
   "source": [
    "# Following guideline filling in missing for '?'\n",
    "diabdata.medical_specialty  = diabdata.medical_specialty.replace('?','Missing')"
   ]
  },
  {
   "cell_type": "code",
   "execution_count": 673,
   "metadata": {},
   "outputs": [],
   "source": [
    "# Convert the discharge ID codes to group of classes \n",
    "diabdata.discharge_disposition_id = diabdata.discharge_disposition_id.apply(lambda x: conv_disch_id(x))"
   ]
  },
  {
   "cell_type": "code",
   "execution_count": 674,
   "metadata": {},
   "outputs": [],
   "source": [
    "# Convert the admission source ID codes to group of classes \n",
    "diabdata.admission_source_id = diabdata.admission_source_id.apply(lambda x: conv_adms_id(x))"
   ]
  },
  {
   "cell_type": "markdown",
   "metadata": {},
   "source": [
    "## Feature Engineering\n",
    "- Grouping values within feature: IDC code (based on first 3 characters)\n",
    "- One hot encoding\n",
    "- Dummification"
   ]
  },
  {
   "cell_type": "code",
   "execution_count": 675,
   "metadata": {},
   "outputs": [],
   "source": [
    "# Converting IDC9 iagnostic codes  to characters\n",
    "\n",
    "diags = ['diag_1','diag_2','diag_3']\n",
    "for diag in diags:\n",
    "    diagt = str(diag + '_temp')\n",
    "    diabdata[diagt] = diabdata[diag].apply(lambda x : idc_to_group(x))"
   ]
  },
  {
   "cell_type": "code",
   "execution_count": 676,
   "metadata": {},
   "outputs": [
    {
     "data": {
      "text/plain": [
       "Text(0.5, 1.0, 'Primary Diagnosis')"
      ]
     },
     "execution_count": 676,
     "metadata": {},
     "output_type": "execute_result"
    },
    {
     "data": {
      "image/png": "[encoded data removed]",
      "text/plain": [
       "<Figure size 432x288 with 1 Axes>"
      ]
     },
     "metadata": {
      "needs_background": "light"
     },
     "output_type": "display_data"
    }
   ],
   "source": [
    "diabdata.groupby('diag_1_temp').agg({'diag_1':['count']})['diag_1'].sort_values('count').plot.barh() \n",
    "#,ascending=False\n",
    "plt.title('Primary Diagnosis')"
   ]
  },
  {
   "cell_type": "code",
   "execution_count": 677,
   "metadata": {},
   "outputs": [
    {
     "data": {
      "text/plain": [
       "Text(0.5, 1.0, 'Primary Diag. VS. Readmission')"
      ]
     },
     "execution_count": 677,
     "metadata": {},
     "output_type": "execute_result"
    },
    {
     "data": {
      "image/png": "[encoded data removed]",
      "text/plain": [
       "<Figure size 432x288 with 1 Axes>"
      ]
     },
     "metadata": {
      "needs_background": "light"
     },
     "output_type": "display_data"
    }
   ],
   "source": [
    "sns.countplot(y= diabdata['diag_2_temp'], hue = diabdata['readmitted']).set_title('Primary Diag. VS. Readmission')"
   ]
  },
  {
   "cell_type": "code",
   "execution_count": 678,
   "metadata": {},
   "outputs": [
    {
     "data": {
      "text/plain": [
       "Text(0.5, 1.0, 'Secondary Diagnosis')"
      ]
     },
     "execution_count": 678,
     "metadata": {},
     "output_type": "execute_result"
    },
    {
     "data": {
      "image/png": "[encoded data removed]",
      "text/plain": [
       "<Figure size 432x288 with 1 Axes>"
      ]
     },
     "metadata": {
      "needs_background": "light"
     },
     "output_type": "display_data"
    }
   ],
   "source": [
    "diabdata.groupby('diag_2_temp').agg({'diag_2':['count']})['diag_2'].sort_values('count').plot.barh()\n",
    "plt.title('Secondary Diagnosis')"
   ]
  },
  {
   "cell_type": "code",
   "execution_count": 679,
   "metadata": {},
   "outputs": [
    {
     "data": {
      "text/plain": [
       "Text(0.5, 1.0, 'Third Diagnosis')"
      ]
     },
     "execution_count": 679,
     "metadata": {},
     "output_type": "execute_result"
    },
    {
     "data": {
      "image/png": "[encoded data removed]",
      "text/plain": [
       "<Figure size 432x288 with 1 Axes>"
      ]
     },
     "metadata": {
      "needs_background": "light"
     },
     "output_type": "display_data"
    }
   ],
   "source": [
    "diabdata.groupby('diag_3_temp').agg({'diag_3':['count']})['diag_3'].sort_values('count').plot.barh()\n",
    "plt.title('Third Diagnosis')"
   ]
  },
  {
   "cell_type": "code",
   "execution_count": 680,
   "metadata": {},
   "outputs": [
    {
     "data": {
      "text/plain": [
       "1632"
      ]
     },
     "execution_count": 680,
     "metadata": {},
     "output_type": "execute_result"
    }
   ],
   "source": [
    "diabdata.diag_1.str.contains('V').sum()+ diabdata.diag_1.str.contains('E').sum()"
   ]
  },
  {
   "cell_type": "code",
   "execution_count": 681,
   "metadata": {},
   "outputs": [],
   "source": [
    "# fig = plt.figure(figsize=(15, 9))\n",
    "# sns.boxplot(y=diabdata.readmitted, x=diabdata.newage)\n",
    "# plt.show()"
   ]
  },
  {
   "cell_type": "code",
   "execution_count": 682,
   "metadata": {},
   "outputs": [],
   "source": [
    "# Transform the target variable to those admitted before 30 days and others\n",
    "diabdata.readmitted = diabdata.readmitted.apply(lambda x : 1 if x =='<30' else 0)"
   ]
  },
  {
   "cell_type": "code",
   "execution_count": 683,
   "metadata": {},
   "outputs": [
    {
     "data": {
      "text/plain": [
       "75    25394\n",
       "65    21992\n",
       "55    16891\n",
       "85    16602\n",
       "45     9415\n",
       "35     3606\n",
       "95     2661\n",
       "25     1508\n",
       "15      468\n",
       "5        64\n",
       "Name: newage, dtype: int64"
      ]
     },
     "execution_count": 683,
     "metadata": {},
     "output_type": "execute_result"
    }
   ],
   "source": [
    "# Convert age range to ages\n",
    "diabdata['newage'] = diabdata['age'].apply(lambda x: age_to_aveage(x) )\n",
    "diabdata.newage.value_counts()"
   ]
  },
  {
   "cell_type": "code",
   "execution_count": 684,
   "metadata": {},
   "outputs": [
    {
     "data": {
      "text/html": [
       "<div>\n",
       "<style scoped>\n",
       "    .dataframe tbody tr th:only-of-type {\n",
       "        vertical-align: middle;\n",
       "    }\n",
       "\n",
       "    .dataframe tbody tr th {\n",
       "        vertical-align: top;\n",
       "    }\n",
       "\n",
       "    .dataframe thead th {\n",
       "        text-align: right;\n",
       "    }\n",
       "</style>\n",
       "<table border=\"1\" class=\"dataframe\">\n",
       "  <thead>\n",
       "    <tr style=\"text-align: right;\">\n",
       "      <th></th>\n",
       "      <th>encounter_id</th>\n",
       "      <th>patient_nbr</th>\n",
       "      <th>race</th>\n",
       "      <th>gender</th>\n",
       "      <th>age</th>\n",
       "      <th>weight</th>\n",
       "      <th>admission_type_id</th>\n",
       "      <th>discharge_disposition_id</th>\n",
       "      <th>admission_source_id</th>\n",
       "      <th>time_in_hospital</th>\n",
       "      <th>...</th>\n",
       "      <th>glimepiride-pioglitazone</th>\n",
       "      <th>metformin-rosiglitazone</th>\n",
       "      <th>metformin-pioglitazone</th>\n",
       "      <th>change</th>\n",
       "      <th>diabetesMed</th>\n",
       "      <th>readmitted</th>\n",
       "      <th>diag_1_temp</th>\n",
       "      <th>diag_2_temp</th>\n",
       "      <th>diag_3_temp</th>\n",
       "      <th>newage</th>\n",
       "    </tr>\n",
       "  </thead>\n",
       "  <tbody>\n",
       "    <tr>\n",
       "      <td>1</td>\n",
       "      <td>149190</td>\n",
       "      <td>55629189</td>\n",
       "      <td>Caucasian</td>\n",
       "      <td>Female</td>\n",
       "      <td>[10-20)</td>\n",
       "      <td>?</td>\n",
       "      <td>1</td>\n",
       "      <td>home</td>\n",
       "      <td>emergency</td>\n",
       "      <td>3</td>\n",
       "      <td>...</td>\n",
       "      <td>No</td>\n",
       "      <td>No</td>\n",
       "      <td>No</td>\n",
       "      <td>Ch</td>\n",
       "      <td>Yes</td>\n",
       "      <td>0</td>\n",
       "      <td>neoplasms</td>\n",
       "      <td>diabetis</td>\n",
       "      <td>neoplasms</td>\n",
       "      <td>15</td>\n",
       "    </tr>\n",
       "    <tr>\n",
       "      <td>2</td>\n",
       "      <td>64410</td>\n",
       "      <td>86047875</td>\n",
       "      <td>AfricanAmerican</td>\n",
       "      <td>Female</td>\n",
       "      <td>[20-30)</td>\n",
       "      <td>?</td>\n",
       "      <td>1</td>\n",
       "      <td>home</td>\n",
       "      <td>emergency</td>\n",
       "      <td>2</td>\n",
       "      <td>...</td>\n",
       "      <td>No</td>\n",
       "      <td>No</td>\n",
       "      <td>No</td>\n",
       "      <td>No</td>\n",
       "      <td>Yes</td>\n",
       "      <td>0</td>\n",
       "      <td>other</td>\n",
       "      <td>diabetis</td>\n",
       "      <td>other</td>\n",
       "      <td>25</td>\n",
       "    </tr>\n",
       "    <tr>\n",
       "      <td>3</td>\n",
       "      <td>500364</td>\n",
       "      <td>82442376</td>\n",
       "      <td>Caucasian</td>\n",
       "      <td>Male</td>\n",
       "      <td>[30-40)</td>\n",
       "      <td>?</td>\n",
       "      <td>1</td>\n",
       "      <td>home</td>\n",
       "      <td>emergency</td>\n",
       "      <td>2</td>\n",
       "      <td>...</td>\n",
       "      <td>No</td>\n",
       "      <td>No</td>\n",
       "      <td>No</td>\n",
       "      <td>Ch</td>\n",
       "      <td>Yes</td>\n",
       "      <td>0</td>\n",
       "      <td>neoplasms</td>\n",
       "      <td>diabetis</td>\n",
       "      <td>circulatory</td>\n",
       "      <td>35</td>\n",
       "    </tr>\n",
       "    <tr>\n",
       "      <td>4</td>\n",
       "      <td>16680</td>\n",
       "      <td>42519267</td>\n",
       "      <td>Caucasian</td>\n",
       "      <td>Male</td>\n",
       "      <td>[40-50)</td>\n",
       "      <td>?</td>\n",
       "      <td>1</td>\n",
       "      <td>home</td>\n",
       "      <td>emergency</td>\n",
       "      <td>1</td>\n",
       "      <td>...</td>\n",
       "      <td>No</td>\n",
       "      <td>No</td>\n",
       "      <td>No</td>\n",
       "      <td>Ch</td>\n",
       "      <td>Yes</td>\n",
       "      <td>0</td>\n",
       "      <td>neoplasms</td>\n",
       "      <td>neoplasms</td>\n",
       "      <td>diabetis</td>\n",
       "      <td>45</td>\n",
       "    </tr>\n",
       "    <tr>\n",
       "      <td>5</td>\n",
       "      <td>35754</td>\n",
       "      <td>82637451</td>\n",
       "      <td>Caucasian</td>\n",
       "      <td>Male</td>\n",
       "      <td>[50-60)</td>\n",
       "      <td>?</td>\n",
       "      <td>2</td>\n",
       "      <td>home</td>\n",
       "      <td>clin_ref</td>\n",
       "      <td>3</td>\n",
       "      <td>...</td>\n",
       "      <td>No</td>\n",
       "      <td>No</td>\n",
       "      <td>No</td>\n",
       "      <td>No</td>\n",
       "      <td>Yes</td>\n",
       "      <td>0</td>\n",
       "      <td>circulatory</td>\n",
       "      <td>circulatory</td>\n",
       "      <td>diabetis</td>\n",
       "      <td>55</td>\n",
       "    </tr>\n",
       "  </tbody>\n",
       "</table>\n",
       "<p>5 rows × 54 columns</p>\n",
       "</div>"
      ],
      "text/plain": [
       "   encounter_id  patient_nbr             race  gender      age weight  \\\n",
       "1        149190     55629189        Caucasian  Female  [10-20)      ?   \n",
       "2         64410     86047875  AfricanAmerican  Female  [20-30)      ?   \n",
       "3        500364     82442376        Caucasian    Male  [30-40)      ?   \n",
       "4         16680     42519267        Caucasian    Male  [40-50)      ?   \n",
       "5         35754     82637451        Caucasian    Male  [50-60)      ?   \n",
       "\n",
       "   admission_type_id discharge_disposition_id admission_source_id  \\\n",
       "1                  1                     home           emergency   \n",
       "2                  1                     home           emergency   \n",
       "3                  1                     home           emergency   \n",
       "4                  1                     home           emergency   \n",
       "5                  2                     home            clin_ref   \n",
       "\n",
       "   time_in_hospital  ... glimepiride-pioglitazone metformin-rosiglitazone  \\\n",
       "1                 3  ...                       No                      No   \n",
       "2                 2  ...                       No                      No   \n",
       "3                 2  ...                       No                      No   \n",
       "4                 1  ...                       No                      No   \n",
       "5                 3  ...                       No                      No   \n",
       "\n",
       "   metformin-pioglitazone  change  diabetesMed  readmitted  diag_1_temp  \\\n",
       "1                      No      Ch          Yes           0    neoplasms   \n",
       "2                      No      No          Yes           0        other   \n",
       "3                      No      Ch          Yes           0    neoplasms   \n",
       "4                      No      Ch          Yes           0    neoplasms   \n",
       "5                      No      No          Yes           0  circulatory   \n",
       "\n",
       "   diag_2_temp  diag_3_temp newage  \n",
       "1     diabetis    neoplasms     15  \n",
       "2     diabetis        other     25  \n",
       "3     diabetis  circulatory     35  \n",
       "4    neoplasms     diabetis     45  \n",
       "5  circulatory     diabetis     55  \n",
       "\n",
       "[5 rows x 54 columns]"
      ]
     },
     "execution_count": 684,
     "metadata": {},
     "output_type": "execute_result"
    }
   ],
   "source": [
    "diabdata.head()"
   ]
  },
  {
   "cell_type": "markdown",
   "metadata": {},
   "source": [
    "## Removing multiple visit for each patient that is indicated by patient_nbr\n",
    "This ensures that observations are independent"
   ]
  },
  {
   "cell_type": "code",
   "execution_count": 685,
   "metadata": {},
   "outputs": [
    {
     "name": "stdout",
     "output_type": "stream",
     "text": [
      "The unique number of patients, keep only these rows? \n"
     ]
    }
   ],
   "source": [
    "print('The unique number of patients, keep only these rows? ')\n",
    "diabdata.patient_nbr.value_counts().count()\n",
    "\n",
    "diabdata = diabdata.drop_duplicates(subset= ['patient_nbr'], keep = 'first') "
   ]
  },
  {
   "cell_type": "code",
   "execution_count": null,
   "metadata": {},
   "outputs": [],
   "source": []
  },
  {
   "cell_type": "code",
   "execution_count": 686,
   "metadata": {},
   "outputs": [
    {
     "data": {
      "text/plain": [
       "(69340, 54)"
      ]
     },
     "execution_count": 686,
     "metadata": {},
     "output_type": "execute_result"
    }
   ],
   "source": [
    "diabdata.shape"
   ]
  },
  {
   "cell_type": "markdown",
   "metadata": {},
   "source": [
    "## Dropping Feature Columns\n",
    "\n",
    "- patient_nbr: \n",
    "- encounter_id:\n",
    "- payer_code: \n",
    "- max_glu_serum: \n",
    "- weight: Too many missing value\n",
    "-\n",
    "-\n"
   ]
  },
  {
   "cell_type": "code",
   "execution_count": 687,
   "metadata": {},
   "outputs": [],
   "source": [
    "# Drop columns that are not needed\n",
    "\n",
    "# cols_to_drop = ['encounter_id', 'patient_nbr', 'race', 'gender', 'age', 'weight',\n",
    "#        'admission_type_id', 'discharge_disposition_id', 'admission_source_id',\n",
    "#        'time_in_hospital', 'payer_code', 'medical_specialty',\n",
    "#        'num_lab_procedures', 'num_procedures', 'num_medications',\n",
    "#        'number_outpatient', 'number_emergency', 'number_inpatient', 'diag_1',\n",
    "#        'diag_2', 'diag_3', 'number_diagnoses', 'max_glu_serum', 'A1Cresult',\n",
    "#        'metformin', 'repaglinide', 'nateglinide', 'chlorpropamide',\n",
    "#        'glimepiride', 'acetohexamide', 'glipizide', 'glyburide', 'tolbutamide',\n",
    "#        'pioglitazone', 'rosiglitazone', 'acarbose', 'miglitol', 'troglitazone',\n",
    "#        'tolazamide', 'examide', 'citoglipton', 'insulin',\n",
    "#        'glyburide-metformin', 'glipizide-metformin',\n",
    "#        'glimepiride-pioglitazone', 'metformin-rosiglitazone',\n",
    "#        'metformin-pioglitazone', 'change', 'diabetesMed', 'readmitted',\n",
    "#        'newage']\n",
    "cols_to_drop = ['encounter_id', 'patient_nbr', 'age', 'weight', 'admission_type_id',\n",
    "                'payer_code', 'medical_specialty',\n",
    "                'num_lab_procedures', 'num_procedures', \n",
    "                'number_outpatient', 'number_emergency', 'number_inpatient', \n",
    "                'number_diagnoses', 'max_glu_serum',\n",
    "                'metformin', 'repaglinide', 'nateglinide', 'chlorpropamide',\n",
    "       'glimepiride', 'acetohexamide', 'glipizide', 'glyburide', 'tolbutamide',\n",
    "       'pioglitazone', 'rosiglitazone', 'acarbose', 'miglitol', 'troglitazone',\n",
    "       'tolazamide', 'examide', 'citoglipton', 'insulin',\n",
    "       'glyburide-metformin', 'glipizide-metformin',\n",
    "       'glimepiride-pioglitazone', 'metformin-rosiglitazone',\n",
    "       'metformin-pioglitazone','diag_1','diag_2','diag_3',\n",
    "                'diag_2_temp','diag_3_temp']\n",
    "\n",
    "# second round: include: num_medications, \n",
    "\n",
    "diabdata.drop(cols_to_drop, inplace= True, axis = 1)\n",
    "\n"
   ]
  },
  {
   "cell_type": "code",
   "execution_count": 688,
   "metadata": {},
   "outputs": [
    {
     "data": {
      "text/html": [
       "<div>\n",
       "<style scoped>\n",
       "    .dataframe tbody tr th:only-of-type {\n",
       "        vertical-align: middle;\n",
       "    }\n",
       "\n",
       "    .dataframe tbody tr th {\n",
       "        vertical-align: top;\n",
       "    }\n",
       "\n",
       "    .dataframe thead th {\n",
       "        text-align: right;\n",
       "    }\n",
       "</style>\n",
       "<table border=\"1\" class=\"dataframe\">\n",
       "  <thead>\n",
       "    <tr style=\"text-align: right;\">\n",
       "      <th></th>\n",
       "      <th>race</th>\n",
       "      <th>gender</th>\n",
       "      <th>discharge_disposition_id</th>\n",
       "      <th>admission_source_id</th>\n",
       "      <th>time_in_hospital</th>\n",
       "      <th>num_medications</th>\n",
       "      <th>A1Cresult</th>\n",
       "      <th>change</th>\n",
       "      <th>diabetesMed</th>\n",
       "      <th>readmitted</th>\n",
       "      <th>diag_1_temp</th>\n",
       "      <th>newage</th>\n",
       "    </tr>\n",
       "  </thead>\n",
       "  <tbody>\n",
       "    <tr>\n",
       "      <td>1</td>\n",
       "      <td>Caucasian</td>\n",
       "      <td>Female</td>\n",
       "      <td>home</td>\n",
       "      <td>emergency</td>\n",
       "      <td>3</td>\n",
       "      <td>18</td>\n",
       "      <td>None</td>\n",
       "      <td>Ch</td>\n",
       "      <td>Yes</td>\n",
       "      <td>0</td>\n",
       "      <td>neoplasms</td>\n",
       "      <td>15</td>\n",
       "    </tr>\n",
       "    <tr>\n",
       "      <td>2</td>\n",
       "      <td>AfricanAmerican</td>\n",
       "      <td>Female</td>\n",
       "      <td>home</td>\n",
       "      <td>emergency</td>\n",
       "      <td>2</td>\n",
       "      <td>13</td>\n",
       "      <td>None</td>\n",
       "      <td>No</td>\n",
       "      <td>Yes</td>\n",
       "      <td>0</td>\n",
       "      <td>other</td>\n",
       "      <td>25</td>\n",
       "    </tr>\n",
       "    <tr>\n",
       "      <td>3</td>\n",
       "      <td>Caucasian</td>\n",
       "      <td>Male</td>\n",
       "      <td>home</td>\n",
       "      <td>emergency</td>\n",
       "      <td>2</td>\n",
       "      <td>16</td>\n",
       "      <td>None</td>\n",
       "      <td>Ch</td>\n",
       "      <td>Yes</td>\n",
       "      <td>0</td>\n",
       "      <td>neoplasms</td>\n",
       "      <td>35</td>\n",
       "    </tr>\n",
       "    <tr>\n",
       "      <td>4</td>\n",
       "      <td>Caucasian</td>\n",
       "      <td>Male</td>\n",
       "      <td>home</td>\n",
       "      <td>emergency</td>\n",
       "      <td>1</td>\n",
       "      <td>8</td>\n",
       "      <td>None</td>\n",
       "      <td>Ch</td>\n",
       "      <td>Yes</td>\n",
       "      <td>0</td>\n",
       "      <td>neoplasms</td>\n",
       "      <td>45</td>\n",
       "    </tr>\n",
       "    <tr>\n",
       "      <td>5</td>\n",
       "      <td>Caucasian</td>\n",
       "      <td>Male</td>\n",
       "      <td>home</td>\n",
       "      <td>clin_ref</td>\n",
       "      <td>3</td>\n",
       "      <td>16</td>\n",
       "      <td>None</td>\n",
       "      <td>No</td>\n",
       "      <td>Yes</td>\n",
       "      <td>0</td>\n",
       "      <td>circulatory</td>\n",
       "      <td>55</td>\n",
       "    </tr>\n",
       "  </tbody>\n",
       "</table>\n",
       "</div>"
      ],
      "text/plain": [
       "              race  gender discharge_disposition_id admission_source_id  \\\n",
       "1        Caucasian  Female                     home           emergency   \n",
       "2  AfricanAmerican  Female                     home           emergency   \n",
       "3        Caucasian    Male                     home           emergency   \n",
       "4        Caucasian    Male                     home           emergency   \n",
       "5        Caucasian    Male                     home            clin_ref   \n",
       "\n",
       "   time_in_hospital  num_medications A1Cresult change diabetesMed  readmitted  \\\n",
       "1                 3               18      None     Ch         Yes           0   \n",
       "2                 2               13      None     No         Yes           0   \n",
       "3                 2               16      None     Ch         Yes           0   \n",
       "4                 1                8      None     Ch         Yes           0   \n",
       "5                 3               16      None     No         Yes           0   \n",
       "\n",
       "   diag_1_temp  newage  \n",
       "1    neoplasms      15  \n",
       "2        other      25  \n",
       "3    neoplasms      35  \n",
       "4    neoplasms      45  \n",
       "5  circulatory      55  "
      ]
     },
     "execution_count": 688,
     "metadata": {},
     "output_type": "execute_result"
    }
   ],
   "source": [
    "diabdata.head()"
   ]
  },
  {
   "cell_type": "code",
   "execution_count": 689,
   "metadata": {},
   "outputs": [],
   "source": [
    "# Save data before modification dummification\n",
    "diabdata.to_csv('before_dummies.csv')"
   ]
  },
  {
   "cell_type": "markdown",
   "metadata": {},
   "source": [
    "## One Hot Encoing of categorical features"
   ]
  },
  {
   "cell_type": "code",
   "execution_count": 690,
   "metadata": {
    "scrolled": true
   },
   "outputs": [
    {
     "data": {
      "text/plain": [
       "Index(['race', 'gender', 'discharge_disposition_id', 'admission_source_id',\n",
       "       'time_in_hospital', 'num_medications', 'A1Cresult', 'change',\n",
       "       'diabetesMed', 'readmitted', 'diag_1_temp', 'newage'],\n",
       "      dtype='object')"
      ]
     },
     "execution_count": 690,
     "metadata": {},
     "output_type": "execute_result"
    }
   ],
   "source": [
    "diabdata2 = pd.read_csv('before_dummies.csv',index_col=0)\n",
    "diabdata2.columns"
   ]
  },
  {
   "cell_type": "code",
   "execution_count": 691,
   "metadata": {},
   "outputs": [],
   "source": [
    "prefix = 'class1'\n",
    "step1 = pd.get_dummies(diabdata2['diag_1_temp'], prefix = 'class1')\n",
    "\n",
    "diabdata2 = pd.concat([diabdata2,step1], axis=1)\n",
    "diabdata2.drop('diag_1_temp',1,inplace=True)\n",
    "diabdata2.drop(str(prefix+'_'+'diabetis'),axis=1,inplace=True)"
   ]
  },
  {
   "cell_type": "code",
   "execution_count": 692,
   "metadata": {},
   "outputs": [
    {
     "data": {
      "text/plain": [
       "(69340, 19)"
      ]
     },
     "execution_count": 692,
     "metadata": {},
     "output_type": "execute_result"
    }
   ],
   "source": [
    "diabdata2.shape"
   ]
  },
  {
   "cell_type": "code",
   "execution_count": 693,
   "metadata": {},
   "outputs": [
    {
     "name": "stdout",
     "output_type": "stream",
     "text": [
      "(69340, 19)\n"
     ]
    },
    {
     "data": {
      "text/html": [
       "<div>\n",
       "<style scoped>\n",
       "    .dataframe tbody tr th:only-of-type {\n",
       "        vertical-align: middle;\n",
       "    }\n",
       "\n",
       "    .dataframe tbody tr th {\n",
       "        vertical-align: top;\n",
       "    }\n",
       "\n",
       "    .dataframe thead th {\n",
       "        text-align: right;\n",
       "    }\n",
       "</style>\n",
       "<table border=\"1\" class=\"dataframe\">\n",
       "  <thead>\n",
       "    <tr style=\"text-align: right;\">\n",
       "      <th></th>\n",
       "      <th>race</th>\n",
       "      <th>gender</th>\n",
       "      <th>discharge_disposition_id</th>\n",
       "      <th>admission_source_id</th>\n",
       "      <th>time_in_hospital</th>\n",
       "      <th>num_medications</th>\n",
       "      <th>A1Cresult</th>\n",
       "      <th>change</th>\n",
       "      <th>diabetesMed</th>\n",
       "      <th>readmitted</th>\n",
       "      <th>newage</th>\n",
       "      <th>class1_circulatory</th>\n",
       "      <th>class1_digestive</th>\n",
       "      <th>class1_genitourinary</th>\n",
       "      <th>class1_injury</th>\n",
       "      <th>class1_musculoskeletal</th>\n",
       "      <th>class1_neoplasms</th>\n",
       "      <th>class1_other</th>\n",
       "      <th>class1_respiratory</th>\n",
       "    </tr>\n",
       "  </thead>\n",
       "  <tbody>\n",
       "    <tr>\n",
       "      <td>1</td>\n",
       "      <td>Caucasian</td>\n",
       "      <td>Female</td>\n",
       "      <td>home</td>\n",
       "      <td>emergency</td>\n",
       "      <td>3</td>\n",
       "      <td>18</td>\n",
       "      <td>None</td>\n",
       "      <td>Ch</td>\n",
       "      <td>Yes</td>\n",
       "      <td>0</td>\n",
       "      <td>15</td>\n",
       "      <td>0</td>\n",
       "      <td>0</td>\n",
       "      <td>0</td>\n",
       "      <td>0</td>\n",
       "      <td>0</td>\n",
       "      <td>1</td>\n",
       "      <td>0</td>\n",
       "      <td>0</td>\n",
       "    </tr>\n",
       "    <tr>\n",
       "      <td>2</td>\n",
       "      <td>AfricanAmerican</td>\n",
       "      <td>Female</td>\n",
       "      <td>home</td>\n",
       "      <td>emergency</td>\n",
       "      <td>2</td>\n",
       "      <td>13</td>\n",
       "      <td>None</td>\n",
       "      <td>No</td>\n",
       "      <td>Yes</td>\n",
       "      <td>0</td>\n",
       "      <td>25</td>\n",
       "      <td>0</td>\n",
       "      <td>0</td>\n",
       "      <td>0</td>\n",
       "      <td>0</td>\n",
       "      <td>0</td>\n",
       "      <td>0</td>\n",
       "      <td>1</td>\n",
       "      <td>0</td>\n",
       "    </tr>\n",
       "    <tr>\n",
       "      <td>3</td>\n",
       "      <td>Caucasian</td>\n",
       "      <td>Male</td>\n",
       "      <td>home</td>\n",
       "      <td>emergency</td>\n",
       "      <td>2</td>\n",
       "      <td>16</td>\n",
       "      <td>None</td>\n",
       "      <td>Ch</td>\n",
       "      <td>Yes</td>\n",
       "      <td>0</td>\n",
       "      <td>35</td>\n",
       "      <td>0</td>\n",
       "      <td>0</td>\n",
       "      <td>0</td>\n",
       "      <td>0</td>\n",
       "      <td>0</td>\n",
       "      <td>1</td>\n",
       "      <td>0</td>\n",
       "      <td>0</td>\n",
       "    </tr>\n",
       "    <tr>\n",
       "      <td>4</td>\n",
       "      <td>Caucasian</td>\n",
       "      <td>Male</td>\n",
       "      <td>home</td>\n",
       "      <td>emergency</td>\n",
       "      <td>1</td>\n",
       "      <td>8</td>\n",
       "      <td>None</td>\n",
       "      <td>Ch</td>\n",
       "      <td>Yes</td>\n",
       "      <td>0</td>\n",
       "      <td>45</td>\n",
       "      <td>0</td>\n",
       "      <td>0</td>\n",
       "      <td>0</td>\n",
       "      <td>0</td>\n",
       "      <td>0</td>\n",
       "      <td>1</td>\n",
       "      <td>0</td>\n",
       "      <td>0</td>\n",
       "    </tr>\n",
       "    <tr>\n",
       "      <td>5</td>\n",
       "      <td>Caucasian</td>\n",
       "      <td>Male</td>\n",
       "      <td>home</td>\n",
       "      <td>clin_ref</td>\n",
       "      <td>3</td>\n",
       "      <td>16</td>\n",
       "      <td>None</td>\n",
       "      <td>No</td>\n",
       "      <td>Yes</td>\n",
       "      <td>0</td>\n",
       "      <td>55</td>\n",
       "      <td>1</td>\n",
       "      <td>0</td>\n",
       "      <td>0</td>\n",
       "      <td>0</td>\n",
       "      <td>0</td>\n",
       "      <td>0</td>\n",
       "      <td>0</td>\n",
       "      <td>0</td>\n",
       "    </tr>\n",
       "  </tbody>\n",
       "</table>\n",
       "</div>"
      ],
      "text/plain": [
       "              race  gender discharge_disposition_id admission_source_id  \\\n",
       "1        Caucasian  Female                     home           emergency   \n",
       "2  AfricanAmerican  Female                     home           emergency   \n",
       "3        Caucasian    Male                     home           emergency   \n",
       "4        Caucasian    Male                     home           emergency   \n",
       "5        Caucasian    Male                     home            clin_ref   \n",
       "\n",
       "   time_in_hospital  num_medications A1Cresult change diabetesMed  readmitted  \\\n",
       "1                 3               18      None     Ch         Yes           0   \n",
       "2                 2               13      None     No         Yes           0   \n",
       "3                 2               16      None     Ch         Yes           0   \n",
       "4                 1                8      None     Ch         Yes           0   \n",
       "5                 3               16      None     No         Yes           0   \n",
       "\n",
       "   newage  class1_circulatory  class1_digestive  class1_genitourinary  \\\n",
       "1      15                   0                 0                     0   \n",
       "2      25                   0                 0                     0   \n",
       "3      35                   0                 0                     0   \n",
       "4      45                   0                 0                     0   \n",
       "5      55                   1                 0                     0   \n",
       "\n",
       "   class1_injury  class1_musculoskeletal  class1_neoplasms  class1_other  \\\n",
       "1              0                       0                 1             0   \n",
       "2              0                       0                 0             1   \n",
       "3              0                       0                 1             0   \n",
       "4              0                       0                 1             0   \n",
       "5              0                       0                 0             0   \n",
       "\n",
       "   class1_respiratory  \n",
       "1                   0  \n",
       "2                   0  \n",
       "3                   0  \n",
       "4                   0  \n",
       "5                   0  "
      ]
     },
     "execution_count": 693,
     "metadata": {},
     "output_type": "execute_result"
    }
   ],
   "source": [
    "print(diabdata2.shape)\n",
    "diabdata2.head()"
   ]
  },
  {
   "cell_type": "code",
   "execution_count": 694,
   "metadata": {},
   "outputs": [],
   "source": [
    "# prefix = 'class2'\n",
    "# step2 = pd.get_dummies(diabdata2['gender'], prefix = 'class2')\n",
    "\n",
    "# diabdata2 = pd.concat([diabdata2,step2], axis=1)\n",
    "diabdata2.drop('gender',1,inplace=True)\n",
    "# diabdata2.drop(str(prefix+'_'+'Male'),axis=1,inplace=True)\n",
    "# diabdata2.shape"
   ]
  },
  {
   "cell_type": "code",
   "execution_count": 695,
   "metadata": {},
   "outputs": [
    {
     "data": {
      "text/plain": [
       "(69340, 20)"
      ]
     },
     "execution_count": 695,
     "metadata": {},
     "output_type": "execute_result"
    }
   ],
   "source": [
    "prefix = 'class3'\n",
    "step3 = pd.get_dummies(diabdata2['race'], prefix = 'class3')# drop_first=True\n",
    "\n",
    "diabdata2 = pd.concat([diabdata2,step3], axis=1)\n",
    "diabdata2.drop('race',1,inplace=True)\n",
    "diabdata2.drop(str(prefix+'_'+'AfricanAmerican'),axis=1,inplace=True)\n",
    "diabdata2.shape"
   ]
  },
  {
   "cell_type": "code",
   "execution_count": 696,
   "metadata": {},
   "outputs": [],
   "source": [
    "# prefix = 'class4'\n",
    "# step4 = pd.get_dummies(diabdata2['change'], prefix = 'class4')\n",
    "\n",
    "# diabdata2 = pd.concat([diabdata2,step4], axis=1)\n",
    "diabdata2.drop('change',1,inplace=True)\n",
    "# diabdata2.drop(str(prefix+'_'+'Male'),axis=1,inplace=True)\n",
    "# diabdata2.shape"
   ]
  },
  {
   "cell_type": "code",
   "execution_count": 697,
   "metadata": {},
   "outputs": [],
   "source": [
    "# prefix = 'class5'\n",
    "# step5 = pd.get_dummies(diabdata2['diabetesMed'], prefix = 'class5')\n",
    "\n",
    "# diabdata2 = pd.concat([diabdata2,step5], axis=1)\n",
    "diabdata2.drop('diabetesMed',1,inplace=True)\n",
    "# diabdata2.drop(str(prefix+'_'+'Male'),axis=1,inplace=True)\n",
    "# diabdata2.shape"
   ]
  },
  {
   "cell_type": "code",
   "execution_count": 698,
   "metadata": {},
   "outputs": [
    {
     "data": {
      "text/html": [
       "<div>\n",
       "<style scoped>\n",
       "    .dataframe tbody tr th:only-of-type {\n",
       "        vertical-align: middle;\n",
       "    }\n",
       "\n",
       "    .dataframe tbody tr th {\n",
       "        vertical-align: top;\n",
       "    }\n",
       "\n",
       "    .dataframe thead th {\n",
       "        text-align: right;\n",
       "    }\n",
       "</style>\n",
       "<table border=\"1\" class=\"dataframe\">\n",
       "  <thead>\n",
       "    <tr style=\"text-align: right;\">\n",
       "      <th></th>\n",
       "      <th>discharge_disposition_id</th>\n",
       "      <th>admission_source_id</th>\n",
       "      <th>time_in_hospital</th>\n",
       "      <th>num_medications</th>\n",
       "      <th>A1Cresult</th>\n",
       "      <th>readmitted</th>\n",
       "      <th>newage</th>\n",
       "      <th>class1_circulatory</th>\n",
       "      <th>class1_digestive</th>\n",
       "      <th>class1_genitourinary</th>\n",
       "      <th>class1_injury</th>\n",
       "      <th>class1_musculoskeletal</th>\n",
       "      <th>class1_neoplasms</th>\n",
       "      <th>class1_other</th>\n",
       "      <th>class1_respiratory</th>\n",
       "      <th>class3_Caucasian</th>\n",
       "      <th>class3_Missing</th>\n",
       "      <th>class3_Other</th>\n",
       "    </tr>\n",
       "  </thead>\n",
       "  <tbody>\n",
       "    <tr>\n",
       "      <td>1</td>\n",
       "      <td>home</td>\n",
       "      <td>emergency</td>\n",
       "      <td>3</td>\n",
       "      <td>18</td>\n",
       "      <td>None</td>\n",
       "      <td>0</td>\n",
       "      <td>15</td>\n",
       "      <td>0</td>\n",
       "      <td>0</td>\n",
       "      <td>0</td>\n",
       "      <td>0</td>\n",
       "      <td>0</td>\n",
       "      <td>1</td>\n",
       "      <td>0</td>\n",
       "      <td>0</td>\n",
       "      <td>1</td>\n",
       "      <td>0</td>\n",
       "      <td>0</td>\n",
       "    </tr>\n",
       "    <tr>\n",
       "      <td>2</td>\n",
       "      <td>home</td>\n",
       "      <td>emergency</td>\n",
       "      <td>2</td>\n",
       "      <td>13</td>\n",
       "      <td>None</td>\n",
       "      <td>0</td>\n",
       "      <td>25</td>\n",
       "      <td>0</td>\n",
       "      <td>0</td>\n",
       "      <td>0</td>\n",
       "      <td>0</td>\n",
       "      <td>0</td>\n",
       "      <td>0</td>\n",
       "      <td>1</td>\n",
       "      <td>0</td>\n",
       "      <td>0</td>\n",
       "      <td>0</td>\n",
       "      <td>0</td>\n",
       "    </tr>\n",
       "    <tr>\n",
       "      <td>3</td>\n",
       "      <td>home</td>\n",
       "      <td>emergency</td>\n",
       "      <td>2</td>\n",
       "      <td>16</td>\n",
       "      <td>None</td>\n",
       "      <td>0</td>\n",
       "      <td>35</td>\n",
       "      <td>0</td>\n",
       "      <td>0</td>\n",
       "      <td>0</td>\n",
       "      <td>0</td>\n",
       "      <td>0</td>\n",
       "      <td>1</td>\n",
       "      <td>0</td>\n",
       "      <td>0</td>\n",
       "      <td>1</td>\n",
       "      <td>0</td>\n",
       "      <td>0</td>\n",
       "    </tr>\n",
       "    <tr>\n",
       "      <td>4</td>\n",
       "      <td>home</td>\n",
       "      <td>emergency</td>\n",
       "      <td>1</td>\n",
       "      <td>8</td>\n",
       "      <td>None</td>\n",
       "      <td>0</td>\n",
       "      <td>45</td>\n",
       "      <td>0</td>\n",
       "      <td>0</td>\n",
       "      <td>0</td>\n",
       "      <td>0</td>\n",
       "      <td>0</td>\n",
       "      <td>1</td>\n",
       "      <td>0</td>\n",
       "      <td>0</td>\n",
       "      <td>1</td>\n",
       "      <td>0</td>\n",
       "      <td>0</td>\n",
       "    </tr>\n",
       "    <tr>\n",
       "      <td>5</td>\n",
       "      <td>home</td>\n",
       "      <td>clin_ref</td>\n",
       "      <td>3</td>\n",
       "      <td>16</td>\n",
       "      <td>None</td>\n",
       "      <td>0</td>\n",
       "      <td>55</td>\n",
       "      <td>1</td>\n",
       "      <td>0</td>\n",
       "      <td>0</td>\n",
       "      <td>0</td>\n",
       "      <td>0</td>\n",
       "      <td>0</td>\n",
       "      <td>0</td>\n",
       "      <td>0</td>\n",
       "      <td>1</td>\n",
       "      <td>0</td>\n",
       "      <td>0</td>\n",
       "    </tr>\n",
       "  </tbody>\n",
       "</table>\n",
       "</div>"
      ],
      "text/plain": [
       "  discharge_disposition_id admission_source_id  time_in_hospital  \\\n",
       "1                     home           emergency                 3   \n",
       "2                     home           emergency                 2   \n",
       "3                     home           emergency                 2   \n",
       "4                     home           emergency                 1   \n",
       "5                     home            clin_ref                 3   \n",
       "\n",
       "   num_medications A1Cresult  readmitted  newage  class1_circulatory  \\\n",
       "1               18      None           0      15                   0   \n",
       "2               13      None           0      25                   0   \n",
       "3               16      None           0      35                   0   \n",
       "4                8      None           0      45                   0   \n",
       "5               16      None           0      55                   1   \n",
       "\n",
       "   class1_digestive  class1_genitourinary  class1_injury  \\\n",
       "1                 0                     0              0   \n",
       "2                 0                     0              0   \n",
       "3                 0                     0              0   \n",
       "4                 0                     0              0   \n",
       "5                 0                     0              0   \n",
       "\n",
       "   class1_musculoskeletal  class1_neoplasms  class1_other  class1_respiratory  \\\n",
       "1                       0                 1             0                   0   \n",
       "2                       0                 0             1                   0   \n",
       "3                       0                 1             0                   0   \n",
       "4                       0                 1             0                   0   \n",
       "5                       0                 0             0                   0   \n",
       "\n",
       "   class3_Caucasian  class3_Missing  class3_Other  \n",
       "1                 1               0             0  \n",
       "2                 0               0             0  \n",
       "3                 1               0             0  \n",
       "4                 1               0             0  \n",
       "5                 1               0             0  "
      ]
     },
     "execution_count": 698,
     "metadata": {},
     "output_type": "execute_result"
    }
   ],
   "source": [
    "diabdata2.head()"
   ]
  },
  {
   "cell_type": "code",
   "execution_count": 699,
   "metadata": {},
   "outputs": [
    {
     "data": {
      "text/plain": [
       "(69340, 18)"
      ]
     },
     "execution_count": 699,
     "metadata": {},
     "output_type": "execute_result"
    }
   ],
   "source": [
    "prefix = 'class6'\n",
    "step6 = pd.get_dummies(diabdata2['discharge_disposition_id'], prefix = 'class6')\n",
    "\n",
    "diabdata2 = pd.concat([diabdata2,step6], axis=1)\n",
    "diabdata2.drop('discharge_disposition_id',1,inplace=True)\n",
    "diabdata2.drop(str(prefix+'_'+'home'),axis=1,inplace=True)\n",
    "diabdata2.shape"
   ]
  },
  {
   "cell_type": "code",
   "execution_count": 700,
   "metadata": {},
   "outputs": [
    {
     "data": {
      "text/plain": [
       "(69340, 22)"
      ]
     },
     "execution_count": 700,
     "metadata": {},
     "output_type": "execute_result"
    }
   ],
   "source": [
    "prefix = 'class7'\n",
    "step7 = pd.get_dummies(diabdata2['admission_source_id'], prefix = 'class7')\n",
    "\n",
    "diabdata2 = pd.concat([diabdata2,step7], axis=1)\n",
    "diabdata2.drop('admission_source_id',1,inplace=True)\n",
    "diabdata2.drop(str(prefix+'_'+'emergency'),axis=1,inplace=True)\n",
    "diabdata2.shape"
   ]
  },
  {
   "cell_type": "code",
   "execution_count": 701,
   "metadata": {},
   "outputs": [
    {
     "data": {
      "text/plain": [
       "(69340, 24)"
      ]
     },
     "execution_count": 701,
     "metadata": {},
     "output_type": "execute_result"
    }
   ],
   "source": [
    "prefix = 'class8'\n",
    "step8 = pd.get_dummies(diabdata2['A1Cresult'], prefix = 'class8')\n",
    "\n",
    "diabdata2 = pd.concat([diabdata2,step8], axis=1)\n",
    "diabdata2.drop('A1Cresult',1,inplace=True)\n",
    "diabdata2.drop(str(prefix+'_'+'None'),axis=1,inplace=True)\n",
    "diabdata2.shape"
   ]
  },
  {
   "cell_type": "code",
   "execution_count": 702,
   "metadata": {},
   "outputs": [
    {
     "data": {
      "text/plain": [
       "['time_in_hospital',\n",
       " 'num_medications',\n",
       " 'readmitted',\n",
       " 'newage',\n",
       " 'class1_circulatory',\n",
       " 'class1_digestive',\n",
       " 'class1_genitourinary',\n",
       " 'class1_injury',\n",
       " 'class1_musculoskeletal',\n",
       " 'class1_neoplasms',\n",
       " 'class1_other',\n",
       " 'class1_respiratory',\n",
       " 'class3_Caucasian',\n",
       " 'class3_Missing',\n",
       " 'class3_Other',\n",
       " 'class6_other',\n",
       " 'class7_clin_ref',\n",
       " 'class7_hospital',\n",
       " 'class7_other',\n",
       " 'class7_phys_ref',\n",
       " 'class7_snf',\n",
       " 'class8_>7',\n",
       " 'class8_>8',\n",
       " 'class8_Norm']"
      ]
     },
     "execution_count": 702,
     "metadata": {},
     "output_type": "execute_result"
    }
   ],
   "source": [
    "diabdata2.columns.to_list()"
   ]
  },
  {
   "cell_type": "code",
   "execution_count": 548,
   "metadata": {},
   "outputs": [],
   "source": [
    "diabdata2.to_csv('before_model_diabdata.csv')"
   ]
  },
  {
   "cell_type": "markdown",
   "metadata": {},
   "source": [
    "## Logistic Regression Model "
   ]
  },
  {
   "cell_type": "code",
   "execution_count": 549,
   "metadata": {},
   "outputs": [
    {
     "data": {
      "text/plain": [
       "Index(['time_in_hospital', 'num_medications', 'readmitted', 'newage',\n",
       "       'class1_circulatory', 'class1_digestive', 'class1_genitourinary',\n",
       "       'class1_injury', 'class1_musculoskeletal', 'class1_neoplasms',\n",
       "       'class1_other', 'class1_respiratory', 'class3_Caucasian',\n",
       "       'class3_Missing', 'class3_Other', 'class6_other', 'class7_clin_ref',\n",
       "       'class7_hospital', 'class7_other', 'class7_phys_ref', 'class7_snf',\n",
       "       'class8_>7', 'class8_>8', 'class8_Norm'],\n",
       "      dtype='object')"
      ]
     },
     "execution_count": 549,
     "metadata": {},
     "output_type": "execute_result"
    }
   ],
   "source": [
    "diabdata3 = pd.read_csv('before_model_diabdata.csv',index_col=0)\n",
    "diabdata3.columns"
   ]
  },
  {
   "cell_type": "markdown",
   "metadata": {},
   "source": [
    "### Standardize Data \n",
    "- Only if needed\n",
    "- Standardize features by removing the mean and scaling to unit variance\n",
    "\n",
    "- The standard score of a sample x is calculated as:\n",
    "\n",
    "- *z = (x - u) / s*"
   ]
  },
  {
   "cell_type": "code",
   "execution_count": 550,
   "metadata": {},
   "outputs": [],
   "source": [
    "# Create the standardized version of the datasets\n",
    "\n",
    "# from sklearn.preprocessing import StandardScaler\n",
    "# scaler = StandardScaler()\n",
    "\n",
    "# scaler.fit(diabdata3.drop('readmitted',1))\n",
    "# diabdata_scaled = scaler.transform(diabdata3.drop('readmitted',1))\n",
    "# # dftrain_y_scaled = scaler.transform(dftrain['SalePrice']) # not needed?\n"
   ]
  },
  {
   "cell_type": "markdown",
   "metadata": {},
   "source": [
    "### Create Train and Test data\n",
    "- To avoid overfitting it is common practice when performing a (supervised) machine learning experiment to hold out part of the available data as a test set X_test, y_test.\n",
    "\n",
    "- Split the ***diabetes*** dataset into random train and test subsets\n",
    "- There is option to stratify by setting "
   ]
  },
  {
   "cell_type": "code",
   "execution_count": 704,
   "metadata": {},
   "outputs": [
    {
     "name": "stdout",
     "output_type": "stream",
     "text": [
      "(69340, 23) (69340,)\n"
     ]
    }
   ],
   "source": [
    "from sklearn.model_selection import cross_val_score, cross_val_predict, cross_validate, train_test_split\n",
    "\n",
    "X = diabdata3.drop('readmitted',1)\n",
    "\n",
    "y = diabdata3.readmitted\n",
    "\n",
    "print(X.shape, y.shape)\n",
    "\n",
    "X_train, X_test, y_train, y_test = train_test_split(X, y, test_size = .3, random_state=42)"
   ]
  },
  {
   "cell_type": "markdown",
   "metadata": {},
   "source": [
    "### Logistic Model Fit on imbalanced dataset\n",
    "- solver='liblinear'\n",
    " "
   ]
  },
  {
   "cell_type": "code",
   "execution_count": 705,
   "metadata": {},
   "outputs": [
    {
     "name": "stdout",
     "output_type": "stream",
     "text": [
      "Mean ROC AUC: 0.601\n"
     ]
    }
   ],
   "source": [
    "from sklearn.model_selection import GridSearchCV, RepeatedStratifiedKFold\n",
    "from sklearn                 import datasets\n",
    "from sklearn.model_selection import cross_val_score, cross_val_predict, cross_validate, train_test_split\n",
    "from sklearn.linear_model    import LogisticRegression, SGDClassifier\n",
    "\n",
    "cv = RepeatedStratifiedKFold(n_splits=10, n_repeats=3, random_state=1)\n",
    "\n",
    "\n",
    "\n",
    "\n",
    "# First Run\n",
    "diabetes_model = LogisticRegression(solver='liblinear')\n",
    "\n",
    "# Second Run\n",
    "# diabetes_model = LogisticRegression(solver='liblinear',class_weight='balanced')\n",
    "\n",
    "# evaluate model\n",
    "scores = cross_val_score(diabetes_model, X_train, y_train, scoring='roc_auc', cv=cv, n_jobs=-1)\n",
    "# summarize performance\n",
    "print('Mean ROC AUC: %.3f' % np.mean(scores))\n",
    "\n",
    "\n",
    "# gridsearch_logit = GridSearchCV(logit, parameters, cv = 5, verbose=1 , scoring = 'Accuracy')\n",
    "# print('Gridsearch Object Best Score: ',grid_logit.best_score_)"
   ]
  },
  {
   "cell_type": "code",
   "execution_count": 706,
   "metadata": {},
   "outputs": [
    {
     "data": {
      "text/plain": [
       "array([0.58493531, 0.5708632 , 0.58844967, 0.60932133, 0.60854417,\n",
       "       0.59213897, 0.62851059, 0.61022437, 0.59710953, 0.61305474,\n",
       "       0.59410443, 0.58629204, 0.61632043, 0.62839858, 0.60530082,\n",
       "       0.59426642, 0.5988602 , 0.59176098, 0.58384639, 0.60545756,\n",
       "       0.5809074 , 0.57541039, 0.62031395, 0.60370731, 0.62511214,\n",
       "       0.60102489, 0.59607978, 0.60912412, 0.6056199 , 0.59764781])"
      ]
     },
     "execution_count": 706,
     "metadata": {},
     "output_type": "execute_result"
    }
   ],
   "source": [
    "scores"
   ]
  },
  {
   "cell_type": "markdown",
   "metadata": {},
   "source": [
    "### Logistic Model Fit on imbalanced dataset\n",
    "- class_weight='balanced'\n",
    "\n",
    "It allows the Ridge or Lasso penality with the hyperparameter  𝛼\n",
    "α\n",
    "  (we call it  𝜆\n",
    "λ\n",
    "  in the class), default =  1𝑒−4\n",
    "1\n",
    "e\n",
    "−\n",
    "4\n",
    " .\n",
    "We choose either Ridge or Lasso by assigning the penalty = 'Ridge', penality = 'Lasso', with default = 'Ridge'\n",
    "It has a parameter controlling the maximal iterations called max_iter, default to  100\n",
    "100\n",
    " .\n",
    "a parameter called solver, which accepts the solver option 'liblinear' of LogisticRegression. But when the solver is set to be sgd, it switches to a Stochastic Gradient Descent logistic classifier.\n",
    "It has two standard model attributes coef_, intercept_.\n",
    "it has the standard APIs of\n",
    "fit(X, Y)\n",
    "predict(X)\n",
    "predict_proba(X)\n",
    "score(X, Y)\n",
    "set_params()\n",
    "get_params()"
   ]
  },
  {
   "cell_type": "code",
   "execution_count": null,
   "metadata": {},
   "outputs": [],
   "source": []
  },
  {
   "cell_type": "code",
   "execution_count": 707,
   "metadata": {},
   "outputs": [
    {
     "name": "stdout",
     "output_type": "stream",
     "text": [
      "Using Logistic Regression\n",
      "The accuracy score 0.6197481011441207\n"
     ]
    }
   ],
   "source": [
    "from sklearn.linear_model    import LogisticRegression, SGDClassifier\n",
    "from sklearn.metrics         import accuracy_score, f1_score, recall_score\n",
    "# from sklearn.tree            import DecisionTreeClassifier\n",
    "# from sklearn.ensemble        import RandomForestRegressor\n",
    "\n",
    "print('Using Logistic Regression')\n",
    "\n",
    "# First Attempt\n",
    "#diab_logit = LogisticRegression(solver='liblinear')\n",
    "#Second Attempt\n",
    "diab_logit = LogisticRegression(solver='liblinear',class_weight='balanced') \n",
    "\n",
    "diab_logit.fit(X_train,y_train)\n",
    "\n",
    "y_pred = diab_logit.predict(X_test)\n",
    "\n",
    "# Checking the accuracy value\n",
    "print('The accuracy score',accuracy_score(y_test, y_pred))\n",
    "\n",
    "\n"
   ]
  },
  {
   "cell_type": "code",
   "execution_count": 708,
   "metadata": {
    "scrolled": true
   },
   "outputs": [
    {
     "data": {
      "text/plain": [
       "LogisticRegression(C=1.0, class_weight='balanced', dual=False,\n",
       "                   fit_intercept=True, intercept_scaling=1, l1_ratio=None,\n",
       "                   max_iter=100, multi_class='warn', n_jobs=None, penalty='l2',\n",
       "                   random_state=None, solver='liblinear', tol=0.0001, verbose=0,\n",
       "                   warm_start=False)"
      ]
     },
     "execution_count": 708,
     "metadata": {},
     "output_type": "execute_result"
    }
   ],
   "source": [
    "diab_logit"
   ]
  },
  {
   "cell_type": "code",
   "execution_count": null,
   "metadata": {},
   "outputs": [],
   "source": []
  },
  {
   "cell_type": "code",
   "execution_count": 709,
   "metadata": {},
   "outputs": [],
   "source": [
    "coefdf = pd.DataFrame(diab_logit.coef_)\n",
    "coefdf.columns = diabdata3.drop('readmitted',axis=1).columns.tolist()\n",
    "coefdf = coefdf.transpose() #.columns = ['Coefficients']\n",
    "coefdf.columns = ['Coefficients']\n"
   ]
  },
  {
   "cell_type": "code",
   "execution_count": 710,
   "metadata": {},
   "outputs": [
    {
     "data": {
      "text/plain": [
       "<matplotlib.axes._subplots.AxesSubplot at 0x1c43c99e50>"
      ]
     },
     "execution_count": 710,
     "metadata": {},
     "output_type": "execute_result"
    },
    {
     "data": {
      "image/png": "[encoded data removed]",
      "text/plain": [
       "<Figure size 432x288 with 1 Axes>"
      ]
     },
     "metadata": {
      "needs_background": "light"
     },
     "output_type": "display_data"
    }
   ],
   "source": [
    "coefdf.sort_values('Coefficients').plot.barh()"
   ]
  },
  {
   "cell_type": "code",
   "execution_count": 711,
   "metadata": {},
   "outputs": [
    {
     "data": {
      "text/plain": [
       "array([0, 1])"
      ]
     },
     "execution_count": 711,
     "metadata": {},
     "output_type": "execute_result"
    }
   ],
   "source": [
    "diab_logit.classes_"
   ]
  },
  {
   "cell_type": "code",
   "execution_count": 765,
   "metadata": {},
   "outputs": [
    {
     "data": {
      "image/png": "[encoded data removed]",
      "text/plain": [
       "<Figure size 432x288 with 2 Axes>"
      ]
     },
     "metadata": {
      "needs_background": "light"
     },
     "output_type": "display_data"
    }
   ],
   "source": [
    "conf_matrix = confusion_matrix(y_test, y_pred)\n",
    "labels = ['Class 0', 'Class 1']\n",
    "fig = plt.figure()\n",
    "ax  = fig.add_subplot(111)\n",
    "cax = ax.matshow(conf_matrix, cmap=plt.cm.Blues)\n",
    "\n",
    "fig.colorbar(cax)\n",
    "ax.set_xticklabels([''] + labels)\n",
    "ax.set_yticklabels([''] + labels)\n",
    "# plt.ylabel('True Values')\n",
    "plt.xlabel('Predicted')\n",
    "plt.title('Not very good')\n",
    "plt.show()"
   ]
  },
  {
   "cell_type": "code",
   "execution_count": 713,
   "metadata": {},
   "outputs": [
    {
     "data": {
      "text/plain": [
       "array([[11909,  6996],\n",
       "       [  914,   983]])"
      ]
     },
     "execution_count": 713,
     "metadata": {},
     "output_type": "execute_result"
    }
   ],
   "source": [
    "from sklearn.metrics import confusion_matrix\n",
    "confusion_matrix(y_test, y_pred)"
   ]
  },
  {
   "cell_type": "code",
   "execution_count": 716,
   "metadata": {},
   "outputs": [],
   "source": [
    "y_pred       = diab_logit.predict(X_test)\n",
    "y_pred_proba = diab_logit.predict_proba(X_test)\n",
    "\n",
    "\n"
   ]
  },
  {
   "cell_type": "code",
   "execution_count": 728,
   "metadata": {},
   "outputs": [],
   "source": [
    "pd.Series(y_test).index = pd.Series(y_pred).index"
   ]
  },
  {
   "cell_type": "code",
   "execution_count": 747,
   "metadata": {},
   "outputs": [],
   "source": [
    "predictions = pd.concat([pd.Series(y_test),pd.Series(y_pred),pd.DataFrame(y_pred_proba)],axis=1)\n",
    "predictions.columns = ['readmitted','predicted','prob_not_readmitted','prob_readmitted']"
   ]
  },
  {
   "cell_type": "code",
   "execution_count": 748,
   "metadata": {},
   "outputs": [
    {
     "data": {
      "text/html": [
       "<div>\n",
       "<style scoped>\n",
       "    .dataframe tbody tr th:only-of-type {\n",
       "        vertical-align: middle;\n",
       "    }\n",
       "\n",
       "    .dataframe tbody tr th {\n",
       "        vertical-align: top;\n",
       "    }\n",
       "\n",
       "    .dataframe thead th {\n",
       "        text-align: right;\n",
       "    }\n",
       "</style>\n",
       "<table border=\"1\" class=\"dataframe\">\n",
       "  <thead>\n",
       "    <tr style=\"text-align: right;\">\n",
       "      <th></th>\n",
       "      <th>readmitted</th>\n",
       "      <th>predicted</th>\n",
       "      <th>prob_not_readmitted</th>\n",
       "      <th>prob_readmitted</th>\n",
       "    </tr>\n",
       "  </thead>\n",
       "  <tbody>\n",
       "    <tr>\n",
       "      <td>10011</td>\n",
       "      <td>0</td>\n",
       "      <td>0</td>\n",
       "      <td>0.557777</td>\n",
       "      <td>0.442223</td>\n",
       "    </tr>\n",
       "    <tr>\n",
       "      <td>7792</td>\n",
       "      <td>0</td>\n",
       "      <td>0</td>\n",
       "      <td>0.605448</td>\n",
       "      <td>0.394552</td>\n",
       "    </tr>\n",
       "    <tr>\n",
       "      <td>18089</td>\n",
       "      <td>0</td>\n",
       "      <td>0</td>\n",
       "      <td>0.643102</td>\n",
       "      <td>0.356898</td>\n",
       "    </tr>\n",
       "    <tr>\n",
       "      <td>12417</td>\n",
       "      <td>0</td>\n",
       "      <td>0</td>\n",
       "      <td>0.531825</td>\n",
       "      <td>0.468175</td>\n",
       "    </tr>\n",
       "    <tr>\n",
       "      <td>556</td>\n",
       "      <td>0</td>\n",
       "      <td>0</td>\n",
       "      <td>0.589046</td>\n",
       "      <td>0.410954</td>\n",
       "    </tr>\n",
       "    <tr>\n",
       "      <td>19951</td>\n",
       "      <td>0</td>\n",
       "      <td>0</td>\n",
       "      <td>0.685053</td>\n",
       "      <td>0.314947</td>\n",
       "    </tr>\n",
       "    <tr>\n",
       "      <td>11499</td>\n",
       "      <td>0</td>\n",
       "      <td>1</td>\n",
       "      <td>0.402348</td>\n",
       "      <td>0.597652</td>\n",
       "    </tr>\n",
       "    <tr>\n",
       "      <td>2278</td>\n",
       "      <td>0</td>\n",
       "      <td>0</td>\n",
       "      <td>0.535962</td>\n",
       "      <td>0.464038</td>\n",
       "    </tr>\n",
       "    <tr>\n",
       "      <td>1734</td>\n",
       "      <td>0</td>\n",
       "      <td>0</td>\n",
       "      <td>0.524198</td>\n",
       "      <td>0.475802</td>\n",
       "    </tr>\n",
       "    <tr>\n",
       "      <td>6474</td>\n",
       "      <td>0</td>\n",
       "      <td>0</td>\n",
       "      <td>0.638934</td>\n",
       "      <td>0.361066</td>\n",
       "    </tr>\n",
       "  </tbody>\n",
       "</table>\n",
       "</div>"
      ],
      "text/plain": [
       "       readmitted  predicted  prob_not_readmitted  prob_readmitted\n",
       "10011           0          0             0.557777         0.442223\n",
       "7792            0          0             0.605448         0.394552\n",
       "18089           0          0             0.643102         0.356898\n",
       "12417           0          0             0.531825         0.468175\n",
       "556             0          0             0.589046         0.410954\n",
       "19951           0          0             0.685053         0.314947\n",
       "11499           0          1             0.402348         0.597652\n",
       "2278            0          0             0.535962         0.464038\n",
       "1734            0          0             0.524198         0.475802\n",
       "6474            0          0             0.638934         0.361066"
      ]
     },
     "execution_count": 748,
     "metadata": {},
     "output_type": "execute_result"
    }
   ],
   "source": [
    "predictions.sample(10)"
   ]
  },
  {
   "cell_type": "code",
   "execution_count": 749,
   "metadata": {},
   "outputs": [
    {
     "data": {
      "text/html": [
       "<div>\n",
       "<style scoped>\n",
       "    .dataframe tbody tr th:only-of-type {\n",
       "        vertical-align: middle;\n",
       "    }\n",
       "\n",
       "    .dataframe tbody tr th {\n",
       "        vertical-align: top;\n",
       "    }\n",
       "\n",
       "    .dataframe thead th {\n",
       "        text-align: right;\n",
       "    }\n",
       "</style>\n",
       "<table border=\"1\" class=\"dataframe\">\n",
       "  <thead>\n",
       "    <tr style=\"text-align: right;\">\n",
       "      <th></th>\n",
       "      <th>readmitted</th>\n",
       "      <th>predicted</th>\n",
       "      <th>prob_not_readmitted</th>\n",
       "      <th>prob_readmitted</th>\n",
       "      <th>pred_55p</th>\n",
       "      <th>pred_50p</th>\n",
       "      <th>pred_45p</th>\n",
       "      <th>pred_40p</th>\n",
       "      <th>pred_35p</th>\n",
       "      <th>pred_30p</th>\n",
       "    </tr>\n",
       "  </thead>\n",
       "  <tbody>\n",
       "    <tr>\n",
       "      <td>0</td>\n",
       "      <td>0</td>\n",
       "      <td>0</td>\n",
       "      <td>0.523482</td>\n",
       "      <td>0.476518</td>\n",
       "      <td>0</td>\n",
       "      <td>0</td>\n",
       "      <td>1</td>\n",
       "      <td>1</td>\n",
       "      <td>1</td>\n",
       "      <td>1</td>\n",
       "    </tr>\n",
       "    <tr>\n",
       "      <td>1</td>\n",
       "      <td>0</td>\n",
       "      <td>0</td>\n",
       "      <td>0.646526</td>\n",
       "      <td>0.353474</td>\n",
       "      <td>0</td>\n",
       "      <td>0</td>\n",
       "      <td>0</td>\n",
       "      <td>0</td>\n",
       "      <td>1</td>\n",
       "      <td>1</td>\n",
       "    </tr>\n",
       "    <tr>\n",
       "      <td>2</td>\n",
       "      <td>0</td>\n",
       "      <td>1</td>\n",
       "      <td>0.378530</td>\n",
       "      <td>0.621470</td>\n",
       "      <td>1</td>\n",
       "      <td>1</td>\n",
       "      <td>1</td>\n",
       "      <td>1</td>\n",
       "      <td>1</td>\n",
       "      <td>1</td>\n",
       "    </tr>\n",
       "    <tr>\n",
       "      <td>3</td>\n",
       "      <td>0</td>\n",
       "      <td>1</td>\n",
       "      <td>0.495628</td>\n",
       "      <td>0.504372</td>\n",
       "      <td>0</td>\n",
       "      <td>1</td>\n",
       "      <td>1</td>\n",
       "      <td>1</td>\n",
       "      <td>1</td>\n",
       "      <td>1</td>\n",
       "    </tr>\n",
       "    <tr>\n",
       "      <td>4</td>\n",
       "      <td>0</td>\n",
       "      <td>1</td>\n",
       "      <td>0.443385</td>\n",
       "      <td>0.556615</td>\n",
       "      <td>1</td>\n",
       "      <td>1</td>\n",
       "      <td>1</td>\n",
       "      <td>1</td>\n",
       "      <td>1</td>\n",
       "      <td>1</td>\n",
       "    </tr>\n",
       "    <tr>\n",
       "      <td>...</td>\n",
       "      <td>...</td>\n",
       "      <td>...</td>\n",
       "      <td>...</td>\n",
       "      <td>...</td>\n",
       "      <td>...</td>\n",
       "      <td>...</td>\n",
       "      <td>...</td>\n",
       "      <td>...</td>\n",
       "      <td>...</td>\n",
       "      <td>...</td>\n",
       "    </tr>\n",
       "    <tr>\n",
       "      <td>20797</td>\n",
       "      <td>0</td>\n",
       "      <td>0</td>\n",
       "      <td>0.512239</td>\n",
       "      <td>0.487761</td>\n",
       "      <td>0</td>\n",
       "      <td>0</td>\n",
       "      <td>1</td>\n",
       "      <td>1</td>\n",
       "      <td>1</td>\n",
       "      <td>1</td>\n",
       "    </tr>\n",
       "    <tr>\n",
       "      <td>20798</td>\n",
       "      <td>0</td>\n",
       "      <td>0</td>\n",
       "      <td>0.563120</td>\n",
       "      <td>0.436880</td>\n",
       "      <td>0</td>\n",
       "      <td>0</td>\n",
       "      <td>0</td>\n",
       "      <td>1</td>\n",
       "      <td>1</td>\n",
       "      <td>1</td>\n",
       "    </tr>\n",
       "    <tr>\n",
       "      <td>20799</td>\n",
       "      <td>0</td>\n",
       "      <td>0</td>\n",
       "      <td>0.637850</td>\n",
       "      <td>0.362150</td>\n",
       "      <td>0</td>\n",
       "      <td>0</td>\n",
       "      <td>0</td>\n",
       "      <td>0</td>\n",
       "      <td>1</td>\n",
       "      <td>1</td>\n",
       "    </tr>\n",
       "    <tr>\n",
       "      <td>20800</td>\n",
       "      <td>0</td>\n",
       "      <td>0</td>\n",
       "      <td>0.650350</td>\n",
       "      <td>0.349650</td>\n",
       "      <td>0</td>\n",
       "      <td>0</td>\n",
       "      <td>0</td>\n",
       "      <td>0</td>\n",
       "      <td>0</td>\n",
       "      <td>1</td>\n",
       "    </tr>\n",
       "    <tr>\n",
       "      <td>20801</td>\n",
       "      <td>0</td>\n",
       "      <td>1</td>\n",
       "      <td>0.466858</td>\n",
       "      <td>0.533142</td>\n",
       "      <td>0</td>\n",
       "      <td>1</td>\n",
       "      <td>1</td>\n",
       "      <td>1</td>\n",
       "      <td>1</td>\n",
       "      <td>1</td>\n",
       "    </tr>\n",
       "  </tbody>\n",
       "</table>\n",
       "<p>20802 rows × 10 columns</p>\n",
       "</div>"
      ],
      "text/plain": [
       "       readmitted  predicted  prob_not_readmitted  prob_readmitted  pred_55p  \\\n",
       "0               0          0             0.523482         0.476518         0   \n",
       "1               0          0             0.646526         0.353474         0   \n",
       "2               0          1             0.378530         0.621470         1   \n",
       "3               0          1             0.495628         0.504372         0   \n",
       "4               0          1             0.443385         0.556615         1   \n",
       "...           ...        ...                  ...              ...       ...   \n",
       "20797           0          0             0.512239         0.487761         0   \n",
       "20798           0          0             0.563120         0.436880         0   \n",
       "20799           0          0             0.637850         0.362150         0   \n",
       "20800           0          0             0.650350         0.349650         0   \n",
       "20801           0          1             0.466858         0.533142         0   \n",
       "\n",
       "       pred_50p  pred_45p  pred_40p  pred_35p  pred_30p  \n",
       "0             0         1         1         1         1  \n",
       "1             0         0         0         1         1  \n",
       "2             1         1         1         1         1  \n",
       "3             1         1         1         1         1  \n",
       "4             1         1         1         1         1  \n",
       "...         ...       ...       ...       ...       ...  \n",
       "20797         0         1         1         1         1  \n",
       "20798         0         0         1         1         1  \n",
       "20799         0         0         0         1         1  \n",
       "20800         0         0         0         0         1  \n",
       "20801         1         1         1         1         1  \n",
       "\n",
       "[20802 rows x 10 columns]"
      ]
     },
     "execution_count": 749,
     "metadata": {},
     "output_type": "execute_result"
    }
   ],
   "source": [
    "predictions['pred_55p']= predictions.prob_readmitted.map(lambda x : 1 if x > 0.55 else 0 )\n",
    "predictions['pred_50p']= predictions.prob_readmitted.map(lambda x : 1 if x > 0.50 else 0 )\n",
    "predictions['pred_45p']= predictions.prob_readmitted.map(lambda x : 1 if x > 0.45 else 0 )\n",
    "predictions['pred_40p']= predictions.prob_readmitted.map(lambda x : 1 if x > 0.40 else 0 )\n",
    "predictions['pred_35p']= predictions.prob_readmitted.map(lambda x : 1 if x > 0.35 else 0 )\n",
    "predictions['pred_30p']= predictions.prob_readmitted.map(lambda x : 1 if x > 0.30 else 0 )\n",
    "predictions"
   ]
  },
  {
   "cell_type": "code",
   "execution_count": 750,
   "metadata": {},
   "outputs": [
    {
     "data": {
      "text/plain": [
       "array([[ 8198, 10707],\n",
       "       [  565,  1332]])"
      ]
     },
     "execution_count": 750,
     "metadata": {},
     "output_type": "execute_result"
    }
   ],
   "source": [
    "conf_matrix45p"
   ]
  },
  {
   "cell_type": "code",
   "execution_count": 751,
   "metadata": {},
   "outputs": [
    {
     "name": "stdout",
     "output_type": "stream",
     "text": [
      "[[   45 18860]\n",
      " [    1  1896]]\n",
      "[[  731 18174]\n",
      " [   38  1859]]\n",
      "[[ 3251 15654]\n",
      " [  195  1702]]\n",
      "[[ 8198 10707]\n",
      " [  565  1332]]\n",
      "[[11909  6996]\n",
      " [  914   983]]\n",
      "[[13642  5263]\n",
      " [ 1115   782]]\n"
     ]
    },
    {
     "data": {
      "text/plain": [
       "[None, None, None, None, None, None]"
      ]
     },
     "execution_count": 751,
     "metadata": {},
     "output_type": "execute_result"
    }
   ],
   "source": [
    "mat_list = ['pred_30p','pred_35p','pred_40p','pred_45p','pred_50p','pred_55p']\n",
    "\n",
    "[print(confusion_matrix(predictions.readmitted,predictions[pred] )) for pred in mat_list]\n"
   ]
  },
  {
   "cell_type": "code",
   "execution_count": null,
   "metadata": {},
   "outputs": [],
   "source": []
  },
  {
   "cell_type": "code",
   "execution_count": null,
   "metadata": {},
   "outputs": [],
   "source": []
  },
  {
   "cell_type": "code",
   "execution_count": null,
   "metadata": {},
   "outputs": [],
   "source": []
  },
  {
   "cell_type": "markdown",
   "metadata": {},
   "source": [
    "### Bootstrapping and SMOTE Synthetic Minority Over-Sampling Technique\n",
    "- Upsampling minory class to create balanced dataset\n",
    "- *conda install -c conda-forge imbalanced-learn*"
   ]
  },
  {
   "cell_type": "code",
   "execution_count": 766,
   "metadata": {},
   "outputs": [
    {
     "name": "stdout",
     "output_type": "stream",
     "text": [
      "Resamplig Data with SMOTE\n",
      "Original dataset shape 69340\n",
      "Resampled dataset shape 126174\n"
     ]
    }
   ],
   "source": [
    "from imblearn               import under_sampling, over_sampling\n",
    "from imblearn.over_sampling import SMOTE\n",
    "\n",
    "smote_ = SMOTE(random_state=42)\n",
    "\n",
    "print('Resamplig Data with SMOTE')\n",
    "X_res, y_res = smote_.fit_resample(X, y)\n",
    "\n",
    "print('Original dataset shape %s'% y.shape[0])\n",
    "print('Resampled dataset shape %s'% y_res.shape[0])"
   ]
  },
  {
   "cell_type": "code",
   "execution_count": 767,
   "metadata": {},
   "outputs": [
    {
     "name": "stdout",
     "output_type": "stream",
     "text": [
      "The accuracy score 0.7291099780730721\n"
     ]
    }
   ],
   "source": [
    "\n",
    "from sklearn.linear_model    import LogisticRegression, SGDClassifier\n",
    "from sklearn.metrics         import accuracy_score, f1_score, recall_score\n",
    "from sklearn.metrics         import classification_report\n",
    "\n",
    "\n",
    "X_train_res, X_test_res, y_train_res, y_test_res = train_test_split(X_res, y_res, test_size = .3, random_state=42)\n",
    "\n",
    "diab_logit_res = LogisticRegression(solver='liblinear') \n",
    "\n",
    "diab_logit_res.fit(X_train_res,y_train_res)\n",
    "\n",
    "y_pred_res = diab_logit_res.predict(X_test_res)\n",
    "\n",
    "print('The accuracy score',accuracy_score(y_test_res, y_pred_res))\n"
   ]
  },
  {
   "cell_type": "code",
   "execution_count": 768,
   "metadata": {},
   "outputs": [
    {
     "data": {
      "text/plain": [
       "array([[11909,  6996],\n",
       "       [  914,   983]])"
      ]
     },
     "execution_count": 768,
     "metadata": {},
     "output_type": "execute_result"
    }
   ],
   "source": [
    "conf_matrix"
   ]
  },
  {
   "cell_type": "code",
   "execution_count": 769,
   "metadata": {},
   "outputs": [
    {
     "data": {
      "image/png": "[encoded data removed]",
      "text/plain": [
       "<Figure size 432x288 with 2 Axes>"
      ]
     },
     "metadata": {
      "needs_background": "light"
     },
     "output_type": "display_data"
    }
   ],
   "source": [
    "conf_matrix = confusion_matrix(y_test_res,y_pred_res )\n",
    "labels = ['Class 0', 'Class 1']\n",
    "fig = plt.figure()\n",
    "ax  = fig.add_subplot(111)\n",
    "cax = ax.matshow(conf_matrix, cmap=plt.cm.Blues)\n",
    "\n",
    "fig.colorbar(cax)\n",
    "ax.set_xticklabels([''] + labels)\n",
    "ax.set_yticklabels([''] + labels)\n",
    "plt.ylabel('True Values')\n",
    "plt.xlabel('Predicted')\n",
    "plt.show()"
   ]
  },
  {
   "cell_type": "code",
   "execution_count": null,
   "metadata": {},
   "outputs": [],
   "source": []
  },
  {
   "cell_type": "code",
   "execution_count": null,
   "metadata": {},
   "outputs": [],
   "source": []
  },
  {
   "cell_type": "markdown",
   "metadata": {},
   "source": [
    "## Model Evaluation\n",
    "\n",
    "- **Accuracy**: Algorithms are designed to maximize accuracy and reduce error. \n",
    "    Not good for imbalanced dataset. \n",
    "    \n",
    "    \n",
    "- **Precision**: the number of true positives divided by all positive prediction.\n",
    "\n",
    "    Precision = True Positive / True Positive + False Positive\n",
    "    \n",
    "    Precision is also called Positive Predictive Value. It is a measure of \n",
    "    classifier’s exactness. Low precision indicates a high number of false positives.\n",
    "    \n",
    "- **Confusion Matrix**: a table showing correct predictions and types of incorrect predictions.\n",
    "-\n",
    "- **Recall**: the number of true positives divided by the number of positive values in the test data. Recall is also called Sensitivity or the True Positive Rate. It is a measure of a classifier’s completeness. Low recall indicates a high number of false negatives.\n",
    "-\n",
    "- **F1 Score**: the weighted average of precision and recall."
   ]
  },
  {
   "cell_type": "code",
   "execution_count": 770,
   "metadata": {},
   "outputs": [
    {
     "name": "stdout",
     "output_type": "stream",
     "text": [
      "              precision    recall  f1-score   support\n",
      "\n",
      "           0       0.72      0.75      0.74     19060\n",
      "           1       0.73      0.71      0.72     18793\n",
      "\n",
      "    accuracy                           0.73     37853\n",
      "   macro avg       0.73      0.73      0.73     37853\n",
      "weighted avg       0.73      0.73      0.73     37853\n",
      "\n"
     ]
    }
   ],
   "source": [
    "\n",
    "print(classification_report(y_test_res, y_pred_res))"
   ]
  },
  {
   "cell_type": "code",
   "execution_count": null,
   "metadata": {},
   "outputs": [],
   "source": []
  },
  {
   "cell_type": "markdown",
   "metadata": {},
   "source": [
    "## Using upsampling"
   ]
  },
  {
   "cell_type": "code",
   "execution_count": 772,
   "metadata": {},
   "outputs": [
    {
     "name": "stdout",
     "output_type": "stream",
     "text": [
      "Majority:  (63087, 24)\n",
      "Minority:  (6253, 24)\n"
     ]
    }
   ],
   "source": [
    "diabdata_majority = diabdata3[diabdata['readmitted']==0]\n",
    "diabdata_minority = diabdata3[diabdata['readmitted']==1]\n",
    " \n",
    "print('Majority: ',diabdata_majority.shape)\n",
    "print('Minority: ',diabdata_minority.shape)"
   ]
  },
  {
   "cell_type": "code",
   "execution_count": null,
   "metadata": {},
   "outputs": [],
   "source": [
    "\n",
    "\n",
    "# Upsample minority class\n",
    "diabdata_minority_upsampled = resample(diabdata_minority, \n",
    "                                 replace=True,     # sample with replacement\n",
    "                                 n_samples=576,    # to match majority class\n",
    "                                 random_state=42) # reproducible results\n",
    " \n",
    "# Combine majority class with upsampled minority class\n",
    "diabdata_upsampled = pd.concat([df_majority, df_minority_upsampled])\n",
    " \n",
    "# Display new class counts\n",
    "df_upsampled.balance.value_counts()"
   ]
  },
  {
   "cell_type": "code",
   "execution_count": null,
   "metadata": {},
   "outputs": [],
   "source": []
  },
  {
   "cell_type": "code",
   "execution_count": 773,
   "metadata": {},
   "outputs": [
    {
     "name": "stdout",
     "output_type": "stream",
     "text": [
      "Treshold [2 1 0]\n"
     ]
    },
    {
     "data": {
      "image/png": "[encoded data removed]",
      "text/plain": [
       "<Figure size 432x288 with 1 Axes>"
      ]
     },
     "metadata": {
      "needs_background": "light"
     },
     "output_type": "display_data"
    }
   ],
   "source": [
    "from sklearn.metrics import roc_curve, auc\n",
    "import matplotlib.pyplot as plt\n",
    "\n",
    "# diab_logit.fit(X_train,y_train)\n",
    "# y_pred = diab_logit.predict(X_test)\n",
    "\n",
    "y_pred = diab_logit_res.predict(X_test_res)\n",
    "\n",
    "# false posite rate, true porsitive rate\n",
    "fpr, tpr, treshold = roc_curve(y_test_res, y_pred_res)\n",
    "print('Treshold {}'.format(treshold))\n",
    "roc_auc  = auc(fpr, tpr)\n",
    "\n",
    "plt.figure()\n",
    "lw = 2\n",
    "plt.plot(fpr, tpr, color='lightblue',\n",
    "         lw=lw, label='ROC curve (area = %0.2f)' % roc_auc)\n",
    "plt.plot([0, 1], [0, 1], color='navy', lw=lw, linestyle='--')\n",
    "plt.xlim([0.0, 1.0])\n",
    "plt.ylim([0.0, 1.05])\n",
    "plt.xlabel('False Positive Rate')\n",
    "plt.ylabel('True  Positive Rate')\n",
    "plt.title('Receiver Operating Characteristic of Diabetes')\n",
    "plt.legend(loc='lower right')\n",
    "plt.show()"
   ]
  },
  {
   "cell_type": "code",
   "execution_count": null,
   "metadata": {},
   "outputs": [],
   "source": []
  },
  {
   "cell_type": "code",
   "execution_count": null,
   "metadata": {},
   "outputs": [],
   "source": []
  },
  {
   "cell_type": "markdown",
   "metadata": {},
   "source": [
    "## Significance of Coefficients - Need to fix it for SMOTE sampled data columns names"
   ]
  },
  {
   "cell_type": "code",
   "execution_count": 776,
   "metadata": {},
   "outputs": [
    {
     "name": "stderr",
     "output_type": "stream",
     "text": [
      "/Users/karolylajko/opt/anaconda3/lib/python3.7/site-packages/numpy/core/fromnumeric.py:2495: FutureWarning: Method .ptp is deprecated and will be removed in a future version. Use numpy.ptp instead.\n",
      "  return ptp(axis=axis, out=out, **kwargs)\n"
     ]
    },
    {
     "name": "stdout",
     "output_type": "stream",
     "text": [
      "Optimization terminated successfully.\n",
      "         Current function value: 0.307303\n",
      "         Iterations 7\n",
      "                           Logit Regression Results                           \n",
      "==============================================================================\n",
      "Dep. Variable:             readmitted   No. Observations:                48538\n",
      "Model:                          Logit   Df Residuals:                    48515\n",
      "Method:                           MLE   Df Model:                           22\n",
      "Date:                Thu, 19 Mar 2020   Pseudo R-squ.:                -0.01774\n",
      "Time:                        21:53:56   Log-Likelihood:                -14916.\n",
      "converged:                       True   LL-Null:                       -14656.\n",
      "Covariance Type:            nonrobust   LLR p-value:                     1.000\n",
      "==========================================================================================\n",
      "                             coef    std err          z      P>|z|      [0.025      0.975]\n",
      "------------------------------------------------------------------------------------------\n",
      "time_in_hospital           0.0118      0.006      1.894      0.058      -0.000       0.024\n",
      "num_medications           -0.0115      0.002     -5.184      0.000      -0.016      -0.007\n",
      "newage                    -0.0196      0.001    -24.437      0.000      -0.021      -0.018\n",
      "class1_circulatory        -0.6316      0.051    -12.276      0.000      -0.732      -0.531\n",
      "class1_digestive          -0.9201      0.069    -13.281      0.000      -1.056      -0.784\n",
      "class1_genitourinary      -0.8417      0.084    -10.080      0.000      -1.005      -0.678\n",
      "class1_injury             -0.6692      0.071     -9.447      0.000      -0.808      -0.530\n",
      "class1_musculoskeletal    -1.0301      0.087    -11.817      0.000      -1.201      -0.859\n",
      "class1_neoplasms          -0.8715      0.059    -14.874      0.000      -0.986      -0.757\n",
      "class1_other              -0.7829      0.070    -11.115      0.000      -0.921      -0.645\n",
      "class1_respiratory        -0.9959      0.063    -15.858      0.000      -1.119      -0.873\n",
      "class3_Caucasian          -0.2476      0.037     -6.637      0.000      -0.321      -0.174\n",
      "class3_Missing            -0.3533      0.110     -3.211      0.001      -0.569      -0.138\n",
      "class3_Other              -0.5779      0.088     -6.579      0.000      -0.750      -0.406\n",
      "class6_other               0.6464      0.035     18.627      0.000       0.578       0.714\n",
      "class7_clin_ref           -0.2423      0.134     -1.808      0.071      -0.505       0.020\n",
      "class7_hospital           -0.3270      0.090     -3.622      0.000      -0.504      -0.150\n",
      "class7_other              -0.2049      0.060     -3.404      0.001      -0.323      -0.087\n",
      "class7_phys_ref           -0.2200      0.038     -5.854      0.000      -0.294      -0.146\n",
      "class7_snf                -0.3243      0.111     -2.931      0.003      -0.541      -0.107\n",
      "class8_>7                 -0.2318      0.085     -2.740      0.006      -0.398      -0.066\n",
      "class8_>8                 -0.5984      0.060     -9.960      0.000      -0.716      -0.481\n",
      "class8_Norm               -0.3673      0.074     -4.948      0.000      -0.513      -0.222\n",
      "==========================================================================================\n"
     ]
    }
   ],
   "source": [
    "import statsmodels.api as sm \n",
    "\n",
    "X_add_const_res = sm.add_constant(X_train)\n",
    "sm_logit        = sm.Logit(y_train, X_train)\n",
    "ans             = sm_logit.fit()\n",
    "print(ans.summary())"
   ]
  },
  {
   "cell_type": "code",
   "execution_count": null,
   "metadata": {},
   "outputs": [],
   "source": []
  },
  {
   "cell_type": "code",
   "execution_count": 777,
   "metadata": {},
   "outputs": [
    {
     "data": {
      "text/html": [
       "<div>\n",
       "<style scoped>\n",
       "    .dataframe tbody tr th:only-of-type {\n",
       "        vertical-align: middle;\n",
       "    }\n",
       "\n",
       "    .dataframe tbody tr th {\n",
       "        vertical-align: top;\n",
       "    }\n",
       "\n",
       "    .dataframe thead th {\n",
       "        text-align: right;\n",
       "    }\n",
       "</style>\n",
       "<table border=\"1\" class=\"dataframe\">\n",
       "  <thead>\n",
       "    <tr style=\"text-align: right;\">\n",
       "      <th></th>\n",
       "      <th>name</th>\n",
       "      <th>coef</th>\n",
       "      <th>std err</th>\n",
       "      <th>t value</th>\n",
       "      <th>p value</th>\n",
       "      <th>2.5% confidence</th>\n",
       "      <th>97.5% confidence</th>\n",
       "    </tr>\n",
       "  </thead>\n",
       "  <tbody>\n",
       "    <tr>\n",
       "      <td>1</td>\n",
       "      <td>num_medications</td>\n",
       "      <td>-0.0115</td>\n",
       "      <td>0.002</td>\n",
       "      <td>-5.184</td>\n",
       "      <td>0.000</td>\n",
       "      <td>-0.016</td>\n",
       "      <td>-0.007</td>\n",
       "    </tr>\n",
       "    <tr>\n",
       "      <td>2</td>\n",
       "      <td>newage</td>\n",
       "      <td>-0.0196</td>\n",
       "      <td>0.001</td>\n",
       "      <td>-24.437</td>\n",
       "      <td>0.000</td>\n",
       "      <td>-0.021</td>\n",
       "      <td>-0.018</td>\n",
       "    </tr>\n",
       "    <tr>\n",
       "      <td>3</td>\n",
       "      <td>class1_circulatory</td>\n",
       "      <td>-0.6316</td>\n",
       "      <td>0.051</td>\n",
       "      <td>-12.276</td>\n",
       "      <td>0.000</td>\n",
       "      <td>-0.732</td>\n",
       "      <td>-0.531</td>\n",
       "    </tr>\n",
       "    <tr>\n",
       "      <td>4</td>\n",
       "      <td>class1_digestive</td>\n",
       "      <td>-0.9201</td>\n",
       "      <td>0.069</td>\n",
       "      <td>-13.281</td>\n",
       "      <td>0.000</td>\n",
       "      <td>-1.056</td>\n",
       "      <td>-0.784</td>\n",
       "    </tr>\n",
       "    <tr>\n",
       "      <td>5</td>\n",
       "      <td>class1_genitourinary</td>\n",
       "      <td>-0.8417</td>\n",
       "      <td>0.084</td>\n",
       "      <td>-10.080</td>\n",
       "      <td>0.000</td>\n",
       "      <td>-1.005</td>\n",
       "      <td>-0.678</td>\n",
       "    </tr>\n",
       "    <tr>\n",
       "      <td>6</td>\n",
       "      <td>class1_injury</td>\n",
       "      <td>-0.6692</td>\n",
       "      <td>0.071</td>\n",
       "      <td>-9.447</td>\n",
       "      <td>0.000</td>\n",
       "      <td>-0.808</td>\n",
       "      <td>-0.530</td>\n",
       "    </tr>\n",
       "    <tr>\n",
       "      <td>7</td>\n",
       "      <td>class1_musculoskeletal</td>\n",
       "      <td>-1.0301</td>\n",
       "      <td>0.087</td>\n",
       "      <td>-11.817</td>\n",
       "      <td>0.000</td>\n",
       "      <td>-1.201</td>\n",
       "      <td>-0.859</td>\n",
       "    </tr>\n",
       "    <tr>\n",
       "      <td>8</td>\n",
       "      <td>class1_neoplasms</td>\n",
       "      <td>-0.8715</td>\n",
       "      <td>0.059</td>\n",
       "      <td>-14.874</td>\n",
       "      <td>0.000</td>\n",
       "      <td>-0.986</td>\n",
       "      <td>-0.757</td>\n",
       "    </tr>\n",
       "    <tr>\n",
       "      <td>9</td>\n",
       "      <td>class1_other</td>\n",
       "      <td>-0.7829</td>\n",
       "      <td>0.070</td>\n",
       "      <td>-11.115</td>\n",
       "      <td>0.000</td>\n",
       "      <td>-0.921</td>\n",
       "      <td>-0.645</td>\n",
       "    </tr>\n",
       "    <tr>\n",
       "      <td>10</td>\n",
       "      <td>class1_respiratory</td>\n",
       "      <td>-0.9959</td>\n",
       "      <td>0.063</td>\n",
       "      <td>-15.858</td>\n",
       "      <td>0.000</td>\n",
       "      <td>-1.119</td>\n",
       "      <td>-0.873</td>\n",
       "    </tr>\n",
       "    <tr>\n",
       "      <td>11</td>\n",
       "      <td>class3_Caucasian</td>\n",
       "      <td>-0.2476</td>\n",
       "      <td>0.037</td>\n",
       "      <td>-6.637</td>\n",
       "      <td>0.000</td>\n",
       "      <td>-0.321</td>\n",
       "      <td>-0.174</td>\n",
       "    </tr>\n",
       "    <tr>\n",
       "      <td>12</td>\n",
       "      <td>class3_Missing</td>\n",
       "      <td>-0.3533</td>\n",
       "      <td>0.110</td>\n",
       "      <td>-3.211</td>\n",
       "      <td>0.001</td>\n",
       "      <td>-0.569</td>\n",
       "      <td>-0.138</td>\n",
       "    </tr>\n",
       "    <tr>\n",
       "      <td>13</td>\n",
       "      <td>class3_Other</td>\n",
       "      <td>-0.5779</td>\n",
       "      <td>0.088</td>\n",
       "      <td>-6.579</td>\n",
       "      <td>0.000</td>\n",
       "      <td>-0.750</td>\n",
       "      <td>-0.406</td>\n",
       "    </tr>\n",
       "    <tr>\n",
       "      <td>14</td>\n",
       "      <td>class6_other</td>\n",
       "      <td>0.6464</td>\n",
       "      <td>0.035</td>\n",
       "      <td>18.627</td>\n",
       "      <td>0.000</td>\n",
       "      <td>0.578</td>\n",
       "      <td>0.714</td>\n",
       "    </tr>\n",
       "    <tr>\n",
       "      <td>16</td>\n",
       "      <td>class7_hospital</td>\n",
       "      <td>-0.3270</td>\n",
       "      <td>0.090</td>\n",
       "      <td>-3.622</td>\n",
       "      <td>0.000</td>\n",
       "      <td>-0.504</td>\n",
       "      <td>-0.150</td>\n",
       "    </tr>\n",
       "    <tr>\n",
       "      <td>17</td>\n",
       "      <td>class7_other</td>\n",
       "      <td>-0.2049</td>\n",
       "      <td>0.060</td>\n",
       "      <td>-3.404</td>\n",
       "      <td>0.001</td>\n",
       "      <td>-0.323</td>\n",
       "      <td>-0.087</td>\n",
       "    </tr>\n",
       "    <tr>\n",
       "      <td>18</td>\n",
       "      <td>class7_phys_ref</td>\n",
       "      <td>-0.2200</td>\n",
       "      <td>0.038</td>\n",
       "      <td>-5.854</td>\n",
       "      <td>0.000</td>\n",
       "      <td>-0.294</td>\n",
       "      <td>-0.146</td>\n",
       "    </tr>\n",
       "    <tr>\n",
       "      <td>19</td>\n",
       "      <td>class7_snf</td>\n",
       "      <td>-0.3243</td>\n",
       "      <td>0.111</td>\n",
       "      <td>-2.931</td>\n",
       "      <td>0.003</td>\n",
       "      <td>-0.541</td>\n",
       "      <td>-0.107</td>\n",
       "    </tr>\n",
       "    <tr>\n",
       "      <td>20</td>\n",
       "      <td>class8_&gt;7</td>\n",
       "      <td>-0.2318</td>\n",
       "      <td>0.085</td>\n",
       "      <td>-2.740</td>\n",
       "      <td>0.006</td>\n",
       "      <td>-0.398</td>\n",
       "      <td>-0.066</td>\n",
       "    </tr>\n",
       "    <tr>\n",
       "      <td>21</td>\n",
       "      <td>class8_&gt;8</td>\n",
       "      <td>-0.5984</td>\n",
       "      <td>0.060</td>\n",
       "      <td>-9.960</td>\n",
       "      <td>0.000</td>\n",
       "      <td>-0.716</td>\n",
       "      <td>-0.481</td>\n",
       "    </tr>\n",
       "    <tr>\n",
       "      <td>22</td>\n",
       "      <td>class8_Norm</td>\n",
       "      <td>-0.3673</td>\n",
       "      <td>0.074</td>\n",
       "      <td>-4.948</td>\n",
       "      <td>0.000</td>\n",
       "      <td>-0.513</td>\n",
       "      <td>-0.222</td>\n",
       "    </tr>\n",
       "  </tbody>\n",
       "</table>\n",
       "</div>"
      ],
      "text/plain": [
       "                      name    coef  std err  t value  p value  \\\n",
       "1          num_medications -0.0115    0.002   -5.184    0.000   \n",
       "2                   newage -0.0196    0.001  -24.437    0.000   \n",
       "3       class1_circulatory -0.6316    0.051  -12.276    0.000   \n",
       "4         class1_digestive -0.9201    0.069  -13.281    0.000   \n",
       "5     class1_genitourinary -0.8417    0.084  -10.080    0.000   \n",
       "6            class1_injury -0.6692    0.071   -9.447    0.000   \n",
       "7   class1_musculoskeletal -1.0301    0.087  -11.817    0.000   \n",
       "8         class1_neoplasms -0.8715    0.059  -14.874    0.000   \n",
       "9             class1_other -0.7829    0.070  -11.115    0.000   \n",
       "10      class1_respiratory -0.9959    0.063  -15.858    0.000   \n",
       "11        class3_Caucasian -0.2476    0.037   -6.637    0.000   \n",
       "12          class3_Missing -0.3533    0.110   -3.211    0.001   \n",
       "13            class3_Other -0.5779    0.088   -6.579    0.000   \n",
       "14            class6_other  0.6464    0.035   18.627    0.000   \n",
       "16         class7_hospital -0.3270    0.090   -3.622    0.000   \n",
       "17            class7_other -0.2049    0.060   -3.404    0.001   \n",
       "18         class7_phys_ref -0.2200    0.038   -5.854    0.000   \n",
       "19              class7_snf -0.3243    0.111   -2.931    0.003   \n",
       "20               class8_>7 -0.2318    0.085   -2.740    0.006   \n",
       "21               class8_>8 -0.5984    0.060   -9.960    0.000   \n",
       "22             class8_Norm -0.3673    0.074   -4.948    0.000   \n",
       "\n",
       "    2.5% confidence  97.5% confidence  \n",
       "1            -0.016            -0.007  \n",
       "2            -0.021            -0.018  \n",
       "3            -0.732            -0.531  \n",
       "4            -1.056            -0.784  \n",
       "5            -1.005            -0.678  \n",
       "6            -0.808            -0.530  \n",
       "7            -1.201            -0.859  \n",
       "8            -0.986            -0.757  \n",
       "9            -0.921            -0.645  \n",
       "10           -1.119            -0.873  \n",
       "11           -0.321            -0.174  \n",
       "12           -0.569            -0.138  \n",
       "13           -0.750            -0.406  \n",
       "14            0.578             0.714  \n",
       "16           -0.504            -0.150  \n",
       "17           -0.323            -0.087  \n",
       "18           -0.294            -0.146  \n",
       "19           -0.541            -0.107  \n",
       "20           -0.398            -0.066  \n",
       "21           -0.716            -0.481  \n",
       "22           -0.513            -0.222  "
      ]
     },
     "execution_count": 777,
     "metadata": {},
     "output_type": "execute_result"
    }
   ],
   "source": [
    "ans.summary().tables[1]\n",
    "\n",
    "table = pd.DataFrame(ans.summary().tables[1].data[1:])\n",
    "table.columns = ['name','coef','std err','t value','p value','2.5% confidence','97.5% confidence']\n",
    "table = table.astype({'name':str,'coef':float,'std err':float, 't value':float, 'p value':float,'2.5% confidence':float, '97.5% confidence':float})\n",
    "table[table['p value']<0.05]  # those coefficients with 0 lying outside their CIs\n"
   ]
  },
  {
   "cell_type": "markdown",
   "metadata": {},
   "source": [
    "## Need to fix this plot"
   ]
  },
  {
   "cell_type": "code",
   "execution_count": 782,
   "metadata": {},
   "outputs": [],
   "source": [
    "\n",
    "# plt.rcParams['figure.figsize'] = (10,5)\n",
    "# y_min, y_max = -6.0,5.0\n",
    "\n",
    "# table = pd.DataFrame(ans.summary().tables[1].data[1:])\n",
    "# table.columns = ['name','coef','std err','t value','p value','2.5% confidence','97.5% confidence']\n",
    "# table = table.astype({'name':str,'coef':float,'std err':float, 't value':float, 'p value':float, '2.5% confidence':float, '97.5% confidence':float})\n",
    "# slope_table = table[['name', 'coef', '2.5% confidence', '97.5% confidence']].iloc[1:]\n",
    "# slope_table.name = table.name\n",
    "\n",
    "\n",
    "# slope_table['y_min'] = slope_table['2.5% confidence'].map(lambda t:(t-y_min)/(y_max-y_min))\n",
    "# slope_table['y_max'] = slope_table['97.5% confidence'].map(lambda t:(t-y_min)/(y_max-y_min))\n",
    "# x = range(1,22)\n",
    "# plt.scatter(x, slope_table['coef'], label='slope', c='b')\n",
    "# plt.axhline(0,linestyle='--', c='r')\n",
    "\n",
    "# for i in x:\n",
    "#     plt.axvline(i, ymin=slope_table['y_min'][i], ymax=slope_table['y_max'][i], marker='+', alpha=0.3)\n",
    "# plt.xticks(x,slope_table.name,rotation='vertical')\n",
    "# plt.ylim((y_min, y_max))\n",
    "# plt.title('slopes and their CIs')\n",
    "# plt.legend(loc=4)"
   ]
  },
  {
   "cell_type": "code",
   "execution_count": null,
   "metadata": {},
   "outputs": [],
   "source": []
  },
  {
   "cell_type": "code",
   "execution_count": null,
   "metadata": {},
   "outputs": [],
   "source": []
  }
 ],
 "metadata": {
  "kernelspec": {
   "display_name": "Python 3",
   "language": "python",
   "name": "python3"
  },
  "language_info": {
   "codemirror_mode": {
    "name": "ipython",
    "version": 3
   },
   "file_extension": ".py",
   "mimetype": "text/x-python",
   "name": "python",
   "nbconvert_exporter": "python",
   "pygments_lexer": "ipython3",
   "version": "3.7.4"
  }
 },
 "nbformat": 4,
 "nbformat_minor": 2
}
