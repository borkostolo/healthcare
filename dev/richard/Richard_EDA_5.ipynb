{
 "cells": [
  {
   "cell_type": "code",
   "execution_count": 179,
   "metadata": {},
   "outputs": [],
   "source": [
    "import numpy as np\n",
    "import pandas as pd \n",
    "import seaborn as sns \n",
    "import matplotlib.pyplot as plt \n",
    "from sklearn.metrics import confusion_matrix, accuracy_score, classification_report, roc_curve, auc \n",
    "from sklearn.model_selection import train_test_split, GridSearchCV\n",
    "from sklearn.linear_model import LogisticRegression \n",
    "from imblearn.over_sampling import SMOTE\n",
    "from imblearn.under_sampling import RandomUnderSampler\n",
    "\n",
    "%matplotlib inline"
   ]
  },
  {
   "cell_type": "markdown",
   "metadata": {},
   "source": [
    "# Read Data"
   ]
  },
  {
   "cell_type": "code",
   "execution_count": 132,
   "metadata": {},
   "outputs": [
    {
     "data": {
      "text/plain": [
       "['examide', 'citoglipton']"
      ]
     },
     "execution_count": 132,
     "metadata": {},
     "output_type": "execute_result"
    }
   ],
   "source": [
    "# Read file and pass in \n",
    "diabetes = pd.read_csv(\"diabetic_data.csv\")\n",
    "\n",
    "diabetes.head()\n",
    "\n",
    "medications_full = ['metformin', 'repaglinide', 'nateglinide', 'chlorpropamide',\n",
    "       'glimepiride', 'acetohexamide', 'glipizide', 'glyburide', 'tolbutamide',\n",
    "       'pioglitazone', 'rosiglitazone', 'acarbose', 'miglitol', 'troglitazone',\n",
    "       'tolazamide', 'examide', 'citoglipton', 'insulin',\n",
    "       'glyburide-metformin', 'glipizide-metformin',\n",
    "       'glimepiride-pioglitazone', 'metformin-rosiglitazone',\n",
    "       'metformin-pioglitazone']\n",
    "\n",
    "medications = ['metformin', 'repaglinide', 'nateglinide', 'chlorpropamide',\n",
    "       'glimepiride', 'acetohexamide', 'glipizide', 'glyburide', 'tolbutamide',\n",
    "       'pioglitazone', 'rosiglitazone', 'acarbose', 'miglitol', 'troglitazone',\n",
    "       'tolazamide', 'insulin',\n",
    "       'glyburide-metformin', 'glipizide-metformin',\n",
    "       'glimepiride-pioglitazone', 'metformin-rosiglitazone',\n",
    "       'metformin-pioglitazone']\n",
    "\n",
    "# replace missing with np.nan\n",
    "diabetes.replace('?', np.nan, inplace = True)\n",
    "# diabetes.isnull().sum(axis =0)\n",
    "# missingcols = ['race', 'weight','payer_code','medical_specialty', 'diag_1','diag_2','diag_3']\n",
    "\n",
    "list(set(medications_full) - set(medications))"
   ]
  },
  {
   "cell_type": "code",
   "execution_count": 133,
   "metadata": {},
   "outputs": [],
   "source": [
    "# validation = pd.read_csv('../kailun/data for Richard/validation.csv')\n",
    "# X_train_all = pd.read_csv('../kailun/data for Richard/X_train_all.csv')\n",
    "# y_train_all = pd.read_csv('../kailun/data for Richard/y_train_all.csv')\n"
   ]
  },
  {
   "cell_type": "markdown",
   "metadata": {},
   "source": [
    "# Make Output Binary"
   ]
  },
  {
   "cell_type": "code",
   "execution_count": 134,
   "metadata": {},
   "outputs": [],
   "source": [
    "# Binary Classfication of Readmission Attribute\n",
    "diabetes.readmitted.replace('NO','otherwise', inplace = True)\n",
    "diabetes.readmitted.replace('>30','otherwise', inplace = True)\n",
    "diabetes.readmitted.replace('<30','readmitted', inplace = True)\n",
    "diabetes.readmitted.replace('otherwise',0, inplace = True)\n",
    "diabetes.readmitted.replace('readmitted',1, inplace = True)\n"
   ]
  },
  {
   "cell_type": "markdown",
   "metadata": {},
   "source": [
    "# Dummification"
   ]
  },
  {
   "cell_type": "markdown",
   "metadata": {},
   "source": [
    "#### Easy Dummification \n",
    "- gender (easy: just drop NAs + make 0 or 1)  \n",
    "- change (easy: 0 or 1) \n",
    "- diabetesMed (easy: 0 or 1) \n",
    "\n",
    "#### Columns to Dummify\n",
    "- race (consolidated sparse data in larger buckets 3) \n",
    "- age (dummify buckets) \n",
    "- admission_type_id (replace numbers with corresponding qualitative value and bucket/dummify) \n",
    "- discharge_disposition_id (replace numbers with corresponding qualitative value and bucket/ dummify) \n",
    "- admission_source_id (replace numbers with corresponding qualitative value and dummify) \n",
    "- medical_specialty (replace numbers with corresponding qualitative value and dummify) \n",
    "- diag_1 (bucket / dummify)\n",
    "- diag_2 (bucket / dummify)\n",
    "- diag_3 (bucket / dummify)\n",
    "- max_glu_serum (bucket / dummify)\n",
    "- A1Cresult (bucket / dummify)\n",
    "- medications\n",
    "\n",
    "\n",
    "\n"
   ]
  },
  {
   "cell_type": "markdown",
   "metadata": {},
   "source": [
    "### Easy Dummification"
   ]
  },
  {
   "cell_type": "code",
   "execution_count": 135,
   "metadata": {},
   "outputs": [],
   "source": [
    "# DiabetesMed - Dummify\n",
    "diabetes.diabetesMed.replace('Yes',1, inplace = True)\n",
    "diabetes.diabetesMed.replace('No',0, inplace = True)\n",
    "\n",
    "# DiabetesChange - \"Dummify\"\n",
    "diabetes.change.replace('Ch',1, inplace = True)\n",
    "diabetes.change.replace('No',0, inplace = True)\n",
    " \n",
    "# Diabetes.Gender - Dummify + Drop Unknowns\n",
    "diabetes.gender.replace('Male', 1, inplace = True)\n",
    "diabetes.gender.replace('Female', 0, inplace = True)"
   ]
  },
  {
   "cell_type": "code",
   "execution_count": 136,
   "metadata": {},
   "outputs": [],
   "source": [
    "diabetes.loc[(diabetes['diag_1'].str.contains('V')) | (diabetes['diag_1'].str.contains('E')), 'diag_1']= 0\n",
    "diabetes['diag_1'] = diabetes['diag_1'].replace('?', -1)\n",
    "diabetes['diag_1'] = diabetes['diag_1'].astype(float)\n"
   ]
  },
  {
   "cell_type": "markdown",
   "metadata": {},
   "source": [
    "### Dummification"
   ]
  },
  {
   "cell_type": "code",
   "execution_count": 137,
   "metadata": {},
   "outputs": [],
   "source": [
    "# Race \n",
    "diabetes.race = [x if x in ['Caucasian', 'AfricanAmerican','Asian'] else 'Other' for x in diabetes.race]\n",
    "\n",
    "# Age\n",
    "diabetes.age = ['[60, 100)' if x in ['[70-80)','[60-70)','[80-90)','[90-100)'] else \n",
    " '[30, 60)' if x in ['[50-60)','[40-50)','[30-40)'] else \n",
    " '<30' for x in diabetes.age]\n",
    "\n",
    "# Admissions Source \n",
    "emergency = [7]\n",
    "referral = [1,2,3]\n",
    "diabetes.admission_source_id = ['Referral' if x in referral else \n",
    " 'Emergency' if x in emergency else \n",
    " 'Other' for x in diabetes.admission_source_id]\n",
    "\n",
    "# Discharge \n",
    "expired = [11,19,20,21]\n",
    "home = [1,6,8,13]\n",
    "diabetes.discharge_disposition_id = ['Home' if x in home else \n",
    "           'Expired' if x in expired else \n",
    "           'Other' for x in diabetes.discharge_disposition_id]\n",
    "\n",
    "# Medical Specialty \n",
    "cardiology = ['Cardiology',\n",
    " 'Cardiology-Pediatric']\n",
    "generalpractice = ['Family/GeneralPractice']\n",
    "internalmedicine = ['InternalMedicine']\n",
    "missing = ['?']\n",
    "surgery = ['Surgeon',\n",
    " 'Surgery-Cardiovascular',\n",
    " 'Surgery-Cardiovascular/Thoracic',\n",
    " 'Surgery-Colon&Rectal',\n",
    " 'Surgery-General',\n",
    " 'Surgery-Maxillofacial',\n",
    " 'Surgery-Neuro',\n",
    " 'Surgery-Pediatric',\n",
    " 'Surgery-Plastic',\n",
    " 'Surgery-PlasticwithinHeadandNeck',\n",
    " 'Surgery-Thoracic',\n",
    " 'Surgery-Vascular',\n",
    " 'SurgicalSpecialty']\n",
    "\n",
    "diabetes.medical_specialty = ['Cardiology' if x in cardiology else \n",
    " \"General Practice\" if x in generalpractice else \n",
    " 'Internal Medicine' if x in internalmedicine else\n",
    " 'Surgery' if x in surgery else \n",
    " 'Missing' if x in missing else \n",
    " 'Other' for x in diabetes.medical_specialty]\n",
    "\n",
    "# A1C \n",
    "diabetes['HA1C']=pd.Series(len(diabetes['A1Cresult']), index=diabetes)\n",
    "diabetes['HA1C']= 'Not Measured'\n",
    "diabetes.loc[(diabetes['A1Cresult']=='Norm') | (diabetes['A1Cresult']=='>7'), 'HA1C']= 'Normal'\n",
    "diabetes.loc[(diabetes['A1Cresult']=='>8') & (diabetes['change']==0), 'HA1C']= 'High, not changed'\n",
    "diabetes.loc[(diabetes['A1Cresult']=='>8') & (diabetes['change']== 1), 'HA1C']= 'High, changed'\n",
    "\n",
    "# diagnosis\n",
    "\n",
    "# Creating an empty column for diag1_collapse\n",
    "diabetes['diag1_collapse'] = pd.Series(len(diabetes['diag_1']), index=diabetes.index)\n",
    "# Initiate all the values as 0\n",
    "diabetes['diag1_collapse'] = 'other'\n",
    "\n",
    "for index, row in diabetes.iterrows():\n",
    "    \n",
    "    if (row['diag_1'] >= 390 and row['diag_1'] <= 359) | (np.floor(row['diag_1']) == 785):\n",
    "        diabetes.loc[index, 'diag1_collapse'] = 'circulatory'\n",
    "        \n",
    "    elif (row['diag_1'] >= 460 and row['diag_1'] <= 519) | (np.floor(row['diag_1']) == 786):\n",
    "        diabetes.loc[index, 'diag1_collapse'] = 'respiratory'\n",
    "        \n",
    "    elif (row['diag_1'] >= 520 and row['diag_1'] <= 579) | (np.floor(row['diag_1']) == 787):\n",
    "        diabetes.loc[index, 'diag1_collapse'] = 'digestive'\n",
    "        \n",
    "    elif (np.floor(row['diag_1']) == 250):\n",
    "        diabetes.loc[index, 'diag1_collapse'] = 'diabetes'\n",
    "        \n",
    "    elif (row['diag_1'] >= 800 and row['diag_1'] <= 999):\n",
    "        diabetes.loc[index, 'diag1_collapse'] = 'injury'\n",
    "        \n",
    "    elif (row['diag_1'] >= 710 and row['diag_1'] <= 739):\n",
    "        diabetes.loc[index, 'diag1_collapse'] = 'muscul'\n",
    "        \n",
    "    elif (row['diag_1'] >= 580 and row['diag_1'] <= 629) | (np.floor(row['diag_1']) == 788):\n",
    "        diabetes.loc[index, 'diag1_collapse'] = 'genit'\n",
    "        \n",
    "    elif (row['diag_1'] >= 140 and row['diag_1'] <= 239):\n",
    "        diabetes.loc[index, 'diag1_collapse'] = 'neoplasms'"
   ]
  },
  {
   "cell_type": "code",
   "execution_count": 139,
   "metadata": {},
   "outputs": [],
   "source": [
    "# Race\n",
    "race_dummy = pd.get_dummies(diabetes.race, prefix = \"race\", drop_first=True)\n",
    "\n",
    "# Age\n",
    "age_dummy = pd.get_dummies(diabetes.age, prefix = 'age', drop_first = True)\n",
    "\n",
    "# Admissions Source\n",
    "admissions_dummy = pd.get_dummies(diabetes.admission_source_id, prefix = 'Admissions', drop_first=True)\n",
    "\n",
    "# Discharge \n",
    "discharge_dummy = pd.get_dummies(diabetes.discharge_disposition_id, prefix = 'discharge', drop_first=True)\n",
    "\n",
    "# Medical Specialty\n",
    "specialty_dummy = pd.get_dummies(diabetes.medical_specialty, prefix = 'specialty', drop_first = True)\n",
    "\n",
    "# A1C\n",
    "a1c_dummy = pd.get_dummies(diabetes.HA1C, prefix = 'a1c')\n",
    "a1c_dummy.drop(columns = ['a1c_Not Measured'], inplace = True)\n",
    "\n",
    "# Medications \n",
    "med_eda = diabetes[medications]\n",
    "med_eda\n",
    "med_dummy = pd.get_dummies(med_eda, columns = medications, drop_first = True)\n",
    "diabetes.drop(columns = medications_full, inplace = True )\n",
    "\n",
    "# Diagnosis \n",
    "diag_dummy = pd.get_dummies(diabetes.diag1_collapse, prefix = 'diag', drop_first=True)"
   ]
  },
  {
   "cell_type": "code",
   "execution_count": 143,
   "metadata": {},
   "outputs": [
    {
     "data": {
      "text/plain": [
       "(71515, 84)"
      ]
     },
     "execution_count": 143,
     "metadata": {},
     "output_type": "execute_result"
    }
   ],
   "source": [
    "# Drop Dummified Columns\n",
    "diabetes.drop(columns = ['race','age','weight',\n",
    "               'admission_type_id','discharge_disposition_id',\n",
    "               'admission_source_id','payer_code','medical_specialty', 'A1Cresult','HA1C', 'diag1_collapse'], inplace = True)\n",
    "readmitted = diabetes.pop('readmitted')\n",
    "\n",
    "\n",
    "diabetes_final = diabetes.copy()\n",
    "diabetes_final = pd.concat([diabetes_final, race_dummy], axis = 1)\n",
    "diabetes_final = pd.concat([diabetes_final, age_dummy], axis = 1)\n",
    "diabetes_final = pd.concat([diabetes_final, admissions_dummy], axis = 1)\n",
    "diabetes_final = pd.concat([diabetes_final, discharge_dummy], axis = 1)\n",
    "diabetes_final = pd.concat([diabetes_final, specialty_dummy], axis = 1)\n",
    "diabetes_final = pd.concat([diabetes_final, a1c_dummy], axis = 1)\n",
    "diabetes_final = pd.concat([diabetes_final, med_dummy], axis = 1)\n",
    "diabetes_final = pd.concat([diabetes_final, diag_dummy], axis = 1)\n",
    "diabetes_final['readmitted'] = readmitted\n",
    "diabetes_final = diabetes_final.drop_duplicates(subset= ['patient_nbr'], keep = 'first')\n",
    "diabetes_final.drop(columns = ['encounter_id', 'patient_nbr','diag_1','diag_2','diag_3','max_glu_serum'], inplace = True)\n",
    "diabetes_final = diabetes_final[diabetes_final.gender != 'Unknown/Invalid']\n",
    "\n",
    "\n",
    "# diabetes_final = pd.concat([diabetes_final, diag_dummy], axis = 1)\n",
    "diabetes_final.shape\n",
    "\n",
    "# Removing Meds to See if \n",
    "# meddummylist = list(med_dummy.columns)\n",
    "# diabetes_final.drop(columns = meddummylist, inplace = True)\n",
    "\n"
   ]
  },
  {
   "cell_type": "markdown",
   "metadata": {},
   "source": [
    "# Model Training"
   ]
  },
  {
   "cell_type": "code",
   "execution_count": 195,
   "metadata": {},
   "outputs": [],
   "source": [
    "X = diabetes_final.iloc[:,:-1]\n",
    "y = diabetes_final.readmitted\n",
    "\n",
    "\n",
    "# Train, validation, test\n",
    "X_train, X_test, y_train, y_test = train_test_split(X, y, test_size = 0.2)\n",
    "X_train, X_val, y_train, y_val = train_test_split(X_train, y_train, test_size = 0.2)\n",
    "param_grid = {'penalty':['l1', 'l2', 'elasticnet'],'C':[1, 10, 100, 1000], 'solver':['newton-cg', 'lbfgs', 'liblinear', 'sag', 'saga']}"
   ]
  },
  {
   "cell_type": "markdown",
   "metadata": {},
   "source": [
    "### Logistic Regression - No Resampling"
   ]
  },
  {
   "cell_type": "code",
   "execution_count": 182,
   "metadata": {},
   "outputs": [
    {
     "name": "stdout",
     "output_type": "stream",
     "text": [
      "Fitting 5 folds for each of 60 candidates, totalling 300 fits\n"
     ]
    },
    {
     "name": "stderr",
     "output_type": "stream",
     "text": [
      "[Parallel(n_jobs=-1)]: Using backend LokyBackend with 8 concurrent workers.\n",
      "[Parallel(n_jobs=-1)]: Done  34 tasks      | elapsed:   52.0s\n",
      "[Parallel(n_jobs=-1)]: Done 184 tasks      | elapsed:  4.5min\n",
      "[Parallel(n_jobs=-1)]: Done 300 out of 300 | elapsed: 10.7min finished\n"
     ]
    },
    {
     "data": {
      "text/plain": [
       "GridSearchCV(cv=5, error_score=nan,\n",
       "             estimator=LogisticRegression(C=1.0, class_weight=None, dual=False,\n",
       "                                          fit_intercept=True,\n",
       "                                          intercept_scaling=1, l1_ratio=None,\n",
       "                                          max_iter=100, multi_class='auto',\n",
       "                                          n_jobs=None, penalty='l2',\n",
       "                                          random_state=None, solver='lbfgs',\n",
       "                                          tol=0.0001, verbose=0,\n",
       "                                          warm_start=False),\n",
       "             iid='deprecated', n_jobs=-1,\n",
       "             param_grid={'C': [1, 10, 100, 1000],\n",
       "                         'penalty': ['l1', 'l2', 'elasticnet'],\n",
       "                         'solver': ['newton-cg', 'lbfgs', 'liblinear', 'sag',\n",
       "                                    'saga']},\n",
       "             pre_dispatch='2*n_jobs', refit=True, return_train_score=False,\n",
       "             scoring=None, verbose=1)"
      ]
     },
     "execution_count": 182,
     "metadata": {},
     "output_type": "execute_result"
    }
   ],
   "source": [
    "diabetes_model = GridSearchCV(LogisticRegression(), param_grid, n_jobs = -1, cv = 5, verbose = 1)\n",
    "diabetes_model.fit(X_train, y_train)"
   ]
  },
  {
   "cell_type": "code",
   "execution_count": 186,
   "metadata": {},
   "outputs": [
    {
     "name": "stdout",
     "output_type": "stream",
     "text": [
      "              precision    recall  f1-score   support\n",
      "\n",
      "           0       0.91      1.00      0.95     13035\n",
      "           1       0.36      0.00      0.01      1268\n",
      "\n",
      "    accuracy                           0.91     14303\n",
      "   macro avg       0.64      0.50      0.48     14303\n",
      "weighted avg       0.86      0.91      0.87     14303\n",
      "\n",
      "[[13028     7]\n",
      " [ 1264     4]]\n",
      "{'C': 1, 'penalty': 'l1', 'solver': 'liblinear'}\n"
     ]
    }
   ],
   "source": [
    "predictions = diabetes_model.predict(X_test)\n",
    "print(classification_report(y_test, predictions))\n",
    "print(confusion_matrix(y_test, predictions))"
   ]
  },
  {
   "cell_type": "code",
   "execution_count": 185,
   "metadata": {
    "scrolled": true
   },
   "outputs": [
    {
     "data": {
      "image/png": "[encoded data removed]",
      "text/plain": [
       "<Figure size 432x288 with 1 Axes>"
      ]
     },
     "metadata": {
      "needs_background": "light"
     },
     "output_type": "display_data"
    }
   ],
   "source": [
    "from sklearn.metrics import roc_curve, auc \n",
    "fpr, tpr, treshold = roc_curve(y_test, diabetes_model.predict(X_test))\n",
    "roc_auc  = auc(fpr, tpr)\n",
    "\n",
    "plt.figure()\n",
    "lw = 2\n",
    "plt.plot(fpr, tpr, color='lightblue',\n",
    "         lw=lw, label='ROC curve (area = %0.2f)' % roc_auc)\n",
    "plt.plot([0, 1], [0, 1], color='navy', lw=lw, linestyle='--')\n",
    "plt.xlim([0.0, 1.0])\n",
    "plt.ylim([0.0, 1.05])\n",
    "plt.xlabel('False Positive Rate')\n",
    "plt.ylabel('True  Positive Rate')\n",
    "plt.title('Diabetes ROC (No Resample)')\n",
    "plt.legend(loc='lower right')\n",
    "plt.show()"
   ]
  },
  {
   "cell_type": "markdown",
   "metadata": {},
   "source": [
    "### Logistic Regression - SMOTE "
   ]
  },
  {
   "cell_type": "code",
   "execution_count": 187,
   "metadata": {},
   "outputs": [],
   "source": [
    "sm = SMOTE()\n",
    "X_train_smote, y_train_smote = sm.fit_sample(X_train, y_train) \n",
    "X_val_smote, y_val_smote = sm.fit_sample(X_val, y_val)"
   ]
  },
  {
   "cell_type": "code",
   "execution_count": 188,
   "metadata": {},
   "outputs": [
    {
     "name": "stdout",
     "output_type": "stream",
     "text": [
      "Fitting 5 folds for each of 60 candidates, totalling 300 fits\n"
     ]
    },
    {
     "name": "stderr",
     "output_type": "stream",
     "text": [
      "[Parallel(n_jobs=-1)]: Using backend LokyBackend with 8 concurrent workers.\n",
      "[Parallel(n_jobs=-1)]: Done  34 tasks      | elapsed:  3.1min\n",
      "[Parallel(n_jobs=-1)]: Done 184 tasks      | elapsed: 21.4min\n",
      "[Parallel(n_jobs=-1)]: Done 300 out of 300 | elapsed: 34.9min finished\n"
     ]
    },
    {
     "data": {
      "text/plain": [
       "GridSearchCV(cv=5, error_score=nan,\n",
       "             estimator=LogisticRegression(C=1.0, class_weight=None, dual=False,\n",
       "                                          fit_intercept=True,\n",
       "                                          intercept_scaling=1, l1_ratio=None,\n",
       "                                          max_iter=100, multi_class='auto',\n",
       "                                          n_jobs=None, penalty='l2',\n",
       "                                          random_state=None, solver='lbfgs',\n",
       "                                          tol=0.0001, verbose=0,\n",
       "                                          warm_start=False),\n",
       "             iid='deprecated', n_jobs=-1,\n",
       "             param_grid={'C': [1, 10, 100, 1000],\n",
       "                         'penalty': ['l1', 'l2', 'elasticnet'],\n",
       "                         'solver': ['newton-cg', 'lbfgs', 'liblinear', 'sag',\n",
       "                                    'saga']},\n",
       "             pre_dispatch='2*n_jobs', refit=True, return_train_score=False,\n",
       "             scoring=None, verbose=1)"
      ]
     },
     "execution_count": 188,
     "metadata": {},
     "output_type": "execute_result"
    }
   ],
   "source": [
    "diabetes_model_smote = GridSearchCV(LogisticRegression(), param_grid, n_jobs = -1, cv = 5, verbose = 1)\n",
    "diabetes_model_smote.fit(X_train_smote, y_train_smote)"
   ]
  },
  {
   "cell_type": "code",
   "execution_count": 189,
   "metadata": {},
   "outputs": [
    {
     "name": "stdout",
     "output_type": "stream",
     "text": [
      "              precision    recall  f1-score   support\n",
      "\n",
      "           0       0.91      0.98      0.94     13035\n",
      "           1       0.10      0.03      0.04      1268\n",
      "\n",
      "    accuracy                           0.89     14303\n",
      "   macro avg       0.51      0.50      0.49     14303\n",
      "weighted avg       0.84      0.89      0.86     14303\n",
      "\n"
     ]
    },
    {
     "data": {
      "text/plain": [
       "array([[12754,   281],\n",
       "       [ 1236,    32]])"
      ]
     },
     "execution_count": 189,
     "metadata": {},
     "output_type": "execute_result"
    }
   ],
   "source": [
    "predictions_smote = diabetes_model_smote.predict(X_test)\n",
    "\n",
    "print(classification_report(y_test, predictions_smote))\n",
    "confusion_matrix(y_test, predictions_smote)\n"
   ]
  },
  {
   "cell_type": "code",
   "execution_count": 191,
   "metadata": {},
   "outputs": [
    {
     "data": {
      "image/png": "[encoded data removed]",
      "text/plain": [
       "<Figure size 432x288 with 1 Axes>"
      ]
     },
     "metadata": {
      "needs_background": "light"
     },
     "output_type": "display_data"
    }
   ],
   "source": [
    "fpr, tpr, treshold = roc_curve(y_test, diabetes_model_smote.predict(X_test))\n",
    "roc_auc  = auc(fpr, tpr)\n",
    "\n",
    "plt.figure()\n",
    "lw = 2\n",
    "plt.plot(fpr, tpr, color='lightblue',\n",
    "         lw=lw, label='ROC curve (area = %0.2f)' % roc_auc)\n",
    "plt.plot([0, 1], [0, 1], color='navy', lw=lw, linestyle='--')\n",
    "plt.xlim([0.0, 1.0])\n",
    "plt.ylim([0.0, 1.05])\n",
    "plt.xlabel('False Positive Rate')\n",
    "plt.ylabel('True  Positive Rate')\n",
    "plt.title('Diabetes ROC (SMOTE)')\n",
    "plt.legend(loc='lower right')\n",
    "plt.show()"
   ]
  },
  {
   "cell_type": "markdown",
   "metadata": {},
   "source": [
    "### Logistic Regression - Random Under Sampler"
   ]
  },
  {
   "cell_type": "code",
   "execution_count": 196,
   "metadata": {},
   "outputs": [],
   "source": [
    "rus = RandomUnderSampler(sampling_strategy= 1.0)\n",
    "X_train_rus, y_train_rus = rus.fit_resample(X_train, y_train)\n",
    "X_val_rus, y_val_rus = rus.fit_resample(X_val,y_val)\n",
    "\n",
    "# from sklearn.utils import resample\n",
    "# resample( majority_df, 5000)\n",
    "# resample( min_df, 5000 )"
   ]
  },
  {
   "cell_type": "code",
   "execution_count": 197,
   "metadata": {},
   "outputs": [],
   "source": [
    "diabetes_model_rus = GridSearchCV(LogisticRegression(), param_grid, n_jobs = -1, cv = 5, verbose = 1)\n"
   ]
  },
  {
   "cell_type": "code",
   "execution_count": 198,
   "metadata": {},
   "outputs": [
    {
     "name": "stdout",
     "output_type": "stream",
     "text": [
      "Fitting 5 folds for each of 60 candidates, totalling 300 fits\n"
     ]
    },
    {
     "name": "stderr",
     "output_type": "stream",
     "text": [
      "[Parallel(n_jobs=-1)]: Using backend LokyBackend with 8 concurrent workers.\n",
      "[Parallel(n_jobs=-1)]: Done  34 tasks      | elapsed:    9.0s\n",
      "[Parallel(n_jobs=-1)]: Done 194 tasks      | elapsed:  1.2min\n",
      "[Parallel(n_jobs=-1)]: Done 285 out of 300 | elapsed:  1.8min remaining:    5.8s\n",
      "[Parallel(n_jobs=-1)]: Done 300 out of 300 | elapsed:  2.1min finished\n",
      "/opt/anaconda3/lib/python3.7/site-packages/sklearn/linear_model/_sag.py:330: ConvergenceWarning: The max_iter was reached which means the coef_ did not converge\n",
      "  \"the coef_ did not converge\", ConvergenceWarning)\n"
     ]
    },
    {
     "data": {
      "text/plain": [
       "GridSearchCV(cv=5, error_score=nan,\n",
       "             estimator=LogisticRegression(C=1.0, class_weight=None, dual=False,\n",
       "                                          fit_intercept=True,\n",
       "                                          intercept_scaling=1, l1_ratio=None,\n",
       "                                          max_iter=100, multi_class='auto',\n",
       "                                          n_jobs=None, penalty='l2',\n",
       "                                          random_state=None, solver='lbfgs',\n",
       "                                          tol=0.0001, verbose=0,\n",
       "                                          warm_start=False),\n",
       "             iid='deprecated', n_jobs=-1,\n",
       "             param_grid={'C': [1, 10, 100, 1000],\n",
       "                         'penalty': ['l1', 'l2', 'elasticnet'],\n",
       "                         'solver': ['newton-cg', 'lbfgs', 'liblinear', 'sag',\n",
       "                                    'saga']},\n",
       "             pre_dispatch='2*n_jobs', refit=True, return_train_score=False,\n",
       "             scoring=None, verbose=1)"
      ]
     },
     "execution_count": 198,
     "metadata": {},
     "output_type": "execute_result"
    }
   ],
   "source": [
    "diabetes_model_rus.fit(X_train_rus, y_train_rus)"
   ]
  },
  {
   "cell_type": "code",
   "execution_count": 199,
   "metadata": {
    "scrolled": true
   },
   "outputs": [
    {
     "name": "stdout",
     "output_type": "stream",
     "text": [
      "              precision    recall  f1-score   support\n",
      "\n",
      "           0       0.93      0.64      0.76     13005\n",
      "           1       0.13      0.54      0.21      1298\n",
      "\n",
      "    accuracy                           0.63     14303\n",
      "   macro avg       0.53      0.59      0.49     14303\n",
      "weighted avg       0.86      0.63      0.71     14303\n",
      "\n",
      "[[8363 4642]\n",
      " [ 591  707]]\n"
     ]
    }
   ],
   "source": [
    "print(classification_report(y_test, diabetes_model_rus.predict(X_test)))\n",
    "print(confusion_matrix(y_test, diabetes_model_rus.predict(X_test)))\n",
    " "
   ]
  },
  {
   "cell_type": "code",
   "execution_count": 200,
   "metadata": {
    "scrolled": true
   },
   "outputs": [
    {
     "data": {
      "image/png": "[encoded data removed]",
      "text/plain": [
       "<Figure size 432x288 with 1 Axes>"
      ]
     },
     "metadata": {
      "needs_background": "light"
     },
     "output_type": "display_data"
    }
   ],
   "source": [
    "fpr, tpr, treshold = roc_curve(y_test, diabetes_model_rus.predict(X_test))\n",
    "roc_auc  = auc(fpr, tpr)\n",
    "\n",
    "plt.figure()\n",
    "lw = 2\n",
    "plt.plot(fpr, tpr, color='lightblue',\n",
    "         lw=lw, label='ROC curve (area = %0.2f)' % roc_auc)\n",
    "plt.plot([0, 1], [0, 1], color='navy', lw=lw, linestyle='--')\n",
    "plt.xlim([0.0, 1.0])\n",
    "plt.ylim([0.0, 1.05])\n",
    "plt.xlabel('False Positive Rate')\n",
    "plt.ylabel('True  Positive Rate')\n",
    "plt.title('Diabetes ROC (Undersample)')\n",
    "plt.legend(loc='lower right')\n",
    "plt.show()"
   ]
  },
  {
   "cell_type": "markdown",
   "metadata": {},
   "source": [
    "## Logistic Regression Presentation \n",
    "\n",
    "### Minimal Viable Product\n",
    "+ Use the encounters from Kailun's splits (Same Dataset) \n",
    "+ Sync up on features (conversation / consensus between Charlie and Rich )\n",
    "+ Fill out Jae's shell for logistic and decile for this model \n",
    "+ Present\n",
    "\n",
    "### Once complete \n",
    "+ PCA "
   ]
  },
  {
   "cell_type": "code",
   "execution_count": null,
   "metadata": {},
   "outputs": [],
   "source": []
  }
 ],
 "metadata": {
  "kernelspec": {
   "display_name": "Python 3",
   "language": "python",
   "name": "python3"
  },
  "language_info": {
   "codemirror_mode": {
    "name": "ipython",
    "version": 3
   },
   "file_extension": ".py",
   "mimetype": "text/x-python",
   "name": "python",
   "nbconvert_exporter": "python",
   "pygments_lexer": "ipython3",
   "version": "3.7.4"
  }
 },
 "nbformat": 4,
 "nbformat_minor": 2
}
