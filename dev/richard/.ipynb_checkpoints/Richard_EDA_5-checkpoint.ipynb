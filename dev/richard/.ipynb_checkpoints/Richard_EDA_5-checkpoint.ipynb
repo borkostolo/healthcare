{
 "cells": [
  {
   "cell_type": "code",
   "execution_count": 2,
   "metadata": {},
   "outputs": [],
   "source": [
    "import numpy as np\n",
    "import pandas as pd \n",
    "import seaborn as sns \n",
    "import matplotlib.pyplot as plt \n",
    "\n",
    "%matplotlib inline"
   ]
  },
  {
   "cell_type": "markdown",
   "metadata": {},
   "source": [
    "# Read Data"
   ]
  },
  {
   "cell_type": "code",
   "execution_count": 3,
   "metadata": {},
   "outputs": [
    {
     "data": {
      "text/plain": [
       "['citoglipton', 'examide']"
      ]
     },
     "execution_count": 3,
     "metadata": {},
     "output_type": "execute_result"
    }
   ],
   "source": [
    "# Read file and pass in \n",
    "diabetes = pd.read_csv(\"diabetic_data.csv\")\n",
    "\n",
    "diabetes.head()\n",
    "\n",
    "medications_full = ['metformin', 'repaglinide', 'nateglinide', 'chlorpropamide',\n",
    "       'glimepiride', 'acetohexamide', 'glipizide', 'glyburide', 'tolbutamide',\n",
    "       'pioglitazone', 'rosiglitazone', 'acarbose', 'miglitol', 'troglitazone',\n",
    "       'tolazamide', 'examide', 'citoglipton', 'insulin',\n",
    "       'glyburide-metformin', 'glipizide-metformin',\n",
    "       'glimepiride-pioglitazone', 'metformin-rosiglitazone',\n",
    "       'metformin-pioglitazone']\n",
    "\n",
    "medications = ['metformin', 'repaglinide', 'nateglinide', 'chlorpropamide',\n",
    "       'glimepiride', 'acetohexamide', 'glipizide', 'glyburide', 'tolbutamide',\n",
    "       'pioglitazone', 'rosiglitazone', 'acarbose', 'miglitol', 'troglitazone',\n",
    "       'tolazamide', 'insulin',\n",
    "       'glyburide-metformin', 'glipizide-metformin',\n",
    "       'glimepiride-pioglitazone', 'metformin-rosiglitazone',\n",
    "       'metformin-pioglitazone']\n",
    "\n",
    "# replace missing with np.nan\n",
    "diabetes.replace('?', np.nan, inplace = True)\n",
    "# diabetes.isnull().sum(axis =0)\n",
    "# missingcols = ['race', 'weight','payer_code','medical_specialty', 'diag_1','diag_2','diag_3']\n",
    "\n",
    "list(set(medications_full) - set(medications))"
   ]
  },
  {
   "cell_type": "code",
   "execution_count": 4,
   "metadata": {},
   "outputs": [
    {
     "data": {
      "text/plain": [
       "Caucasian          76099\n",
       "AfricanAmerican    19210\n",
       "Hispanic            2037\n",
       "Other               1506\n",
       "Asian                641\n",
       "Name: race, dtype: int64"
      ]
     },
     "execution_count": 4,
     "metadata": {},
     "output_type": "execute_result"
    }
   ],
   "source": [
    "diabetes.race.value_counts()"
   ]
  },
  {
   "cell_type": "markdown",
   "metadata": {},
   "source": [
    "# Make Output Binary"
   ]
  },
  {
   "cell_type": "code",
   "execution_count": 5,
   "metadata": {},
   "outputs": [],
   "source": [
    "# Binary Classfication of Readmission Attribute\n",
    "diabetes.readmitted.replace('NO','otherwise', inplace = True)\n",
    "diabetes.readmitted.replace('>30','otherwise', inplace = True)\n",
    "diabetes.readmitted.replace('<30','readmitted', inplace = True)\n",
    "diabetes.readmitted.replace('otherwise',0, inplace = True)\n",
    "diabetes.readmitted.replace('readmitted',1, inplace = True)\n"
   ]
  },
  {
   "cell_type": "markdown",
   "metadata": {},
   "source": [
    "# Dummification"
   ]
  },
  {
   "cell_type": "markdown",
   "metadata": {},
   "source": [
    "#### Easy Dummification \n",
    "- gender (easy: just drop NAs + make 0 or 1)  \n",
    "- change (easy: 0 or 1) \n",
    "- diabetesMed (easy: 0 or 1) \n",
    "\n",
    "#### Columns to Dummify\n",
    "- race (consolidated sparse data in larger buckets 3) \n",
    "- age (dummify buckets) \n",
    "- admission_type_id (replace numbers with corresponding qualitative value and bucket/dummify) \n",
    "- discharge_disposition_id (replace numbers with corresponding qualitative value and bucket/ dummify) \n",
    "- admission_source_id (replace numbers with corresponding qualitative value and dummify) \n",
    "- medical_specialty (replace numbers with corresponding qualitative value and dummify) \n",
    "- diag_1 (bucket / dummify)\n",
    "- diag_2 (bucket / dummify)\n",
    "- diag_3 (bucket / dummify)\n",
    "- max_glu_serum (bucket / dummify)\n",
    "- A1Cresult (bucket / dummify)\n",
    "- medications\n",
    "\n",
    "\n",
    "\n"
   ]
  },
  {
   "cell_type": "markdown",
   "metadata": {},
   "source": [
    "### Easy Dummification"
   ]
  },
  {
   "cell_type": "code",
   "execution_count": 6,
   "metadata": {},
   "outputs": [],
   "source": [
    "# DiabetesMed - Dummify\n",
    "diabetes.diabetesMed.replace('Yes',1, inplace = True)\n",
    "diabetes.diabetesMed.replace('No',0, inplace = True)\n",
    "\n",
    "# DiabetesChange - \"Dummify\"\n",
    "diabetes.change.replace('Ch',1, inplace = True)\n",
    "diabetes.change.replace('No',0, inplace = True)\n",
    " \n",
    "# Diabetes.Gender - Dummify + Drop Unknowns\n",
    "diabetes.gender.replace('Male', 1, inplace = True)\n",
    "diabetes.gender.replace('Female', 0, inplace = True)"
   ]
  },
  {
   "cell_type": "markdown",
   "metadata": {},
   "source": [
    "### Dummification"
   ]
  },
  {
   "cell_type": "code",
   "execution_count": 7,
   "metadata": {},
   "outputs": [],
   "source": [
    "# Race \n",
    "diabetes.race = [x if x in ['Caucasian', 'AfricanAmerican','Asian'] else 'Other' for x in diabetes.race]\n",
    "\n",
    "# Age\n",
    "diabetes.age = ['[60, 100)' if x in ['[70-80)','[60-70)','[80-90)','[90-100)'] else \n",
    " '[30, 60)' if x in ['[50-60)','[40-50)','[30-40)'] else \n",
    " '<30' for x in diabetes.age]\n",
    "\n",
    "# Admissions Source \n",
    "emergency = [7]\n",
    "referral = [1,2,3]\n",
    "diabetes.admission_source_id = ['Referral' if x in referral else \n",
    " 'Emergency' if x in emergency else \n",
    " 'Other' for x in diabetes.admission_source_id]\n",
    "\n",
    "# Discharge \n",
    "expired = [11,19,20,21]\n",
    "home = [1,6,8,13]\n",
    "diabetes.discharge_disposition_id = ['Home' if x in home else \n",
    "           'Expired' if x in expired else \n",
    "           'Other' for x in diabetes.discharge_disposition_id]\n",
    "\n",
    "# Medical Specialty \n",
    "cardiology = ['Cardiology',\n",
    " 'Cardiology-Pediatric']\n",
    "generalpractice = ['Family/GeneralPractice']\n",
    "internalmedicine = ['InternalMedicine']\n",
    "missing = ['?']\n",
    "surgery = ['Surgeon',\n",
    " 'Surgery-Cardiovascular',\n",
    " 'Surgery-Cardiovascular/Thoracic',\n",
    " 'Surgery-Colon&Rectal',\n",
    " 'Surgery-General',\n",
    " 'Surgery-Maxillofacial',\n",
    " 'Surgery-Neuro',\n",
    " 'Surgery-Pediatric',\n",
    " 'Surgery-Plastic',\n",
    " 'Surgery-PlasticwithinHeadandNeck',\n",
    " 'Surgery-Thoracic',\n",
    " 'Surgery-Vascular',\n",
    " 'SurgicalSpecialty']\n",
    "\n",
    "diabetes.medical_specialty = ['Cardiology' if x in cardiology else \n",
    " \"General Practice\" if x in generalpractice else \n",
    " 'Internal Medicine' if x in internalmedicine else\n",
    " 'Surgery' if x in surgery else \n",
    " 'Missing' if x in missing else \n",
    " 'Other' for x in diabetes.medical_specialty]\n",
    "\n",
    "# A1C \n",
    "diabetes['HA1C']=pd.Series(len(diabetes['A1Cresult']), index=diabetes)\n",
    "diabetes['HA1C']= 'Not Measured'\n",
    "diabetes.loc[(diabetes['A1Cresult']=='Norm') | (diabetes['A1Cresult']=='>7'), 'HA1C']= 'Normal'\n",
    "diabetes.loc[(diabetes['A1Cresult']=='>8') & (diabetes['change']==0), 'HA1C']= 'High, not changed'\n",
    "diabetes.loc[(diabetes['A1Cresult']=='>8') & (diabetes['change']== 1), 'HA1C']= 'High, changed'\n",
    "\n",
    "# diagnosis"
   ]
  },
  {
   "cell_type": "code",
   "execution_count": 8,
   "metadata": {},
   "outputs": [],
   "source": [
    "# Race\n",
    "race_dummy = pd.get_dummies(diabetes.race, prefix = \"race\", drop_first=True)\n",
    "\n",
    "# Age\n",
    "age_dummy = pd.get_dummies(diabetes.age, prefix = 'age', drop_first = True)\n",
    "\n",
    "# Admissions Source\n",
    "admissions_dummy = pd.get_dummies(diabetes.admission_source_id, prefix = 'Admissions', drop_first=True)\n",
    "\n",
    "# Discharge \n",
    "discharge_dummy = pd.get_dummies(diabetes.discharge_disposition_id, prefix = 'discharge', drop_first=True)\n",
    "\n",
    "# Medical Specialty\n",
    "specialty_dummy = pd.get_dummies(diabetes.medical_specialty, prefix = 'specialty', drop_first = True)\n",
    "\n",
    "# A1C\n",
    "a1c_dummy = pd.get_dummies(diabetes.HA1C, prefix = 'a1c')\n",
    "a1c_dummy.drop(columns = ['a1c_Not Measured'], inplace = True)\n",
    "\n",
    "# Medications \n",
    "med_eda = diabetes[medications]\n",
    "med_eda\n",
    "med_dummy = pd.get_dummies(med_eda, columns = medications, drop_first = True)\n",
    "diabetes.drop(columns = medications_full, inplace = True )\n",
    "\n",
    "# Diagnosis "
   ]
  },
  {
   "cell_type": "code",
   "execution_count": 9,
   "metadata": {},
   "outputs": [],
   "source": [
    "diabetes.drop(columns = ['race','age','weight',\n",
    "               'admission_type_id','discharge_disposition_id',\n",
    "               'admission_source_id','payer_code','medical_specialty', 'A1Cresult','HA1C'], inplace = True)"
   ]
  },
  {
   "cell_type": "code",
   "execution_count": 10,
   "metadata": {},
   "outputs": [],
   "source": [
    "readmitted = diabetes.pop('readmitted')\n",
    "# diabetes['readmitted'] = readmitted\n"
   ]
  },
  {
   "cell_type": "code",
   "execution_count": 11,
   "metadata": {},
   "outputs": [
    {
     "data": {
      "text/plain": [
       "(71515, 76)"
      ]
     },
     "execution_count": 11,
     "metadata": {},
     "output_type": "execute_result"
    }
   ],
   "source": [
    "diabetes_final = diabetes.copy()\n",
    "diabetes_final = pd.concat([diabetes_final, race_dummy], axis = 1)\n",
    "diabetes_final = pd.concat([diabetes_final, age_dummy], axis = 1)\n",
    "diabetes_final = pd.concat([diabetes_final, admissions_dummy], axis = 1)\n",
    "diabetes_final = pd.concat([diabetes_final, discharge_dummy], axis = 1)\n",
    "diabetes_final = pd.concat([diabetes_final, specialty_dummy], axis = 1)\n",
    "diabetes_final = pd.concat([diabetes_final, a1c_dummy], axis = 1)\n",
    "diabetes_final = pd.concat([diabetes_final, med_dummy], axis = 1)\n",
    "diabetes_final['readmitted'] = readmitted\n",
    "diabetes_final = diabetes_final.drop_duplicates(subset= ['patient_nbr'], keep = 'first')\n",
    "diabetes_final.drop(columns = ['encounter_id', 'patient_nbr','diag_1','diag_2','diag_3','max_glu_serum'], inplace = True)\n",
    "diabetes_final = diabetes_final[diabetes_final.gender != 'Unknown/Invalid']\n",
    "\n",
    "\n",
    "# diabetes_final = pd.concat([diabetes_final, diag_dummy], axis = 1)\n",
    "diabetes_final.shape"
   ]
  },
  {
   "cell_type": "code",
   "execution_count": 12,
   "metadata": {},
   "outputs": [],
   "source": [
    "y = diabetes_final.readmitted\n",
    "X = diabetes_final.iloc[:,:-1]"
   ]
  },
  {
   "cell_type": "code",
   "execution_count": 13,
   "metadata": {},
   "outputs": [
    {
     "name": "stdout",
     "output_type": "stream",
     "text": [
      "(71515,)\n",
      "(71515, 75)\n"
     ]
    }
   ],
   "source": [
    "print(y.shape)\n",
    "print(X.shape)"
   ]
  },
  {
   "cell_type": "markdown",
   "metadata": {},
   "source": [
    "# Model Training"
   ]
  },
  {
   "cell_type": "code",
   "execution_count": 14,
   "metadata": {},
   "outputs": [],
   "source": [
    "from sklearn.model_selection import train_test_split\n",
    "from sklearn.linear_model import LogisticRegression \n",
    "from sklearn.metrics import classification_report\n",
    "\n",
    "# Separate test from data set \n",
    "X_train_full, X_test, y_train_full, y_test = train_test_split(X, y, test_size = 0.3, random_state = 0)\n",
    "\n",
    "# Test \n",
    "X_train, X_val, y_train, y_val = train_test_split(X_train_full, y_train_full, test_size = 0.15, random_state = 0)\n"
   ]
  },
  {
   "cell_type": "code",
   "execution_count": 15,
   "metadata": {},
   "outputs": [],
   "source": [
    "diabetes_model = LogisticRegression()"
   ]
  },
  {
   "cell_type": "code",
   "execution_count": 16,
   "metadata": {},
   "outputs": [
    {
     "name": "stderr",
     "output_type": "stream",
     "text": [
      "/opt/anaconda3/lib/python3.7/site-packages/sklearn/linear_model/_logistic.py:940: ConvergenceWarning: lbfgs failed to converge (status=1):\n",
      "STOP: TOTAL NO. of ITERATIONS REACHED LIMIT.\n",
      "\n",
      "Increase the number of iterations (max_iter) or scale the data as shown in:\n",
      "    https://scikit-learn.org/stable/modules/preprocessing.html\n",
      "Please also refer to the documentation for alternative solver options:\n",
      "    https://scikit-learn.org/stable/modules/linear_model.html#logistic-regression\n",
      "  extra_warning_msg=_LOGISTIC_SOLVER_CONVERGENCE_MSG)\n"
     ]
    },
    {
     "data": {
      "text/plain": [
       "LogisticRegression(C=1.0, class_weight=None, dual=False, fit_intercept=True,\n",
       "                   intercept_scaling=1, l1_ratio=None, max_iter=100,\n",
       "                   multi_class='auto', n_jobs=None, penalty='l2',\n",
       "                   random_state=None, solver='lbfgs', tol=0.0001, verbose=0,\n",
       "                   warm_start=False)"
      ]
     },
     "execution_count": 16,
     "metadata": {},
     "output_type": "execute_result"
    }
   ],
   "source": [
    "diabetes_model.fit(X_train, y_train)"
   ]
  },
  {
   "cell_type": "code",
   "execution_count": 17,
   "metadata": {},
   "outputs": [],
   "source": [
    "predictions = diabetes_model.predict(X_val)"
   ]
  },
  {
   "cell_type": "code",
   "execution_count": 18,
   "metadata": {
    "scrolled": true
   },
   "outputs": [],
   "source": [
    "from sklearn.metrics import confusion_matrix, accuracy_score\n",
    "# print(classification_report(y_val, predictions))\n",
    "# print(confusion_matrix(y_val, predictions))"
   ]
  },
  {
   "cell_type": "markdown",
   "metadata": {},
   "source": [
    "### SMOTE - Inbalanced Set"
   ]
  },
  {
   "cell_type": "code",
   "execution_count": 19,
   "metadata": {},
   "outputs": [],
   "source": [
    "from imblearn.over_sampling import SMOTE\n",
    "sm = SMOTE(random_state = 2) \n",
    "X_balanced, y_balanced = sm.fit_sample(X, y) "
   ]
  },
  {
   "cell_type": "code",
   "execution_count": 20,
   "metadata": {},
   "outputs": [
    {
     "name": "stderr",
     "output_type": "stream",
     "text": [
      "/opt/anaconda3/lib/python3.7/site-packages/sklearn/linear_model/_logistic.py:940: ConvergenceWarning: lbfgs failed to converge (status=1):\n",
      "STOP: TOTAL NO. of ITERATIONS REACHED LIMIT.\n",
      "\n",
      "Increase the number of iterations (max_iter) or scale the data as shown in:\n",
      "    https://scikit-learn.org/stable/modules/preprocessing.html\n",
      "Please also refer to the documentation for alternative solver options:\n",
      "    https://scikit-learn.org/stable/modules/linear_model.html#logistic-regression\n",
      "  extra_warning_msg=_LOGISTIC_SOLVER_CONVERGENCE_MSG)\n"
     ]
    },
    {
     "data": {
      "text/plain": [
       "LogisticRegression(C=1.0, class_weight=None, dual=False, fit_intercept=True,\n",
       "                   intercept_scaling=1, l1_ratio=None, max_iter=100,\n",
       "                   multi_class='auto', n_jobs=None, penalty='l2',\n",
       "                   random_state=None, solver='lbfgs', tol=0.0001, verbose=0,\n",
       "                   warm_start=False)"
      ]
     },
     "execution_count": 20,
     "metadata": {},
     "output_type": "execute_result"
    }
   ],
   "source": [
    "diabetes_model_balanced = LogisticRegression()\n",
    "X_train_res, X_test_res, y_train_res, y_test_res = train_test_split(X_balanced, y_balanced, test_size = 0.3, random_state=0)\n",
    "diabetes_model_balanced.fit(X_train_res,y_train_res)\n",
    "# send to brian, take out 15-20% and apply model and examine AUC. "
   ]
  },
  {
   "cell_type": "code",
   "execution_count": 21,
   "metadata": {},
   "outputs": [
    {
     "name": "stdout",
     "output_type": "stream",
     "text": [
      "              precision    recall  f1-score   support\n",
      "\n",
      "           0       0.85      0.92      0.89     19388\n",
      "           1       0.92      0.84      0.88     19746\n",
      "\n",
      "    accuracy                           0.88     39134\n",
      "   macro avg       0.88      0.88      0.88     39134\n",
      "weighted avg       0.88      0.88      0.88     39134\n",
      "\n"
     ]
    },
    {
     "data": {
      "text/plain": [
       "array([[17929,  1459],\n",
       "       [ 3183, 16563]])"
      ]
     },
     "execution_count": 21,
     "metadata": {},
     "output_type": "execute_result"
    }
   ],
   "source": [
    "balanced_predict = diabetes_model_balanced.predict(X_test_res)\n",
    "\n",
    "print(classification_report(y_test_res, balanced_predict))\n",
    "confusion_matrix(y_test_res, balanced_predict)\n"
   ]
  },
  {
   "cell_type": "markdown",
   "metadata": {},
   "source": [
    "# Random Under Sampler"
   ]
  },
  {
   "cell_type": "code",
   "execution_count": 22,
   "metadata": {},
   "outputs": [],
   "source": [
    "from imblearn.under_sampling import RandomUnderSampler"
   ]
  },
  {
   "cell_type": "code",
   "execution_count": 23,
   "metadata": {},
   "outputs": [
    {
     "name": "stdout",
     "output_type": "stream",
     "text": [
      "(21455, 75)\n",
      "(42551, 75)\n",
      "(7509, 75)\n"
     ]
    },
    {
     "data": {
      "text/plain": [
       "71515"
      ]
     },
     "execution_count": 23,
     "metadata": {},
     "output_type": "execute_result"
    }
   ],
   "source": [
    "print(X_test.shape)\n",
    "print(X_train.shape)\n",
    "print(X_val.shape)\n",
    "\n",
    "sum([X_test.shape[0],X_train.shape[0],X_val.shape[0]])"
   ]
  },
  {
   "cell_type": "code",
   "execution_count": 36,
   "metadata": {},
   "outputs": [],
   "source": [
    "rus = RandomUnderSampler(sampling_strategy= 1.0)\n",
    "X_rus, y_rus = rus.fit_resample(X_train, y_train)\n",
    "X_rus_val, y_rus_val = rus.fit_resample(X_val,y_val)"
   ]
  },
  {
   "cell_type": "code",
   "execution_count": 37,
   "metadata": {},
   "outputs": [
    {
     "data": {
      "text/plain": [
       "(7544, 75)"
      ]
     },
     "execution_count": 37,
     "metadata": {},
     "output_type": "execute_result"
    }
   ],
   "source": [
    "X_rus.shape"
   ]
  },
  {
   "cell_type": "code",
   "execution_count": 38,
   "metadata": {},
   "outputs": [
    {
     "name": "stdout",
     "output_type": "stream",
     "text": [
      "Fitting 5 folds for each of 90 candidates, totalling 450 fits\n"
     ]
    },
    {
     "name": "stderr",
     "output_type": "stream",
     "text": [
      "[Parallel(n_jobs=-1)]: Using backend LokyBackend with 8 concurrent workers.\n",
      "[Parallel(n_jobs=-1)]: Done 450 out of 450 | elapsed:  2.5min finished\n"
     ]
    },
    {
     "data": {
      "text/plain": [
       "GridSearchCV(cv=5, error_score=nan,\n",
       "             estimator=LogisticRegression(C=1.0, class_weight=None, dual=False,\n",
       "                                          fit_intercept=True,\n",
       "                                          intercept_scaling=1, l1_ratio=None,\n",
       "                                          max_iter=100, multi_class='auto',\n",
       "                                          n_jobs=None, penalty='l2',\n",
       "                                          random_state=None, solver='lbfgs',\n",
       "                                          tol=0.0001, verbose=0,\n",
       "                                          warm_start=False),\n",
       "             iid='deprecated', n_jobs=-1,\n",
       "             param_grid={'C': [0.01, 0.1, 1, 10, 100, 1000],\n",
       "                         'penalty': ['l1', 'l2', 'elasticnet'],\n",
       "                         'solver': ['newton-cg', 'lbfgs', 'liblinear', 'sag',\n",
       "                                    'saga']},\n",
       "             pre_dispatch='2*n_jobs', refit=True, return_train_score=False,\n",
       "             scoring=None, verbose=1)"
      ]
     },
     "execution_count": 38,
     "metadata": {},
     "output_type": "execute_result"
    }
   ],
   "source": [
    "diabetes_rus = GridSearchCV(diabetes_model_balanced, param_grid, n_jobs = -1, cv = 5, verbose = 1)\n",
    "diabetes_rus.fit(X_rus, y_rus)\n"
   ]
  },
  {
   "cell_type": "code",
   "execution_count": 33,
   "metadata": {},
   "outputs": [
    {
     "name": "stdout",
     "output_type": "stream",
     "text": [
      "Fitting 5 folds for each of 90 candidates, totalling 450 fits\n"
     ]
    },
    {
     "name": "stderr",
     "output_type": "stream",
     "text": [
      "[Parallel(n_jobs=-1)]: Using backend LokyBackend with 8 concurrent workers.\n",
      "[Parallel(n_jobs=-1)]: Done 450 out of 450 | elapsed:   14.2s finished\n",
      "/opt/anaconda3/lib/python3.7/site-packages/sklearn/linear_model/_sag.py:330: ConvergenceWarning: The max_iter was reached which means the coef_ did not converge\n",
      "  \"the coef_ did not converge\", ConvergenceWarning)\n"
     ]
    },
    {
     "data": {
      "text/plain": [
       "GridSearchCV(cv=5, error_score=nan,\n",
       "             estimator=LogisticRegression(C=1.0, class_weight=None, dual=False,\n",
       "                                          fit_intercept=True,\n",
       "                                          intercept_scaling=1, l1_ratio=None,\n",
       "                                          max_iter=100, multi_class='auto',\n",
       "                                          n_jobs=None, penalty='l2',\n",
       "                                          random_state=None, solver='lbfgs',\n",
       "                                          tol=0.0001, verbose=0,\n",
       "                                          warm_start=False),\n",
       "             iid='deprecated', n_jobs=-1,\n",
       "             param_grid={'C': [0.01, 0.1, 1, 10, 100, 1000],\n",
       "                         'penalty': ['l1', 'l2', 'elasticnet'],\n",
       "                         'solver': ['newton-cg', 'lbfgs', 'liblinear', 'sag',\n",
       "                                    'saga']},\n",
       "             pre_dispatch='2*n_jobs', refit=True, return_train_score=False,\n",
       "             scoring=None, verbose=1)"
      ]
     },
     "execution_count": 33,
     "metadata": {},
     "output_type": "execute_result"
    }
   ],
   "source": [
    "diabetes_rus.fit(X_rus_val, y_rus_val)\n"
   ]
  },
  {
   "cell_type": "code",
   "execution_count": 39,
   "metadata": {},
   "outputs": [
    {
     "name": "stdout",
     "output_type": "stream",
     "text": [
      "              precision    recall  f1-score   support\n",
      "\n",
      "           0       0.94      0.66      0.78     19590\n",
      "           1       0.13      0.53      0.21      1865\n",
      "\n",
      "    accuracy                           0.65     21455\n",
      "   macro avg       0.53      0.60      0.49     21455\n",
      "weighted avg       0.87      0.65      0.73     21455\n",
      "\n",
      "[[12982  6608]\n",
      " [  880   985]]\n"
     ]
    }
   ],
   "source": [
    "print(classification_report(y_test, diabetes_rus.predict(X_test)))\n",
    "print(confusion_matrix(y_test, diabetes_rus.predict(X_test)))\n"
   ]
  },
  {
   "cell_type": "code",
   "execution_count": 40,
   "metadata": {
    "scrolled": true
   },
   "outputs": [
    {
     "data": {
      "image/png": "[encoded data removed]",
      "text/plain": [
       "<Figure size 432x288 with 1 Axes>"
      ]
     },
     "metadata": {
      "needs_background": "light"
     },
     "output_type": "display_data"
    }
   ],
   "source": [
    "from sklearn.metrics import roc_curve, auc \n",
    "fpr, tpr, treshold = roc_curve(y_test, diabetes_rus.predict(X_test))\n",
    "roc_auc  = auc(fpr, tpr)\n",
    "\n",
    "plt.figure()\n",
    "lw = 2\n",
    "plt.plot(fpr, tpr, color='lightblue',\n",
    "         lw=lw, label='ROC curve (area = %0.2f)' % roc_auc)\n",
    "plt.plot([0, 1], [0, 1], color='navy', lw=lw, linestyle='--')\n",
    "plt.xlim([0.0, 1.0])\n",
    "plt.ylim([0.0, 1.05])\n",
    "plt.xlabel('False Positive Rate')\n",
    "plt.ylabel('True  Positive Rate')\n",
    "plt.title('Diabetes ROC (Undersample)')\n",
    "plt.legend(loc='lower right')\n",
    "plt.show()"
   ]
  },
  {
   "cell_type": "markdown",
   "metadata": {},
   "source": [
    "### Grid Search "
   ]
  },
  {
   "cell_type": "code",
   "execution_count": 29,
   "metadata": {},
   "outputs": [],
   "source": [
    "from sklearn.model_selection import GridSearchCV\n",
    "param_grid = {'penalty':['l1', 'l2', 'elasticnet'],'C':[0.01, 0.1, 1, 10, 100, 1000], 'solver':['newton-cg', 'lbfgs', 'liblinear', 'sag', 'saga']}\n",
    "diabetes_gs = GridSearchCV(diabetes_model_balanced, param_grid, n_jobs = -1, cv = 5, verbose = 1)\n",
    "# diabetes_gs.fit(X_train_res, y_train_res)\n"
   ]
  },
  {
   "cell_type": "code",
   "execution_count": null,
   "metadata": {},
   "outputs": [],
   "source": [
    "diabetes_gs.best_params_"
   ]
  },
  {
   "cell_type": "code",
   "execution_count": null,
   "metadata": {},
   "outputs": [],
   "source": [
    "predictions_gs = diabetes_gs.predict(X_test_res)\n",
    "print(classification_report(y_test_res, predictions_gs))\n",
    "print(confusion_matrix(y_test_res, predictions_gs))\n",
    "print(diabetes_gs.best_params_)"
   ]
  },
  {
   "cell_type": "code",
   "execution_count": null,
   "metadata": {},
   "outputs": [],
   "source": [
    "print(classification_report(y_test, diabetes_gs.predict(X_test)))"
   ]
  },
  {
   "cell_type": "code",
   "execution_count": null,
   "metadata": {},
   "outputs": [],
   "source": [
    "pd.DataFrame(diabetes_gs.predict_proba(X_test))"
   ]
  },
  {
   "cell_type": "markdown",
   "metadata": {},
   "source": [
    "### Evaluate Model"
   ]
  },
  {
   "cell_type": "code",
   "execution_count": null,
   "metadata": {
    "scrolled": true
   },
   "outputs": [],
   "source": [
    "from sklearn.metrics import roc_curve, auc \n",
    "fpr, tpr, treshold = roc_curve(y_test_res, predictions_gs)\n",
    "roc_auc  = auc(fpr, tpr)\n",
    "\n",
    "plt.figure()\n",
    "lw = 2\n",
    "plt.plot(fpr, tpr, color='lightblue',\n",
    "         lw=lw, label='ROC curve (area = %0.2f)' % roc_auc)\n",
    "plt.plot([0, 1], [0, 1], color='navy', lw=lw, linestyle='--')\n",
    "plt.xlim([0.0, 1.0])\n",
    "plt.ylim([0.0, 1.05])\n",
    "plt.xlabel('False Positive Rate')\n",
    "plt.ylabel('True  Positive Rate')\n",
    "plt.title('Diabetes ROC ')\n",
    "plt.legend(loc='lower right')\n",
    "plt.show()"
   ]
  },
  {
   "cell_type": "markdown",
   "metadata": {},
   "source": [
    "## Function - med_change (optional) "
   ]
  },
  {
   "cell_type": "markdown",
   "metadata": {},
   "source": [
    "# Write CSV "
   ]
  },
  {
   "cell_type": "code",
   "execution_count": null,
   "metadata": {},
   "outputs": [],
   "source": [
    "# Functions: \n",
    "def med_change(df, column_list):\n",
    "    '''\n",
    "    This function takes utilizes the medication features as identified in the \n",
    "    column_list argument to derive a feature called medchange which counts the number\n",
    "    of medications which have dosages that have changed - regardless of dosages \n",
    "    '''\n",
    "    for x in column_list:\n",
    "        tempname = str(x) + 'temp'\n",
    "        df[tempname] = df[x].apply(lambda x: 0 if (x == \"No\" or x == \"Steady\") else 1)\n",
    "    df['medchange'] = 0 \n",
    "    for x in column_list:\n",
    "        tempname = str(x) + 'temp'\n",
    "        df['medchange'] = df['medchange'] + df[tempname]\n",
    "        del df[tempname]\n",
    "        \n",
    "    return df.head().T\n",
    "\n",
    "\n",
    "# Testing Function\n",
    "med_eda2 = med_eda.copy()\n",
    "med_change(med_eda2, medications)\n"
   ]
  },
  {
   "cell_type": "code",
   "execution_count": null,
   "metadata": {},
   "outputs": [],
   "source": [
    "# Write a Function\n",
    "# med_eda.drop(columns = ['readmitted'], inplace = True)\n",
    "# med_eda.to_csv('./med_eda.csv', index = False)\n",
    "# med_eda_final.to_csv('./med_eda_dummified', index = False)"
   ]
  },
  {
   "cell_type": "markdown",
   "metadata": {},
   "source": [
    "# Evaluating Model "
   ]
  },
  {
   "cell_type": "code",
   "execution_count": null,
   "metadata": {},
   "outputs": [],
   "source": [
    "# from sklearn.metrics import classification_report\n",
    "# print(classification_report(y_test, y_preds)"
   ]
  }
 ],
 "metadata": {
  "kernelspec": {
   "display_name": "Python 3",
   "language": "python",
   "name": "python3"
  },
  "language_info": {
   "codemirror_mode": {
    "name": "ipython",
    "version": 3
   },
   "file_extension": ".py",
   "mimetype": "text/x-python",
   "name": "python",
   "nbconvert_exporter": "python",
   "pygments_lexer": "ipython3",
   "version": "3.7.4"
  }
 },
 "nbformat": 4,
 "nbformat_minor": 2
}
