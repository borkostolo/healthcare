{
 "cells": [
  {
   "cell_type": "code",
   "execution_count": 1,
   "metadata": {},
   "outputs": [],
   "source": [
    "import numpy as np\n",
    "import pandas as pd \n",
    "import seaborn as sns \n",
    "import matplotlib.pyplot as plt \n",
    "\n",
    "%matplotlib inline"
   ]
  },
  {
   "cell_type": "markdown",
   "metadata": {},
   "source": [
    "# Read Data"
   ]
  },
  {
   "cell_type": "code",
   "execution_count": 2,
   "metadata": {},
   "outputs": [],
   "source": [
    "# Read file and pass in \n",
    "diabetes = pd.read_csv(\"diabetic_data.csv\")\n",
    "\n",
    "diabetes.head()\n",
    "\n",
    "# Medications - Will need to drop once dummified \n",
    "medications = ['metformin', 'repaglinide', 'nateglinide', 'chlorpropamide',\n",
    "       'glimepiride', 'acetohexamide', 'glipizide', 'glyburide', 'tolbutamide',\n",
    "       'pioglitazone', 'rosiglitazone', 'acarbose', 'miglitol', 'troglitazone',\n",
    "       'tolazamide', 'examide', 'citoglipton', 'insulin',\n",
    "       'glyburide-metformin', 'glipizide-metformin',\n",
    "       'glimepiride-pioglitazone', 'metformin-rosiglitazone',\n",
    "       'metformin-pioglitazone']\n",
    "\n",
    "# Isolation Medications and Result \n",
    "med_eda = diabetes[['metformin', 'repaglinide', 'nateglinide', 'chlorpropamide',\n",
    "       'glimepiride', 'acetohexamide', 'glipizide', 'glyburide', 'tolbutamide',\n",
    "       'pioglitazone', 'rosiglitazone', 'acarbose', 'miglitol', 'troglitazone',\n",
    "       'tolazamide', 'insulin',\n",
    "       'glyburide-metformin', 'glipizide-metformin',\n",
    "       'glimepiride-pioglitazone', 'metformin-rosiglitazone',\n",
    "       'metformin-pioglitazone','readmitted']]\n",
    "\n"
   ]
  },
  {
   "cell_type": "markdown",
   "metadata": {},
   "source": [
    "# Make Output Binary"
   ]
  },
  {
   "cell_type": "code",
   "execution_count": 3,
   "metadata": {},
   "outputs": [],
   "source": [
    "# Binary Classfication of Readmission Attribute\n",
    "diabetes.readmitted.replace('NO','otherwise', inplace = True)\n",
    "diabetes.readmitted.replace('>30','otherwise', inplace = True)\n",
    "diabetes.readmitted.replace('<30','readmitted', inplace = True)"
   ]
  },
  {
   "cell_type": "markdown",
   "metadata": {},
   "source": [
    "# Dummification"
   ]
  },
  {
   "cell_type": "markdown",
   "metadata": {},
   "source": [
    "#### Easy Dummification \n",
    "- gender (easy: just drop NAs + make 0 or 1)  \n",
    "- change (easy: 0 or 1) \n",
    "- diabetesMed (easy: 0 or 1) \n",
    "\n",
    "#### Columns to Dummify\n",
    "- race (consolidated sparse data in larger buckets 3) \n",
    "- age (dummify buckets) \n",
    "- admission_type_id (replace numbers with corresponding qualitative value and bucket/dummify) \n",
    "- discharge_disposition_id (replace numbers with corresponding qualitative value and bucket/ dummify) \n",
    "- admission_source_id (replace numbers with corresponding qualitative value and dummify) \n",
    "- medical_specialty (replace numbers with corresponding qualitative value and dummify) \n",
    "- diag_1 (bucket / dummify)\n",
    "- diag_2 (bucket / dummify)\n",
    "- diag_3 (bucket / dummify)\n",
    "- max_glu_serum (bucket / dummify)\n",
    "- A1Cresult (bucket / dummify)\n",
    "- medications\n",
    "\n",
    "\n",
    "\n"
   ]
  },
  {
   "cell_type": "markdown",
   "metadata": {},
   "source": [
    "### Easy Dummification"
   ]
  },
  {
   "cell_type": "code",
   "execution_count": 4,
   "metadata": {},
   "outputs": [],
   "source": [
    "# DiabetesMed - Dummify\n",
    "diabetes.diabetesMed.replace('Yes',1, inplace = True)\n",
    "diabetes.diabetesMed.replace('No',0, inplace = True)\n",
    "\n",
    "# DiabetesChange - \"Dummify\"\n",
    "diabetes.change.replace('Ch',1, inplace = True)\n",
    "diabetes.change.replace('No',0, inplace = True)\n",
    " \n",
    "# Diabetes.Gender - Dummify + Drop Unknowns\n",
    "diabetes.gender.replace('Male', 1, inplace = True)\n",
    "diabetes.gender.replace('Female', 0, inplace = True)\n",
    "diabetes = diabetes[diabetes.gender != 'Unknown/Invalid'] # drop unknown"
   ]
  },
  {
   "cell_type": "markdown",
   "metadata": {},
   "source": [
    "### Race Dummification"
   ]
  },
  {
   "cell_type": "code",
   "execution_count": 5,
   "metadata": {},
   "outputs": [],
   "source": [
    "diabetes.race = [x if x in ['Caucasian', 'AfricanAmerican'] else 'Other' for x in diabetes.race]"
   ]
  },
  {
   "cell_type": "code",
   "execution_count": 6,
   "metadata": {},
   "outputs": [],
   "source": [
    "diabetes.race.value_counts()\n",
    "race_dummy = pd.get_dummies(diabetes.race, prefix = \"race\", drop_first=True)\n"
   ]
  },
  {
   "cell_type": "markdown",
   "metadata": {},
   "source": [
    "### Age Dummification - New Buckets = <30, 30-60, [60-100)  "
   ]
  },
  {
   "cell_type": "code",
   "execution_count": 7,
   "metadata": {},
   "outputs": [],
   "source": [
    "diabetes.age = ['[60, 100)' if x in ['[70-80)','[60-70)','[80-90)','[90-100)'] else \n",
    " '[30, 60)' if x in ['[50-60)','[40-50)','[30-40)'] else \n",
    " '<30' for x in diabetes.age]\n"
   ]
  },
  {
   "cell_type": "code",
   "execution_count": 8,
   "metadata": {},
   "outputs": [],
   "source": [
    "diabetes.age.value_counts()\n",
    "age_dummy = pd.get_dummies(diabetes.age, prefix = 'age', drop_first = True)"
   ]
  },
  {
   "cell_type": "markdown",
   "metadata": {},
   "source": [
    "### Admissions Type Dummification - Drop "
   ]
  },
  {
   "cell_type": "code",
   "execution_count": 9,
   "metadata": {},
   "outputs": [],
   "source": [
    "diabetes.drop(columns = ['admission_type_id'], inplace = True)"
   ]
  },
  {
   "cell_type": "markdown",
   "metadata": {},
   "source": [
    "### Admissions Source Dummification"
   ]
  },
  {
   "cell_type": "code",
   "execution_count": 11,
   "metadata": {},
   "outputs": [
    {
     "data": {
      "text/plain": [
       "Emergency    57492\n",
       "Referral     30855\n",
       "Other        13416\n",
       "Name: admission_source_id, dtype: int64"
      ]
     },
     "execution_count": 11,
     "metadata": {},
     "output_type": "execute_result"
    }
   ],
   "source": [
    "# Initialize List of Emergency and Referral Patients\n",
    "emergency = [7]\n",
    "referral = [1,2,3]\n",
    "\n",
    "diabetes.admission_source_id = ['Referral' if x in referral else \n",
    " 'Emergency' if x in emergency else \n",
    " 'Other' for x in diabetes.admission_source_id]\n"
   ]
  },
  {
   "cell_type": "code",
   "execution_count": 17,
   "metadata": {},
   "outputs": [],
   "source": [
    "diabetes.admission_source_id.value_counts()\n",
    "admissions_dummy = pd.get_dummies(diabetes.admission_source_id, prefix = 'Admissions', drop_first=True)"
   ]
  },
  {
   "cell_type": "markdown",
   "metadata": {},
   "source": [
    "### Discharge Disposition - Classify into Home and Other, and drop Expired (dead)"
   ]
  },
  {
   "cell_type": "code",
   "execution_count": 15,
   "metadata": {},
   "outputs": [],
   "source": [
    "# Initialize a list of those that are discharged to home and dead using IDs from IDs file \n",
    "expired = [11,19,20,21]\n",
    "home = [1,6,8,13]\n",
    "\n",
    "diabetes.discharge_disposition_id = ['Home' if x in home else \n",
    "           'Expired' if x in expired else \n",
    "           'Other' for x in diabetes.discharge_disposition_id]\n",
    "\n",
    "diabetes = diabetes[diabetes.discharge_disposition_id != 'Expired'] # drop unknown"
   ]
  },
  {
   "cell_type": "code",
   "execution_count": 16,
   "metadata": {},
   "outputs": [],
   "source": [
    "diabetes.discharge_disposition_id.value_counts()\n",
    "discharge_dummy = pd.get_dummies(diabetes.discharge_disposition_id, prefix = 'discharge', drop_first=True)"
   ]
  },
  {
   "cell_type": "markdown",
   "metadata": {},
   "source": [
    "### Medical Specialty Dummification - Cardiology, General Practice, Internal, MIssing, Other, Surgery"
   ]
  },
  {
   "cell_type": "code",
   "execution_count": 18,
   "metadata": {},
   "outputs": [
    {
     "data": {
      "text/plain": [
       "?                                49127\n",
       "InternalMedicine                 14328\n",
       "Emergency/Trauma                  7449\n",
       "Family/GeneralPractice            7302\n",
       "Cardiology                        5295\n",
       "                                 ...  \n",
       "Neurophysiology                      1\n",
       "Psychiatry-Addictive                 1\n",
       "Pediatrics-InfectiousDiseases        1\n",
       "Speech                               1\n",
       "SportsMedicine                       1\n",
       "Name: medical_specialty, Length: 73, dtype: int64"
      ]
     },
     "execution_count": 18,
     "metadata": {},
     "output_type": "execute_result"
    }
   ],
   "source": [
    "diabetes.medical_specialty.value_counts()\n",
    "cardiology = []\n",
    "generalpractice = []\n",
    "internalmedicine = []\n",
    "missing = []\n",
    "surgery = []"
   ]
  },
  {
   "cell_type": "markdown",
   "metadata": {},
   "source": [
    "# Identify Missing Values / Drop Data "
   ]
  },
  {
   "cell_type": "code",
   "execution_count": null,
   "metadata": {},
   "outputs": [],
   "source": [
    "missingcols = ['race', 'weight','payer_code','medical_specialty', 'diag_1','diag_2','diag_3']"
   ]
  },
  {
   "cell_type": "code",
   "execution_count": null,
   "metadata": {},
   "outputs": [],
   "source": [
    "# diabetes.replace('?', np.nan, inplace = True)\n",
    "# diabetes.isnull().sum(axis =0)"
   ]
  },
  {
   "cell_type": "markdown",
   "metadata": {},
   "source": [
    "# Dropping Data \n",
    "- weight (97% missing)\n",
    "- payer_code - not relevant to outcome\n",
    "- examide, citoglipton - no variance\n",
    "- Before Train-Test-Split - will need ot drop encounter and patient nbr "
   ]
  },
  {
   "cell_type": "code",
   "execution_count": null,
   "metadata": {},
   "outputs": [],
   "source": [
    "# Drop columns\n",
    "diabetes.drop(columns = ['weight','payer_code'], inplace = True)\n",
    "diabetes.drop(columns = medications, inplace = True)\n",
    "\n",
    "# Drop Rows \n",
    "diabetes = diabetes[diabetes.gender != 'Unknown/Invalid']"
   ]
  },
  {
   "cell_type": "code",
   "execution_count": null,
   "metadata": {},
   "outputs": [],
   "source": [
    "diabetes.head().T"
   ]
  },
  {
   "cell_type": "code",
   "execution_count": null,
   "metadata": {},
   "outputs": [],
   "source": [
    "diabetes.admission_source_id.value_counts()"
   ]
  },
  {
   "cell_type": "markdown",
   "metadata": {},
   "source": [
    "# Feature Engineering\n"
   ]
  },
  {
   "cell_type": "code",
   "execution_count": null,
   "metadata": {},
   "outputs": [],
   "source": [
    "med_eda.shape"
   ]
  },
  {
   "cell_type": "code",
   "execution_count": null,
   "metadata": {},
   "outputs": [],
   "source": [
    "# New List of Medications \n",
    "medications = ['metformin', 'repaglinide', 'nateglinide', 'chlorpropamide',\n",
    "       'glimepiride', 'acetohexamide', 'glipizide', 'glyburide', 'tolbutamide',\n",
    "       'pioglitazone', 'rosiglitazone', 'acarbose', 'miglitol', 'troglitazone',\n",
    "       'tolazamide', 'insulin',\n",
    "       'glyburide-metformin', 'glipizide-metformin',\n",
    "       'glimepiride-pioglitazone', 'metformin-rosiglitazone',\n",
    "       'metformin-pioglitazone']"
   ]
  },
  {
   "cell_type": "markdown",
   "metadata": {},
   "source": [
    "# Function - med_change"
   ]
  },
  {
   "cell_type": "code",
   "execution_count": null,
   "metadata": {},
   "outputs": [],
   "source": [
    "# Functions: \n",
    "def med_change(df, column_list):\n",
    "    '''\n",
    "    This function takes utilizes the medication features as identified in the \n",
    "    column_list argument to derive a feature called medchange which counts the number\n",
    "    of medications which have dosages that have changed - regardless of dosages \n",
    "    '''\n",
    "    for x in column_list:\n",
    "        tempname = str(x) + 'temp'\n",
    "        df[tempname] = df[x].apply(lambda x: 0 if (x == \"No\" or x == \"Steady\") else 1)\n",
    "    df['medchange'] = 0 \n",
    "    for x in column_list:\n",
    "        tempname = str(x) + 'temp'\n",
    "        df['medchange'] = df['medchange'] + df[tempname]\n",
    "        del df[tempname]\n",
    "        \n",
    "    return df.head().T\n",
    "\n",
    "\n",
    "# Testing Function\n",
    "med_eda2 = med_eda.copy()\n",
    "med_change(med_eda2, medications)\n"
   ]
  },
  {
   "cell_type": "markdown",
   "metadata": {},
   "source": [
    "# Dummify Medications"
   ]
  },
  {
   "cell_type": "code",
   "execution_count": null,
   "metadata": {},
   "outputs": [],
   "source": [
    "# Dummify Medications\n",
    "metformin_dummy = pd.get_dummies(med_eda['metformin'], prefix = 'metformin', drop_first=True)\n",
    "repaglinide_dummy = pd.get_dummies(med_eda['repaglinide'], prefix = 'repaglinide', drop_first=True)\n",
    "nateglinide_dummy = pd.get_dummies(med_eda['nateglinide'], prefix = 'nateglinide', drop_first=True)\n",
    "chlorpropamide_dummy = pd.get_dummies(med_eda['chlorpropamide'], prefix = 'chlorpropamide', drop_first=True)\n",
    "glimepiride_dummy = pd.get_dummies(med_eda['glimepiride'], prefix = 'glimepiride', drop_first=True)\n",
    "acetohexamide_dummy = pd.get_dummies(med_eda['acetohexamide'], prefix = 'acetohexamide', drop_first=True)\n",
    "glipizide_dummy = pd.get_dummies(med_eda['glipizide'], prefix = 'glipizide', drop_first=True)\n",
    "glyburide_dummy = pd.get_dummies(med_eda['glyburide'], prefix = 'glyburide', drop_first=True)\n",
    "tolbutamide_dummy = pd.get_dummies(med_eda['tolbutamide'], prefix = 'tolbutamide', drop_first=True)\n",
    "pioglitazone_dummy = pd.get_dummies(med_eda['pioglitazone'], prefix = 'pioglitazone', drop_first=True)\n",
    "rosiglitazone_dummy = pd.get_dummies(med_eda['rosiglitazone'], prefix = 'rosiglitazone', drop_first=True)\n",
    "acarbose_dummy = pd.get_dummies(med_eda['acarbose'], prefix = 'acarbose', drop_first=True)\n",
    "miglitol_dummy = pd.get_dummies(med_eda['miglitol'], prefix = 'miglitol', drop_first=True)\n",
    "troglitazone_dummy = pd.get_dummies(med_eda['troglitazone'], prefix = 'troglitazone', drop_first=True)\n",
    "tolazamide_dummy = pd.get_dummies(med_eda['tolazamide'], prefix = 'tolazamide', drop_first=True)\n",
    "insulin_dummy = pd.get_dummies(med_eda['insulin'], prefix = 'insulin', drop_first=True)\n",
    "glyburide_metformin_dummy = pd.get_dummies(med_eda['glyburide-metformin'], prefix = 'glyburide-metformin', drop_first=True)\n",
    "glipizide_metformin_dummy = pd.get_dummies(med_eda['glipizide-metformin'], prefix = 'glipizide-metformin', drop_first=True)\n",
    "glimepiride_pioglitazone_dummy = pd.get_dummies(med_eda['glimepiride-pioglitazone'], prefix = 'glimepiride-pioglitazone', drop_first=True)\n",
    "metformin_rosiglitazone_dummy = pd.get_dummies(med_eda['metformin-rosiglitazone'], prefix = 'metformin-rosiglitazone', drop_first=True)\n",
    "metformin_pioglitazone_dummy = pd.get_dummies(med_eda['metformin-pioglitazone'], prefix = 'metformin-pioglitazone', drop_first=True)\n"
   ]
  },
  {
   "cell_type": "code",
   "execution_count": null,
   "metadata": {},
   "outputs": [],
   "source": [
    "dummy_cols = [metformin_dummy, repaglinide_dummy,nateglinide_dummy, chlorpropamide_dummy, \n",
    " glimepiride_dummy, acetohexamide_dummy, glipizide_dummy, glyburide_dummy,\n",
    " tolbutamide_dummy, pioglitazone_dummy, rosiglitazone_dummy, acarbose_dummy, \n",
    " miglitol_dummy, troglitazone_dummy, tolazamide_dummy, insulin_dummy, \n",
    " glyburide_metformin_dummy, glipizide_metformin_dummy, glimepiride_pioglitazone_dummy,\n",
    " metformin_pioglitazone_dummy, metformin_rosiglitazone_dummy]"
   ]
  },
  {
   "cell_type": "code",
   "execution_count": null,
   "metadata": {},
   "outputs": [],
   "source": [
    "med_eda_final = pd.concat([x for x in dummy_cols], axis =1)\n",
    "med_eda_final = pd.concat([diabetes.iloc[:,:2], med_eda_final], axis = 1)"
   ]
  },
  {
   "cell_type": "code",
   "execution_count": null,
   "metadata": {},
   "outputs": [],
   "source": [
    "med_eda_final"
   ]
  },
  {
   "cell_type": "markdown",
   "metadata": {},
   "source": [
    "# Write CSV "
   ]
  },
  {
   "cell_type": "code",
   "execution_count": null,
   "metadata": {},
   "outputs": [],
   "source": [
    "# Write a Function\n",
    "# med_eda.drop(columns = ['readmitted'], inplace = True)\n",
    "# med_eda.to_csv('./med_eda.csv', index = False)\n",
    "# med_eda_final.to_csv('./med_eda_dummified', index = False)"
   ]
  },
  {
   "cell_type": "markdown",
   "metadata": {},
   "source": [
    "# Evaluating Model "
   ]
  },
  {
   "cell_type": "code",
   "execution_count": null,
   "metadata": {},
   "outputs": [],
   "source": [
    "# from sklearn.metrics import classification_report\n",
    "# print(classification_report(y_test, y_preds)"
   ]
  }
 ],
 "metadata": {
  "kernelspec": {
   "display_name": "Python 3",
   "language": "python",
   "name": "python3"
  },
  "language_info": {
   "codemirror_mode": {
    "name": "ipython",
    "version": 3
   },
   "file_extension": ".py",
   "mimetype": "text/x-python",
   "name": "python",
   "nbconvert_exporter": "python",
   "pygments_lexer": "ipython3",
   "version": "3.7.4"
  }
 },
 "nbformat": 4,
 "nbformat_minor": 2
}
