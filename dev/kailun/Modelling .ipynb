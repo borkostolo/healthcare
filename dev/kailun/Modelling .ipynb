{
 "cells": [
  {
   "cell_type": "code",
   "execution_count": 1,
   "metadata": {},
   "outputs": [],
   "source": [
    "%matplotlib inline\n",
    "\n",
    "import pandas as pd\n",
    "import numpy as np\n",
    "import matplotlib.pyplot as plt\n",
    "import sklearn\n",
    "import sklearn.model_selection as ms\n",
    "from sklearn.model_selection import train_test_split\n",
    "from sklearn.preprocessing import StandardScaler"
   ]
  },
  {
   "cell_type": "code",
   "execution_count": 2,
   "metadata": {},
   "outputs": [],
   "source": [
    "from sklearn.neural_network import MLPClassifier\n",
    "from sklearn.neighbors import KNeighborsClassifier\n",
    "from sklearn.gaussian_process import GaussianProcessClassifier\n",
    "from sklearn.gaussian_process.kernels import RBF\n",
    "from sklearn.tree import DecisionTreeClassifier\n",
    "from sklearn.ensemble import RandomForestClassifier, AdaBoostClassifier\n",
    "from sklearn.naive_bayes import GaussianNB\n",
    "from sklearn.discriminant_analysis import QuadraticDiscriminantAnalysis"
   ]
  },
  {
   "cell_type": "code",
   "execution_count": 2,
   "metadata": {
    "collapsed": true
   },
   "outputs": [
    {
     "name": "stdout",
     "output_type": "stream",
     "text": [
      "Collecting imbalanced-learn\n",
      "  Using cached https://files.pythonhosted.org/packages/c8/73/36a13185c2acff44d601dc6107b5347e075561a49e15ddd4e69988414c3e/imbalanced_learn-0.6.2-py3-none-any.whl\n",
      "Requirement already satisfied, skipping upgrade: numpy>=1.11 in c:\\users\\17812\\appdata\\local\\continuum\\anaconda3\\lib\\site-packages (from imbalanced-learn) (1.16.5)\n",
      "Requirement already satisfied, skipping upgrade: joblib>=0.11 in c:\\users\\17812\\appdata\\local\\continuum\\anaconda3\\lib\\site-packages (from imbalanced-learn) (0.13.2)\n",
      "Requirement already satisfied, skipping upgrade: scipy>=0.17 in c:\\users\\17812\\appdata\\local\\continuum\\anaconda3\\lib\\site-packages (from imbalanced-learn) (1.3.1)\n",
      "Requirement already satisfied, skipping upgrade: scikit-learn>=0.22 in c:\\users\\17812\\appdata\\local\\continuum\\anaconda3\\lib\\site-packages (from imbalanced-learn) (0.22.2.post1)\n",
      "Installing collected packages: imbalanced-learn\n",
      "Successfully installed imbalanced-learn-0.6.2\n",
      "Note: you may need to restart the kernel to use updated packages.\n"
     ]
    }
   ],
   "source": [
    "#pip install -U imbalanced-learn"
   ]
  },
  {
   "cell_type": "code",
   "execution_count": 180,
   "metadata": {},
   "outputs": [],
   "source": [
    "from imblearn.over_sampling import SMOTE\n",
    "from collections import Counter\n",
    "from sklearn.metrics import accuracy_score, precision_score, recall_score\n",
    "from sklearn.metrics import roc_auc_score, roc_curve, auc, average_precision_score\n",
    "from sklearn.metrics import confusion_matrix"
   ]
  },
  {
   "cell_type": "code",
   "execution_count": 4,
   "metadata": {},
   "outputs": [],
   "source": [
    "names = [\"Nearest Neighbors\", \"Gaussian Process\",\n",
    "          \"Neural Net\", \"AdaBoost\",\"Naive Bayes\", \"QDA\"]"
   ]
  },
  {
   "cell_type": "code",
   "execution_count": 5,
   "metadata": {},
   "outputs": [],
   "source": [
    "classifiers = [\n",
    "    KNeighborsClassifier(3),\n",
    "    GaussianProcessClassifier(1.0 * RBF(1.0)),\n",
    "    MLPClassifier(alpha=0.3, max_iter=1000),\n",
    "    AdaBoostClassifier(),\n",
    "    GaussianNB(),\n",
    "    QuadraticDiscriminantAnalysis()]"
   ]
  },
  {
   "cell_type": "markdown",
   "metadata": {},
   "source": [
    "### Read in CSV"
   ]
  },
  {
   "cell_type": "code",
   "execution_count": 207,
   "metadata": {},
   "outputs": [
    {
     "data": {
      "text/plain": [
       "68508"
      ]
     },
     "execution_count": 207,
     "metadata": {},
     "output_type": "execute_result"
    }
   ],
   "source": [
    "filename=r'all_features.csv'\n",
    "data=pd.read_csv(filename)\n",
    "data.shape[0]"
   ]
  },
  {
   "cell_type": "code",
   "execution_count": 218,
   "metadata": {
    "scrolled": true
   },
   "outputs": [
    {
     "data": {
      "text/plain": [
       "Index(['encounter_id', 'HbA1c_High_CH', 'HbA1c_High_NoCH', 'HbA1c_Norm',\n",
       "       'diag1_collapse_circulatory', 'diag1_collapse_digestive',\n",
       "       'diag1_collapse_genit', 'diag1_collapse_injury',\n",
       "       'diag1_collapse_muscul', 'diag1_collapse_neoplasms',\n",
       "       'diag1_collapse_other', 'diag1_collapse_respiratory', 'age_bin_60+',\n",
       "       'age_bin_<30', 'medical_specialty_short_ER_trauma',\n",
       "       'medical_specialty_short_gp', 'medical_specialty_short_inter_med',\n",
       "       'medical_specialty_short_missing', 'medical_specialty_short_other',\n",
       "       'medical_specialty_short_surgery', 'race_Asian', 'race_Caucasian',\n",
       "       'race_Hispanic', 'race_Other', 'discharge_other',\n",
       "       'admission_source_collapse_other', 'admission_source_collapse_referral',\n",
       "       'admission_source_collapse_transfer', 'time_in_hospital',\n",
       "       'num_lab_procedures', 'num_procedures', 'num_medications',\n",
       "       'number_diagnoses', 'number_outpatient_log1p', 'number_emergency_log1p',\n",
       "       'number_inpatient_log1p', 'readmitted_yes'],\n",
       "      dtype='object')"
      ]
     },
     "execution_count": 218,
     "metadata": {},
     "output_type": "execute_result"
    }
   ],
   "source": [
    "data.columns"
   ]
  },
  {
   "cell_type": "markdown",
   "metadata": {},
   "source": [
    "### Create hold out 10% data as validation set along wth test_train split"
   ]
  },
  {
   "cell_type": "code",
   "execution_count": 210,
   "metadata": {},
   "outputs": [],
   "source": [
    "validation_index=list(data.sample(int(np.ceil(0.1*data.shape[0]))).index)\n",
    "validation_data=data.loc[validation_index]\n",
    "new_Idx = list(set(data.index) - set(validation_index))\n",
    "data_X_y=data.loc[new_Idx]"
   ]
  },
  {
   "cell_type": "code",
   "execution_count": 214,
   "metadata": {},
   "outputs": [],
   "source": [
    "# create a csv to load into other models \n",
    "validation_data.to_csv('validation.csv', index=True)"
   ]
  },
  {
   "cell_type": "code",
   "execution_count": 8,
   "metadata": {},
   "outputs": [
    {
     "data": {
      "text/plain": [
       "68508"
      ]
     },
     "execution_count": 8,
     "metadata": {},
     "output_type": "execute_result"
    }
   ],
   "source": [
    "data_X_y.shape[0]+validation_data.shape[0] # should equal to 68508"
   ]
  },
  {
   "cell_type": "code",
   "execution_count": 215,
   "metadata": {},
   "outputs": [],
   "source": [
    "X_val= validation_data.iloc[:,1:validation_data.shape[1]-1]\n",
    "y_val= validation_data['readmitted_yes']  \n",
    "X_val_stand = StandardScaler().fit_transform(X_val)  # preprocess dataset by standarizing X data "
   ]
  },
  {
   "cell_type": "code",
   "execution_count": 216,
   "metadata": {},
   "outputs": [],
   "source": [
    "X= data_X_y.iloc[:,1:data_X_y.shape[1]-1]\n",
    "y= data_X_y['readmitted_yes'] # do not make y a dataframe, x and y should both be np arrays\n",
    "X_stand = StandardScaler().fit_transform(X)  # preprocess dataset by standarizing X data "
   ]
  },
  {
   "cell_type": "markdown",
   "metadata": {},
   "source": [
    "### Implement SMOTE: upsampling for imbalanced dataset for train test and validation "
   ]
  },
  {
   "cell_type": "code",
   "execution_count": 217,
   "metadata": {},
   "outputs": [
    {
     "name": "stdout",
     "output_type": "stream",
     "text": [
      "Original dataset shape Counter({0: 56143, 1: 5514})\n",
      "New dataset shape Counter({0: 56143, 1: 56143})\n"
     ]
    }
   ],
   "source": [
    "print('Original dataset shape {}'.format(Counter(y)))\n",
    "sm = SMOTE(random_state=20)\n",
    "train_input_new, train_output_new = sm.fit_sample(X_stand, y)\n",
    "print('New dataset shape {}'.format(Counter(train_output_new)))"
   ]
  },
  {
   "cell_type": "code",
   "execution_count": 219,
   "metadata": {},
   "outputs": [],
   "source": [
    "# run this cell if we want everything as training data \n",
    "#X_train=train_input_new\n",
    "#y_train= train_output_new\n",
    "after_upsampling_X = pd.DataFrame(X_val_stand, columns = list(X.columns))\n",
    "after_upsampling_y = pd.DataFrame(y, columns = ['readmitted_yes'])\n",
    "after_upsampling_X.to_csv('X_train_all', index=True)\n",
    "after_upsampling_y.to_csv('y_train_all', index)"
   ]
  },
  {
   "cell_type": "code",
   "execution_count": 200,
   "metadata": {},
   "outputs": [
    {
     "name": "stdout",
     "output_type": "stream",
     "text": [
      "Original dataset shape Counter({0: 6242, 1: 609})\n"
     ]
    }
   ],
   "source": [
    "print('Original dataset shape {}'.format(Counter(y_val)))\n",
    "#sm = SMOTE(random_state=20)\n",
    "#X_val_stand, y_val = sm.fit_sample(X_val_stand, y_val)\n",
    "#print('New dataset shape {}'.format(Counter(y_val)))"
   ]
  },
  {
   "cell_type": "code",
   "execution_count": 120,
   "metadata": {},
   "outputs": [],
   "source": [
    "#train_input_new = pd.DataFrame(train_input_new, columns = list(X.columns))\n",
    "X_train, X_test, y_train, y_test = train_test_split(train_input_new, train_output_new, test_size=0.3, random_state=0)"
   ]
  },
  {
   "cell_type": "code",
   "execution_count": 184,
   "metadata": {},
   "outputs": [],
   "source": [
    "#X_val_train, X_val_test, y_val_train, y_val_test = train_test_split(train_val_input_new, train_val_output_new, test_size=0.20, random_state=0)"
   ]
  },
  {
   "cell_type": "code",
   "execution_count": 185,
   "metadata": {},
   "outputs": [
    {
     "data": {
      "text/html": [
       "<div>\n",
       "<style scoped>\n",
       "    .dataframe tbody tr th:only-of-type {\n",
       "        vertical-align: middle;\n",
       "    }\n",
       "\n",
       "    .dataframe tbody tr th {\n",
       "        vertical-align: top;\n",
       "    }\n",
       "\n",
       "    .dataframe thead th {\n",
       "        text-align: right;\n",
       "    }\n",
       "</style>\n",
       "<table border=\"1\" class=\"dataframe\">\n",
       "  <thead>\n",
       "    <tr style=\"text-align: right;\">\n",
       "      <th></th>\n",
       "      <th>HbA1c_High_CH</th>\n",
       "      <th>HbA1c_High_NoCH</th>\n",
       "      <th>HbA1c_Norm</th>\n",
       "      <th>diag1_collapse_circulatory</th>\n",
       "      <th>diag1_collapse_digestive</th>\n",
       "      <th>diag1_collapse_genit</th>\n",
       "      <th>diag1_collapse_injury</th>\n",
       "      <th>diag1_collapse_muscul</th>\n",
       "      <th>diag1_collapse_neoplasms</th>\n",
       "      <th>diag1_collapse_other</th>\n",
       "      <th>...</th>\n",
       "      <th>admission_source_collapse_referral</th>\n",
       "      <th>admission_source_collapse_transfer</th>\n",
       "      <th>time_in_hospital</th>\n",
       "      <th>num_lab_procedures</th>\n",
       "      <th>num_procedures</th>\n",
       "      <th>num_medications</th>\n",
       "      <th>number_diagnoses</th>\n",
       "      <th>number_outpatient_log1p</th>\n",
       "      <th>number_emergency_log1p</th>\n",
       "      <th>number_inpatient_log1p</th>\n",
       "    </tr>\n",
       "  </thead>\n",
       "  <tbody>\n",
       "    <tr>\n",
       "      <td>0</td>\n",
       "      <td>-0.245687</td>\n",
       "      <td>-0.184275</td>\n",
       "      <td>-0.320173</td>\n",
       "      <td>-0.027025</td>\n",
       "      <td>-0.317673</td>\n",
       "      <td>-0.224957</td>\n",
       "      <td>-0.262613</td>\n",
       "      <td>-0.252953</td>\n",
       "      <td>-0.207193</td>\n",
       "      <td>1.051077</td>\n",
       "      <td>...</td>\n",
       "      <td>-0.700691</td>\n",
       "      <td>-0.251644</td>\n",
       "      <td>-0.100031</td>\n",
       "      <td>0.498175</td>\n",
       "      <td>-0.809152</td>\n",
       "      <td>1.406557</td>\n",
       "      <td>0.404116</td>\n",
       "      <td>-0.357409</td>\n",
       "      <td>-0.277508</td>\n",
       "      <td>1.980572</td>\n",
       "    </tr>\n",
       "    <tr>\n",
       "      <td>1</td>\n",
       "      <td>-0.245687</td>\n",
       "      <td>-0.184275</td>\n",
       "      <td>-0.320173</td>\n",
       "      <td>-0.027025</td>\n",
       "      <td>3.147894</td>\n",
       "      <td>-0.224957</td>\n",
       "      <td>-0.262613</td>\n",
       "      <td>-0.252953</td>\n",
       "      <td>-0.207193</td>\n",
       "      <td>-0.951405</td>\n",
       "      <td>...</td>\n",
       "      <td>-0.700691</td>\n",
       "      <td>-0.251644</td>\n",
       "      <td>-1.117322</td>\n",
       "      <td>-0.006117</td>\n",
       "      <td>-0.809152</td>\n",
       "      <td>-1.177270</td>\n",
       "      <td>-2.089219</td>\n",
       "      <td>-0.357409</td>\n",
       "      <td>-0.277508</td>\n",
       "      <td>-0.341551</td>\n",
       "    </tr>\n",
       "    <tr>\n",
       "      <td>2</td>\n",
       "      <td>-0.245687</td>\n",
       "      <td>-0.184275</td>\n",
       "      <td>-0.320173</td>\n",
       "      <td>-0.027025</td>\n",
       "      <td>-0.317673</td>\n",
       "      <td>-0.224957</td>\n",
       "      <td>-0.262613</td>\n",
       "      <td>-0.252953</td>\n",
       "      <td>4.826420</td>\n",
       "      <td>-0.951405</td>\n",
       "      <td>...</td>\n",
       "      <td>1.427162</td>\n",
       "      <td>-0.251644</td>\n",
       "      <td>-0.439128</td>\n",
       "      <td>-2.124143</td>\n",
       "      <td>0.916004</td>\n",
       "      <td>-0.808152</td>\n",
       "      <td>0.404116</td>\n",
       "      <td>1.424430</td>\n",
       "      <td>-0.277508</td>\n",
       "      <td>-0.341551</td>\n",
       "    </tr>\n",
       "    <tr>\n",
       "      <td>3</td>\n",
       "      <td>-0.245687</td>\n",
       "      <td>-0.184275</td>\n",
       "      <td>-0.320173</td>\n",
       "      <td>-0.027025</td>\n",
       "      <td>-0.317673</td>\n",
       "      <td>-0.224957</td>\n",
       "      <td>-0.262613</td>\n",
       "      <td>-0.252953</td>\n",
       "      <td>-0.207193</td>\n",
       "      <td>-0.951405</td>\n",
       "      <td>...</td>\n",
       "      <td>1.427162</td>\n",
       "      <td>-0.251644</td>\n",
       "      <td>0.578162</td>\n",
       "      <td>0.397317</td>\n",
       "      <td>-0.809152</td>\n",
       "      <td>-0.562073</td>\n",
       "      <td>0.404116</td>\n",
       "      <td>-0.357409</td>\n",
       "      <td>-0.277508</td>\n",
       "      <td>-0.341551</td>\n",
       "    </tr>\n",
       "    <tr>\n",
       "      <td>4</td>\n",
       "      <td>-0.245687</td>\n",
       "      <td>-0.184275</td>\n",
       "      <td>3.123316</td>\n",
       "      <td>-0.027025</td>\n",
       "      <td>-0.317673</td>\n",
       "      <td>-0.224957</td>\n",
       "      <td>-0.262613</td>\n",
       "      <td>-0.252953</td>\n",
       "      <td>-0.207193</td>\n",
       "      <td>1.051077</td>\n",
       "      <td>...</td>\n",
       "      <td>1.427162</td>\n",
       "      <td>-0.251644</td>\n",
       "      <td>-1.117322</td>\n",
       "      <td>-0.258263</td>\n",
       "      <td>-0.809152</td>\n",
       "      <td>-1.300310</td>\n",
       "      <td>-1.091885</td>\n",
       "      <td>-0.357409</td>\n",
       "      <td>-0.277508</td>\n",
       "      <td>-0.341551</td>\n",
       "    </tr>\n",
       "    <tr>\n",
       "      <td>...</td>\n",
       "      <td>...</td>\n",
       "      <td>...</td>\n",
       "      <td>...</td>\n",
       "      <td>...</td>\n",
       "      <td>...</td>\n",
       "      <td>...</td>\n",
       "      <td>...</td>\n",
       "      <td>...</td>\n",
       "      <td>...</td>\n",
       "      <td>...</td>\n",
       "      <td>...</td>\n",
       "      <td>...</td>\n",
       "      <td>...</td>\n",
       "      <td>...</td>\n",
       "      <td>...</td>\n",
       "      <td>...</td>\n",
       "      <td>...</td>\n",
       "      <td>...</td>\n",
       "      <td>...</td>\n",
       "      <td>...</td>\n",
       "      <td>...</td>\n",
       "    </tr>\n",
       "    <tr>\n",
       "      <td>12407</td>\n",
       "      <td>-0.245687</td>\n",
       "      <td>-0.184275</td>\n",
       "      <td>-0.320173</td>\n",
       "      <td>-0.027025</td>\n",
       "      <td>-0.317673</td>\n",
       "      <td>-0.224957</td>\n",
       "      <td>-0.262613</td>\n",
       "      <td>3.953308</td>\n",
       "      <td>-0.207193</td>\n",
       "      <td>-0.951405</td>\n",
       "      <td>...</td>\n",
       "      <td>1.427162</td>\n",
       "      <td>-0.251644</td>\n",
       "      <td>-0.899801</td>\n",
       "      <td>-1.185923</td>\n",
       "      <td>0.178245</td>\n",
       "      <td>-1.105257</td>\n",
       "      <td>-1.731646</td>\n",
       "      <td>-0.357409</td>\n",
       "      <td>-0.277508</td>\n",
       "      <td>-0.341551</td>\n",
       "    </tr>\n",
       "    <tr>\n",
       "      <td>12408</td>\n",
       "      <td>-0.245687</td>\n",
       "      <td>-0.184275</td>\n",
       "      <td>-0.320173</td>\n",
       "      <td>-0.027025</td>\n",
       "      <td>-0.317673</td>\n",
       "      <td>-0.224957</td>\n",
       "      <td>-0.262613</td>\n",
       "      <td>-0.252953</td>\n",
       "      <td>-0.207193</td>\n",
       "      <td>1.051077</td>\n",
       "      <td>...</td>\n",
       "      <td>-0.585253</td>\n",
       "      <td>-0.251644</td>\n",
       "      <td>-0.759829</td>\n",
       "      <td>0.002091</td>\n",
       "      <td>-0.809152</td>\n",
       "      <td>-0.548723</td>\n",
       "      <td>0.431169</td>\n",
       "      <td>-0.357409</td>\n",
       "      <td>-0.277508</td>\n",
       "      <td>1.854593</td>\n",
       "    </tr>\n",
       "    <tr>\n",
       "      <td>12409</td>\n",
       "      <td>-0.245687</td>\n",
       "      <td>-0.184275</td>\n",
       "      <td>-0.320173</td>\n",
       "      <td>-0.027025</td>\n",
       "      <td>-0.317673</td>\n",
       "      <td>-0.224957</td>\n",
       "      <td>-0.262613</td>\n",
       "      <td>-0.252953</td>\n",
       "      <td>-0.207193</td>\n",
       "      <td>-0.951405</td>\n",
       "      <td>...</td>\n",
       "      <td>1.305463</td>\n",
       "      <td>-0.251644</td>\n",
       "      <td>-0.158214</td>\n",
       "      <td>-0.320229</td>\n",
       "      <td>-0.234100</td>\n",
       "      <td>-0.431997</td>\n",
       "      <td>0.902783</td>\n",
       "      <td>-0.357409</td>\n",
       "      <td>-0.277508</td>\n",
       "      <td>-0.341551</td>\n",
       "    </tr>\n",
       "    <tr>\n",
       "      <td>12410</td>\n",
       "      <td>-0.245687</td>\n",
       "      <td>-0.184275</td>\n",
       "      <td>-0.320173</td>\n",
       "      <td>-0.027025</td>\n",
       "      <td>-0.317673</td>\n",
       "      <td>-0.224957</td>\n",
       "      <td>3.807887</td>\n",
       "      <td>-0.252953</td>\n",
       "      <td>-0.207193</td>\n",
       "      <td>-0.951405</td>\n",
       "      <td>...</td>\n",
       "      <td>-0.700691</td>\n",
       "      <td>-0.251644</td>\n",
       "      <td>-0.001317</td>\n",
       "      <td>-0.458691</td>\n",
       "      <td>-0.437924</td>\n",
       "      <td>-0.018512</td>\n",
       "      <td>0.372533</td>\n",
       "      <td>-0.357409</td>\n",
       "      <td>-0.277508</td>\n",
       "      <td>-0.341551</td>\n",
       "    </tr>\n",
       "    <tr>\n",
       "      <td>12411</td>\n",
       "      <td>-0.245687</td>\n",
       "      <td>-0.184275</td>\n",
       "      <td>-0.320173</td>\n",
       "      <td>-0.027025</td>\n",
       "      <td>-0.317673</td>\n",
       "      <td>-0.224957</td>\n",
       "      <td>-0.262613</td>\n",
       "      <td>-0.252953</td>\n",
       "      <td>-0.207193</td>\n",
       "      <td>1.051077</td>\n",
       "      <td>...</td>\n",
       "      <td>-0.700691</td>\n",
       "      <td>-0.251644</td>\n",
       "      <td>0.035481</td>\n",
       "      <td>0.709921</td>\n",
       "      <td>-0.280061</td>\n",
       "      <td>-0.576939</td>\n",
       "      <td>0.902783</td>\n",
       "      <td>-0.357409</td>\n",
       "      <td>-0.277508</td>\n",
       "      <td>-0.341551</td>\n",
       "    </tr>\n",
       "  </tbody>\n",
       "</table>\n",
       "<p>12412 rows × 35 columns</p>\n",
       "</div>"
      ],
      "text/plain": [
       "       HbA1c_High_CH  HbA1c_High_NoCH  HbA1c_Norm  diag1_collapse_circulatory  \\\n",
       "0          -0.245687        -0.184275   -0.320173                   -0.027025   \n",
       "1          -0.245687        -0.184275   -0.320173                   -0.027025   \n",
       "2          -0.245687        -0.184275   -0.320173                   -0.027025   \n",
       "3          -0.245687        -0.184275   -0.320173                   -0.027025   \n",
       "4          -0.245687        -0.184275    3.123316                   -0.027025   \n",
       "...              ...              ...         ...                         ...   \n",
       "12407      -0.245687        -0.184275   -0.320173                   -0.027025   \n",
       "12408      -0.245687        -0.184275   -0.320173                   -0.027025   \n",
       "12409      -0.245687        -0.184275   -0.320173                   -0.027025   \n",
       "12410      -0.245687        -0.184275   -0.320173                   -0.027025   \n",
       "12411      -0.245687        -0.184275   -0.320173                   -0.027025   \n",
       "\n",
       "       diag1_collapse_digestive  diag1_collapse_genit  diag1_collapse_injury  \\\n",
       "0                     -0.317673             -0.224957              -0.262613   \n",
       "1                      3.147894             -0.224957              -0.262613   \n",
       "2                     -0.317673             -0.224957              -0.262613   \n",
       "3                     -0.317673             -0.224957              -0.262613   \n",
       "4                     -0.317673             -0.224957              -0.262613   \n",
       "...                         ...                   ...                    ...   \n",
       "12407                 -0.317673             -0.224957              -0.262613   \n",
       "12408                 -0.317673             -0.224957              -0.262613   \n",
       "12409                 -0.317673             -0.224957              -0.262613   \n",
       "12410                 -0.317673             -0.224957               3.807887   \n",
       "12411                 -0.317673             -0.224957              -0.262613   \n",
       "\n",
       "       diag1_collapse_muscul  diag1_collapse_neoplasms  diag1_collapse_other  \\\n",
       "0                  -0.252953                 -0.207193              1.051077   \n",
       "1                  -0.252953                 -0.207193             -0.951405   \n",
       "2                  -0.252953                  4.826420             -0.951405   \n",
       "3                  -0.252953                 -0.207193             -0.951405   \n",
       "4                  -0.252953                 -0.207193              1.051077   \n",
       "...                      ...                       ...                   ...   \n",
       "12407               3.953308                 -0.207193             -0.951405   \n",
       "12408              -0.252953                 -0.207193              1.051077   \n",
       "12409              -0.252953                 -0.207193             -0.951405   \n",
       "12410              -0.252953                 -0.207193             -0.951405   \n",
       "12411              -0.252953                 -0.207193              1.051077   \n",
       "\n",
       "       ...  admission_source_collapse_referral  \\\n",
       "0      ...                           -0.700691   \n",
       "1      ...                           -0.700691   \n",
       "2      ...                            1.427162   \n",
       "3      ...                            1.427162   \n",
       "4      ...                            1.427162   \n",
       "...    ...                                 ...   \n",
       "12407  ...                            1.427162   \n",
       "12408  ...                           -0.585253   \n",
       "12409  ...                            1.305463   \n",
       "12410  ...                           -0.700691   \n",
       "12411  ...                           -0.700691   \n",
       "\n",
       "       admission_source_collapse_transfer  time_in_hospital  \\\n",
       "0                               -0.251644         -0.100031   \n",
       "1                               -0.251644         -1.117322   \n",
       "2                               -0.251644         -0.439128   \n",
       "3                               -0.251644          0.578162   \n",
       "4                               -0.251644         -1.117322   \n",
       "...                                   ...               ...   \n",
       "12407                           -0.251644         -0.899801   \n",
       "12408                           -0.251644         -0.759829   \n",
       "12409                           -0.251644         -0.158214   \n",
       "12410                           -0.251644         -0.001317   \n",
       "12411                           -0.251644          0.035481   \n",
       "\n",
       "       num_lab_procedures  num_procedures  num_medications  number_diagnoses  \\\n",
       "0                0.498175       -0.809152         1.406557          0.404116   \n",
       "1               -0.006117       -0.809152        -1.177270         -2.089219   \n",
       "2               -2.124143        0.916004        -0.808152          0.404116   \n",
       "3                0.397317       -0.809152        -0.562073          0.404116   \n",
       "4               -0.258263       -0.809152        -1.300310         -1.091885   \n",
       "...                   ...             ...              ...               ...   \n",
       "12407           -1.185923        0.178245        -1.105257         -1.731646   \n",
       "12408            0.002091       -0.809152        -0.548723          0.431169   \n",
       "12409           -0.320229       -0.234100        -0.431997          0.902783   \n",
       "12410           -0.458691       -0.437924        -0.018512          0.372533   \n",
       "12411            0.709921       -0.280061        -0.576939          0.902783   \n",
       "\n",
       "       number_outpatient_log1p  number_emergency_log1p  number_inpatient_log1p  \n",
       "0                    -0.357409               -0.277508                1.980572  \n",
       "1                    -0.357409               -0.277508               -0.341551  \n",
       "2                     1.424430               -0.277508               -0.341551  \n",
       "3                    -0.357409               -0.277508               -0.341551  \n",
       "4                    -0.357409               -0.277508               -0.341551  \n",
       "...                        ...                     ...                     ...  \n",
       "12407                -0.357409               -0.277508               -0.341551  \n",
       "12408                -0.357409               -0.277508                1.854593  \n",
       "12409                -0.357409               -0.277508               -0.341551  \n",
       "12410                -0.357409               -0.277508               -0.341551  \n",
       "12411                -0.357409               -0.277508               -0.341551  \n",
       "\n",
       "[12412 rows x 35 columns]"
      ]
     },
     "execution_count": 185,
     "metadata": {},
     "output_type": "execute_result"
    }
   ],
   "source": [
    "after_upsampling"
   ]
  },
  {
   "cell_type": "code",
   "execution_count": 186,
   "metadata": {},
   "outputs": [
    {
     "data": {
      "text/html": [
       "<div>\n",
       "<style scoped>\n",
       "    .dataframe tbody tr th:only-of-type {\n",
       "        vertical-align: middle;\n",
       "    }\n",
       "\n",
       "    .dataframe tbody tr th {\n",
       "        vertical-align: top;\n",
       "    }\n",
       "\n",
       "    .dataframe thead th {\n",
       "        text-align: right;\n",
       "    }\n",
       "</style>\n",
       "<table border=\"1\" class=\"dataframe\">\n",
       "  <thead>\n",
       "    <tr style=\"text-align: right;\">\n",
       "      <th></th>\n",
       "      <th>HbA1c_High_CH</th>\n",
       "      <th>HbA1c_High_NoCH</th>\n",
       "      <th>HbA1c_Norm</th>\n",
       "      <th>diag1_collapse_circulatory</th>\n",
       "      <th>diag1_collapse_digestive</th>\n",
       "      <th>diag1_collapse_genit</th>\n",
       "      <th>diag1_collapse_injury</th>\n",
       "      <th>diag1_collapse_muscul</th>\n",
       "      <th>diag1_collapse_neoplasms</th>\n",
       "      <th>diag1_collapse_other</th>\n",
       "      <th>...</th>\n",
       "      <th>admission_source_collapse_referral</th>\n",
       "      <th>admission_source_collapse_transfer</th>\n",
       "      <th>time_in_hospital</th>\n",
       "      <th>num_lab_procedures</th>\n",
       "      <th>num_procedures</th>\n",
       "      <th>num_medications</th>\n",
       "      <th>number_diagnoses</th>\n",
       "      <th>number_outpatient_log1p</th>\n",
       "      <th>number_emergency_log1p</th>\n",
       "      <th>number_inpatient_log1p</th>\n",
       "    </tr>\n",
       "  </thead>\n",
       "  <tbody>\n",
       "    <tr>\n",
       "      <td>0</td>\n",
       "      <td>0</td>\n",
       "      <td>0</td>\n",
       "      <td>0</td>\n",
       "      <td>0</td>\n",
       "      <td>0</td>\n",
       "      <td>0</td>\n",
       "      <td>0</td>\n",
       "      <td>0</td>\n",
       "      <td>0</td>\n",
       "      <td>0</td>\n",
       "      <td>...</td>\n",
       "      <td>1</td>\n",
       "      <td>0</td>\n",
       "      <td>1</td>\n",
       "      <td>41</td>\n",
       "      <td>0</td>\n",
       "      <td>1</td>\n",
       "      <td>1</td>\n",
       "      <td>0.000000</td>\n",
       "      <td>0.000000</td>\n",
       "      <td>0.000000</td>\n",
       "    </tr>\n",
       "    <tr>\n",
       "      <td>1</td>\n",
       "      <td>0</td>\n",
       "      <td>0</td>\n",
       "      <td>0</td>\n",
       "      <td>0</td>\n",
       "      <td>0</td>\n",
       "      <td>0</td>\n",
       "      <td>0</td>\n",
       "      <td>0</td>\n",
       "      <td>0</td>\n",
       "      <td>1</td>\n",
       "      <td>...</td>\n",
       "      <td>0</td>\n",
       "      <td>0</td>\n",
       "      <td>3</td>\n",
       "      <td>59</td>\n",
       "      <td>0</td>\n",
       "      <td>18</td>\n",
       "      <td>9</td>\n",
       "      <td>0.000000</td>\n",
       "      <td>0.000000</td>\n",
       "      <td>0.000000</td>\n",
       "    </tr>\n",
       "    <tr>\n",
       "      <td>2</td>\n",
       "      <td>0</td>\n",
       "      <td>0</td>\n",
       "      <td>0</td>\n",
       "      <td>0</td>\n",
       "      <td>0</td>\n",
       "      <td>0</td>\n",
       "      <td>0</td>\n",
       "      <td>0</td>\n",
       "      <td>0</td>\n",
       "      <td>1</td>\n",
       "      <td>...</td>\n",
       "      <td>0</td>\n",
       "      <td>0</td>\n",
       "      <td>2</td>\n",
       "      <td>11</td>\n",
       "      <td>5</td>\n",
       "      <td>13</td>\n",
       "      <td>6</td>\n",
       "      <td>1.098612</td>\n",
       "      <td>0.000000</td>\n",
       "      <td>0.693147</td>\n",
       "    </tr>\n",
       "    <tr>\n",
       "      <td>3</td>\n",
       "      <td>0</td>\n",
       "      <td>0</td>\n",
       "      <td>0</td>\n",
       "      <td>0</td>\n",
       "      <td>0</td>\n",
       "      <td>0</td>\n",
       "      <td>0</td>\n",
       "      <td>0</td>\n",
       "      <td>0</td>\n",
       "      <td>1</td>\n",
       "      <td>...</td>\n",
       "      <td>0</td>\n",
       "      <td>0</td>\n",
       "      <td>2</td>\n",
       "      <td>44</td>\n",
       "      <td>1</td>\n",
       "      <td>16</td>\n",
       "      <td>7</td>\n",
       "      <td>0.000000</td>\n",
       "      <td>0.000000</td>\n",
       "      <td>0.000000</td>\n",
       "    </tr>\n",
       "    <tr>\n",
       "      <td>4</td>\n",
       "      <td>0</td>\n",
       "      <td>0</td>\n",
       "      <td>0</td>\n",
       "      <td>0</td>\n",
       "      <td>0</td>\n",
       "      <td>0</td>\n",
       "      <td>0</td>\n",
       "      <td>0</td>\n",
       "      <td>1</td>\n",
       "      <td>0</td>\n",
       "      <td>...</td>\n",
       "      <td>0</td>\n",
       "      <td>0</td>\n",
       "      <td>1</td>\n",
       "      <td>51</td>\n",
       "      <td>0</td>\n",
       "      <td>8</td>\n",
       "      <td>5</td>\n",
       "      <td>0.000000</td>\n",
       "      <td>0.000000</td>\n",
       "      <td>0.000000</td>\n",
       "    </tr>\n",
       "    <tr>\n",
       "      <td>...</td>\n",
       "      <td>...</td>\n",
       "      <td>...</td>\n",
       "      <td>...</td>\n",
       "      <td>...</td>\n",
       "      <td>...</td>\n",
       "      <td>...</td>\n",
       "      <td>...</td>\n",
       "      <td>...</td>\n",
       "      <td>...</td>\n",
       "      <td>...</td>\n",
       "      <td>...</td>\n",
       "      <td>...</td>\n",
       "      <td>...</td>\n",
       "      <td>...</td>\n",
       "      <td>...</td>\n",
       "      <td>...</td>\n",
       "      <td>...</td>\n",
       "      <td>...</td>\n",
       "      <td>...</td>\n",
       "      <td>...</td>\n",
       "      <td>...</td>\n",
       "    </tr>\n",
       "    <tr>\n",
       "      <td>68503</td>\n",
       "      <td>0</td>\n",
       "      <td>0</td>\n",
       "      <td>1</td>\n",
       "      <td>0</td>\n",
       "      <td>1</td>\n",
       "      <td>0</td>\n",
       "      <td>0</td>\n",
       "      <td>0</td>\n",
       "      <td>0</td>\n",
       "      <td>0</td>\n",
       "      <td>...</td>\n",
       "      <td>0</td>\n",
       "      <td>0</td>\n",
       "      <td>9</td>\n",
       "      <td>50</td>\n",
       "      <td>2</td>\n",
       "      <td>33</td>\n",
       "      <td>9</td>\n",
       "      <td>0.000000</td>\n",
       "      <td>0.000000</td>\n",
       "      <td>0.000000</td>\n",
       "    </tr>\n",
       "    <tr>\n",
       "      <td>68504</td>\n",
       "      <td>1</td>\n",
       "      <td>0</td>\n",
       "      <td>0</td>\n",
       "      <td>0</td>\n",
       "      <td>0</td>\n",
       "      <td>1</td>\n",
       "      <td>0</td>\n",
       "      <td>0</td>\n",
       "      <td>0</td>\n",
       "      <td>0</td>\n",
       "      <td>...</td>\n",
       "      <td>0</td>\n",
       "      <td>0</td>\n",
       "      <td>14</td>\n",
       "      <td>73</td>\n",
       "      <td>6</td>\n",
       "      <td>26</td>\n",
       "      <td>9</td>\n",
       "      <td>0.000000</td>\n",
       "      <td>0.693147</td>\n",
       "      <td>0.000000</td>\n",
       "    </tr>\n",
       "    <tr>\n",
       "      <td>68505</td>\n",
       "      <td>0</td>\n",
       "      <td>0</td>\n",
       "      <td>0</td>\n",
       "      <td>0</td>\n",
       "      <td>0</td>\n",
       "      <td>0</td>\n",
       "      <td>1</td>\n",
       "      <td>0</td>\n",
       "      <td>0</td>\n",
       "      <td>0</td>\n",
       "      <td>...</td>\n",
       "      <td>0</td>\n",
       "      <td>0</td>\n",
       "      <td>2</td>\n",
       "      <td>46</td>\n",
       "      <td>6</td>\n",
       "      <td>17</td>\n",
       "      <td>9</td>\n",
       "      <td>0.693147</td>\n",
       "      <td>0.693147</td>\n",
       "      <td>0.693147</td>\n",
       "    </tr>\n",
       "    <tr>\n",
       "      <td>68506</td>\n",
       "      <td>0</td>\n",
       "      <td>0</td>\n",
       "      <td>0</td>\n",
       "      <td>0</td>\n",
       "      <td>0</td>\n",
       "      <td>0</td>\n",
       "      <td>0</td>\n",
       "      <td>0</td>\n",
       "      <td>0</td>\n",
       "      <td>1</td>\n",
       "      <td>...</td>\n",
       "      <td>0</td>\n",
       "      <td>0</td>\n",
       "      <td>5</td>\n",
       "      <td>76</td>\n",
       "      <td>1</td>\n",
       "      <td>22</td>\n",
       "      <td>9</td>\n",
       "      <td>0.000000</td>\n",
       "      <td>0.693147</td>\n",
       "      <td>0.000000</td>\n",
       "    </tr>\n",
       "    <tr>\n",
       "      <td>68507</td>\n",
       "      <td>0</td>\n",
       "      <td>0</td>\n",
       "      <td>0</td>\n",
       "      <td>0</td>\n",
       "      <td>1</td>\n",
       "      <td>0</td>\n",
       "      <td>0</td>\n",
       "      <td>0</td>\n",
       "      <td>0</td>\n",
       "      <td>0</td>\n",
       "      <td>...</td>\n",
       "      <td>0</td>\n",
       "      <td>0</td>\n",
       "      <td>6</td>\n",
       "      <td>13</td>\n",
       "      <td>3</td>\n",
       "      <td>3</td>\n",
       "      <td>9</td>\n",
       "      <td>0.000000</td>\n",
       "      <td>0.000000</td>\n",
       "      <td>0.000000</td>\n",
       "    </tr>\n",
       "  </tbody>\n",
       "</table>\n",
       "<p>61657 rows × 35 columns</p>\n",
       "</div>"
      ],
      "text/plain": [
       "       HbA1c_High_CH  HbA1c_High_NoCH  HbA1c_Norm  diag1_collapse_circulatory  \\\n",
       "0                  0                0           0                           0   \n",
       "1                  0                0           0                           0   \n",
       "2                  0                0           0                           0   \n",
       "3                  0                0           0                           0   \n",
       "4                  0                0           0                           0   \n",
       "...              ...              ...         ...                         ...   \n",
       "68503              0                0           1                           0   \n",
       "68504              1                0           0                           0   \n",
       "68505              0                0           0                           0   \n",
       "68506              0                0           0                           0   \n",
       "68507              0                0           0                           0   \n",
       "\n",
       "       diag1_collapse_digestive  diag1_collapse_genit  diag1_collapse_injury  \\\n",
       "0                             0                     0                      0   \n",
       "1                             0                     0                      0   \n",
       "2                             0                     0                      0   \n",
       "3                             0                     0                      0   \n",
       "4                             0                     0                      0   \n",
       "...                         ...                   ...                    ...   \n",
       "68503                         1                     0                      0   \n",
       "68504                         0                     1                      0   \n",
       "68505                         0                     0                      1   \n",
       "68506                         0                     0                      0   \n",
       "68507                         1                     0                      0   \n",
       "\n",
       "       diag1_collapse_muscul  diag1_collapse_neoplasms  diag1_collapse_other  \\\n",
       "0                          0                         0                     0   \n",
       "1                          0                         0                     1   \n",
       "2                          0                         0                     1   \n",
       "3                          0                         0                     1   \n",
       "4                          0                         1                     0   \n",
       "...                      ...                       ...                   ...   \n",
       "68503                      0                         0                     0   \n",
       "68504                      0                         0                     0   \n",
       "68505                      0                         0                     0   \n",
       "68506                      0                         0                     1   \n",
       "68507                      0                         0                     0   \n",
       "\n",
       "       ...  admission_source_collapse_referral  \\\n",
       "0      ...                                   1   \n",
       "1      ...                                   0   \n",
       "2      ...                                   0   \n",
       "3      ...                                   0   \n",
       "4      ...                                   0   \n",
       "...    ...                                 ...   \n",
       "68503  ...                                   0   \n",
       "68504  ...                                   0   \n",
       "68505  ...                                   0   \n",
       "68506  ...                                   0   \n",
       "68507  ...                                   0   \n",
       "\n",
       "       admission_source_collapse_transfer  time_in_hospital  \\\n",
       "0                                       0                 1   \n",
       "1                                       0                 3   \n",
       "2                                       0                 2   \n",
       "3                                       0                 2   \n",
       "4                                       0                 1   \n",
       "...                                   ...               ...   \n",
       "68503                                   0                 9   \n",
       "68504                                   0                14   \n",
       "68505                                   0                 2   \n",
       "68506                                   0                 5   \n",
       "68507                                   0                 6   \n",
       "\n",
       "       num_lab_procedures  num_procedures  num_medications  number_diagnoses  \\\n",
       "0                      41               0                1                 1   \n",
       "1                      59               0               18                 9   \n",
       "2                      11               5               13                 6   \n",
       "3                      44               1               16                 7   \n",
       "4                      51               0                8                 5   \n",
       "...                   ...             ...              ...               ...   \n",
       "68503                  50               2               33                 9   \n",
       "68504                  73               6               26                 9   \n",
       "68505                  46               6               17                 9   \n",
       "68506                  76               1               22                 9   \n",
       "68507                  13               3                3                 9   \n",
       "\n",
       "       number_outpatient_log1p  number_emergency_log1p  number_inpatient_log1p  \n",
       "0                     0.000000                0.000000                0.000000  \n",
       "1                     0.000000                0.000000                0.000000  \n",
       "2                     1.098612                0.000000                0.693147  \n",
       "3                     0.000000                0.000000                0.000000  \n",
       "4                     0.000000                0.000000                0.000000  \n",
       "...                        ...                     ...                     ...  \n",
       "68503                 0.000000                0.000000                0.000000  \n",
       "68504                 0.000000                0.693147                0.000000  \n",
       "68505                 0.693147                0.693147                0.693147  \n",
       "68506                 0.000000                0.693147                0.000000  \n",
       "68507                 0.000000                0.000000                0.000000  \n",
       "\n",
       "[61657 rows x 35 columns]"
      ]
     },
     "execution_count": 186,
     "metadata": {},
     "output_type": "execute_result"
    }
   ],
   "source": [
    "X"
   ]
  },
  {
   "cell_type": "markdown",
   "metadata": {},
   "source": [
    "### Tree Models: \n",
    "\n",
    "Fit with decision model with max_depth = 28, criterion= entropy, min\n",
    "\n",
    "Fit with 10 fold cross validation grid search "
   ]
  },
  {
   "cell_type": "markdown",
   "metadata": {},
   "source": [
    "#### Decision tree without cross validation: "
   ]
  },
  {
   "cell_type": "code",
   "execution_count": 112,
   "metadata": {},
   "outputs": [
    {
     "data": {
      "text/plain": [
       "DecisionTreeClassifier(ccp_alpha=0.0, class_weight=None, criterion='entropy',\n",
       "                       max_depth=28, max_features=None, max_leaf_nodes=None,\n",
       "                       min_impurity_decrease=0.0, min_impurity_split=None,\n",
       "                       min_samples_leaf=1, min_samples_split=10,\n",
       "                       min_weight_fraction_leaf=0.0, presort='deprecated',\n",
       "                       random_state=None, splitter='best')"
      ]
     },
     "execution_count": 112,
     "metadata": {},
     "output_type": "execute_result"
    }
   ],
   "source": [
    "dtree = DecisionTreeClassifier(max_depth=28, criterion = \"entropy\", min_samples_split=10)\n",
    "dtree.fit(X_train, y_train)"
   ]
  },
  {
   "cell_type": "code",
   "execution_count": 168,
   "metadata": {},
   "outputs": [
    {
     "data": {
      "text/plain": [
       "array([[  83, 6123],\n",
       "       [  13, 6193]], dtype=int64)"
      ]
     },
     "execution_count": 168,
     "metadata": {},
     "output_type": "execute_result"
    }
   ],
   "source": [
    "dtree_pred = dtree.predict(X_val_stand)  # predict on data the model has never seen before \n",
    "confusion_matrix(y_val, dtree_pred)"
   ]
  },
  {
   "cell_type": "code",
   "execution_count": 169,
   "metadata": {},
   "outputs": [],
   "source": [
    "#dtree_probs=dtree.predict_proba(X_test)[:,1]\n",
    "dtree_probs_val= dtree.predict_proba(X_val_stand)[:,1]"
   ]
  },
  {
   "cell_type": "code",
   "execution_count": 170,
   "metadata": {},
   "outputs": [],
   "source": [
    "# Calculate roc auc\n",
    "#roc_value = roc_auc_score(y_test, dtree_probs)\n",
    "roc_value_val= roc_auc_score(y_val, dtree_probs_val)"
   ]
  },
  {
   "cell_type": "code",
   "execution_count": 171,
   "metadata": {},
   "outputs": [
    {
     "data": {
      "text/plain": [
       "0.5060410335490827"
      ]
     },
     "execution_count": 171,
     "metadata": {},
     "output_type": "execute_result"
    }
   ],
   "source": [
    "roc_value_val"
   ]
  },
  {
   "cell_type": "code",
   "execution_count": 114,
   "metadata": {},
   "outputs": [
    {
     "name": "stdout",
     "output_type": "stream",
     "text": [
      "Accuracy is 0.10\n",
      "Precision is 0.09\n",
      "Recall is 0.98\n"
     ]
    }
   ],
   "source": [
    "print(\"Accuracy is {0:.2f}\".format(accuracy_score(y_val, dtree_pred)))\n",
    "print(\"Precision is {0:.2f}\".format(precision_score(y_val, dtree_pred)))\n",
    "print(\"Recall is {0:.2f}\".format(recall_score(y_val, dtree_pred)))"
   ]
  },
  {
   "cell_type": "markdown",
   "metadata": {},
   "source": [
    "#### Decision Tree with grid search cross_validation "
   ]
  },
  {
   "cell_type": "code",
   "execution_count": 69,
   "metadata": {},
   "outputs": [
    {
     "data": {
      "text/plain": [
       "GridSearchCV(cv=10, error_score=nan,\n",
       "             estimator=DecisionTreeClassifier(ccp_alpha=0.0, class_weight=None,\n",
       "                                              criterion='entropy', max_depth=28,\n",
       "                                              max_features=None,\n",
       "                                              max_leaf_nodes=None,\n",
       "                                              min_impurity_decrease=0.0,\n",
       "                                              min_impurity_split=None,\n",
       "                                              min_samples_leaf=1,\n",
       "                                              min_samples_split=10,\n",
       "                                              min_weight_fraction_leaf=0.0,\n",
       "                                              presort='deprecated',\n",
       "                                              random_state=0, splitter='best'),\n",
       "             iid='deprecated', n_jobs=-1,\n",
       "             param_grid={'criterion': ['gini', 'entropy'],\n",
       "                         'max_depth': range(1, 31)},\n",
       "             pre_dispatch='2*n_jobs', refit=True, return_train_score=True,\n",
       "             scoring='accuracy', verbose=0)"
      ]
     },
     "execution_count": 69,
     "metadata": {},
     "output_type": "execute_result"
    }
   ],
   "source": [
    "grid_para_tree =  {'max_depth': range(1, 31),\n",
    "    'criterion': ['gini', 'entropy']}\n",
    "\n",
    "\n",
    "dtree.set_params(random_state=0)\n",
    "grid_search_tree = ms.GridSearchCV(dtree, grid_para_tree, scoring='accuracy', cv=10, n_jobs=-1, return_train_score=True)\n",
    "grid_search_tree.fit(X_train, y_train)"
   ]
  },
  {
   "cell_type": "code",
   "execution_count": 167,
   "metadata": {},
   "outputs": [
    {
     "name": "stdout",
     "output_type": "stream",
     "text": [
      "The best score is 0.8996\n",
      "The training score is 0.9618\n",
      "The validation score is 0.5037\n"
     ]
    }
   ],
   "source": [
    "print('The best score is %.4f' %grid_search_tree.best_score_)\n",
    "print('The training score is %.4f' %(grid_search_tree.best_estimator_.score(X_train, y_train)))\n",
    "print('The validation score is %.4f' %(grid_search_tree.best_estimator_.score(X_val_stand, y_val)))"
   ]
  },
  {
   "cell_type": "code",
   "execution_count": null,
   "metadata": {},
   "outputs": [],
   "source": []
  },
  {
   "cell_type": "code",
   "execution_count": null,
   "metadata": {},
   "outputs": [],
   "source": []
  },
  {
   "cell_type": "code",
   "execution_count": 133,
   "metadata": {},
   "outputs": [
    {
     "data": {
      "text/plain": [
       "RandomForestClassifier(bootstrap=True, ccp_alpha=0.0, class_weight=None,\n",
       "                       criterion='gini', max_depth=25, max_features='auto',\n",
       "                       max_leaf_nodes=None, max_samples=None,\n",
       "                       min_impurity_decrease=0.0, min_impurity_split=None,\n",
       "                       min_samples_leaf=1, min_samples_split=10,\n",
       "                       min_weight_fraction_leaf=0.0, n_estimators=10,\n",
       "                       n_jobs=None, oob_score=False, random_state=None,\n",
       "                       verbose=0, warm_start=False)"
      ]
     },
     "execution_count": 133,
     "metadata": {},
     "output_type": "execute_result"
    }
   ],
   "source": [
    "rm = RandomForestClassifier(n_estimators = 10, max_depth=25, criterion = \"gini\", min_samples_split=10)\n",
    "rm.fit(X_train, y_train)"
   ]
  },
  {
   "cell_type": "code",
   "execution_count": 134,
   "metadata": {},
   "outputs": [
    {
     "data": {
      "text/plain": [
       "array([[16102,   748],\n",
       "       [ 1993, 14849]], dtype=int64)"
      ]
     },
     "execution_count": 134,
     "metadata": {},
     "output_type": "execute_result"
    }
   ],
   "source": [
    "rm_prd = rm.predict(X_test)\n",
    "confusion_matrix(y_test, rm_prd)"
   ]
  },
  {
   "cell_type": "code",
   "execution_count": 135,
   "metadata": {},
   "outputs": [
    {
     "name": "stdout",
     "output_type": "stream",
     "text": [
      "16102 748 1993 14849\n"
     ]
    }
   ],
   "source": [
    "np.unique(rm_prd, return_counts=True)\n",
    "tn,fp,fn,tp=confusion_matrix(y_test, rm_prd).ravel()\n",
    "print(tn, fp, fn, tp)"
   ]
  },
  {
   "cell_type": "code",
   "execution_count": 136,
   "metadata": {},
   "outputs": [
    {
     "name": "stdout",
     "output_type": "stream",
     "text": [
      "Accuracy is 0.92\n",
      "Precision is 0.95\n",
      "Recall is 0.88\n"
     ]
    }
   ],
   "source": [
    "print(\"Accuracy is {0:.2f}\".format(accuracy_score(y_test, rm_prd)))\n",
    "print(\"Precision is {0:.2f}\".format(precision_score(y_test, rm_prd)))\n",
    "print(\"Recall is {0:.2f}\".format(recall_score(y_test, rm_prd)))"
   ]
  },
  {
   "cell_type": "code",
   "execution_count": 166,
   "metadata": {},
   "outputs": [
    {
     "name": "stdout",
     "output_type": "stream",
     "text": [
      "Validation Accuracy is 0.52\n"
     ]
    }
   ],
   "source": [
    "rm_prd_validation = rm.predict(X_val_stand)\n",
    "print(\"Validation Accuracy is {0:.2f}\".format(accuracy_score(y_val, rm_prd_validation)))"
   ]
  },
  {
   "cell_type": "code",
   "execution_count": 132,
   "metadata": {},
   "outputs": [
    {
     "data": {
      "image/png": "[encoded data removed]",
      "text/plain": [
       "<Figure size 720x432 with 1 Axes>"
      ]
     },
     "metadata": {
      "needs_background": "light"
     },
     "output_type": "display_data"
    }
   ],
   "source": [
    "# Create list of top most features based on importance\n",
    "feature_names = X.columns\n",
    "feature_imports = rm.feature_importances_\n",
    "most_imp_features = pd.DataFrame([f for f in zip(feature_names,feature_imports)], columns=[\"Feature\", \"Importance\"]).nlargest(20, \"Importance\")\n",
    "most_imp_features.sort_values(by=\"Importance\", inplace=True)\n",
    "plt.figure(figsize=(10,6))\n",
    "plt.barh(range(len(most_imp_features)), most_imp_features.Importance, align='center', alpha=0.8)\n",
    "plt.yticks(range(len(most_imp_features)), most_imp_features.Feature, fontsize=14)\n",
    "plt.xlabel('Importance')\n",
    "plt.title('Most important features - Random Forest ')\n",
    "plt.show()"
   ]
  },
  {
   "cell_type": "code",
   "execution_count": null,
   "metadata": {},
   "outputs": [],
   "source": []
  },
  {
   "cell_type": "markdown",
   "metadata": {},
   "source": [
    "### Multilayer Perceptron \n",
    "\n",
    "Here's a nonlinear model with just one hidden layer "
   ]
  },
  {
   "cell_type": "code",
   "execution_count": 20,
   "metadata": {},
   "outputs": [],
   "source": [
    "clf=MLPClassifier(activation='relu', alpha=0.0001, hidden_layer_sizes= (1500,), max_iter=1000, warm_start=False)"
   ]
  },
  {
   "cell_type": "code",
   "execution_count": 21,
   "metadata": {},
   "outputs": [
    {
     "data": {
      "text/plain": [
       "MLPClassifier(activation='relu', alpha=0.0001, batch_size='auto', beta_1=0.9,\n",
       "              beta_2=0.999, early_stopping=False, epsilon=1e-08,\n",
       "              hidden_layer_sizes=(1500,), learning_rate='constant',\n",
       "              learning_rate_init=0.001, max_fun=15000, max_iter=1000,\n",
       "              momentum=0.9, n_iter_no_change=10, nesterovs_momentum=True,\n",
       "              power_t=0.5, random_state=None, shuffle=True, solver='adam',\n",
       "              tol=0.0001, validation_fraction=0.1, verbose=False,\n",
       "              warm_start=False)"
      ]
     },
     "execution_count": 21,
     "metadata": {},
     "output_type": "execute_result"
    }
   ],
   "source": [
    "clf.fit(X_train, y_train)"
   ]
  },
  {
   "cell_type": "code",
   "execution_count": 194,
   "metadata": {},
   "outputs": [],
   "source": [
    "multi_layer_perceptron_probs_val= clf.predict_proba(X_val_stand )[:,1]\n",
    "auc_prob= roc_auc_score(y_val, multi_layer_perceptron_probs_val)\n",
    "avg_precision= average_precision_score(y_val, multi_layer_perceptron_probs_val)"
   ]
  },
  {
   "cell_type": "code",
   "execution_count": 195,
   "metadata": {},
   "outputs": [
    {
     "data": {
      "text/plain": [
       "0.9156142851355482"
      ]
     },
     "execution_count": 195,
     "metadata": {},
     "output_type": "execute_result"
    }
   ],
   "source": [
    "auc_prob"
   ]
  },
  {
   "cell_type": "code",
   "execution_count": 196,
   "metadata": {},
   "outputs": [
    {
     "data": {
      "text/plain": [
       "0.6443825458988964"
      ]
     },
     "execution_count": 196,
     "metadata": {},
     "output_type": "execute_result"
    }
   ],
   "source": [
    "avg_precision"
   ]
  },
  {
   "cell_type": "code",
   "execution_count": 155,
   "metadata": {},
   "outputs": [
    {
     "data": {
      "text/plain": [
       "array([1.26130866e-02, 3.09226419e-06, 2.49972413e-04, 6.32356267e-02,\n",
       "       1.17771034e-01, 9.71612792e-01, 6.94225632e-04, 1.16503703e-03,\n",
       "       3.88815080e-02, 1.09567600e-05, 3.13228687e-01, 3.42176519e-03,\n",
       "       8.75321495e-08, 9.29925629e-03, 6.46815083e-06, 4.54594518e-01,\n",
       "       9.27526800e-01, 5.37631079e-01, 3.46062509e-03, 7.84144399e-03,\n",
       "       5.86314444e-01, 1.86412528e-01, 4.83078070e-02, 1.82930905e-01,\n",
       "       1.38251205e-03, 4.58846716e-04, 5.35404361e-02, 4.81947125e-01,\n",
       "       5.11422116e-01, 1.89574541e-01, 2.11446266e-03, 6.10056289e-02,\n",
       "       2.81537098e-02, 5.78275541e-01, 1.79869691e-02, 4.13363548e-04,\n",
       "       2.76651081e-10, 9.97912126e-01, 1.77129742e-02, 1.22589475e-02,\n",
       "       6.63328954e-01, 5.23782712e-02, 3.01964380e-06, 3.05849284e-08,\n",
       "       1.91307654e-01, 3.35124163e-03, 4.71461631e-05, 1.01355359e-03,\n",
       "       7.27414221e-01, 4.16863610e-01])"
      ]
     },
     "execution_count": 155,
     "metadata": {},
     "output_type": "execute_result"
    }
   ],
   "source": [
    "multi_layer_perceptron_probs_val[0:50]"
   ]
  },
  {
   "cell_type": "code",
   "execution_count": 198,
   "metadata": {},
   "outputs": [
    {
     "data": {
      "text/plain": [
       "0.9045767541256085"
      ]
     },
     "execution_count": 198,
     "metadata": {},
     "output_type": "execute_result"
    }
   ],
   "source": [
    "clf.score(X_test, y_test)"
   ]
  },
  {
   "cell_type": "code",
   "execution_count": 197,
   "metadata": {},
   "outputs": [
    {
     "data": {
      "text/plain": [
       "0.9038096628229455"
      ]
     },
     "execution_count": 197,
     "metadata": {},
     "output_type": "execute_result"
    }
   ],
   "source": [
    "clf.score(X_val_stand, y_val)"
   ]
  },
  {
   "cell_type": "code",
   "execution_count": 202,
   "metadata": {},
   "outputs": [
    {
     "data": {
      "text/plain": [
       "array([[5691,  551],\n",
       "       [ 108,  501]], dtype=int64)"
      ]
     },
     "execution_count": 202,
     "metadata": {},
     "output_type": "execute_result"
    }
   ],
   "source": [
    "multi_perceptron_pred = clf.predict(X_val_stand)\n",
    "confusion_matrix(y_val, multi_perceptron_pred)"
   ]
  },
  {
   "cell_type": "code",
   "execution_count": 203,
   "metadata": {},
   "outputs": [
    {
     "data": {
      "text/plain": [
       "(5691, 551, 108, 501)"
      ]
     },
     "execution_count": 203,
     "metadata": {},
     "output_type": "execute_result"
    }
   ],
   "source": [
    "tn, fp, fn, tp = confusion_matrix(y_val, multi_perceptron_pred).ravel()\n",
    "(tn, fp, fn, tp)"
   ]
  },
  {
   "cell_type": "code",
   "execution_count": 204,
   "metadata": {},
   "outputs": [
    {
     "data": {
      "text/plain": [
       "0.9117270105735341"
      ]
     },
     "execution_count": 204,
     "metadata": {},
     "output_type": "execute_result"
    }
   ],
   "source": [
    "specificity= tn/(tn+fp)\n",
    "specificity"
   ]
  },
  {
   "cell_type": "code",
   "execution_count": 205,
   "metadata": {},
   "outputs": [
    {
     "data": {
      "text/plain": [
       "0.8226600985221675"
      ]
     },
     "execution_count": 205,
     "metadata": {},
     "output_type": "execute_result"
    }
   ],
   "source": [
    "sensitivity= tp/(tp+fn)\n",
    "sensitivity"
   ]
  },
  {
   "cell_type": "code",
   "execution_count": 206,
   "metadata": {},
   "outputs": [
    {
     "data": {
      "text/plain": [
       "0.4762357414448669"
      ]
     },
     "execution_count": 206,
     "metadata": {},
     "output_type": "execute_result"
    }
   ],
   "source": [
    "precision=tp/(tp+fp)\n",
    "precision"
   ]
  },
  {
   "cell_type": "code",
   "execution_count": 175,
   "metadata": {},
   "outputs": [
    {
     "data": {
      "text/plain": [
       "0.7392845633258137"
      ]
     },
     "execution_count": 175,
     "metadata": {},
     "output_type": "execute_result"
    }
   ],
   "source": [
    "fpr, tpr, thresholds = roc_curve(y_val, multi_perceptron_pred, pos_label=1)\n",
    "auc(fpr, tpr)"
   ]
  },
  {
   "cell_type": "code",
   "execution_count": 176,
   "metadata": {},
   "outputs": [
    {
     "data": {
      "text/plain": [
       "array([0.        , 0.12085079, 1.        ])"
      ]
     },
     "execution_count": 176,
     "metadata": {},
     "output_type": "execute_result"
    }
   ],
   "source": [
    "fpr"
   ]
  },
  {
   "cell_type": "code",
   "execution_count": null,
   "metadata": {},
   "outputs": [],
   "source": []
  },
  {
   "cell_type": "code",
   "execution_count": 138,
   "metadata": {},
   "outputs": [],
   "source": [
    "import pickle\n",
    "# save the model to disk\n",
    "filename = 'finalized_model.sav'\n",
    "pickle.dump(clf, open(filename, 'wb'))"
   ]
  },
  {
   "cell_type": "code",
   "execution_count": null,
   "metadata": {},
   "outputs": [],
   "source": [
    "# load the model from disk\n",
    "loaded_model = pickle.load(open(filename, 'rb'))\n",
    "result = loaded_model.score(X_test, Y_test)\n",
    "print(result)"
   ]
  }
 ],
 "metadata": {
  "kernelspec": {
   "display_name": "Python 3",
   "language": "python",
   "name": "python3"
  },
  "language_info": {
   "codemirror_mode": {
    "name": "ipython",
    "version": 3
   },
   "file_extension": ".py",
   "mimetype": "text/x-python",
   "name": "python",
   "nbconvert_exporter": "python",
   "pygments_lexer": "ipython3",
   "version": "3.7.4"
  }
 },
 "nbformat": 4,
 "nbformat_minor": 2
}
